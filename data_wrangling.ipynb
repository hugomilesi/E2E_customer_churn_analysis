{
  "cells": [
    {
      "cell_type": "markdown",
      "metadata": {
        "colab_type": "text",
        "id": "view-in-github"
      },
      "source": [
        "<a href=\"https://colab.research.google.com/github/hugomilesi/E2E_customer_churn_analysis/blob/updated_model/data_wrangling.ipynb\" target=\"_parent\"><img src=\"https://colab.research.google.com/assets/colab-badge.svg\" alt=\"Open In Colab\"/></a>"
      ]
    },
    {
      "cell_type": "code",
      "execution_count": 23,
      "metadata": {
        "id": "AnXa-R50t4mk"
      },
      "outputs": [],
      "source": [
        "import pandas as pd\n",
        "import numpy as np\n",
        "import plotly\n",
        "import seaborn as sns\n",
        "import os\n",
        "from dotenv import load_dotenv\n",
        "import json\n",
        "from plotly.subplots import make_subplots\n",
        "import plotly.express as px\n",
        "import plotly.graph_objects as go\n",
        "import matplotlib.pyplot as plt\n",
        "# data normalization and preprocessing\n",
        "from sklearn.preprocessing import MinMaxScaler,StandardScaler\n",
        "from imblearn.combine import SMOTEENN\n",
        "from imblearn.over_sampling import SMOTE\n",
        "\n",
        "sequential_palette = [\"#115f9a\", \"#1984c5\", \"#22a7f0\", \"#48b5c4\", \"#76c68f\", \"#a6d75b\", \"#c9e52f\", \"#d0ee11\", \"#d0f400\"]\n",
        "categorical_palette = [\"#e60049\", \"#0bb4ff\", \"#50e991\", \"#e6d800\", \"#9b19f5\", \"#ffa300\", \"#dc0ab4\", \"#b3d4ff\", \"#00bfa0\"]\n",
        "plt.style.use('dark_background')\n",
        "\n"
      ]
    },
    {
      "cell_type": "code",
      "execution_count": 24,
      "metadata": {},
      "outputs": [
        {
          "data": {
            "text/plain": [
              "False"
            ]
          },
          "execution_count": 24,
          "metadata": {},
          "output_type": "execute_result"
        }
      ],
      "source": [
        "load_dotenv()"
      ]
    },
    {
      "cell_type": "code",
      "execution_count": 25,
      "metadata": {
        "id": "-_UtdqbXyZul"
      },
      "outputs": [],
      "source": [
        "key = os.environ.get('kaggle_key')\n",
        "kaggle_info = {\n",
        "    \"username\": \"hugoguilhermepenco\",\n",
        "    \"key\":key\n",
        "}\n",
        "\n",
        "# Write the dictionary to a JSON file\n",
        "with open('kaggle.json', 'w') as outfile:\n",
        "    json.dump(kaggle_info, outfile)"
      ]
    },
    {
      "cell_type": "code",
      "execution_count": 26,
      "metadata": {
        "colab": {
          "base_uri": "https://localhost:8080/"
        },
        "id": "VUkqesqKsD6v",
        "outputId": "86f8b797-3a19-41b8-962b-a5f0b2a9976e"
      },
      "outputs": [
        {
          "name": "stdout",
          "output_type": "stream",
          "text": [
            "Dataset URL: https://www.kaggle.com/datasets/blastchar/telco-customer-churn\n",
            "License(s): copyright-authors\n",
            "telco-customer-churn.zip: Skipping, found more recently modified local copy (use --force to force download)\n"
          ]
        }
      ],
      "source": [
        "!kaggle datasets download -d blastchar/telco-customer-churn"
      ]
    },
    {
      "cell_type": "code",
      "execution_count": 27,
      "metadata": {
        "colab": {
          "base_uri": "https://localhost:8080/"
        },
        "id": "PALu1D2XsJ0y",
        "outputId": "144fc4a1-1df4-4fb5-9820-af6fedeffdce"
      },
      "outputs": [],
      "source": [
        "#!unzip -o telco-customer-churn.zip"
      ]
    },
    {
      "cell_type": "code",
      "execution_count": 28,
      "metadata": {},
      "outputs": [],
      "source": [
        "from zipfile import ZipFile\n",
        "ZipFile(\"telco-customer-churn.zip\").extractall()"
      ]
    },
    {
      "cell_type": "code",
      "execution_count": 29,
      "metadata": {
        "colab": {
          "base_uri": "https://localhost:8080/",
          "height": 342
        },
        "id": "HGaXD4IHuGME",
        "outputId": "e0a62a21-085a-4771-804e-4004beaf4f2c"
      },
      "outputs": [
        {
          "data": {
            "text/html": [
              "<div>\n",
              "<style scoped>\n",
              "    .dataframe tbody tr th:only-of-type {\n",
              "        vertical-align: middle;\n",
              "    }\n",
              "\n",
              "    .dataframe tbody tr th {\n",
              "        vertical-align: top;\n",
              "    }\n",
              "\n",
              "    .dataframe thead th {\n",
              "        text-align: right;\n",
              "    }\n",
              "</style>\n",
              "<table border=\"1\" class=\"dataframe\">\n",
              "  <thead>\n",
              "    <tr style=\"text-align: right;\">\n",
              "      <th></th>\n",
              "      <th>customerID</th>\n",
              "      <th>gender</th>\n",
              "      <th>SeniorCitizen</th>\n",
              "      <th>Partner</th>\n",
              "      <th>Dependents</th>\n",
              "      <th>tenure</th>\n",
              "      <th>PhoneService</th>\n",
              "      <th>MultipleLines</th>\n",
              "      <th>InternetService</th>\n",
              "      <th>OnlineSecurity</th>\n",
              "      <th>...</th>\n",
              "      <th>DeviceProtection</th>\n",
              "      <th>TechSupport</th>\n",
              "      <th>StreamingTV</th>\n",
              "      <th>StreamingMovies</th>\n",
              "      <th>Contract</th>\n",
              "      <th>PaperlessBilling</th>\n",
              "      <th>PaymentMethod</th>\n",
              "      <th>MonthlyCharges</th>\n",
              "      <th>TotalCharges</th>\n",
              "      <th>Churn</th>\n",
              "    </tr>\n",
              "  </thead>\n",
              "  <tbody>\n",
              "    <tr>\n",
              "      <th>0</th>\n",
              "      <td>7590-VHVEG</td>\n",
              "      <td>Female</td>\n",
              "      <td>0</td>\n",
              "      <td>Yes</td>\n",
              "      <td>No</td>\n",
              "      <td>1</td>\n",
              "      <td>No</td>\n",
              "      <td>No phone service</td>\n",
              "      <td>DSL</td>\n",
              "      <td>No</td>\n",
              "      <td>...</td>\n",
              "      <td>No</td>\n",
              "      <td>No</td>\n",
              "      <td>No</td>\n",
              "      <td>No</td>\n",
              "      <td>Month-to-month</td>\n",
              "      <td>Yes</td>\n",
              "      <td>Electronic check</td>\n",
              "      <td>29.85</td>\n",
              "      <td>29.85</td>\n",
              "      <td>No</td>\n",
              "    </tr>\n",
              "    <tr>\n",
              "      <th>1</th>\n",
              "      <td>5575-GNVDE</td>\n",
              "      <td>Male</td>\n",
              "      <td>0</td>\n",
              "      <td>No</td>\n",
              "      <td>No</td>\n",
              "      <td>34</td>\n",
              "      <td>Yes</td>\n",
              "      <td>No</td>\n",
              "      <td>DSL</td>\n",
              "      <td>Yes</td>\n",
              "      <td>...</td>\n",
              "      <td>Yes</td>\n",
              "      <td>No</td>\n",
              "      <td>No</td>\n",
              "      <td>No</td>\n",
              "      <td>One year</td>\n",
              "      <td>No</td>\n",
              "      <td>Mailed check</td>\n",
              "      <td>56.95</td>\n",
              "      <td>1889.5</td>\n",
              "      <td>No</td>\n",
              "    </tr>\n",
              "    <tr>\n",
              "      <th>2</th>\n",
              "      <td>3668-QPYBK</td>\n",
              "      <td>Male</td>\n",
              "      <td>0</td>\n",
              "      <td>No</td>\n",
              "      <td>No</td>\n",
              "      <td>2</td>\n",
              "      <td>Yes</td>\n",
              "      <td>No</td>\n",
              "      <td>DSL</td>\n",
              "      <td>Yes</td>\n",
              "      <td>...</td>\n",
              "      <td>No</td>\n",
              "      <td>No</td>\n",
              "      <td>No</td>\n",
              "      <td>No</td>\n",
              "      <td>Month-to-month</td>\n",
              "      <td>Yes</td>\n",
              "      <td>Mailed check</td>\n",
              "      <td>53.85</td>\n",
              "      <td>108.15</td>\n",
              "      <td>Yes</td>\n",
              "    </tr>\n",
              "    <tr>\n",
              "      <th>3</th>\n",
              "      <td>7795-CFOCW</td>\n",
              "      <td>Male</td>\n",
              "      <td>0</td>\n",
              "      <td>No</td>\n",
              "      <td>No</td>\n",
              "      <td>45</td>\n",
              "      <td>No</td>\n",
              "      <td>No phone service</td>\n",
              "      <td>DSL</td>\n",
              "      <td>Yes</td>\n",
              "      <td>...</td>\n",
              "      <td>Yes</td>\n",
              "      <td>Yes</td>\n",
              "      <td>No</td>\n",
              "      <td>No</td>\n",
              "      <td>One year</td>\n",
              "      <td>No</td>\n",
              "      <td>Bank transfer (automatic)</td>\n",
              "      <td>42.30</td>\n",
              "      <td>1840.75</td>\n",
              "      <td>No</td>\n",
              "    </tr>\n",
              "    <tr>\n",
              "      <th>4</th>\n",
              "      <td>9237-HQITU</td>\n",
              "      <td>Female</td>\n",
              "      <td>0</td>\n",
              "      <td>No</td>\n",
              "      <td>No</td>\n",
              "      <td>2</td>\n",
              "      <td>Yes</td>\n",
              "      <td>No</td>\n",
              "      <td>Fiber optic</td>\n",
              "      <td>No</td>\n",
              "      <td>...</td>\n",
              "      <td>No</td>\n",
              "      <td>No</td>\n",
              "      <td>No</td>\n",
              "      <td>No</td>\n",
              "      <td>Month-to-month</td>\n",
              "      <td>Yes</td>\n",
              "      <td>Electronic check</td>\n",
              "      <td>70.70</td>\n",
              "      <td>151.65</td>\n",
              "      <td>Yes</td>\n",
              "    </tr>\n",
              "  </tbody>\n",
              "</table>\n",
              "<p>5 rows × 21 columns</p>\n",
              "</div>"
            ],
            "text/plain": [
              "   customerID  gender  SeniorCitizen Partner Dependents  tenure PhoneService  \\\n",
              "0  7590-VHVEG  Female              0     Yes         No       1           No   \n",
              "1  5575-GNVDE    Male              0      No         No      34          Yes   \n",
              "2  3668-QPYBK    Male              0      No         No       2          Yes   \n",
              "3  7795-CFOCW    Male              0      No         No      45           No   \n",
              "4  9237-HQITU  Female              0      No         No       2          Yes   \n",
              "\n",
              "      MultipleLines InternetService OnlineSecurity  ... DeviceProtection  \\\n",
              "0  No phone service             DSL             No  ...               No   \n",
              "1                No             DSL            Yes  ...              Yes   \n",
              "2                No             DSL            Yes  ...               No   \n",
              "3  No phone service             DSL            Yes  ...              Yes   \n",
              "4                No     Fiber optic             No  ...               No   \n",
              "\n",
              "  TechSupport StreamingTV StreamingMovies        Contract PaperlessBilling  \\\n",
              "0          No          No              No  Month-to-month              Yes   \n",
              "1          No          No              No        One year               No   \n",
              "2          No          No              No  Month-to-month              Yes   \n",
              "3         Yes          No              No        One year               No   \n",
              "4          No          No              No  Month-to-month              Yes   \n",
              "\n",
              "               PaymentMethod MonthlyCharges  TotalCharges Churn  \n",
              "0           Electronic check          29.85         29.85    No  \n",
              "1               Mailed check          56.95        1889.5    No  \n",
              "2               Mailed check          53.85        108.15   Yes  \n",
              "3  Bank transfer (automatic)          42.30       1840.75    No  \n",
              "4           Electronic check          70.70        151.65   Yes  \n",
              "\n",
              "[5 rows x 21 columns]"
            ]
          },
          "execution_count": 29,
          "metadata": {},
          "output_type": "execute_result"
        }
      ],
      "source": [
        "df = pd.read_csv(\"WA_Fn-UseC_-Telco-Customer-Churn.csv\")\n",
        "df.head()"
      ]
    },
    {
      "cell_type": "code",
      "execution_count": 30,
      "metadata": {
        "colab": {
          "base_uri": "https://localhost:8080/"
        },
        "id": "rq4zfITFucOW",
        "outputId": "4403e899-664b-429e-a3c5-30e7cfc67f10"
      },
      "outputs": [
        {
          "name": "stdout",
          "output_type": "stream",
          "text": [
            "<class 'pandas.core.frame.DataFrame'>\n",
            "RangeIndex: 7043 entries, 0 to 7042\n",
            "Data columns (total 21 columns):\n",
            " #   Column            Non-Null Count  Dtype  \n",
            "---  ------            --------------  -----  \n",
            " 0   customerID        7043 non-null   object \n",
            " 1   gender            7043 non-null   object \n",
            " 2   SeniorCitizen     7043 non-null   int64  \n",
            " 3   Partner           7043 non-null   object \n",
            " 4   Dependents        7043 non-null   object \n",
            " 5   tenure            7043 non-null   int64  \n",
            " 6   PhoneService      7043 non-null   object \n",
            " 7   MultipleLines     7043 non-null   object \n",
            " 8   InternetService   7043 non-null   object \n",
            " 9   OnlineSecurity    7043 non-null   object \n",
            " 10  OnlineBackup      7043 non-null   object \n",
            " 11  DeviceProtection  7043 non-null   object \n",
            " 12  TechSupport       7043 non-null   object \n",
            " 13  StreamingTV       7043 non-null   object \n",
            " 14  StreamingMovies   7043 non-null   object \n",
            " 15  Contract          7043 non-null   object \n",
            " 16  PaperlessBilling  7043 non-null   object \n",
            " 17  PaymentMethod     7043 non-null   object \n",
            " 18  MonthlyCharges    7043 non-null   float64\n",
            " 19  TotalCharges      7043 non-null   object \n",
            " 20  Churn             7043 non-null   object \n",
            "dtypes: float64(1), int64(2), object(18)\n",
            "memory usage: 1.1+ MB\n"
          ]
        }
      ],
      "source": [
        "df.info()"
      ]
    },
    {
      "cell_type": "code",
      "execution_count": 31,
      "metadata": {
        "colab": {
          "base_uri": "https://localhost:8080/",
          "height": 300
        },
        "id": "HoxAj8f8uf9P",
        "outputId": "02ce33c1-5405-4710-ff50-13c84e627d89"
      },
      "outputs": [
        {
          "data": {
            "text/html": [
              "<div>\n",
              "<style scoped>\n",
              "    .dataframe tbody tr th:only-of-type {\n",
              "        vertical-align: middle;\n",
              "    }\n",
              "\n",
              "    .dataframe tbody tr th {\n",
              "        vertical-align: top;\n",
              "    }\n",
              "\n",
              "    .dataframe thead th {\n",
              "        text-align: right;\n",
              "    }\n",
              "</style>\n",
              "<table border=\"1\" class=\"dataframe\">\n",
              "  <thead>\n",
              "    <tr style=\"text-align: right;\">\n",
              "      <th></th>\n",
              "      <th>SeniorCitizen</th>\n",
              "      <th>tenure</th>\n",
              "      <th>MonthlyCharges</th>\n",
              "    </tr>\n",
              "  </thead>\n",
              "  <tbody>\n",
              "    <tr>\n",
              "      <th>count</th>\n",
              "      <td>7043.000000</td>\n",
              "      <td>7043.000000</td>\n",
              "      <td>7043.000000</td>\n",
              "    </tr>\n",
              "    <tr>\n",
              "      <th>mean</th>\n",
              "      <td>0.162147</td>\n",
              "      <td>32.371149</td>\n",
              "      <td>64.761692</td>\n",
              "    </tr>\n",
              "    <tr>\n",
              "      <th>std</th>\n",
              "      <td>0.368612</td>\n",
              "      <td>24.559481</td>\n",
              "      <td>30.090047</td>\n",
              "    </tr>\n",
              "    <tr>\n",
              "      <th>min</th>\n",
              "      <td>0.000000</td>\n",
              "      <td>0.000000</td>\n",
              "      <td>18.250000</td>\n",
              "    </tr>\n",
              "    <tr>\n",
              "      <th>25%</th>\n",
              "      <td>0.000000</td>\n",
              "      <td>9.000000</td>\n",
              "      <td>35.500000</td>\n",
              "    </tr>\n",
              "    <tr>\n",
              "      <th>50%</th>\n",
              "      <td>0.000000</td>\n",
              "      <td>29.000000</td>\n",
              "      <td>70.350000</td>\n",
              "    </tr>\n",
              "    <tr>\n",
              "      <th>75%</th>\n",
              "      <td>0.000000</td>\n",
              "      <td>55.000000</td>\n",
              "      <td>89.850000</td>\n",
              "    </tr>\n",
              "    <tr>\n",
              "      <th>max</th>\n",
              "      <td>1.000000</td>\n",
              "      <td>72.000000</td>\n",
              "      <td>118.750000</td>\n",
              "    </tr>\n",
              "  </tbody>\n",
              "</table>\n",
              "</div>"
            ],
            "text/plain": [
              "       SeniorCitizen       tenure  MonthlyCharges\n",
              "count    7043.000000  7043.000000     7043.000000\n",
              "mean        0.162147    32.371149       64.761692\n",
              "std         0.368612    24.559481       30.090047\n",
              "min         0.000000     0.000000       18.250000\n",
              "25%         0.000000     9.000000       35.500000\n",
              "50%         0.000000    29.000000       70.350000\n",
              "75%         0.000000    55.000000       89.850000\n",
              "max         1.000000    72.000000      118.750000"
            ]
          },
          "execution_count": 31,
          "metadata": {},
          "output_type": "execute_result"
        }
      ],
      "source": [
        "df.describe()"
      ]
    },
    {
      "cell_type": "code",
      "execution_count": 32,
      "metadata": {
        "colab": {
          "base_uri": "https://localhost:8080/"
        },
        "id": "Y8n7zaXw6IBY",
        "outputId": "1176cf7b-f050-4462-d59c-3873e61616d8"
      },
      "outputs": [
        {
          "data": {
            "text/plain": [
              "customerID           object\n",
              "gender               object\n",
              "SeniorCitizen         int64\n",
              "Partner              object\n",
              "Dependents           object\n",
              "tenure                int64\n",
              "PhoneService         object\n",
              "MultipleLines        object\n",
              "InternetService      object\n",
              "OnlineSecurity       object\n",
              "OnlineBackup         object\n",
              "DeviceProtection     object\n",
              "TechSupport          object\n",
              "StreamingTV          object\n",
              "StreamingMovies      object\n",
              "Contract             object\n",
              "PaperlessBilling     object\n",
              "PaymentMethod        object\n",
              "MonthlyCharges      float64\n",
              "TotalCharges         object\n",
              "Churn                object\n",
              "dtype: object"
            ]
          },
          "execution_count": 32,
          "metadata": {},
          "output_type": "execute_result"
        }
      ],
      "source": [
        "df.dtypes"
      ]
    },
    {
      "cell_type": "markdown",
      "metadata": {
        "id": "kgKuE9ZBu92x"
      },
      "source": [
        "- Total charges is wrongly formatted.\n",
        "- Senior Citizen column is differently formatted from the others.\n",
        "- CustomerID won't be used in this analysis."
      ]
    },
    {
      "cell_type": "code",
      "execution_count": 33,
      "metadata": {
        "id": "E25nlCqhFWvY"
      },
      "outputs": [
        {
          "name": "stderr",
          "output_type": "stream",
          "text": [
            "C:\\Users\\Usuario\\AppData\\Local\\Temp\\ipykernel_29292\\793211674.py:8: FutureWarning:\n",
            "\n",
            "A value is trying to be set on a copy of a DataFrame or Series through chained assignment using an inplace method.\n",
            "The behavior will change in pandas 3.0. This inplace method will never work because the intermediate object on which we are setting values always behaves as a copy.\n",
            "\n",
            "For example, when doing 'df[col].method(value, inplace=True)', try using 'df.method({col: value}, inplace=True)' or df[col] = df[col].method(value) instead, to perform the operation inplace on the original object.\n",
            "\n",
            "\n",
            "\n"
          ]
        }
      ],
      "source": [
        "# lowercasing column names for easy work\n",
        "df.columns = [col.lower()for col in df.columns]\n",
        "\n",
        "\n",
        "df[\"totalcharges\"] = df[\"totalcharges\"].replace(r' ', np.nan)\n",
        "df[\"totalcharges\"] = df[\"totalcharges\"].astype(float)\n",
        "\n",
        "df['seniorcitizen'].replace({0: 'No', 1: 'Yes'}, inplace=True)\n",
        "df['seniorcitizen'] = df['seniorcitizen'].astype('object')\n",
        "\n",
        "df = df.drop('customerid', axis = 1)"
      ]
    },
    {
      "cell_type": "code",
      "execution_count": 34,
      "metadata": {
        "id": "k3h7Q6OxtLut"
      },
      "outputs": [],
      "source": [
        "# Creating a flag variable dor churn\n",
        "df['churn_flag'] = df['churn'].map({\"No\":0, \"Yes\":1})"
      ]
    },
    {
      "cell_type": "markdown",
      "metadata": {
        "id": "mZjA9Unpu1d9"
      },
      "source": [
        "# Information About the dataset\n",
        "CustomerID - customer ID.\n",
        "\n",
        "Gender - Whether the customer is a male or a female.\n",
        "\n",
        "SeniorCitizen - whether the customer is a senior citizen or not (1,0)\n",
        "\n",
        "Partner - whether the customer has a partner ot not (Yes, No)\n",
        "\n",
        "Dependents - Whether the customer has dependents or not(Yes, No).\n",
        "\n",
        "Tenure - Number of months the customer has stayed with the company.\n",
        "\n",
        "PhoneService - whether the customer has a phone service or not (Yes, No)\n",
        "\n",
        "MultipleLines - Whether the customer has multiple lines or not (Yes, No, No phone service)\n",
        "\n",
        "InternetService - Customer’s internet service provider (DSL, Fiber optic, No)\n",
        "\n",
        "OnlineSecurity - Whether the customer has online security or not (Yes, No, No internet service).\n",
        "\n",
        "OnlineBackup - Whether the customer has online backup or not (Yes, No, No internet service).\n",
        "\n",
        "DeviceProtection - Whether the customer has device protection or not (Yes, No, No internet service)\n",
        "\n",
        "TechSupport - Whether the customer has tech support or not (Yes, No, No internet service)\n",
        "\n",
        "StreamingTV - Whether the customer has streaming TV or not (Yes, No, No internet service)\n",
        "\n",
        "StreamingMovies - Whether the customer has streaming movies or not (Yes, No, No internet service)\n",
        "\n",
        "Contract - The contract term of the customer (Month-to-month, One year, Two year)\n",
        "\n",
        "PaperlessBilling - Whether the customer has paperless billing or not (Yes, No)\n",
        "\n",
        "PaymentMethod - The customer’s payment method (Electronic check, Mailed check, Bank transfer (automatic), Credit card (automatic))\n",
        "\n",
        "MonthlyCharges - The amount charged to the customer monthly\n",
        "\n",
        "TotalCharges - The total amount charged to the customer\n",
        "\n",
        "Churn - Whether the customer churned or not (Yes or No)\n",
        "\n"
      ]
    },
    {
      "cell_type": "code",
      "execution_count": 35,
      "metadata": {
        "colab": {
          "base_uri": "https://localhost:8080/",
          "height": 325
        },
        "id": "lhY_bunHunXr",
        "outputId": "ce57b806-146a-4df2-93c0-01f4450df5e2"
      },
      "outputs": [
        {
          "data": {
            "text/plain": [
              "churn\n",
              "No     5174\n",
              "Yes    1869\n",
              "Name: count, dtype: int64"
            ]
          },
          "execution_count": 35,
          "metadata": {},
          "output_type": "execute_result"
        }
      ],
      "source": [
        "df['churn'].value_counts()"
      ]
    },
    {
      "cell_type": "code",
      "execution_count": 36,
      "metadata": {
        "colab": {
          "base_uri": "https://localhost:8080/"
        },
        "id": "d2HsLLvsvFQs",
        "outputId": "ca85605d-248b-4696-8599-d10eaa67a22d"
      },
      "outputs": [
        {
          "data": {
            "text/plain": [
              "np.int64(22)"
            ]
          },
          "execution_count": 36,
          "metadata": {},
          "output_type": "execute_result"
        }
      ],
      "source": [
        "# checking for duplicates\n",
        "df.duplicated().sum()"
      ]
    },
    {
      "cell_type": "code",
      "execution_count": 37,
      "metadata": {
        "colab": {
          "base_uri": "https://localhost:8080/"
        },
        "id": "u9bmL8cTstkQ",
        "outputId": "8ec22d01-b13d-43c7-be41-440d380d8bbc"
      },
      "outputs": [
        {
          "data": {
            "text/plain": [
              "gender               0\n",
              "seniorcitizen        0\n",
              "partner              0\n",
              "dependents           0\n",
              "tenure               0\n",
              "phoneservice         0\n",
              "multiplelines        0\n",
              "internetservice      0\n",
              "onlinesecurity       0\n",
              "onlinebackup         0\n",
              "deviceprotection     0\n",
              "techsupport          0\n",
              "streamingtv          0\n",
              "streamingmovies      0\n",
              "contract             0\n",
              "paperlessbilling     0\n",
              "paymentmethod        0\n",
              "monthlycharges       0\n",
              "totalcharges        11\n",
              "churn                0\n",
              "churn_flag           0\n",
              "dtype: int64"
            ]
          },
          "execution_count": 37,
          "metadata": {},
          "output_type": "execute_result"
        }
      ],
      "source": [
        "df.isnull().sum()"
      ]
    },
    {
      "cell_type": "code",
      "execution_count": 38,
      "metadata": {
        "id": "3t7TYjtxv9eV"
      },
      "outputs": [],
      "source": [
        "df = df.dropna()"
      ]
    },
    {
      "cell_type": "code",
      "execution_count": 39,
      "metadata": {
        "colab": {
          "base_uri": "https://localhost:8080/"
        },
        "id": "-9PnD6bWv0SF",
        "outputId": "4dccbd09-96e6-47e0-8953-c25527456fed"
      },
      "outputs": [
        {
          "name": "stdout",
          "output_type": "stream",
          "text": [
            "This dataset contains 17 categorical data and 4 quantitative data\n",
            "Categorical columns are: ['gender', 'seniorcitizen', 'partner', 'dependents', 'phoneservice', 'multiplelines', 'internetservice', 'onlinesecurity', 'onlinebackup', 'deviceprotection', 'techsupport', 'streamingtv', 'streamingmovies', 'contract', 'paperlessbilling', 'paymentmethod', 'churn'] \n",
            "\n",
            "Quanticative columns are: ['tenure', 'monthlycharges', 'totalcharges', 'churn_flag'] \n"
          ]
        }
      ],
      "source": [
        "# stores only categorical data\n",
        "categorical = df.select_dtypes(include = ['object']).columns\n",
        "categorical\n",
        "\n",
        "# stores only quatitative data\n",
        "quant = df.select_dtypes(include = ['float64', 'int64']).columns\n",
        "\n",
        "print(f'This dataset contains {len(categorical)} categorical data and {len(quant)} quantitative data')\n",
        "print(f'Categorical columns are: {list(categorical)} \\n\\nQuanticative columns are: {list(quant)} ')\n"
      ]
    },
    {
      "cell_type": "code",
      "execution_count": 40,
      "metadata": {
        "colab": {
          "base_uri": "https://localhost:8080/",
          "height": 542
        },
        "id": "OBGnlPyXwI-W",
        "outputId": "7da582b4-6050-4593-9232-bfd94346344e"
      },
      "outputs": [
        {
          "data": {
            "application/vnd.plotly.v1+json": {
              "config": {
                "plotlyServerURL": "https://plot.ly"
              },
              "data": [
                {
                  "hovertemplate": "color=No<br>x=%{x}<br>y=%{y}<extra></extra>",
                  "legendgroup": "No",
                  "marker": {
                    "color": "#50e991",
                    "symbol": "circle"
                  },
                  "mode": "markers",
                  "name": "No",
                  "showlegend": true,
                  "type": "scattergl",
                  "x": {
                    "bdata": "mpmZmZnZPUCamZmZmXlMQGZmZmZmJkVAZmZmZmZGVkAAAAAAAMA9QDMzMzMzE0xAmpmZmZn5SEAzMzMzM/MyQGZmZmZmFllAAAAAAABgWkAAAAAAAFBcQGZmZmZmpjRAzczMzMysWkAzMzMzM4NWQM3MzMzMzDNAMzMzMzPzTUDNzMzMzMxNQGZmZmZmpktAAAAAAACQVkBmZmZmZhZYQAAAAAAA4FdAmpmZmZmJUEAzMzMzMzM0QAAAAAAAoEZAmpmZmZn5WEAzMzMzM7NSQGZmZmZmxkhAzczMzMxMUUAAAAAAAMA0QGZmZmZm9lNAzczMzMwMU0AAAAAAACBVQAAAAAAAoEhAAAAAAADwU0CamZmZmQlQQAAAAAAAkFZAAAAAAABgUUBmZmZmZrZSQJqZmZmZ6VhAzczMzMwcW0AzMzMzM/M4QAAAAAAA4FpAAAAAAAAgWUCamZmZmXlWQM3MzMzMDEVAMzMzMzMzS0AzMzMzM9NSQJqZmZmZuVNAzczMzMzMU0BmZmZmZiY0QGZmZmZm9lNAZmZmZmaGSEBmZmZmZmY0QGZmZmZm5ltAAAAAAABAOEAAAAAAACBQQAAAAAAAoFtAMzMzMzPTS0AzMzMzM1NLQAAAAAAAsFJAZmZmZmbmOUBmZmZmZkZJQDMzMzMz81lAZmZmZmYmNEAzMzMzM9NYQDMzMzMzE09AZmZmZmamNEAzMzMzM/MzQAAAAAAA4EBAMzMzMzODVEDNzMzMzKxSQAAAAAAAAFVAMzMzMzPDW0CamZmZmTlZQGZmZmZmtlBAAAAAAAAANUAzMzMzMzM0QDMzMzMzczNAAAAAAADAV0BmZmZmZsZGQM3MzMzMTDhAmpmZmZkJWkBmZmZmZiY+QGZmZmZmlldAZmZmZmZmM0CamZmZmflMQJqZmZmZ6VZAzczMzMxMS0BmZmZmZnZWQM3MzMzMDD9AZmZmZmamNEDNzMzMzExVQDMzMzMz81hAMzMzMzOzNECamZmZmVlJQJqZmZmZ2TRAzczMzMw8VkDNzMzMzIw3QAAAAAAAwDNAmpmZmZk5TEDNzMzMzHxVQGZmZmZmRklAMzMzMzOzOUAAAAAAAMBSQDMzMzMzMzRAmpmZmZmZM0AzMzMzMwNWQDMzMzMzQ1lAMzMzMzMTVUAzMzMzM/M3QDMzMzMzw1hAmpmZmZmZM0AAAAAAACBQQAAAAAAAYFFAMzMzMzMjUUCamZmZmQlbQGZmZmZmhlVAMzMzMzOzM0CamZmZmTlUQJqZmZmZCVVAZmZmZmYmNEAAAAAAABBQQDMzMzMzszlAAAAAAAAATEDNzMzMzGxRQJqZmZmZeVJAmpmZmZmZNEBmZmZmZuYzQDMzMzMzQ1ZAZmZmZmZmNEAAAAAAABBVQM3MzMzMfFRAzczMzMyMNEAzMzMzM7M4QGZmZmZmVlpAzczMzMyMNEBmZmZmZqZGQAAAAAAAsFJAZmZmZmbmSUBmZmZmZmY+QGZmZmZmpjNAzczMzMxMTECamZmZmflRQAAAAAAAwDNAzczMzMxsW0DNzMzMzEwzQDMzMzMzI1hAmpmZmZkZOEBmZmZmZtZbQAAAAAAAEFxAAAAAAADANECamZmZmXlZQDMzMzMzA1RAMzMzMzNjWkAzMzMzM5NTQGZmZmZmNlFAzczMzMz8U0CamZmZmblLQM3MzMzMnFlAAAAAAABAOUAAAAAAAMAzQAAAAAAAADRAMzMzMzOzVUAAAAAAAGBNQAAAAAAAoEZAzczMzMxMTEDNzMzMzAxVQAAAAAAAAFRAAAAAAADAOEAzMzMzMzM0QJqZmZmZWTNAzczMzMxMSUCamZmZmUlUQJqZmZmZeVZAMzMzMzNTVUAAAAAAAABbQAAAAAAAYFdAAAAAAABANEBmZmZmZiY5QJqZmZmZmT1AmpmZmZlJUkAAAAAAAMAzQGZmZmZmplVAzczMzMxMW0DNzMzMzKxSQJqZmZmZmVdAZmZmZmZmS0BmZmZmZtZSQAAAAAAAQFBAAAAAAADAWEAAAAAAAGBXQM3MzMzM7FRAmpmZmZnZM0BmZmZmZsZNQGZmZmZmxlxAZmZmZmaWXEAAAAAAAIBGQGZmZmZmdlZAzczMzMzsSEAzMzMzM1NcQGZmZmZmBlZAZmZmZmbmOEAAAAAAAEBaQAAAAAAAQDhAAAAAAADgTUAzMzMzM8NaQM3MzMzMPFBAAAAAAACAS0BmZmZmZkZJQDMzMzMzk0tAmpmZmZmZSUBmZmZmZmY5QJqZmZmZOUtAAAAAAAAAU0DNzMzMzCxGQJqZmZmZmU5AMzMzMzOzVUBmZmZmZlZWQDMzMzMzszNAAAAAAABANEAzMzMzMwNTQDMzMzMzM1lAMzMzMzOjUkCamZmZmTlQQJqZmZmZmVZAZmZmZmYmTkBmZmZmZnZUQM3MzMzMzDhAMzMzMzPjUkCamZmZmUlZQAAAAAAAsFNAAAAAAABAM0AzMzMzM0NWQDMzMzMzw1xAZmZmZmZWUUAzMzMzM4NbQGZmZmZm5jNAAAAAAADgVkAAAAAAAABOQGZmZmZmZkZAzczMzMxMSEBmZmZmZgZOQM3MzMzMrFlAmpmZmZm5VEAzMzMzM/NBQJqZmZmZqVRAmpmZmZnZM0AzMzMzMzMzQJqZmZmZuVdAmpmZmZkJVkAzMzMzM7NXQDMzMzMzU0tAAAAAAABwVUDNzMzMzNxQQAAAAAAAgDRAAAAAAABANEBmZmZmZgZSQDMzMzMzczNAmpmZmZl5RkAAAAAAAEBYQGZmZmZmZk9AzczMzMxMRkCamZmZmUlWQM3MzMzMDEtAAAAAAABQWkBmZmZmZkZYQDMzMzMzMzRAMzMzMzOzWEBmZmZmZiZJQM3MzMzMjDRAmpmZmZn5UkCamZmZmflNQGZmZmZmJjNAmpmZmZmpWEBmZmZmZiZcQJqZmZmZmTRAAAAAAADgQUAAAAAAAPBYQGZmZmZmBlhAZmZmZmZGVUCamZmZmVk5QJqZmZmZaVZAAAAAAACwVUDNzMzMzIxVQDMzMzMzM1BAZmZmZmYGW0AAAAAAAGBLQJqZmZmZmVZAAAAAAAAARkBmZmZmZuZXQDMzMzMzM1VAZmZmZmYmRkBmZmZmZuYzQDMzMzMzw1dAMzMzMzODVkCamZmZmXlbQM3MzMzMTEtAzczMzMwMNEAAAAAAAMAzQM3MzMzMDDRAMzMzMzPzS0AzMzMzM7MzQM3MzMzMzDNAmpmZmZnZV0DNzMzMzHxXQDMzMzMzczhAzczMzMy8UkBmZmZmZtZVQJqZmZmZqVFAAAAAAABQUkDNzMzMzKxYQM3MzMzMzDhAzczMzMxMOEBmZmZmZnZRQDMzMzMzI1lAMzMzMzOzOUCamZmZmVlEQDMzMzMz00lAZmZmZmZGWkDNzMzMzHxVQGZmZmZm5lJAAAAAAAAgTUDNzMzMzExQQJqZmZmZuUpAAAAAAADAM0CamZmZmTlGQJqZmZmZ2TRAMzMzMzODXEBmZmZmZnZWQGZmZmZmhktAzczMzMw8XEAzMzMzM2NZQJqZmZmZqVxAMzMzMzMzUECamZmZmRlUQM3MzMzMDDlAAAAAAACwV0AAAAAAAGBaQDMzMzMzszhAAAAAAABwUUCamZmZmRlOQGZmZmZmZjhAmpmZmZkJWkCamZmZmTlXQDMzMzMzM1RAAAAAAAAANEBmZmZmZsZSQGZmZmZmpjNAzczMzMxcUUAzMzMzMwNdQGZmZmZmBkRAZmZmZmaGWUDNzMzMzGxWQGZmZmZm5jNAZmZmZmamNEAzMzMzM4NRQM3MzMzMzEpAMzMzMzMDU0DNzMzMzOxSQGZmZmZmpjNAzczMzMxcVEAAAAAAACBbQAAAAAAAIFVAmpmZmZkJWUBmZmZmZiZWQDMzMzMzM1pAAAAAAACATUAzMzMzMwNQQGZmZmZmZjRAMzMzMzNzTkDNzMzMzMwzQAAAAAAAEF1AzczMzMwsVEDNzMzMzExQQDMzMzMzA1VAzczMzMzcU0AAAAAAAIBTQJqZmZmZ2TNAMzMzMzOTV0DNzMzMzJxaQM3MzMzMXFpAAAAAAADAV0BmZmZmZiZLQDMzMzMzg1FAzczMzMwMNECamZmZmVlaQM3MzMzMzElAAAAAAABgVUAAAAAAANBWQAAAAAAA8FxAzczMzMysV0CamZmZmZkzQJqZmZmZ+VhAmpmZmZkZNUDNzMzMzAw0QM3MzMzM/FNAmpmZmZnJWkAzMzMzM2NWQDMzMzMzY1RAmpmZmZk5TUCamZmZmelXQGZmZmZmJlRAZmZmZmZGXECamZmZmXlNQM3MzMzMjDNAzczMzMy8U0AzMzMzM0NaQJqZmZmZeVlAAAAAAADAM0AzMzMzM5NbQGZmZmZm5lxAmpmZmZlZM0CamZmZmZk5QAAAAAAAMFFAZmZmZmbmM0BmZmZmZqZRQM3MzMzMjFFAZmZmZmamSEAAAAAAANBaQJqZmZmZmTdAzczMzMxsUUAAAAAAAOBYQDMzMzMzE1BAZmZmZma2UUCamZmZmXlZQAAAAAAAYFJAMzMzMzMzREAAAAAAAEAzQM3MzMzMzE1AmpmZmZk5UEBmZmZmZrZbQDMzMzMzQ1RAMzMzMzODWEAAAAAAAKBRQDMzMzMzo1dAZmZmZmamM0AAAAAAAAAzQAAAAAAAADRAAAAAAACgT0CamZmZmRk0QJqZmZmZyVhAmpmZmZmZVkCamZmZmflbQGZmZmZm5jhAAAAAAADgVEAzMzMzMxNVQM3MzMzMzEZAzczMzMxsS0AzMzMzM2NQQGZmZmZmllZAZmZmZmZmNEAzMzMzM6NSQDMzMzMz8zNAAAAAAACQUkCamZmZmSlbQDMzMzMzY1tAmpmZmZmpVUAAAAAAAEBUQM3MzMzM7EdAMzMzMzOjXEDNzMzMzIw0QDMzMzMzc1tAAAAAAABgUUDNzMzMzGxIQAAAAAAAQDlAZmZmZma2WUAzMzMzM+NVQDMzMzMzo1NAZmZmZmZGQUAzMzMzMwNXQDMzMzMzQ1VAMzMzMzOzM0CamZmZmclXQAAAAAAAEFVAZmZmZmYmWkCamZmZmelbQAAAAAAAgEtAZmZmZmZ2VkCamZmZmVk0QGZmZmZmRktAzczMzMzcWECamZmZmblRQGZmZmZmZjlAZmZmZmZ2VkAAAAAAAEA5QJqZmZmZaVFAAAAAAACAUUCamZmZmRk0QM3MzMzMzDhAZmZmZmbGV0BmZmZmZjZWQDMzMzMzs1NAmpmZmZlZNEAAAAAAAKBGQM3MzMzMDDRAMzMzMzNjUUAAAAAAAIAzQAAAAAAAsFJAMzMzMzMzPkBmZmZmZuZMQJqZmZmZ2TNAzczMzMyMOUCamZmZmdk4QGZmZmZmlltAzczMzMyMOEDNzMzMzPxaQJqZmZmZWVRAMzMzMzNzUkCamZmZmRlQQAAAAAAA8FlAZmZmZmbGUUAzMzMzM/NIQJqZmZmZmThAmpmZmZkZPkCamZmZmdlUQDMzMzMzczRAAAAAAADQUkDNzMzMzIw0QM3MzMzMDDRAZmZmZmamNECamZmZmUlVQM3MzMzMPFVAAAAAAACgUEBmZmZmZqZPQJqZmZmZyVRAmpmZmZk5VUDNzMzMzIw0QAAAAAAAoEhAzczMzMzMTUCamZmZmSlaQDMzMzMz01JAZmZmZmYGVEAAAAAAAEBUQDMzMzMzszhAAAAAAACAVUBmZmZmZmY5QJqZmZmZSVZAAAAAAAAgTUCamZmZmWlVQM3MzMzMLElAZmZmZmYWVEAzMzMzMzM0QM3MzMzMjDRAAAAAAABANUAAAAAAAEA6QGZmZmZmNlRAzczMzMyMUkCamZmZmVk0QAAAAAAA4FJAMzMzMzPDU0CamZmZmYlWQM3MzMzMTElAzczMzMycW0AAAAAAAEBZQGZmZmZm1lNAZmZmZmZ2VkAAAAAAAEBQQM3MzMzMHFRAmpmZmZkZOEBmZmZmZgZGQDMzMzMzs1tAzczMzMy8XEAzMzMzM8NSQAAAAAAAQDNAMzMzMzODVkCamZmZmVlMQJqZmZmZCVRAZmZmZmbWUUBmZmZmZpZWQDMzMzMzszNAmpmZmZnZM0BmZmZmZpZWQM3MzMzMzDRAZmZmZma2UEBmZmZmZuYzQGZmZmZm5kFAZmZmZma2U0BmZmZmZmY0QAAAAAAAkFJAMzMzMzMzUEAzMzMzM3M0QJqZmZmZqVtAZmZmZmYmREAAAAAAAMBaQGZmZmZmVlJAZmZmZmZmRkAAAAAAAGBLQM3MzMzMTERAZmZmZmamS0DNzMzMzGxOQJqZmZmZmVNAmpmZmZlpUUDNzMzMzOxNQJqZmZmZOVNAmpmZmZnZM0CamZmZmelQQAAAAAAAgEZAzczMzMwMUEDNzMzMzGxUQM3MzMzMjDlAAAAAAAAANECamZmZmelSQM3MzMzMzDdAzczMzMwMUEAzMzMzMzNTQJqZmZmZmUtAMzMzMzMjW0AAAAAAAEA5QGZmZmZmZj5AzczMzMwMNEBmZmZmZiZVQM3MzMzM7FlAAAAAAAAAVkBmZmZmZpZaQJqZmZmZyVNAZmZmZmbGWUCamZmZmflPQM3MzMzMzDlAzczMzMyMOUDNzMzMzGxGQM3MzMzMDDlAZmZmZmaGUkAzMzMzMzNWQAAAAAAAUFdAmpmZmZnZUUDNzMzMzMxTQGZmZmZmZjRAAAAAAABAWkCamZmZmdk+QM3MzMzMjDRAZmZmZmY2VUAzMzMzM5NAQAAAAAAAAFdAMzMzMzNzVkAzMzMzM/NcQJqZmZmZSVVAmpmZmZnZOEBmZmZmZhZQQAAAAAAAgDRAMzMzMzODVUAAAAAAAEBWQDMzMzMzM1BAzczMzMzMM0CamZmZmVlXQAAAAAAAgENAAAAAAACANEBmZmZmZmY6QM3MzMzMjFhAMzMzMzNjWEAzMzMzM/MzQM3MzMzM7FhAZmZmZmZmQUAzMzMzMxNOQAAAAAAAMFBAMzMzMzNTS0DNzMzMzEwzQAAAAAAA0FtAZmZmZmbmQUDNzMzMzAw0QGZmZmZmFlVAAAAAAACgW0DNzMzMzMxWQDMzMzMzU1ZAZmZmZmZGVEDNzMzMzExUQDMzMzMzk1dAZmZmZmYGXUAzMzMzM2NaQJqZmZmZmVdAAAAAAACAM0BmZmZmZmZaQGZmZmZmVlRAMzMzMzMzTEBmZmZmZlZQQDMzMzMz8zNAAAAAAADQW0AAAAAAAEBWQGZmZmZmhlpAzczMzMwMNEAzMzMzMzM5QJqZmZmZ2VJAMzMzMzNjUEDNzMzMzCxUQDMzMzMzI1pAZmZmZmYmOEAzMzMzM3M0QJqZmZmZ2VJAzczMzMzsU0DNzMzMzGxUQDMzMzMzE1NAAAAAAADwWUDNzMzMzJxVQGZmZmZmxlJAZmZmZmYmVEDNzMzMzEwzQM3MzMzMzEBAAAAAAADQVEAzMzMzMwNbQGZmZmZm5jNAzczMzMwMNUBmZmZmZiY+QGZmZmZm9lNAAAAAAABgUEBmZmZmZgZaQAAAAAAAgDRAZmZmZmbWVkAAAAAAAIA0QGZmZmZm5lJAzczMzMyMS0CamZmZmXlNQGZmZmZmxldAMzMzMzNzOUAAAAAAAGBMQAAAAAAAcFRAZmZmZmaGVUDNzMzMzMw9QAAAAAAAgDRAMzMzMzNzTkAAAAAAAFBSQJqZmZmZ2TRAZmZmZmZWU0BmZmZmZnZXQGZmZmZmhlFAzczMzMz8UkAAAAAAANBSQJqZmZmZeUtAAAAAAACAM0CamZmZmZkzQM3MzMzM7EdAAAAAAADAN0BmZmZmZuZFQAAAAAAAwDNAZmZmZmYmM0CamZmZmZkzQDMzMzMzE1RAmpmZmZlZOEAAAAAAAEA5QJqZmZmZGTpAAAAAAAAANEAzMzMzM7M0QDMzMzMzk1FAMzMzMzNjUUCamZmZmdkzQAAAAAAAADRAZmZmZmb2V0AAAAAAAMA0QDMzMzMzE0lAMzMzMzNTTUCamZmZmflXQAAAAAAAwEhAZmZmZmYGVEBmZmZmZmY4QGZmZmZmBkRAAAAAAACAM0BmZmZmZoZJQM3MzMzMLEtAzczMzMwsVUBmZmZmZoZVQGZmZmZmllFAAAAAAACAW0CamZmZmblXQAAAAAAAcFFAZmZmZmbmUUBmZmZmZqY3QGZmZmZmdlRAmpmZmZkZOUDNzMzMzKxcQDMzMzMzk0hAmpmZmZk5VEDNzMzMzEwzQM3MzMzMjFFAAAAAAAAgS0AzMzMzM9NYQAAAAAAAgFJAAAAAAAAgSUDNzMzMzMwzQAAAAAAAwEFAAAAAAAAwVEDNzMzMzIwzQM3MzMzMDDRAmpmZmZkZXECamZmZmRlJQAAAAAAAIE9AmpmZmZnZS0BmZmZmZqYzQAAAAAAAUFZAAAAAAAAAS0AAAAAAAGBMQJqZmZmZGTVAmpmZmZkpWEAAAAAAAIA4QM3MzMzMzFNAMzMzMzNjUUDNzMzMzAw0QGZmZmZmtlhAmpmZmZmZM0CamZmZmelVQAAAAAAAsFJAzczMzMzcWkBmZmZmZtZSQM3MzMzMPFBAzczMzMwcWUAAAAAAACBRQDMzMzMzI1RAAAAAAABQVEAzMzMzM2NWQJqZmZmZ2UtAzczMzMzMOEAAAAAAAAA0QM3MzMzMTFpAzczMzMyMM0AAAAAAAPBTQM3MzMzMXFhAAAAAAABAOECamZmZmZk4QDMzMzMzE0lAzczMzMzMQ0BmZmZmZnZWQGZmZmZmtlhAzczMzMzsSkAAAAAAAEA4QM3MzMzMXFZAAAAAAABQWkAAAAAAAMBNQDMzMzMzo1FAAAAAAACgVEDNzMzMzMxOQGZmZmZmhkhAAAAAAACQUEBmZmZmZmYzQDMzMzMzg1VAZmZmZmYmM0AAAAAAAEAzQM3MzMzMfFRAmpmZmZmpXEAAAAAAAAA0QM3MzMzMzDNAmpmZmZlJUEBmZmZmZqYzQM3MzMzMPFZAMzMzMzMzNEDNzMzMzMxSQGZmZmZmZkxAAAAAAADgUkDNzMzMzMxBQAAAAAAAIE5AzczMzMwsRECamZmZmdkyQM3MzMzMbEtAMzMzMzMTUEBmZmZmZqY4QGZmZmZmBlNAMzMzMzOzMkDNzMzMzHxYQGZmZmZmhldAZmZmZmbGV0BmZmZmZhZSQM3MzMzMrFRAZmZmZmbmM0BmZmZmZuZKQGZmZmZmxklAZmZmZmamM0BmZmZmZgZGQAAAAAAAgFxAmpmZmZkZWUAAAAAAACBLQAAAAAAAAFRAzczMzMzMU0AzMzMzM5NXQGZmZmZm5khAAAAAAADgSkDNzMzMzFxXQJqZmZmZ+VVAZmZmZmaGTkAzMzMzMwNaQAAAAAAA0FhAzczMzMxsVUBmZmZmZjZaQJqZmZmZSVFAzczMzMycUkCamZmZmTlJQAAAAAAAAE5AAAAAAABQVUAzMzMzM3MzQAAAAAAAwDRAmpmZmZm5U0AAAAAAACBaQDMzMzMzs0hAAAAAAAAAOUDNzMzMzIw5QJqZmZmZiVFAmpmZmZlZUUCamZmZmUlXQDMzMzMzY1FAMzMzMzMzNEBmZmZmZmY0QAAAAAAAwDdAzczMzMycUUAAAAAAAHBQQJqZmZmZmThAAAAAAABQUUBmZmZmZqY4QJqZmZmZmVZAZmZmZmY2WUBmZmZmZtZSQM3MzMzMzFVAmpmZmZkZUEAzMzMzM7M4QGZmZmZmdlpAMzMzMzOTWEAzMzMzM3MzQJqZmZmZWU1AZmZmZmYmNEAAAAAAACBQQAAAAAAAgDxAzczMzMycVkCamZmZmUlaQJqZmZmZyVRAzczMzMzMWUAzMzMzM3MzQDMzMzMzM1ZAmpmZmZl5VUCamZmZmRlBQGZmZmZmJjRAZmZmZmYmSUCamZmZmQlUQAAAAAAAoElAzczMzMzMV0AzMzMzM7NXQAAAAAAAEFRAZmZmZmYGU0AzMzMzM+NcQGZmZmZmpjhAzczMzMzMSkAzMzMzM3MzQM3MzMzMDFZAmpmZmZlJWUBmZmZmZmZMQJqZmZmZ2VhAmpmZmZkZNECamZmZmVlOQDMzMzMz8zRAZmZmZma2XEAAAAAAAEAzQGZmZmZmZk9AAAAAAABgWkCamZmZmdkzQGZmZmZmhlJAAAAAAADgWkDNzMzMzIwzQDMzMzMzM1FAzczMzMwcVUAAAAAAACBVQM3MzMzMzFtAZmZmZmYmVEDNzMzMzCxUQGZmZmZm5lJAzczMzMzMTEBmZmZmZqZbQJqZmZmZGU1AAAAAAABAVEAzMzMzM7MzQGZmZmZmxk1AMzMzMzPjUkDNzMzMzIxGQM3MzMzMvFFAZmZmZmbmNEAzMzMzM/MzQJqZmZmZmThAzczMzMysUEAzMzMzM7NXQGZmZmZmdlBAMzMzMzPzM0BmZmZmZqY4QAAAAAAAoElAAAAAAAAgS0BmZmZmZmYzQAAAAAAAIExAZmZmZmYmOUAzMzMzM/M3QDMzMzMzs0FAZmZmZmbWUkBmZmZmZmY0QAAAAAAAADRAMzMzMzNDUkAAAAAAAIA0QAAAAAAAMFlAMzMzMzPzM0AzMzMzM9NIQJqZmZmZaVBAMzMzMzNzNECamZmZmXlOQJqZmZmZWTRAAAAAAACAM0DNzMzMzMxSQM3MzMzM3FtAmpmZmZmJUUAAAAAAAABXQAAAAAAAYFVAmpmZmZmJVECamZmZmRlVQDMzMzMzc05AAAAAAABANEAzMzMzM9NXQJqZmZmZ2TNAZmZmZmYWVUCamZmZmdkzQDMzMzMzk1RAMzMzMzOzUEDNzMzMzExGQM3MzMzMnFhAzczMzMysUUAzMzMzM/M4QAAAAAAAoFlAMzMzMzOjVUDNzMzMzEw4QM3MzMzMLE1AAAAAAAAwUUAzMzMzM3NVQJqZmZmZGTRAmpmZmZlZNEAzMzMzM7NbQGZmZmZmtlRAZmZmZmYWVUDNzMzMzIwzQDMzMzMz8zNAAAAAAACQUEDNzMzMzEw3QM3MzMzMTDlAZmZmZmZGRkBmZmZmZgZaQDMzMzMzI1dAzczMzMxcWUAzMzMzM6NXQAAAAAAA4FdAMzMzMzMTWUAAAAAAAMBLQM3MzMzM7EhAMzMzMzNjVkBmZmZmZiYzQDMzMzMz81hAMzMzMzNDXEAzMzMzM/MzQJqZmZmZiVJAAAAAAAAAV0BmZmZmZnZSQDMzMzMzczhAzczMzMzMOEBmZmZmZjZQQAAAAAAAwDRAzczMzMw8UUCamZmZmVlbQAAAAAAAgEhAAAAAAAAgSUBmZmZmZuYzQDMzMzMzc1hAMzMzMzMTWUBmZmZmZuZLQJqZmZmZyVtAMzMzMzOjWEBmZmZmZgZJQJqZmZmZ2TRAAAAAAACAM0CamZmZmVkzQAAAAAAAYFFAZmZmZmZmSEAAAAAAAKBXQGZmZmZmpjRAMzMzMzODWkAzMzMzMxNbQJqZmZmZ6VhAmpmZmZn5V0AAAAAAAAA0QM3MzMzMPFBAZmZmZmamUkCamZmZmZlIQAAAAAAAcFJAMzMzMzMTV0AzMzMzMzMzQJqZmZmZKVZAzczMzMz8V0CamZmZmVlaQAAAAAAAQDRAZmZmZmaGSEBmZmZmZsZBQGZmZmZmRlBAZmZmZmY2WEAAAAAAAHBRQM3MzMzMzFhAMzMzMzOzWkAAAAAAAKBJQAAAAAAA4ExAZmZmZma2UUDNzMzMzIwzQAAAAAAA4FNAmpmZmZmJWEAAAAAAAEA0QJqZmZmZyVNAAAAAAACQV0CamZmZmRlEQDMzMzMz8zNAzczMzMysS0CamZmZmYlZQGZmZmZmxlFAzczMzMwMS0BmZmZmZqYzQM3MzMzMHFZAmpmZmZkZVEAAAAAAAEAzQDMzMzMzM1VAAAAAAACAM0BmZmZmZiZRQGZmZmZmJldAMzMzMzMjWUDNzMzMzIw0QJqZmZmZmTNAzczMzMzcUEBmZmZmZsZFQGZmZmZmdltAZmZmZmamNECamZmZmdlXQAAAAAAAADVAmpmZmZkZTEBmZmZmZmYyQAAAAAAAwDlAmpmZmZmZM0DNzMzMzMwzQM3MzMzMDFBAAAAAAADwUkDNzMzMzLxTQGZmZmZmJklAMzMzMzMTVECamZmZmdkzQJqZmZmZGTVAAAAAAAAASUAAAAAAADBaQJqZmZmZ2TNAmpmZmZl5VUAzMzMzMzNUQAAAAAAAQDlAMzMzMzMjVEAAAAAAAGBUQGZmZmZm5jRAAAAAAADQUECamZmZmVk0QGZmZmZmhkZAMzMzMzNTQUBmZmZmZlZRQDMzMzMzY1RAmpmZmZnZUkAzMzMzM/NQQJqZmZmZ2VtAZmZmZmYmR0BmZmZmZmY0QM3MzMzMDDRAZmZmZmYGWEBmZmZmZqYzQDMzMzMzU05AzczMzMzsUUAAAAAAAABCQM3MzMzMTFBAmpmZmZl5SEAAAAAAAMBKQM3MzMzMHFRAMzMzMzNDW0DNzMzMzEw6QDMzMzMzs1pAzczMzMw8UECamZmZmVkzQJqZmZmZGTVAmpmZmZnZMkAAAAAAAAA6QGZmZmZmllFAmpmZmZk5WEDNzMzMzIwzQJqZmZmZGVRAmpmZmZmpV0AAAAAAAPBXQM3MzMzMjDNAZmZmZmYGWkCamZmZmRk0QDMzMzMz41tAAAAAAABATkDNzMzMzLxWQDMzMzMzszNAmpmZmZl5SUDNzMzMzAw0QGZmZmZmZjNAmpmZmZm5TUAAAAAAAGBUQM3MzMzMDD1AZmZmZmamUUDNzMzMzExYQJqZmZmZmU1AmpmZmZn5UkAzMzMzM4NWQM3MzMzMvFFAZmZmZmamWUBmZmZmZuZFQAAAAAAAgE1AzczMzMx8UUCamZmZmVk4QDMzMzMzcz1AmpmZmZkZVUBmZmZmZqY0QGZmZmZmxlVAmpmZmZnZM0BmZmZmZpZWQAAAAAAAYFBAzczMzMw8VEAzMzMzMxNMQDMzMzMzM0FAAAAAAADANEDNzMzMzMwyQDMzMzMzs1ZAmpmZmZmZOUAzMzMzM7NRQGZmZmZmZjlAMzMzMzMzW0BmZmZmZjZTQAAAAAAAQDRAzczMzMzMOECamZmZmelcQGZmZmZmplJAmpmZmZnJWUBmZmZmZgZSQJqZmZmZGTlAmpmZmZkJVEBmZmZmZmY5QJqZmZmZWVpAAAAAAADgRkAzMzMzM3M4QAAAAAAAADlAAAAAAABQVUCamZmZmZkzQDMzMzMzE0lAMzMzMzOjUUBmZmZmZmY6QGZmZmZmJjRAzczMzMxsTUAzMzMzM2NYQGZmZmZmpjNAAAAAAABAOUDNzMzMzJxcQM3MzMzMrFFAMzMzMzPjUkAzMzMzMzNVQGZmZmZmpjRAMzMzMzNzNEAzMzMzM9NBQM3MzMzMnFZAmpmZmZlpWEBmZmZmZnZSQGZmZmZmRlFAAAAAAACwVEBmZmZmZmY4QAAAAAAAoEtAzczMzMysTkAAAAAAADBTQGZmZmZmZjNAAAAAAABgS0AzMzMzM7MzQGZmZmZm5jNAzczMzMz8WkAzMzMzM/NUQDMzMzMzM0xAmpmZmZkZNECamZmZmblXQM3MzMzMjFdAMzMzMzPzSEAzMzMzM8NRQJqZmZmZaVRAzczMzMxcVkAAAAAAAMBYQM3MzMzMDDNAzczMzMycXEAAAAAAACBGQDMzMzMzo1ZAZmZmZmZmNECamZmZmdlRQJqZmZmZ2ThAzczMzMwcWkDNzMzMzMwzQM3MzMzMHF1AzczMzMwMNEAAAAAAALBbQM3MzMzMbFZAmpmZmZlZSEBmZmZmZiZYQDMzMzMzk1JAZmZmZmYmS0BmZmZmZrZSQM3MzMzM/FNAzczMzMwMNEBmZmZmZmYzQDMzMzMzc0tAMzMzMzNzOECamZmZmWlWQDMzMzMzs0ZAzczMzMzsUkCamZmZmalbQM3MzMzMjDRAmpmZmZnJXEBmZmZmZkZNQAAAAAAAUFdAmpmZmZlZM0AAAAAAAGBIQDMzMzMzQ1tAAAAAAAAAOUAzMzMzM3NLQAAAAAAAwDhAmpmZmZnJVkBmZmZmZhZaQDMzMzMzg1BAzczMzMwMV0DNzMzMzExaQJqZmZmZmTNAZmZmZmZmPkAAAAAAAMBOQJqZmZmZWVFAAAAAAADAOEAzMzMzM8NWQJqZmZmZaVJAZmZmZmZmM0AzMzMzMzM6QM3MzMzM7EVAzczMzMxsUUBmZmZmZkZDQM3MzMzMjEpAZmZmZmamNEDNzMzMzBxQQJqZmZmZGTlAmpmZmZnJV0BmZmZmZtZTQJqZmZmZKVhAAAAAAADgUkAzMzMzM7MzQAAAAAAAgDRAMzMzMzMzM0BmZmZmZpZYQGZmZmZmllJAzczMzMysSUAzMzMzM9NGQM3MzMzMTDRAmpmZmZkZS0CamZmZmalWQDMzMzMzc0lAzczMzMwMOUBmZmZmZrZSQAAAAAAAgDRAZmZmZmbGT0CamZmZmflHQAAAAAAAgEZAMzMzMzODVkDNzMzMzEw5QM3MzMzMTDhAzczMzMz8UkAzMzMzM7MzQJqZmZmZmVBAAAAAAADgQUDNzMzMzMwyQGZmZmZmZjNAzczMzMxMM0DNzMzMzNxQQJqZmZmZGTRAMzMzMzNzTUAzMzMzM3MzQAAAAAAAQElAmpmZmZkZOUCamZmZmVlOQAAAAAAAwFhAmpmZmZkZWkBmZmZmZgZGQJqZmZmZGThAZmZmZmbGRkAzMzMzM3NXQDMzMzMzszNAmpmZmZmpUUDNzMzMzJxVQGZmZmZmhlxAzczMzMzMV0AzMzMzMyNWQAAAAAAAwDRAMzMzMzNTRkCamZmZmRlOQJqZmZmZuUtAMzMzMzOTUUAzMzMzMzNOQGZmZmZm5ktAmpmZmZkZP0CamZmZmXlJQGZmZmZmRlFAmpmZmZn5RUAAAAAAAKBVQM3MzMzMfFFAzczMzMy8VkBmZmZmZuYzQGZmZmZmJjRAZmZmZmamVkAAAAAAAABXQJqZmZmZ2ThAAAAAAAAAQkAAAAAAAKBTQDMzMzMz8zNAZmZmZmamNEAAAAAAAIA+QGZmZmZmhlpAAAAAAACANEAAAAAAAOBXQGZmZmZmJlBAzczMzMyMSUBmZmZmZkZWQJqZmZmZeUtAMzMzMzNzNEDNzMzMzHxVQM3MzMzMLE5AzczMzMzMM0BmZmZmZlZVQGZmZmZmBlJAMzMzMzNDVEAAAAAAAIA0QDMzMzMz81tAMzMzMzMzNEAzMzMzM7MzQJqZmZmZ2TNAAAAAAABATkDNzMzMzIwzQGZmZmZm5jRAzczMzMwMNUAAAAAAAOBRQDMzMzMzU0tAMzMzMzMzM0BmZmZmZuZIQAAAAAAAgDRAmpmZmZmZVkAAAAAAAJBWQGZmZmZmJlpAmpmZmZkZSUAAAAAAAOBXQJqZmZmZ2VdAMzMzMzNTWUDNzMzMzIxKQGZmZmZmNlVAAAAAAAAgQUBmZmZmZiZWQDMzMzMzE05AzczMzMz8WEDNzMzMzKxRQGZmZmZmZktAZmZmZmZmS0AzMzMzMxNZQM3MzMzMzEpAmpmZmZlZM0BmZmZmZmZVQDMzMzMzM1RAmpmZmZmZM0DNzMzMzKxWQAAAAAAAcFFAAAAAAAAANEAAAAAAANBXQDMzMzMz8zNAZmZmZmY2VEAzMzMzM1NXQM3MzMzMLEdAAAAAAACwU0AzMzMzM+NUQJqZmZmZmTNAZmZmZmb2UECamZmZmWlaQAAAAAAA4FJAZmZmZmYmNECamZmZmZlGQAAAAAAA0FNAzczMzMxsVUCamZmZmRk0QGZmZmZm5k5AMzMzMzPzSEBmZmZmZmY0QJqZmZmZ2VJAmpmZmZkJW0AAAAAAAJBVQM3MzMzM7FdAZmZmZmY2XUAAAAAAAHBaQGZmZmZmJjRAmpmZmZmZM0CamZmZmXlOQM3MzMzMDDlAZmZmZmYmTkCamZmZmflPQDMzMzMzk1JAZmZmZmamUUAzMzMzM6NWQDMzMzMzczNAzczMzMwcUECamZmZmWlRQAAAAAAAgDNAAAAAAACgW0AzMzMzM7M4QJqZmZmZWVNAmpmZmZlZVUDNzMzMzMxHQGZmZmZmZjNAZmZmZmb2WUDNzMzMzBxbQAAAAAAAQFRAmpmZmZmpVUDNzMzMzDxXQGZmZmZmllZAZmZmZmYmOUCamZmZmRlTQM3MzMzMjDNAZmZmZmZWVUDNzMzMzMw4QJqZmZmZyVlAAAAAAAAwWUBmZmZmZoZXQJqZmZmZWTNAZmZmZmbmM0AzMzMzM0NZQM3MzMzMjE1AzczMzMzsS0AzMzMzM4NaQGZmZmZmBlVAMzMzMzPTUkAzMzMzM7M4QGZmZmZm5ktAmpmZmZnZQ0AAAAAAAIA9QGZmZmZmJjRAMzMzMzPjU0DNzMzMzMw4QGZmZmZmpjNAMzMzMzODV0AAAAAAALBWQGZmZmZmtlNAAAAAAADgWEAzMzMzMyNUQM3MzMzMjFFAmpmZmZm5TUBmZmZmZlZXQJqZmZmZeUZAmpmZmZkZOkAzMzMzMzM0QAAAAAAAQDVAMzMzMzOzTUAAAAAAAMBXQDMzMzMz805AmpmZmZmpXUDNzMzMzBxQQJqZmZmZCVRAMzMzMzMzNEAAAAAAAAA1QDMzMzMzczRAZmZmZmb2UkDNzMzMzBxUQAAAAAAA4FJAmpmZmZk5RkAzMzMzM6NSQDMzMzMzE0hAZmZmZmamM0BmZmZmZiY0QGZmZmZmplpAAAAAAADAVkBmZmZmZmY5QM3MzMzMfFFAZmZmZma2UEBmZmZmZiY0QGZmZmZmNlBAZmZmZma2UkAAAAAAAEBJQJqZmZmZOVJAMzMzMzPDXEAAAAAAAAAzQM3MzMzMjDNAZmZmZmZGWUBmZmZmZgZVQGZmZmZmJjhAzczMzMwMSUBmZmZmZqZSQAAAAAAAwDNAMzMzMzOzWkAAAAAAACBVQM3MzMzMDDlAzczMzMzsVEBmZmZmZiZYQGZmZmZmRllAMzMzMzMzNEAzMzMzM4NXQAAAAAAAQFRAAAAAAAAgTkDNzMzMzGxOQJqZmZmZ+UVAMzMzMzODVUAAAAAAAEA0QGZmZmZmZjNAmpmZmZmpWUBmZmZmZuYzQM3MzMzMjDNAAAAAAADgV0CamZmZmQlVQM3MzMzMzFlAmpmZmZkZSUAzMzMzM/MzQAAAAAAAEF1AMzMzMzMzP0AzMzMzM3M4QM3MzMzMDFVAmpmZmZlpVUAzMzMzMzM1QM3MzMzMjDlAMzMzMzMzNEDNzMzMzOxPQJqZmZmZ+U5AAAAAAADAOUCamZmZmRlNQGZmZmZmdlVAmpmZmZk5WkBmZmZmZvZYQM3MzMzMjDNAAAAAAAAAWkCamZmZmRlaQAAAAAAAgDNAAAAAAABAOUDNzMzMzOxIQM3MzMzMPFtAmpmZmZl5VkAAAAAAAIBUQM3MzMzMfFZAZmZmZmbWU0AzMzMzMwNQQJqZmZmZSVlAzczMzMyMQ0DNzMzMzExBQM3MzMzMjDNAzczMzMwcWkAAAAAAAKBRQJqZmZmZWTRAMzMzMzNzM0CamZmZmXlRQJqZmZmZ2U1AZmZmZmaWU0DNzMzMzNxRQM3MzMzM7EZAZmZmZmb2V0CamZmZmdlBQDMzMzMzY1ZAMzMzMzPzOECamZmZmdk4QDMzMzMzM1lAZmZmZmZWWkBmZmZmZqYzQJqZmZmZOUtAAAAAAACgUUCamZmZmRk0QGZmZmZmVlFAzczMzMzMM0CamZmZmZlSQDMzMzMzQ1dAmpmZmZmZSUBmZmZmZmZQQDMzMzMzI1RAmpmZmZlZSkCamZmZmdk0QDMzMzMzE0pAzczMzMy8XEDNzMzMzBxaQJqZmZmZaVxAmpmZmZmZNEAzMzMzM+NWQM3MzMzM7EhAzczMzMzMM0CamZmZmQlaQJqZmZmZGUhAmpmZmZkZOUCamZmZmQlZQDMzMzMz80tAmpmZmZkZUEAzMzMzM1NVQM3MzMzM3FpAMzMzMzPTVkDNzMzMzHxVQJqZmZmZmUZAzczMzMzMU0AAAAAAAMBLQAAAAAAAkFZAAAAAAADQVkCamZmZmTlZQM3MzMzMbFhAZmZmZmZ2UUBmZmZmZmZQQJqZmZmZKVpAzczMzMycVkCamZmZmdlPQAAAAAAAIFpAmpmZmZkZNEAzMzMzMxNaQAAAAAAAUFdAzczMzMxcUkAzMzMzM7M0QAAAAAAAQDlAAAAAAAAgWUBmZmZmZqZWQJqZmZmZWVZAzczMzMzcV0AzMzMzM3M0QDMzMzMz8zNAmpmZmZlJW0DNzMzMzGxVQDMzMzMzg1lAzczMzMysV0CamZmZmRlQQM3MzMzMzDpAMzMzMzODUEDNzMzMzExQQDMzMzMzQ1VAZmZmZmbmS0AzMzMzM/MzQAAAAAAAgEZAmpmZmZm5XECamZmZmZlaQM3MzMzMDEdAmpmZmZnZQ0DNzMzMzAw0QAAAAAAA8FdAZmZmZmZmOEDNzMzMzMxAQM3MzMzMnFZAAAAAAAAAVUCamZmZmdlQQDMzMzMzszNAZmZmZmYWVECamZmZmZkzQJqZmZmZGUtAmpmZmZmZRkBmZmZmZsZSQDMzMzMzszNAAAAAAAAwUkDNzMzMzAw0QJqZmZmZmUNAAAAAAABgRkCamZmZmalUQJqZmZmZeVdAmpmZmZlJXUAAAAAAANBYQDMzMzMzI1xAMzMzMzOzOUAzMzMzM5NWQDMzMzMzs0hAZmZmZmZmM0DNzMzMzGxbQAAAAAAAoE5AZmZmZmamS0AAAAAAAPBZQAAAAAAAgDNAAAAAAADAQ0DNzMzMzAw6QDMzMzMzw1ZAZmZmZmamPUCamZmZmRlJQDMzMzMzU1pAmpmZmZm5S0DNzMzMzFxVQM3MzMzMzDNAAAAAAACgTUDNzMzMzKxWQDMzMzMzw1NAzczMzMysVkAAAAAAAMBXQAAAAAAAQD5AzczMzMzsSEAAAAAAAEBXQGZmZmZmRktAMzMzMzOzM0AzMzMzMzNVQM3MzMzMnFdAmpmZmZnZNEAAAAAAAABOQM3MzMzMHFRAzczMzMw8VUAzMzMzM9NIQDMzMzMzMzRAAAAAAAAgWUAAAAAAAOBBQM3MzMzMnFVAZmZmZmbmSkBmZmZmZkZDQDMzMzMz80NAMzMzMzODUUCamZmZmRk0QM3MzMzMTDRAMzMzMzPTQUDNzMzMzLxUQDMzMzMz00tAMzMzMzMzOUBmZmZmZmZJQGZmZmZmpjNAZmZmZmbmTUAzMzMzM2NSQDMzMzMzs05AZmZmZmbmM0AzMzMzM3MzQAAAAAAAYFRAMzMzMzNjW0CamZmZmZlSQJqZmZmZuVJAMzMzMzPTTUDNzMzMzJxbQM3MzMzMnFJAzczMzMyMOEDNzMzMzIw4QJqZmZmZqVZAMzMzMzNDWkAzMzMzM3M0QM3MzMzMjDNAMzMzMzOzM0DNzMzMzJxRQJqZmZmZaVVAzczMzMyMNEDNzMzMzHxYQAAAAAAAADRAAAAAAABAOUCamZmZmblRQJqZmZmZ2TNAZmZmZmaWWkAAAAAAAOBYQM3MzMzMLFVAMzMzMzODVUBmZmZmZkZGQGZmZmZm9lJAAAAAAAAAOUAAAAAAAIBGQAAAAAAAgDRAzczMzMycVkCamZmZmTlOQM3MzMzMnFNAMzMzMzMjWUCamZmZmVk0QAAAAAAAsFZAAAAAAABANEDNzMzMzAw0QJqZmZmZmTNAZmZmZmbmSkDNzMzMzIxRQAAAAAAA4FJAmpmZmZlZNEDNzMzMzAw6QJqZmZmZmTRAmpmZmZkZNEDNzMzMzEw4QAAAAAAAgDhAAAAAAACgW0AAAAAAAEA5QGZmZmZmhlZAAAAAAAAwUUAzMzMzMzMzQGZmZmZmxlxAmpmZmZnpWEDNzMzMzNxWQAAAAAAAMFVAAAAAAACwU0AAAAAAAEA0QGZmZmZm5jNAAAAAAABwWECamZmZmRlZQDMzMzMzczhAZmZmZmZGWUAzMzMzM3NJQM3MzMzMzFpAzczMzMwMV0CamZmZmVlcQGZmZmZmRkRAAAAAAAAAOkDNzMzMzPxbQGZmZmZm5kpAZmZmZmYGUkBmZmZmZrZTQAAAAAAAsFFAmpmZmZkJU0DNzMzMzIxDQM3MzMzMfFFAzczMzMwMNEDNzMzMzAw0QDMzMzMzczNAZmZmZmbmOkAzMzMzMzMzQAAAAAAAAElAAAAAAAAATkAzMzMzMyNVQJqZmZmZuUZAzczMzMwMNEAzMzMzM+NcQAAAAAAAwFhAZmZmZmZGSUAAAAAAAAA5QDMzMzMz41ZAmpmZmZlZM0CamZmZmdk4QJqZmZmZGVlAAAAAAAAAOUAAAAAAAEAzQAAAAAAAEFtAZmZmZmYmNEAzMzMzM1NZQAAAAAAAADRAMzMzMzNTWkBmZmZmZnZRQAAAAAAAUFBAzczMzMzMM0CamZmZmZkzQM3MzMzMDDRAMzMzMzOzSECamZmZmRlWQGZmZmZmJllAMzMzMzNzM0DNzMzMzEw0QJqZmZmZ6VpAzczMzMwcVEDNzMzMzGxNQGZmZmZmZltAmpmZmZnJUkAAAAAAAEBSQGZmZmZmhlFAmpmZmZmpWEDNzMzMzNxbQJqZmZmZuVxAMzMzMzMjWUBmZmZmZmY0QGZmZmZmFlpAzczMzMwcVEBmZmZmZtZWQGZmZmZm5jNAZmZmZmYWUUBmZmZmZsZTQAAAAAAAgElAMzMzMzMjVEDNzMzMzKxQQJqZmZmZmVVAZmZmZmYGSUAzMzMzM7M5QJqZmZmZ2VRAmpmZmZkpVUAAAAAAADBQQJqZmZmZCVlAAAAAAABAOUAAAAAAAEBcQDMzMzMzU0RAzczMzMy8V0AzMzMzM/NNQM3MzMzMzDNAMzMzMzNzVEAAAAAAAAA0QM3MzMzMzE1AAAAAAAAAOUBmZmZmZhZVQGZmZmZmxktAZmZmZmbWUkBmZmZmZqZNQGZmZmZmhlBAzczMzMzMMkDNzMzMzJxVQM3MzMzMDEpAMzMzMzOzR0CamZmZmUlbQM3MzMzMvFdAMzMzMzNjV0AAAAAAAOBTQDMzMzMzw1xAmpmZmZnJV0CamZmZmVlaQJqZmZmZGTRAzczMzMwMNEAzMzMzM7M0QJqZmZmZWTRAMzMzMzOzM0DNzMzMzFxVQDMzMzMzM0RAzczMzMxMWkCamZmZmSlZQAAAAAAAwFZAAAAAAAAwXUDNzMzMzIxNQGZmZmZm5khAzczMzMxMM0BmZmZmZqYzQJqZmZmZWVRAMzMzMzNzQ0DNzMzMzPxVQJqZmZmZ2TNAZmZmZmYWWEBmZmZmZiY4QJqZmZmZGTNAAAAAAAAARkDNzMzMzExOQGZmZmZmpjlAmpmZmZn5SkBmZmZmZmY0QJqZmZmZWT1AMzMzMzNzNEBmZmZmZsZXQAAAAAAAQDlAMzMzMzNzRkCamZmZmSlXQJqZmZmZ2UVAZmZmZmYmUkAzMzMzM/MyQAAAAAAAgDRAMzMzMzPzM0AAAAAAAIA4QJqZmZmZmTRAZmZmZmaGTkCamZmZmalaQAAAAAAAEFtAZmZmZmZmNEBmZmZmZqZLQAAAAAAAQDRAzczMzMw8UkDNzMzMzFxWQJqZmZmZKVpAzczMzMzMUkCamZmZmUlZQAAAAAAAMFFAMzMzMzPDW0AAAAAAAMBYQAAAAAAAADVAZmZmZmZmM0DNzMzMzExTQDMzMzMzczNAmpmZmZnZOEDNzMzMzKxEQJqZmZmZmTNAzczMzMwcVUAAAAAAAEA0QGZmZmZmpjNAZmZmZmamNEAzMzMzM9NYQDMzMzMzQ1RAZmZmZmbmUECamZmZmYlRQAAAAAAAwFxAMzMzMzMzVUAzMzMzM7MzQDMzMzMzk09AAAAAAACAUkCamZmZmRk9QGZmZmZmBklAAAAAAAAANECamZmZmalSQDMzMzMzM0ZAmpmZmZlZVUBmZmZmZoZXQJqZmZmZOVtAmpmZmZkZTECamZmZmRk6QM3MzMzMXFVAzczMzMw8VkBmZmZmZpZSQM3MzMzMbEhAZmZmZmYGVEBmZmZmZgZMQDMzMzMzc1ZAmpmZmZkZM0CamZmZmVk0QDMzMzMzg1pAZmZmZmamM0DNzMzMzOxNQGZmZmZmhlVAMzMzMzNzM0BmZmZmZkZYQDMzMzMzU0JAmpmZmZn5WUAAAAAAAMAzQM3MzMzMjDhAmpmZmZlZSEAzMzMzM2NbQGZmZmZmpjRAmpmZmZmZS0DNzMzMzAw4QDMzMzMzczRAAAAAAABAM0CamZmZmVk6QGZmZmZm5kVAMzMzMzMTSUAzMzMzM3M0QDMzMzMzs05AAAAAAACwUUAzMzMzM5NOQAAAAAAAQDRAzczMzMzsT0DNzMzMzKxYQAAAAAAAADRAzczMzMxMM0CamZmZmRlVQJqZmZmZGTlAAAAAAAAgSECamZmZmdkzQM3MzMzMjFdAMzMzMzMTT0AzMzMzM9NTQAAAAAAAIExAzczMzMxMNEAAAAAAAMBYQGZmZmZmplZAmpmZmZl5VUDNzMzMzMxTQGZmZmZmllFAmpmZmZlZM0AzMzMzMxNJQGZmZmZm5k9AzczMzMyMNEAzMzMzMyNWQJqZmZmZWVlAzczMzMxMRkAAAAAAAOBPQAAAAAAAUFtAZmZmZmYmVUAzMzMzM3M0QAAAAAAAcFVAzczMzMz8WkAzMzMzM/M2QDMzMzMzczNAMzMzMzOzM0AAAAAAAMBVQM3MzMzM/FNAAAAAAAAAUECamZmZmTlQQAAAAAAAwDlAmpmZmZmJVkBmZmZmZgZdQM3MzMzMPFpAAAAAAAAASUAzMzMzM3M0QJqZmZmZ2TNAMzMzMzPzM0AzMzMzM3M6QDMzMzMzs09AmpmZmZn5SkBmZmZmZsZXQGZmZmZmhlJAAAAAAADAQUDNzMzMzMxTQGZmZmZmZkhAmpmZmZm5S0BmZmZmZmY5QAAAAAAAYFdAMzMzMzPzT0BmZmZmZjZQQGZmZmZm5k9AmpmZmZk5RkAzMzMzM/MzQM3MzMzMrEVAMzMzMzPTSEBmZmZmZkZVQDMzMzMzc1ZAMzMzMzPDWUAAAAAAAABdQJqZmZmZeVFAZmZmZmbGV0AAAAAAACBEQAAAAAAAwDlAZmZmZmZWWkBmZmZmZmZcQAAAAAAAADhAZmZmZmZmM0BmZmZmZoZVQJqZmZmZqVlAZmZmZmY2V0AAAAAAAHBYQM3MzMzMfFhAMzMzMzPzM0CamZmZmZk4QJqZmZmZeUlAZmZmZmbmUkAAAAAAADBUQJqZmZmZmVZAAAAAAAAgTkAzMzMzMzM0QJqZmZmZCVBAAAAAAABANEAAAAAAAMBYQDMzMzMzE1RAzczMzMyMM0AAAAAAADBZQAAAAAAA4EpAmpmZmZmZOUDNzMzMzCxNQM3MzMzMLEdAAAAAAABwXECamZmZmZlWQDMzMzMzU1tAMzMzMzOTVkAAAAAAAFBQQDMzMzMzU05AmpmZmZkZOEAAAAAAAIAzQM3MzMzMfFVAAAAAAADASkAzMzMzM3M5QAAAAAAAgDRAmpmZmZnZNECamZmZmXlWQAAAAAAAADpAzczMzMxMXEAzMzMzM0NRQJqZmZmZGTRAmpmZmZlpW0AzMzMzMzMzQAAAAAAAgFZAAAAAAAAAQUBmZmZmZmY0QM3MzMzMTENAAAAAAABAOUDNzMzMzExOQAAAAAAAsFJAmpmZmZmZNEBmZmZmZmY0QM3MzMzMbFRAzczMzMxMNEAAAAAAAAA0QAAAAAAAADlAzczMzMwcVEAAAAAAAMAzQJqZmZmZaVBAAAAAAADAUUDNzMzMzExWQAAAAAAAsFVAAAAAAADATkCamZmZmRk5QGZmZmZmBkFAMzMzMzPzM0AzMzMzM/MzQM3MzMzMbFZAZmZmZmZmNEDNzMzMzEw6QDMzMzMzszRAMzMzMzNzM0AzMzMzM7NbQDMzMzMzU1FAzczMzMysSECamZmZmVk0QGZmZmZmZlpAzczMzMwcUEAzMzMzM/NIQJqZmZmZaVBAMzMzMzPTWUCamZmZmTlGQJqZmZmZeVZAZmZmZmaGS0BmZmZmZgZaQGZmZmZmplpAAAAAAACgUUCamZmZmZkzQM3MzMzMDDhAzczMzMwMQ0AAAAAAACBBQDMzMzMzA1lAmpmZmZkpUUBmZmZmZuZGQAAAAAAA8FJAmpmZmZkZWEDNzMzMzIw0QJqZmZmZeUlAAAAAAACgVkCamZmZmdlTQAAAAAAAYE1AmpmZmZm5TUDNzMzMzGxaQGZmZmZmpkpAzczMzMxMOEAzMzMzM/NNQDMzMzMz8zdAZmZmZmYmNECamZmZmelXQAAAAAAAQFRAzczMzMycVEAAAAAAAIA0QDMzMzMzM0tAzczMzMxMTUAzMzMzMzNVQDMzMzMzs05AZmZmZmZmNEBmZmZmZiY0QM3MzMzMnFdAMzMzMzPzU0AzMzMzM4NSQDMzMzMzk0hAZmZmZmZmM0CamZmZmWlcQAAAAAAAgFpAMzMzMzPzOUCamZmZmRkzQDMzMzMzI1lAmpmZmZnZV0CamZmZmclSQJqZmZmZSVZAmpmZmZn5WkAAAAAAAIAzQDMzMzMz8zhAAAAAAACAM0DNzMzMzHxRQGZmZmZmtlRAAAAAAAAAM0DNzMzMzGxDQJqZmZmZWTRAAAAAAADAV0CamZmZmZlSQM3MzMzMnFNAMzMzMzOTUkBmZmZmZoZJQDMzMzMzMzNAZmZmZmZGW0DNzMzMzBxTQDMzMzMzM1JAMzMzMzPzMkAAAAAAAHBZQM3MzMzM3FJAZmZmZmYGUEBmZmZmZqY5QGZmZmZmxlJAZmZmZmb2V0AzMzMzMzNLQAAAAAAAMFJAmpmZmZnZM0DNzMzMzAwzQGZmZmZmtldAAAAAAAAgR0CamZmZmVkzQGZmZmZmZlFAzczMzMysVkCamZmZmVlZQAAAAAAAQDRAZmZmZmZmSEBmZmZmZpZSQJqZmZmZWTNAAAAAAAAwUUDNzMzMzAxZQJqZmZmZ2TRAmpmZmZlZM0AAAAAAAIBGQAAAAAAAgDlAMzMzMzNzSECamZmZmZkzQAAAAAAAADRAMzMzMzNTVEDNzMzMzMxXQDMzMzMz01RAzczMzMxMNEBmZmZmZnZWQM3MzMzMzDNAMzMzMzNTS0CamZmZmVk9QGZmZmZmJjNAmpmZmZkZM0AzMzMzMyNUQAAAAAAAQDRAAAAAAACAWkAAAAAAAIA5QGZmZmZm5lNAAAAAAACgS0AzMzMzMwNWQGZmZmZmZjRAZmZmZmZmXUAAAAAAAAA0QGZmZmZmpjNAMzMzMzOjUUAzMzMzM3NQQM3MzMzMDDRAAAAAAAAAVEAzMzMzM7NBQGZmZmZm5lNAAAAAAAAQVEAzMzMzM3M0QGZmZmZm5lNAMzMzMzOzOEAzMzMzM1NTQAAAAAAAwD1AMzMzMzNzRkDNzMzMzMw9QM3MzMzM/FFAAAAAAADANEBmZmZmZiZMQAAAAAAAUFpAzczMzMyMM0DNzMzMzBxVQDMzMzMz00pAZmZmZmbmPUAzMzMzM7MzQJqZmZmZ2UVAZmZmZmamS0CamZmZmdkzQGZmZmZmpjNAmpmZmZm5SEAzMzMzM3M0QJqZmZmZ2UNAAAAAAABAS0BmZmZmZuZbQGZmZmZmxktAzczMzMyMNEDNzMzMzAxPQAAAAAAAIFpAMzMzMzNzWUBmZmZmZqZbQJqZmZmZOVVAzczMzMxMV0BmZmZmZmY4QDMzMzMzo1FAAAAAAABAVUAzMzMzM3NVQGZmZmZmxlZAmpmZmZkZNEDNzMzMzAw0QDMzMzMzs1JAzczMzMzMOEBmZmZmZjZZQGZmZmZmRlpAZmZmZmZmNEAAAAAAAAA0QJqZmZmZ2VNAmpmZmZmZTEDNzMzMzExNQDMzMzMzs1dAAAAAAACgWUCamZmZmVk0QJqZmZmZOVVAzczMzMxMUUCamZmZmdk0QAAAAAAAIFZAAAAAAACAQUAzMzMzM5NLQJqZmZmZeUlAAAAAAAAAUEDNzMzMzAxUQGZmZmZmpkhAZmZmZmYWVUDNzMzMzAw0QM3MzMzMTF1AmpmZmZkZNEDNzMzMzHxbQAAAAAAAsFdAAAAAAAAAVECamZmZmelTQDMzMzMzMzlAZmZmZmbmM0BmZmZmZmZGQM3MzMzMTDRAMzMzMzMzM0AzMzMzMwNUQGZmZmZm1lpAzczMzMzsR0AzMzMzM7NRQM3MzMzMjE1AzczMzMyMOUAAAAAAAEA0QDMzMzMz41JAMzMzMzPTV0AAAAAAAJBRQGZmZmZmJklAmpmZmZlZM0AAAAAAAAA5QM3MzMzMTDRAZmZmZmbWUkAAAAAAAABWQGZmZmZm5kVAZmZmZmYGT0CamZmZmRk0QGZmZmZmVllAMzMzMzMDVUBmZmZmZuY0QJqZmZmZeVpAMzMzMzNDVUDNzMzMzAxGQM3MzMzMjFZAmpmZmZm5SkAzMzMzM/MzQJqZmZmZqVJAAAAAAADATEBmZmZmZqYzQDMzMzMzc1dAAAAAAABQVkCamZmZmYlXQM3MzMzMzEtAmpmZmZlZSECamZmZmTlaQGZmZmZm5jNAZmZmZmZmM0DNzMzMzAw5QM3MzMzMHFVAzczMzMxMM0BmZmZmZvZTQM3MzMzMjDlAmpmZmZkZUUBmZmZmZqY0QDMzMzMzk0tAZmZmZmamUUAzMzMzM/MzQAAAAAAAADNAzczMzMwMRkBmZmZmZuZaQGZmZmZmxk5AzczMzMysVkAAAAAAANBYQM3MzMzM7FZAzczMzMwsWUDNzMzMzJxTQDMzMzMzE1VAzczMzMyMM0AzMzMzM3M0QM3MzMzMzEtAMzMzMzOzVUAzMzMzM/M0QM3MzMzMDDRAmpmZmZlpXEAAAAAAAMBNQDMzMzMz81VAMzMzMzPzREBmZmZmZnZRQGZmZmZmJkxAMzMzMzNjW0CamZmZmQlXQAAAAAAAYFFAAAAAAABAWEDNzMzMzCxNQJqZmZmZmVFAMzMzMzOTV0DNzMzMzIwzQM3MzMzM/FdAMzMzMzOzV0AAAAAAAPBaQM3MzMzMTEtAMzMzMzPTUUAAAAAAAIAzQGZmZmZmJkxAMzMzMzOjVkBmZmZmZmZOQDMzMzMzs1hAmpmZmZmJWEDNzMzMzKxBQJqZmZmZyVlAAAAAAADwWkCamZmZmVlUQM3MzMzM7FdAMzMzMzMzWkDNzMzMzLxRQJqZmZmZeUZAmpmZmZlpWEAzMzMzM9NBQAAAAAAAUFVAAAAAAACAM0CamZmZmRk5QDMzMzMzA1lAmpmZmZnZS0CamZmZmclWQGZmZmZm9lRAMzMzMzPzRkCamZmZmRk5QDMzMzMzszNAAAAAAADgVkBmZmZmZqZJQJqZmZmZGTVAAAAAAAAwWkAAAAAAAHBVQM3MzMzMTDRAAAAAAAAwWUCamZmZmYlSQDMzMzMzo1NAmpmZmZnZM0CamZmZmVlJQAAAAAAAgEZAMzMzMzNzU0DNzMzMzNxUQDMzMzMzs1dAmpmZmZkZNEAzMzMzM/NNQGZmZmZmhlZAzczMzMy8UUAzMzMzMzM9QM3MzMzMTEdAMzMzMzOTUkAzMzMzM1NRQDMzMzMzk1dAzczMzMwcU0AAAAAAAABLQAAAAAAAEFpAMzMzMzPzM0AzMzMzM/M4QAAAAAAAMFVAAAAAAADAM0CamZmZmWlcQDMzMzMzc0ZAAAAAAADQUkCamZmZmZk4QAAAAAAAADlAMzMzMzPzNEBmZmZmZqZbQAAAAAAAwEtAMzMzMzNzM0BmZmZmZjZVQJqZmZmZmTNAmpmZmZm5SkDNzMzMzMwzQGZmZmZmBlxAzczMzMyMUkAAAAAAAEBRQJqZmZmZWTNAzczMzMzMM0DNzMzMzExbQJqZmZmZyVNAMzMzMzPTSkDNzMzMzAxZQJqZmZmZKVtAMzMzMzNTREDNzMzMzKxLQGZmZmZmZlpAzczMzMzsV0DNzMzMzMxUQDMzMzMzg1ZAmpmZmZlpWEAzMzMzMwNRQGZmZmZmhllAZmZmZmZmN0AzMzMzM8NRQDMzMzMzczNAmpmZmZm5TUDNzMzMzAxXQJqZmZmZ2TNAMzMzMzPzRUAAAAAAAKBWQM3MzMzMnFZAZmZmZmYmVUCamZmZmclYQDMzMzMz8zNAAAAAAACANEDNzMzMzAxPQAAAAAAA4FNAzczMzMyMM0CamZmZmVk0QJqZmZmZ2UlAzczMzMxMN0BmZmZmZkZQQM3MzMzMTFRAAAAAAACgUkAAAAAAACBUQGZmZmZmJk5AAAAAAADAUkCamZmZmYlWQDMzMzMzQ1FAmpmZmZnZTUCamZmZmdkzQAAAAAAAYERAzczMzMzsV0BmZmZmZiZHQDMzMzMzU1RAAAAAAAAANECamZmZmYlQQJqZmZmZmTNAZmZmZmbmSEAAAAAAAHBZQDMzMzMzk0tAzczMzMz8WUCamZmZmelYQM3MzMzMbFJAZmZmZmYGSUAAAAAAACBOQDMzMzMz01VAAAAAAAAgS0AzMzMzM1NVQAAAAAAAAElAzczMzMy8VkAAAAAAABBSQGZmZmZmBlhAmpmZmZnZM0BmZmZmZqZLQJqZmZmZGTRAAAAAAABgUUBmZmZmZiY5QJqZmZmZ6VNAAAAAAADQUUAzMzMzM3NcQM3MzMzMjDhAMzMzMzOzM0AAAAAAACBZQM3MzMzMnFJAZmZmZmYGWkDNzMzMzAwzQAAAAAAAADlAzczMzMwMM0CamZmZmXlUQM3MzMzMbFFAmpmZmZmJVkCamZmZmVk5QGZmZmZmpjhAzczMzMyMM0AAAAAAAABOQJqZmZmZeVZAZmZmZmZmM0BmZmZmZuZIQJqZmZmZGThAAAAAAAAgS0CamZmZmXlbQAAAAAAAwEFAMzMzMzPjVUCamZmZmRlWQGZmZmZmZklAAAAAAADAWEAzMzMzMyNYQAAAAAAA4E1AAAAAAADgW0AAAAAAAEA4QAAAAAAAgDRAmpmZmZmZUUDNzMzMzIw+QJqZmZmZOVVAAAAAAABAS0BmZmZmZtZSQJqZmZmZOUZAMzMzMzODWEAzMzMzM/NPQJqZmZmZSVFAmpmZmZkpUEBmZmZmZrZYQGZmZmZmZlZAAAAAAADQVEAAAAAAAJBRQAAAAAAAgDhAmpmZmZkZNEAAAAAAAEBSQDMzMzMzs05AMzMzMzMTVUBmZmZmZuYzQGZmZmZmZjRAAAAAAABgSUAzMzMzM3M0QAAAAAAA8FJAmpmZmZlZUEAAAAAAAOBNQAAAAAAAoFNAmpmZmZl5SECamZmZmelYQAAAAAAAQDJAZmZmZmZGS0AzMzMzM1NEQDMzMzMzczRAzczMzMzMOEAzMzMzMzNWQM3MzMzMDDRAMzMzMzNzUUCamZmZmUlTQGZmZmZmhkFAZmZmZmYGW0AzMzMzMwNVQDMzMzMzMzRAmpmZmZmZSECamZmZmZk4QJqZmZmZ6VFAmpmZmZk5WkAAAAAAAKBaQAAAAAAA4FJAAAAAAABATUCamZmZmblTQM3MzMzMzFNAzczMzMxcW0CamZmZmZlNQGZmZmZmJj1AzczMzMwMNEAAAAAAAKBQQGZmZmZmxkhAZmZmZmZmUkCamZmZmalUQAAAAAAAgEhAMzMzMzMzOUAzMzMzM3M5QJqZmZmZuVtAAAAAAABwU0AzMzMzMzM6QGZmZmZm5jNAZmZmZmY2VEDNzMzMzCxMQM3MzMzMTDNAMzMzMzMzSUAAAAAAAKBLQJqZmZmZGTNAMzMzMzMDVUDNzMzMzExaQAAAAAAA8FJAMzMzMzPTV0CamZmZmdkzQGZmZmZmRlFAAAAAAABANEAAAAAAAGBLQM3MzMzMXFRAzczMzMwMVEAzMzMzMxNZQM3MzMzMvFZAAAAAAAAANEBmZmZmZvZTQDMzMzMzY1JAzczMzMxMM0BmZmZmZiY0QGZmZmZmRkZAmpmZmZk5S0BmZmZmZqYzQAAAAAAAQFpAzczMzMwsVkCamZmZmclSQAAAAAAAQDRAZmZmZmZGW0AAAAAAAMA+QJqZmZmZOVxAMzMzMzODV0BmZmZmZrZTQGZmZmZmpktAmpmZmZlZM0AzMzMzM3M0QJqZmZmZWTNAmpmZmZmpU0AAAAAAALBSQGZmZmZm5jNAzczMzMwsTUAAAAAAACBZQM3MzMzMDDRAZmZmZmamOUAAAAAAAMBXQJqZmZmZuUZAAAAAAAAANECamZmZmZlIQAAAAAAA0FRAAAAAAABAM0BmZmZmZqYzQDMzMzMzM1JAmpmZmZlpW0AAAAAAAEBQQGZmZmZmhlxAZmZmZmamNEDNzMzMzLxVQAAAAAAAsFdAmpmZmZlZOUDNzMzMzFxaQGZmZmZmZjlAMzMzMzOjWUAAAAAAAAA4QJqZmZmZmTlAAAAAAABgUkAAAAAAAJBYQDMzMzMzM0tAZmZmZmbGWUCamZmZmRlBQAAAAAAA4EVAmpmZmZkpWUAzMzMzMwNdQAAAAAAAgFRAmpmZmZlJUEBmZmZmZmZGQDMzMzMz81NAZmZmZmY2VkDNzMzMzLxSQGZmZmZmtlpAzczMzMxMM0DNzMzMzAxMQDMzMzMzszNAZmZmZmamSUBmZmZmZqZdQGZmZmZmJjhAzczMzMxMNEAAAAAAAOBcQM3MzMzMDDlAZmZmZmZGW0BmZmZmZqYzQDMzMzMz01tAZmZmZmbmPUBmZmZmZiZUQM3MzMzMzDRAzczMzMx8VkAzMzMzMwNdQM3MzMzMjDNAAAAAAADQXEDNzMzMzMw4QGZmZmZm5jNAAAAAAABQVEDNzMzMzHxRQJqZmZmZmVVAMzMzMzOTUECamZmZmalXQGZmZmZmBlJAmpmZmZlZQUDNzMzMzPxXQGZmZmZmZkZAmpmZmZlZW0AzMzMzM8NRQDMzMzMzszNAAAAAAAAgRECamZmZmdkzQAAAAAAAEFFAZmZmZmYmNECamZmZmXlJQGZmZmZmJjlAAAAAAABANEAAAAAAAABGQAAAAAAAQDRAZmZmZmbmS0CamZmZmTlWQDMzMzMz00xAmpmZmZnJU0AzMzMzMwNbQDMzMzMzs1dAMzMzMzPzRkBmZmZmZqZZQM3MzMzMrE5AZmZmZmbGTEAAAAAAAEA9QJqZmZmZmTNAAAAAAADwW0AAAAAAAKBaQM3MzMzM7FpAzczMzMxMM0DNzMzMzAw0QM3MzMzMfFFAmpmZmZnZT0AzMzMzM3NJQDMzMzMzM05AAAAAAADQU0BmZmZmZoZbQM3MzMzMrFZAzczMzMxMOUDNzMzMzExVQJqZmZmZWThAmpmZmZkZOUBmZmZmZkZLQGZmZmZmJlhAmpmZmZlJVEAAAAAAAEBDQJqZmZmZOVdAzczMzMwsVUAAAAAAAIBQQAAAAAAAwDRAmpmZmZm5TkAAAAAAAEBLQAAAAAAA8FhAAAAAAABwW0BmZmZmZjZUQM3MzMzMTDRAMzMzMzPzUEDNzMzMzMwzQDMzMzMzszlAMzMzMzMTTEDNzMzMzKxVQGZmZmZmZjRAZmZmZmamM0DNzMzMzCxLQGZmZmZmBltAmpmZmZk5S0DNzMzMzKxGQAAAAAAAgE1AzczMzMxcUUDNzMzMzDxQQJqZmZmZ2TJAzczMzMzMM0DNzMzMzAw5QDMzMzMzk1xAzczMzMxMW0BmZmZmZoZGQAAAAAAAgElAzczMzMycW0CamZmZmSlVQGZmZmZmBk5AMzMzMzNTRkAAAAAAAFBXQAAAAAAAQDRAMzMzMzNzOUCamZmZmZk0QGZmZmZmhldAZmZmZmZmQUAAAAAAAGBOQM3MzMzMrElAMzMzMzMDUEAzMzMzMzNVQDMzMzMzE0lAZmZmZmamV0AAAAAAAOBNQAAAAAAAEFlAmpmZmZm5WEDNzMzMzGxYQAAAAAAAIE5AAAAAAAAgTECamZmZmRlHQGZmZmZm5jhAzczMzMysT0DNzMzMzAxJQDMzMzMzE0lAmpmZmZkpUEBmZmZmZuZTQAAAAAAAgDNAMzMzMzPjWEAAAAAAAIBSQDMzMzMzc0NAMzMzMzPjU0BmZmZmZiZHQGZmZmZm1lhAMzMzMzPzV0CamZmZmYlTQJqZmZmZGTpAzczMzMwsREDNzMzMzMxTQGZmZmZm5jRAMzMzMzPzSECamZmZmTlRQAAAAAAAQDRAAAAAAAAAU0AAAAAAAIBSQDMzMzMzk1RAmpmZmZlZVkCamZmZmclYQDMzMzMzcz1AzczMzMzMM0AzMzMzM5NNQAAAAAAAYEZAMzMzMzOzVkBmZmZmZsZIQM3MzMzMrFpAzczMzMycV0AzMzMzM3MzQM3MzMzM/FBAAAAAAABQUEDNzMzMzNxYQJqZmZmZWTRAMzMzMzPzM0CamZmZmVlTQDMzMzMzszNAzczMzMzsWEAzMzMzM7NSQGZmZmZmJjNAzczMzMy8U0DNzMzMzGxPQDMzMzMz41FAzczMzMy8V0BmZmZmZoZVQM3MzMzMjDNAzczMzMzMOEAzMzMzMwNVQAAAAAAAIEJAZmZmZmamWECamZmZmelZQJqZmZmZOVdAZmZmZmbmM0CamZmZmRk0QAAAAAAAIFRAzczMzMzsQ0AAAAAAAEBOQGZmZmZm9llAMzMzMzPzUECamZmZmdk4QJqZmZmZWTNAAAAAAABAVkAAAAAAAIBLQJqZmZmZCVNAzczMzMxMNEBmZmZmZlZdQAAAAAAAwDNAmpmZmZmZRkAzMzMzMzM5QAAAAAAAcFZAAAAAAADAUkCamZmZmflIQM3MzMzMbFBAMzMzMzPDUECamZmZmblbQM3MzMzM/FVAzczMzMzMM0DNzMzMzOxSQDMzMzMzE09AmpmZmZnJXEAAAAAAAIAzQDMzMzMzo1VAZmZmZmZmNEDNzMzMzMwzQDMzMzMz00ZAMzMzMzMzTEAzMzMzM1NSQGZmZmZmVllAzczMzMzMQEAzMzMzM7M0QDMzMzMzA1pAAAAAAABANEDNzMzMzGxSQAAAAAAAMFtAZmZmZmYmNEAAAAAAAMAzQDMzMzMz8zlAMzMzMzODUUDNzMzMzAw4QAAAAAAAMFVAzczMzMwMN0CamZmZmflNQM3MzMzMjDNAmpmZmZmZM0DNzMzMzAw0QDMzMzMzY1VAZmZmZmamU0AzMzMzMzNdQGZmZmZmxkVAZmZmZmZmTkAzMzMzM3NLQM3MzMzMTFBAzczMzMwMW0AAAAAAAABXQGZmZmZmxlJAzczMzMwMOUCamZmZmclSQAAAAAAAgDNAzczMzMxMM0DNzMzMzAxcQDMzMzMzk1FAmpmZmZmZM0AAAAAAAEA0QJqZmZmZKVRAAAAAAADwXEBmZmZmZiZUQGZmZmZmxk1AzczMzMwMM0CamZmZmelXQDMzMzMz8zNAZmZmZmZmM0DNzMzMzAxCQAAAAAAAwDNAZmZmZmYGUEAAAAAAAMAzQDMzMzMzszNAzczMzMyMW0BmZmZmZpZaQDMzMzMzo1ZAmpmZmZl5UEAAAAAAACBaQAAAAAAAQEpAzczMzMwMTEAAAAAAADBWQAAAAAAAADpAmpmZmZnZWECamZmZmUlSQDMzMzMzU0tAMzMzMzPjXEDNzMzMzBxaQJqZmZmZyVZAzczMzMxsVkCamZmZmRlXQGZmZmZm5jNAmpmZmZnZMkAAAAAAAMA5QDMzMzMz8zRAMzMzMzNDWEBmZmZmZmY5QDMzMzMzszNAAAAAAACAQUAAAAAAAFBZQM3MzMzMjFFAzczMzMy8VkBmZmZmZnZSQDMzMzMzA1ZAmpmZmZkZNEAzMzMzM5NbQJqZmZmZSVVAmpmZmZl5TkAzMzMzM2NSQAAAAAAAAEdAZmZmZmZGTUCamZmZmZk4QAAAAAAAwDNAZmZmZmaWVUAAAAAAAIA5QAAAAAAAADNAzczMzMyMM0BmZmZmZoZbQAAAAAAAcFFAzczMzMxMSUBmZmZmZmZQQGZmZmZmhlRAZmZmZmbGU0CamZmZmalWQM3MzMzMjDRAAAAAAADwUkAAAAAAAIBbQJqZmZmZ2TRAZmZmZmYWVECamZmZmYlRQM3MzMzM3FBAAAAAAADANECamZmZmXlRQM3MzMzMjElAzczMzMyMOUAAAAAAAABOQDMzMzMzo1ZAmpmZmZkZU0DNzMzMzDxVQGZmZmZmhltAmpmZmZnpWEAzMzMzM7NGQAAAAAAAQFFAMzMzMzNTSEDNzMzMzOxNQJqZmZmZKVRAzczMzMyMNECamZmZmZlQQM3MzMzMDFlAZmZmZmZGRkCamZmZmVk0QDMzMzMz81ZAMzMzMzMzNEDNzMzMzCxJQM3MzMzMzDJAMzMzMzNzNEAAAAAAADBQQM3MzMzMrFhAzczMzMxcVkAAAAAAAGBNQDMzMzMzszRAZmZmZmZmVUAzMzMzMxNUQDMzMzMz81NAZmZmZmb2U0DNzMzMzAxLQJqZmZmZOVRAAAAAAACAOEBmZmZmZiY0QM3MzMzMDDRAmpmZmZmZM0AzMzMzM5NcQDMzMzMzE1lAAAAAAAAAVECamZmZmdk0QM3MzMzMfFZAAAAAAABgSEAAAAAAAABUQJqZmZmZWTRAAAAAAABANEBmZmZmZmYzQJqZmZmZGVlAmpmZmZn5TEAAAAAAAMBNQDMzMzMzMzNAZmZmZmbGTUDNzMzMzPxZQM3MzMzMPFFAZmZmZmbGWUAzMzMzM7M4QM3MzMzMjFtAmpmZmZk5T0AzMzMzM2NWQJqZmZmZuVNAmpmZmZlZNEDNzMzMzNxRQM3MzMzMLEdAmpmZmZmpV0AzMzMzM/NIQDMzMzMzczlAAAAAAADANEBmZmZmZoZQQJqZmZmZ2VJAzczMzMwMNUBmZmZmZlZRQGZmZmZmNlZAAAAAAABAWECamZmZmZlQQM3MzMzMTFFAAAAAAADgU0CamZmZmSlZQM3MzMzM7FNAMzMzMzOzTkAzMzMzM3NRQGZmZmZmRkRAmpmZmZnpUkDNzMzMzKxWQAAAAAAAIFRAzczMzMxMTkCamZmZmUlZQDMzMzMz8zhAzczMzMxMNEAAAAAAAABOQAAAAAAAQDRAAAAAAABgRkAAAAAAAIBYQM3MzMzM7FpAzczMzMwsWkCamZmZmXlXQM3MzMzMnFVAZmZmZmZmM0AzMzMzM/M4QAAAAAAAwFJAzczMzMyMU0DNzMzMzIxXQGZmZmZmBklAMzMzMzNjUUBmZmZmZoZWQDMzMzMzU0ZAZmZmZmYWVEBmZmZmZoZYQM3MzMzMrEpAzczMzMyMM0CamZmZmXlIQJqZmZmZGUtAMzMzMzNzOEAzMzMzMxNEQJqZmZmZmTlAZmZmZmaWUUDNzMzMzOxWQM3MzMzMTFZAmpmZmZkZOEDNzMzMzOxKQGZmZmZm5lxAAAAAAADAM0DNzMzMzAw4QM3MzMzMTDlAMzMzMzMTVUAAAAAAAHBWQM3MzMzMfFhAAAAAAAAANECamZmZmflZQDMzMzMzszRAZmZmZmYmNEAAAAAAAAA6QGZmZmZmVlNAMzMzMzODUEBmZmZmZuYzQJqZmZmZCVFAZmZmZmY2VEAAAAAAAOBSQGZmZmZmJlRAzczMzMzMVEAzMzMzM+NVQJqZmZmZWVtAZmZmZmbGRkAzMzMzM7M0QDMzMzMz01JAmpmZmZlZV0AAAAAAAHBSQJqZmZmZCVZAmpmZmZmZSEBmZmZmZqYzQJqZmZmZSVpAAAAAAACASEBmZmZmZuZIQDMzMzMz8zRAMzMzMzPTU0AAAAAAAIAzQDMzMzMzE0ZAAAAAAABgWkDNzMzMzCxXQAAAAAAAQDpAzczMzMw8WEAzMzMzM3M0QDMzMzMz81xAzczMzMwMW0AzMzMzMzM0QDMzMzMzc0tAZmZmZmYmNEBmZmZmZpZWQAAAAAAA4EtAZmZmZmamXEAzMzMzM7NQQDMzMzMzE1lAZmZmZmZWWkDNzMzMzExVQDMzMzMz8zJAMzMzMzNzUUCamZmZmYlaQM3MzMzMjDRAAAAAAABwWkAAAAAAAEA5QAAAAAAAwDNAZmZmZmY2WkCamZmZmXlOQJqZmZmZSVRAmpmZmZkZM0DNzMzMzMw0QJqZmZmZiVZAZmZmZmaGVkBmZmZmZoZSQAAAAAAAsF1AmpmZmZl5VUAAAAAAAMBXQGZmZmZmJjRAMzMzMzNTWUAzMzMzMzM1QDMzMzMzMzhAzczMzMxMNEAzMzMzM1NVQGZmZmZmZlZAAAAAAAAgTECamZmZmXlJQGZmZmZm9lxAmpmZmZnpWUCamZmZmRk6QM3MzMzMjEFAZmZmZmbGWEAAAAAAANBQQAAAAAAAADlAZmZmZmbGTUAzMzMzM3NTQM3MzMzMjEtAZmZmZmYmOEAAAAAAAKBGQAAAAAAAQDRAAAAAAAAwUEDNzMzMzExLQDMzMzMzszRAAAAAAACwV0AzMzMzM/NcQJqZmZmZuUhAMzMzMzPzVEBmZmZmZtZXQDMzMzMzg1JAZmZmZmZmVkBmZmZmZiZdQJqZmZmZGUtAzczMzMxMM0AzMzMzM0NQQM3MzMzMDDhAAAAAAADAMkBmZmZmZiY0QAAAAAAAADRAAAAAAADAUUBmZmZmZmZXQGZmZmZmZjhAAAAAAABQUEBmZmZmZkZJQM3MzMzMrFFAAAAAAACgRkAzMzMzM5NRQM3MzMzMPFtAMzMzMzNzOkBmZmZmZqYzQM3MzMzMDDNAAAAAAACwUkAzMzMzM/NSQJqZmZmZGTlAmpmZmZk5RkAzMzMzMxNaQAAAAAAAQFZAZmZmZmYmNEAzMzMzMxNCQDMzMzMzMzNAAAAAAABAM0CamZmZmZlOQDMzMzMzczRAZmZmZmaGQUAAAAAAAABGQM3MzMzMLElAAAAAAAAANECamZmZmZlVQDMzMzMzM01AZmZmZmaGV0CamZmZmTlbQJqZmZmZ2VpAZmZmZma2VkBmZmZmZuYzQJqZmZmZmVBAzczMzMwsWUCamZmZmZk5QJqZmZmZ2TNAAAAAAADANEAzMzMzM/NXQJqZmZmZqVdAmpmZmZmpWkDNzMzMzOxGQGZmZmZmFlpAmpmZmZm5S0AzMzMzM5NOQM3MzMzMvFNAzczMzMxMW0BmZmZmZqZOQGZmZmZmNlhAZmZmZmZGREDNzMzMzMwzQAAAAAAAEFtAMzMzMzNDWkDNzMzMzJxWQJqZmZmZmVVAmpmZmZm5UEDNzMzMzKxbQAAAAAAAADRAZmZmZmaGWUCamZmZmYlRQDMzMzMzA1RAmpmZmZmZSEAAAAAAAIA0QAAAAAAAIENAmpmZmZl5S0BmZmZmZiZYQGZmZmZm5jNAZmZmZmbmM0BmZmZmZiZVQAAAAAAAUFVAAAAAAABQVEAAAAAAAOBcQAAAAAAAwFNAmpmZmZmpV0DNzMzMzMw0QAAAAAAAwE1AzczMzMwMNEDNzMzMzBxZQJqZmZmZmTRAzczMzMxMNEBmZmZmZsZDQDMzMzMzczRAAAAAAABAOUAAAAAAANBWQM3MzMzMHFJAMzMzMzOzM0BmZmZmZsZSQAAAAAAAADlAmpmZmZlJUUAzMzMzM+NWQGZmZmZm5kFAmpmZmZlJXECamZmZmdkzQM3MzMzMzDNAZmZmZmbmM0AzMzMzM7MzQM3MzMzMjE1AmpmZmZnJVkDNzMzMzDxRQGZmZmZmxklAZmZmZmZmOEAzMzMzMzNYQDMzMzMzg1FAAAAAAACAM0AAAAAAALBTQM3MzMzMTFFAzczMzMyMM0CamZmZmelZQJqZmZmZWUtAMzMzMzMTS0BmZmZmZjZVQAAAAAAAADRAAAAAAADQWECamZmZmVkzQAAAAAAAsFdAMzMzMzODXECamZmZmblSQM3MzMzMzDNAZmZmZmY2VEAzMzMzM1NLQM3MzMzM7FZAZmZmZmamXUDNzMzMzIw4QDMzMzMzczNAmpmZmZkJXUBmZmZmZiZUQM3MzMzMTDRAMzMzMzPzWEAAAAAAAMBSQGZmZmZm5jNAMzMzMzMTVEAzMzMzMxNVQGZmZmZmBktAmpmZmZk5WkAAAAAAAFBYQDMzMzMzw1RAzczMzMyMREAAAAAAAIBGQDMzMzMzo1JAmpmZmZkZREAAAAAAAKBRQAAAAAAAwDNAZmZmZmamOEAAAAAAABBaQGZmZmZmllNAzczMzMxsW0CamZmZmblAQGZmZmZmpldAMzMzMzMzNEDNzMzMzEw0QDMzMzMzs0NAmpmZmZlJUUDNzMzMzKxJQDMzMzMzA1lAzczMzMxMNEDNzMzMzJxXQDMzMzMzM0dAMzMzMzMDWkBmZmZmZuY4QM3MzMzMzE1AAAAAAAAgW0BmZmZmZkZEQJqZmZmZeU1AAAAAAADANECamZmZmUlcQGZmZmZmZkhAZmZmZmaGT0BmZmZmZjZZQDMzMzMzI1RAmpmZmZkZUEDNzMzMzMxSQJqZmZmZOVVAzczMzMxMM0CamZmZmalSQGZmZmZmhk1AZmZmZmZGUUDNzMzMzIw0QDMzMzMzI1NAAAAAAABAT0CamZmZmblXQJqZmZmZ6VtAZmZmZmbmM0AzMzMzM3M0QDMzMzMzg1pAzczMzMxcXEAzMzMzMyNXQGZmZmZmZlBAZmZmZmYWVUBmZmZmZsZRQJqZmZmZSVVAmpmZmZnZSEAzMzMzMzM+QM3MzMzMLExAMzMzMzPjWkCamZmZmdkzQJqZmZmZ+VdAmpmZmZnZN0BmZmZmZvZUQDMzMzMzM1VAZmZmZmYGU0AzMzMzM6NSQJqZmZmZmUNAMzMzMzPjU0CamZmZmZkzQM3MzMzMjDNAMzMzMzOTQ0CamZmZmRk0QM3MzMzM/FhAZmZmZmbmTUAAAAAAAOBIQAAAAAAAIFtAMzMzMzMTTkDNzMzMzAwzQAAAAAAAAFVAZmZmZmZGRkDNzMzMzNxZQJqZmZmZKVRAmpmZmZmZTEAAAAAAALBbQDMzMzMzszhAMzMzMzNDWEBmZmZmZhZTQGZmZmZm5jJAzczMzMycUkCamZmZmRlVQGZmZmZmZjhAzczMzMwMNEAAAAAAAMBLQDMzMzMzE1VAzczMzMwMWUBmZmZmZmYzQGZmZmZmZjRAAAAAAACwV0DNzMzMzCxGQDMzMzMzo1JAZmZmZmZmUkDNzMzMzAxJQAAAAAAAgEpAmpmZmZnZM0CamZmZmVk4QM3MzMzMjDNAzczMzMwMOUAzMzMzM3NXQAAAAAAA8FlAAAAAAABgTEDNzMzMzMw0QDMzMzMzczhAmpmZmZmZOUAzMzMzM9NNQDMzMzMz01RAMzMzMzPjU0AzMzMzM3M4QDMzMzMzMzNAzczMzMzMPUAAAAAAAMBGQM3MzMzMDD5AmpmZmZlpUEAzMzMzM4NSQAAAAAAAsFtAMzMzMzOzM0AAAAAAAMBIQJqZmZmZ+UVAmpmZmZnJW0CamZmZmZk0QGZmZmZmpjNAMzMzMzPzXECamZmZmSlWQAAAAAAAoFdAmpmZmZkZNEAzMzMzM1NBQGZmZmZmJkpAAAAAAABAUECamZmZmblBQDMzMzMzszNAZmZmZmbmV0CamZmZmdkzQGZmZmZmdlRAMzMzMzNTW0BmZmZmZmY5QDMzMzMzc1FAAAAAAAAANECamZmZmXlbQGZmZmZmJklAAAAAAABgWUCamZmZmUlWQGZmZmZmZjNAZmZmZmbmPUAzMzMzM7NTQM3MzMzMTDNAMzMzMzMzWEBmZmZmZqY0QM3MzMzMzDNAZmZmZmYmWkAzMzMzMwNUQDMzMzMzk0ZAmpmZmZlJUkBmZmZmZsZYQGZmZmZmVlpAMzMzMzPTRkDNzMzMzPxTQJqZmZmZOUtAmpmZmZkZOUDNzMzMzCxVQGZmZmZm9lJAZmZmZmZmSECamZmZmZlBQAAAAAAAEFNAZmZmZmbmOEBmZmZmZiZLQDMzMzMzk1BAZmZmZmbmNEBmZmZmZtZSQM3MzMzMHFpAmpmZmZm5SEAzMzMzM3MzQJqZmZmZCVdAmpmZmZnZM0AAAAAAABBZQM3MzMzM7FdAmpmZmZlJV0DNzMzMzGxRQM3MzMzMzDNAZmZmZmbWUUAAAAAAAMA0QM3MzMzMTERAmpmZmZlZNEAAAAAAAMAzQDMzMzMzM0tAMzMzMzNzNECamZmZmYlQQGZmZmZmdlZAZmZmZmaGRkBmZmZmZrZVQAAAAAAAMFhAmpmZmZmpWkCamZmZmYlbQGZmZmZmtlRAmpmZmZkZNECamZmZmblNQM3MzMzMTE1AmpmZmZnZSEBmZmZmZnZQQAAAAAAAYFJAmpmZmZlpXECamZmZmdlUQJqZmZmZaVBAzczMzMysTkCamZmZmXlVQJqZmZmZ6VJAmpmZmZm5UUDNzMzMzOxIQJqZmZmZGTRAMzMzMzPDWUDNzMzMzOxYQJqZmZmZeVRAzczMzMyMUEAAAAAAAMAzQGZmZmZmJlJAAAAAAAAgXUAzMzMzM7NaQDMzMzMz8zhAAAAAAABQVkAAAAAAAEAzQDMzMzMzI1pAzczMzMzMVUAAAAAAAMA+QDMzMzMzszlAzczMzMyMVUCamZmZmRk+QGZmZmZm1lhAMzMzMzMzM0CamZmZmRk0QJqZmZmZWTRAZmZmZmamOUAzMzMzM6NXQJqZmZmZmVdAzczMzMwMTEAAAAAAABBRQAAAAAAAwDhAAAAAAAAQU0BmZmZmZpZSQDMzMzMzE0tAMzMzMzNzM0CamZmZmXlBQDMzMzMz00pAAAAAAAAAWkBmZmZmZpZRQGZmZmZmNlBAZmZmZmamM0AzMzMzM/NGQAAAAAAAADRAZmZmZmZmRkCamZmZmVk0QGZmZmZm5kZAzczMzMw8W0BmZmZmZhZQQDMzMzMzs1ZAMzMzMzPzOEDNzMzMzCxVQDMzMzMzs1FAmpmZmZkZWkAAAAAAAGBZQGZmZmZmJktAzczMzMz8WUBmZmZmZsZWQDMzMzMz8zNAMzMzMzNzOkBmZmZmZsZSQGZmZmZmBltAmpmZmZmJW0AAAAAAAOBbQAAAAAAAoFpAZmZmZmbmM0BmZmZmZsZbQM3MzMzMrFFAmpmZmZnZOEDNzMzMzMxWQGZmZmZmZlBAmpmZmZm5TUDNzMzMzHxbQAAAAAAAQENAMzMzMzMjV0AAAAAAAIA4QJqZmZmZmTRAAAAAAAAATUDNzMzMzNxaQAAAAAAAYFBAMzMzMzNzOUCamZmZmQlZQM3MzMzMHFpAZmZmZmYmNUDNzMzMzAxYQDMzMzMzM0ZAZmZmZmaWV0DNzMzMzEw0QAAAAAAAcFpAmpmZmZlJVEAzMzMzM2NWQAAAAAAAYEtAAAAAAADgSkAAAAAAAHBaQGZmZmZmdlpAzczMzMwMUEDNzMzMzOxVQDMzMzMzU1ZAZmZmZmYmNEDNzMzMzAw0QM3MzMzMzFBAMzMzMzOjV0AAAAAAAOBaQAAAAAAAQFJAAAAAAACwXEAzMzMzMwNTQJqZmZmZeVNAmpmZmZmpVkDNzMzMzJxbQM3MzMzMLFFAzczMzMxsRkDNzMzMzMw9QJqZmZmZOVZAAAAAAABgTUCamZmZmdkzQJqZmZmZuVVAMzMzMzPTTUCamZmZmZlQQGZmZmZmJjRAZmZmZmYGW0AzMzMzM3NMQGZmZmZmZltAZmZmZmYmOUCamZmZmclTQAAAAAAAsFBAZmZmZmZmSEDNzMzMzCxUQM3MzMzMjDRAZmZmZmbGXECamZmZmdlNQM3MzMzMnFVAmpmZmZnZQEBmZmZmZgZUQDMzMzMzA1pAAAAAAAAwW0DNzMzMzIxEQJqZmZmZWTRAmpmZmZl5WkAAAAAAAGBQQJqZmZmZOURAzczMzMycUUAzMzMzM7NTQGZmZmZmhlZAzczMzMycVEAAAAAAAEA0QAAAAAAAkFBAzczMzMxsVkAzMzMzMyNQQJqZmZmZaVdAZmZmZmZmUkAAAAAAAHBbQJqZmZmZuU5AmpmZmZmZWkCamZmZmXlUQM3MzMzMTFpAzczMzMxMS0DNzMzMzIw0QDMzMzMzszNAMzMzMzODUEBmZmZmZgZLQDMzMzMzc01AmpmZmZk5WECamZmZmRkzQAAAAAAAAElAMzMzMzOzRkDNzMzMzFxVQGZmZmZmBlVAAAAAAACQUECamZmZmTlTQGZmZmZmplJAzczMzMw8XUAzMzMzM1NEQGZmZmZmllxAzczMzMxsUUCamZmZmalYQDMzMzMz005AZmZmZmZWVkCamZmZmdlXQDMzMzMzs0FAMzMzMzPzM0AAAAAAAEAzQGZmZmZmZjRAAAAAAADAOECamZmZmVk5QAAAAAAAADRAAAAAAADgTUAAAAAAAKBUQJqZmZmZWTRAMzMzMzOzVkDNzMzMzDxaQAAAAAAAUFpAAAAAAADAN0BmZmZmZqZOQDMzMzMz81JAAAAAAACAWEAAAAAAAABKQJqZmZmZGVBAZmZmZmbmRkAAAAAAAIA+QJqZmZmZSVFAAAAAAACgSEDNzMzMzKxDQGZmZmZmRlpAmpmZmZkZNEAAAAAAAMAzQAAAAAAAwDNAmpmZmZmZUUAzMzMzM3M0QJqZmZmZWTRAzczMzMyMVUCamZmZmelXQDMzMzMz81lAzczMzMxMWEBmZmZmZsZPQDMzMzMz8zhAAAAAAADAWEAzMzMzM2NVQAAAAAAAgFdAZmZmZmYmSUAAAAAAAMBXQDMzMzMzs05AMzMzMzMjVEAAAAAAAKBTQDMzMzMzk1xAzczMzMwMNEAzMzMzM1NPQM3MzMzMLFdAzczMzMwcWUDNzMzMzMxSQAAAAAAAMFVAAAAAAADgU0DNzMzMzMwzQJqZmZmZOVlAMzMzMzPTV0DNzMzMzLxWQAAAAAAAQEtAzczMzMzMSEAAAAAAAAA5QJqZmZmZuUZAAAAAAADwWkBmZmZmZkZWQAAAAAAAYEZAZmZmZmZmWUCamZmZmclZQJqZmZmZ6VdAZmZmZmbGUkDNzMzMzKxOQDMzMzMzszNAAAAAAACASUBmZmZmZjZWQM3MzMzMDDRAZmZmZmZGUECamZmZmYlRQAAAAAAAwDRAZmZmZmYGTEAzMzMzM/MzQGZmZmZmplhAAAAAAADAU0DNzMzMzFxWQM3MzMzMjFJAAAAAAABAVEDNzMzMzMxIQGZmZmZmJlVAzczMzMwMVUAzMzMzM5NaQDMzMzMzQ1FAMzMzMzOzRkBmZmZmZtZYQAAAAAAAYElAZmZmZmbGVUBmZmZmZiY0QM3MzMzMrFhAMzMzMzMzOUCamZmZmdlLQGZmZmZmVlBAzczMzMxMOUAAAAAAAEA4QAAAAAAAQE5AmpmZmZkZOUDNzMzMzAw0QAAAAAAAQD5AMzMzMzMzNEAzMzMzM/NNQGZmZmZmJjlAMzMzMzNTWUDNzMzMzDxTQGZmZmZmpktAzczMzMwcV0CamZmZmTlIQJqZmZmZWTNAzczMzMysVUCamZmZmdlLQAAAAAAAEFVAmpmZmZkpUEDNzMzMzExRQDMzMzMzU0tAAAAAAADAOEAzMzMzM/M3QAAAAAAAQFpAzczMzMzsTUDNzMzMzAw0QJqZmZmZCVdAZmZmZmZmRkBmZmZmZuY0QJqZmZmZ2VdAZmZmZmYWVEBmZmZmZkZVQDMzMzMzw1xAMzMzMzPzM0CamZmZmYlVQGZmZmZmtlNAMzMzMzOjVUAzMzMzMzNFQAAAAAAAQDhAAAAAAACANECamZmZmZkzQAAAAAAAQDRAmpmZmZmZNEDNzMzMzMwzQM3MzMzMDFRAmpmZmZkZXUBmZmZmZqY/QJqZmZmZiVdAZmZmZmamNEBmZmZmZjZTQGZmZmZmJjRAAAAAAACgS0CamZmZmYlUQAAAAAAAwFlAZmZmZmbGV0CamZmZmclXQDMzMzMz81NAMzMzMzOzUkAzMzMzM3M0QGZmZmZmllNAmpmZmZkZM0AAAAAAAAA0QDMzMzMz8zNAAAAAAAAAOEBmZmZmZiYzQDMzMzMz01ZAZmZmZmYmM0AAAAAAAMAzQAAAAAAA4FJAAAAAAADwVEBmZmZmZmYzQAAAAAAAgDpAZmZmZmYmM0AzMzMzM3NEQAAAAAAAEFRAMzMzMzOzUUCamZmZmRlOQJqZmZmZmUtAMzMzMzMTS0CamZmZmRlZQGZmZmZmRk9AzczMzMycUUAAAAAAAGBVQAAAAAAAQEtAAAAAAADANECamZmZmVk0QAAAAAAAwFZAMzMzMzMzWkDNzMzMzIxJQDMzMzMzc1ZAzczMzMyMNEAzMzMzMwNQQGZmZmZmtlJAAAAAAAAAOUDNzMzMzEw0QJqZmZmZWTpAmpmZmZlZS0AAAAAAAJBWQGZmZmZmpjRAMzMzMzNzOUAAAAAAAIAzQJqZmZmZiVBAZmZmZmZGUUDNzMzMzIxDQM3MzMzMDDRAZmZmZmbmTUDNzMzMzExIQGZmZmZmVlpAmpmZmZkZOUAAAAAAAOBIQAAAAAAAsFdAAAAAAABAV0CamZmZmflRQDMzMzMzY1NAmpmZmZnZM0AAAAAAANBXQM3MzMzMDDlAMzMzMzOTSkBmZmZmZiY0QAAAAAAAUFlAMzMzMzMjWUDNzMzMzEw5QDMzMzMz81FAMzMzMzOzM0DNzMzMzOxIQGZmZmZmZlFAAAAAAADAM0AzMzMzMzNUQM3MzMzMDFBAAAAAAACAQUAzMzMzMzMzQJqZmZmZqVZAAAAAAAAANECamZmZmalSQJqZmZmZmU5AMzMzMzPzM0BmZmZmZmZLQM3MzMzMXFJAmpmZmZm5SUDNzMzMzBxUQDMzMzMzU1VAMzMzMzPTU0AAAAAAACBTQGZmZmZmZjlAZmZmZma2VUBmZmZmZqYzQGZmZmZmxkZAZmZmZmaGU0DNzMzMzEwzQAAAAAAAoFtAzczMzMxMNEBmZmZmZlZUQGZmZmZmpktAZmZmZmZGTEAzMzMzM7MzQDMzMzMzA1pAzczMzMxsSkCamZmZmSlUQGZmZmZmpjhAzczMzMxMNUDNzMzMzIxbQGZmZmZmhklAzczMzMzMM0BmZmZmZuYzQDMzMzMz01VAmpmZmZnZM0CamZmZmVlWQAAAAAAAADRAzczMzMwMNEAAAAAAANBUQJqZmZmZuVlAzczMzMyMQ0AAAAAAAKBcQDMzMzMzMzRAZmZmZmbmS0AzMzMzMzM4QDMzMzMzM1JAZmZmZmb2WEAAAAAAAOBYQAAAAAAAQDRAAAAAAAAAOkBmZmZmZuYzQM3MzMzMDDNAAAAAAAAgWECamZmZmdkzQDMzMzMzszlAzczMzMxMNEAzMzMzM+NWQDMzMzMzs0NAzczMzMxsWkAAAAAAAJBRQAAAAAAAcFdAAAAAAAAATkBmZmZmZuZNQJqZmZmZqVZAAAAAAABAW0BmZmZmZgZRQGZmZmZmZjRAzczMzMx8VEBmZmZmZkZOQGZmZmZmZlBAAAAAAACgVEAzMzMzM5NUQJqZmZmZCVFAzczMzMxMNEAzMzMzMzM0QM3MzMzMTFZAMzMzMzOzUkAzMzMzMzM0QJqZmZmZGVVAZmZmZmYmOUDNzMzMzMwzQM3MzMzMbElAmpmZmZmZWUAAAAAAAMBLQAAAAAAAcFtAmpmZmZmZWkAAAAAAAABOQDMzMzMzM1ZAMzMzMzMDVEAzMzMzM+NSQGZmZmZmxkhAZmZmZmbmN0CamZmZmZlQQM3MzMzMzDJAmpmZmZkZW0DNzMzMzHxVQJqZmZmZOVRAMzMzMzPzW0CamZmZmZk0QM3MzMzMTEZAZmZmZmZGWkCamZmZmclcQGZmZmZm5k1AzczMzMxMOkAzMzMzM6NRQM3MzMzMDDRAZmZmZmb2U0AzMzMzM4NWQDMzMzMzczhAmpmZmZn5TUCamZmZmVk5QGZmZmZmJkFAMzMzMzNDWkDNzMzMzEwzQGZmZmZmJjNAMzMzMzOzSUBmZmZmZvZRQJqZmZmZ2VJAmpmZmZnZSEAAAAAAALBTQGZmZmZmZlRAmpmZmZmZUUBmZmZmZgZTQAAAAAAAgFdAzczMzMz8WUAzMzMzM/MzQDMzMzMzs1tAZmZmZmYGWEBmZmZmZmZIQGZmZmZmRklAMzMzMzNTRkAzMzMzM3MzQDMzMzMzU1ZAAAAAAABAM0AAAAAAAKBRQGZmZmZmpjNAmpmZmZnZNEBmZmZmZqYzQJqZmZmZWTNAAAAAAAAARkCamZmZmZlXQJqZmZmZ2VJAAAAAAADAUUAzMzMzMzM1QGZmZmZmhk5AzczMzMz8U0AzMzMzM7MzQM3MzMzMTDRAmpmZmZlZOEAAAAAAAMAzQGZmZmZmJklAAAAAAAAgSUBmZmZmZlZVQDMzMzMz00lAAAAAAAAAOEDNzMzMzOxNQDMzMzMzczlAZmZmZmbmN0BmZmZmZiY4QM3MzMzM7FJAzczMzMxsSUBmZmZmZuZWQJqZmZmZuVhAAAAAAABAVUBmZmZmZiZGQM3MzMzMDFRAMzMzMzNzTkCamZmZmRlBQJqZmZmZyVVAZmZmZmYmS0CamZmZmRkzQAAAAAAAMFxAMzMzMzPzM0AAAAAAAIAzQDMzMzMzY1BAMzMzMzOzU0DNzMzMzIxTQAAAAAAAUFpAAAAAAABQVkBmZmZmZqY0QM3MzMzMLFFAmpmZmZmpU0AAAAAAAMA4QAAAAAAAwDNAZmZmZmZGVkDNzMzMzCxVQDMzMzMz801AMzMzMzPzM0CamZmZmTlbQM3MzMzMzEBAZmZmZmZ2VUDNzMzMzGxBQDMzMzMz01dAZmZmZmYmVUCamZmZmXlGQDMzMzMzszhAMzMzMzMTWUAzMzMzM3M5QJqZmZmZWUlAAAAAAACAS0CamZmZmRlRQGZmZmZmhktAzczMzMzMM0DNzMzMzBxVQDMzMzMz80FAAAAAAAAwVECamZmZmalTQAAAAAAA4E5AmpmZmZnZT0BmZmZmZuZVQJqZmZmZSVZAAAAAAAAANECamZmZmRlaQM3MzMzMDDRAZmZmZmYmQUBmZmZmZqY0QAAAAAAAEFVAZmZmZmamM0BmZmZmZvZTQDMzMzMzMzRAzczMzMzMM0DNzMzMzCxJQGZmZmZmplJAmpmZmZnJU0CamZmZmVk0QM3MzMzMDDVAzczMzMysV0DNzMzMzLxSQM3MzMzM/FtAmpmZmZnZM0AAAAAAAHBWQM3MzMzMDDRAzczMzMw8W0BmZmZmZqYzQGZmZmZm5jhAzczMzMxMV0AzMzMzMzNVQAAAAAAA8FFAmpmZmZlZPkDNzMzMzGxLQAAAAAAAgDNAMzMzMzMzOECamZmZmVkzQJqZmZmZKVlAZmZmZmaGV0AzMzMzM6NSQDMzMzMzE0xAmpmZmZlZNEAzMzMzMyNUQAAAAAAAoE5AMzMzMzNzNEBmZmZmZuYyQJqZmZmZmTNAmpmZmZmZRkAzMzMzM3MzQDMzMzMzczlAmpmZmZm5V0DNzMzMzEw9QAAAAAAAQDRAAAAAAACgW0CamZmZmVlbQDMzMzMz8zNAmpmZmZmZM0BmZmZmZiZTQJqZmZmZmTNAMzMzMzNTVUBmZmZmZnZQQM3MzMzMDDRAmpmZmZnZWEAAAAAAAAA0QM3MzMzMnFNAmpmZmZkZOUAAAAAAAIBLQGZmZmZmxlFAZmZmZmbGTkAzMzMzM/NGQGZmZmZmJkRAZmZmZmbGVUAAAAAAAMBIQDMzMzMzc1JAMzMzMzMzM0AAAAAAAAA5QGZmZmZmpkFAAAAAAAAwU0AAAAAAAEBUQDMzMzMzY1pAzczMzMzMMkBmZmZmZuY4QJqZmZmZOVBAzczMzMysTkDNzMzMzHxcQJqZmZmZiVZAzczMzMwMS0BmZmZmZuZIQGZmZmZmZjhAAAAAAADAV0CamZmZmXlRQJqZmZmZ+UNAAAAAAADQWUAAAAAAAJBXQGZmZmZmhkdAzczMzMyMNEBmZmZmZqYzQM3MzMzMjFFAAAAAAABAVECamZmZmflSQDMzMzMzszhAAAAAAACQW0AAAAAAAEBVQAAAAAAAwDNAZmZmZmbmN0AzMzMzM/MzQGZmZmZmJjlAMzMzMzMTS0BmZmZmZuZNQGZmZmZm9lRAmpmZmZk5WkAzMzMzM9NSQJqZmZmZqVBAAAAAAABgW0BmZmZmZnZSQM3MzMzMTDNAzczMzMyMXUCamZmZmblJQJqZmZmZuU1AAAAAAACAM0DNzMzMzIwzQDMzMzMzY1dAZmZmZmamTUAzMzMzM3NbQGZmZmZmhlNAMzMzMzPzQ0CamZmZmTlQQDMzMzMzs0pAZmZmZmbmOECamZmZmVlGQAAAAAAAgFxAAAAAAABANEBmZmZmZvZUQDMzMzMzMzRAMzMzMzPzM0CamZmZmVk0QAAAAAAAgFZAmpmZmZkZS0BmZmZmZsZYQJqZmZmZuVBAmpmZmZnZOUAzMzMzM8NWQDMzMzMz8zRAzczMzMxMW0AzMzMzM3NVQGZmZmZmpjNAAAAAAACANECamZmZmWlWQGZmZmZmllJAmpmZmZm5SEBmZmZmZkZWQJqZmZmZyVJAmpmZmZmpUUAzMzMzM4NWQGZmZmZmZjNAAAAAAAAwVkAAAAAAAMBWQDMzMzMzs1ZAMzMzMzPzMkCamZmZmZlZQJqZmZmZ+VhAzczMzMwsVkBmZmZmZiZLQJqZmZmZ2UtAzczMzMz8WUBmZmZmZiY0QM3MzMzMDDRAzczMzMz8VkAzMzMzM9NLQM3MzMzMrFJAmpmZmZkJWkCamZmZmelUQDMzMzMzg1tAAAAAAACAOUAAAAAAAIAzQM3MzMzMLFRAZmZmZmZGWkBmZmZmZiY5QJqZmZmZ6VdAMzMzMzMzVECamZmZmdk4QAAAAAAAYEtAAAAAAABgSUBmZmZmZiY0QM3MzMzMDDRAZmZmZmbmUUDNzMzMzFxUQDMzMzMzM01AmpmZmZnZSkCamZmZmZkzQJqZmZmZWVZAzczMzMwMVUBmZmZmZoZaQAAAAAAAwDlAzczMzMw8UEDNzMzMzFxVQM3MzMzMDDRAMzMzMzOzNEDNzMzMzEw5QGZmZmZmJllAAAAAAACAUkCamZmZmdlYQM3MzMzM3FpAZmZmZmbmVEAzMzMzM8NYQGZmZmZmBlRAMzMzMzNTUEAzMzMzM2NWQGZmZmZmZk5AAAAAAACgUkCamZmZmclYQAAAAAAAQDNAmpmZmZm5Q0DNzMzMzGxGQM3MzMzMTFhAMzMzMzOjW0BmZmZmZuYzQM3MzMzMPFNAMzMzMzOzQUAzMzMzM3M0QAAAAAAAMFhAmpmZmZkZS0BmZmZmZgZZQAAAAAAAoEZAmpmZmZnZNECamZmZmblAQDMzMzMzMzRAmpmZmZl5VUAAAAAAAIBOQJqZmZmZuVVAmpmZmZlZUUCamZmZmVk0QDMzMzMzE1pAmpmZmZl5RkCamZmZmblIQJqZmZmZmTRAzczMzMyMM0AAAAAAAGBXQGZmZmZmRktAzczMzMwMNEDNzMzMzNxTQGZmZmZm9lNAAAAAAAAAWUCamZmZmZkzQDMzMzMzMzRAMzMzMzMzSUBmZmZmZlZcQAAAAAAAAFRAzczMzMw8VEBmZmZmZuY4QDMzMzMzc0tAAAAAAABQW0AzMzMzMxNdQGZmZmZm5jNAZmZmZmaWUUCamZmZmZk5QJqZmZmZOUZAmpmZmZkJWUBmZmZmZnZSQGZmZmZmhlFAAAAAAABAOUDNzMzMzAw1QDMzMzMz8zhAAAAAAAAgUEDNzMzMzHxaQGZmZmZm9lJAzczMzMzMRUAAAAAAANBWQAAAAAAAcFZAmpmZmZkZWkCamZmZmYlWQGZmZmZmJkRAAAAAAABQWkAAAAAAAABaQJqZmZmZaVFAMzMzMzOTUkCamZmZmTlZQAAAAAAAQDRAmpmZmZk5WEBmZmZmZgZaQJqZmZmZGTRAZmZmZmZGTEBmZmZmZiZRQDMzMzMzQ1FAMzMzMzOzM0DNzMzMzAw0QJqZmZmZmVdAmpmZmZl5S0DNzMzMzGxXQAAAAAAAkFtAmpmZmZm5WEDNzMzMzBxUQJqZmZmZ2VNAZmZmZmZmT0CamZmZmblSQGZmZmZmtlJAmpmZmZnZOUAzMzMzMxNRQDMzMzMzM0hAMzMzMzNDWkBmZmZmZiY5QAAAAAAAgDNAzczMzMw8V0AzMzMzM7M0QJqZmZmZWTNAZmZmZmYWWkDNzMzMzIwzQDMzMzMzg1JAzczMzMwMRECamZmZmRk0QDMzMzMz41RAzczMzMxsTEDNzMzMzIwzQJqZmZmZiVpAzczMzMy8U0AAAAAAAOBIQJqZmZmZGVdAmpmZmZkZTUDNzMzMzPxWQAAAAAAAUFBAZmZmZmZGUkAAAAAAAOBNQGZmZmZm5k1AZmZmZmYmXUAzMzMzM1NbQJqZmZmZWVlAMzMzMzNTSUAzMzMzMxNMQDMzMzMzMzNAAAAAAADAVEBmZmZmZoZRQDMzMzMzE1tAAAAAAABAOUDNzMzMzKxGQDMzMzMz80VAMzMzMzPTU0CamZmZmTlVQAAAAAAA0FNAMzMzMzPDUUAAAAAAAOBKQAAAAAAAQDhAAAAAAAAgRkBmZmZmZgZJQGZmZmZmJjRAZmZmZmZWUUCamZmZmVkzQGZmZmZmJjNAAAAAAACATkAAAAAAAIA0QJqZmZmZGUlAZmZmZmbmU0BmZmZmZuY4QJqZmZmZuVpAZmZmZmZWWUDNzMzMzKxLQGZmZmZmRklAAAAAAACAM0CamZmZmalWQGZmZmZmdlZAAAAAAADAU0DNzMzMzIwzQGZmZmZm5jNAAAAAAAAQXUAAAAAAAPBVQDMzMzMzU1RAZmZmZmYmRkBmZmZmZpZRQJqZmZmZOUZAMzMzMzOTSEAzMzMzM3M9QDMzMzMzU1VAZmZmZmZGUUBmZmZmZpZRQJqZmZmZmTRAmpmZmZmJUkAzMzMzM8NSQM3MzMzMTEZAMzMzMzNzNUCamZmZmblFQM3MzMzMDDRAmpmZmZmJV0DNzMzMzIwzQJqZmZmZ+VJAmpmZmZkJUEAzMzMzM2NbQDMzMzMzs1tAmpmZmZm5SkDNzMzMzHxRQAAAAAAAQFhAZmZmZmamVkAzMzMzM2NSQGZmZmZmlldAZmZmZmZmM0AAAAAAAMAzQM3MzMzMTEtAzczMzMzMPUAzMzMzM8NZQM3MzMzMTDRAzczMzMyMQUDNzMzMzGxaQAAAAAAAIExAzczMzMwsTkBmZmZmZuZNQJqZmZmZ6VhAMzMzMzNTSUAzMzMzM3NOQDMzMzMz001AzczMzMwsUEDNzMzMzGxLQGZmZmZm1lZAmpmZmZkZOUAAAAAAAABBQDMzMzMz80ZAAAAAAACANECamZmZmVk0QM3MzMzMDEJAMzMzMzNzUECamZmZmVk0QDMzMzMzc1pAAAAAAAAwWEBmZmZmZmY4QDMzMzMzQ1JAZmZmZmYWUEAAAAAAAIA0QAAAAAAAYEtAMzMzMzOTSUCamZmZmflEQM3MzMzMLEtAAAAAAAAAWECamZmZmblOQGZmZmZmpjNAAAAAAAAAM0AAAAAAAABZQM3MzMzMrFhAzczMzMzMM0AzMzMzM3NSQM3MzMzMDDRAzczMzMyMWkAzMzMzMyNdQM3MzMzM7FhAMzMzMzOzM0AAAAAAAIAzQGZmZmZmJj1AAAAAAACAS0AzMzMzM7NWQAAAAAAAgElAZmZmZmaGVkBmZmZmZoZNQM3MzMzMTDRAzczMzMw8UkAzMzMzM2NSQDMzMzMzE1VAAAAAAACAU0BmZmZmZgZSQAAAAAAAsFpAAAAAAABAM0DNzMzMzIw0QAAAAAAAADRAZmZmZmamOEAAAAAAAOBZQJqZmZmZ2TdAzczMzMzMOUCamZmZmblNQM3MzMzMDDRAMzMzMzOjVEAAAAAAAFBUQDMzMzMzk1JAzczMzMxsW0BmZmZmZhZYQGZmZmZmplBAAAAAAABARkBmZmZmZgZUQDMzMzMzQ1FAZmZmZmZmNEAzMzMzM7MzQM3MzMzMDElAzczMzMzcVECamZmZmalVQGZmZmZmJjRAZmZmZmZmM0BmZmZmZgZOQJqZmZmZWTRAMzMzMzODV0BmZmZmZgZVQAAAAAAAsFNAZmZmZmbGS0CamZmZmRk0QDMzMzMzk1FAMzMzMzPTSkAAAAAAAMA0QJqZmZmZ2VlAZmZmZmZmSUAAAAAAAMBTQGZmZmZmplJAAAAAAAAgWECamZmZmRk0QGZmZmZmZjNAMzMzMzNjU0DNzMzMzAw0QJqZmZmZ2TNAMzMzMzMzNEDNzMzMzNxQQM3MzMzMjDJAAAAAAADAPUAzMzMzMzM4QM3MzMzMjDdAMzMzMzNzNEAzMzMzMxNXQDMzMzMz00pAMzMzMzPTQ0AzMzMzM1NLQDMzMzMzM1pAzczMzMxMPUBmZmZmZvZUQJqZmZmZ6VlAMzMzMzPDWEAzMzMzMwNZQJqZmZmZWTRAmpmZmZn5RUAAAAAAAIA3QM3MzMzMrFFAMzMzMzOTV0BmZmZmZiY9QJqZmZmZ2TRAmpmZmZnZQkDNzMzMzBxXQDMzMzMzE0ZAZmZmZmYGQkAAAAAAACBJQAAAAAAAcFtAzczMzMxMNEBmZmZmZhZcQDMzMzMzk1dAMzMzMzOTRECamZmZmalSQAAAAAAAIEhAmpmZmZkJU0BmZmZmZsZRQDMzMzMzI1hAMzMzMzPTU0BmZmZmZmZWQAAAAAAAgDRAMzMzMzOTWkBmZmZmZhZZQGZmZmZmZlVAmpmZmZmJWkDNzMzMzIxJQGZmZmZm5jNAMzMzMzOzOUCamZmZmdlYQM3MzMzMbFFAZmZmZmaWWEDNzMzMzFxVQJqZmZmZ+VdAAAAAAAAwWUDNzMzMzExWQAAAAAAAwDlAZmZmZmYGVUAzMzMzM9NTQDMzMzMzw1pAzczMzMwMNEAAAAAAAIAzQGZmZmZmpkZAmpmZmZnJXEDNzMzMzDxSQGZmZmZmpjNAzczMzMyMM0AzMzMzM2NWQM3MzMzMLElAAAAAAADQVUDNzMzMzMw0QAAAAAAAUFtAmpmZmZlZNEAzMzMzM/NLQM3MzMzMzFNAAAAAAAAAOEBmZmZmZlZZQJqZmZmZuUFAmpmZmZnZU0CamZmZmZlBQGZmZmZmpjNAzczMzMzsSEAAAAAAADBRQJqZmZmZ+VNAAAAAAABwVkBmZmZmZmYzQJqZmZmZaVdAZmZmZmbmM0CamZmZmTlSQJqZmZmZmTlAAAAAAADAM0CamZmZmdlLQAAAAAAAYF1AmpmZmZnZM0CamZmZmblTQGZmZmZmpjRAZmZmZmamM0AAAAAAAPBTQM3MzMzM/FNAZmZmZmbmPUAAAAAAAMAzQAAAAAAAgEZAZmZmZmZmRkDNzMzMzIxJQDMzMzMzk0pAMzMzMzOzOEDNzMzMzHxbQM3MzMzMzDRAmpmZmZmZOUCamZmZmRlbQM3MzMzMjDNAZmZmZmZGVUAzMzMzM0NRQJqZmZmZiVFAmpmZmZnJW0BmZmZmZlZWQGZmZmZmRlZAAAAAAADQVkBmZmZmZpZWQDMzMzMzY1pAmpmZmZkZM0BmZmZmZmY0QM3MzMzMHFlAzczMzMxsVUAAAAAAAIBXQGZmZmZmdlFAmpmZmZnZOUBmZmZmZsZRQGZmZmZmVldAZmZmZmZGSUAzMzMzM1NUQDMzMzMzszRAMzMzMzPDU0DNzMzMzAwzQJqZmZmZmTNAMzMzMzMzNEBmZmZmZuY0QGZmZmZm5llAZmZmZmZmQ0CamZmZmRlWQM3MzMzM7FNAzczMzMxMM0AAAAAAAOBLQDMzMzMz8zNAmpmZmZlpVkDNzMzMzOxGQJqZmZmZ+UtAAAAAAABAUUAzMzMzM+NUQM3MzMzMbFBAmpmZmZm5V0AzMzMzM/NOQAAAAAAAADRAzczMzMzsUEBmZmZmZiY5QGZmZmZmNldAMzMzMzPTW0DNzMzMzExOQAAAAAAAYFBAMzMzMzPzM0BmZmZmZqZSQGZmZmZmpldAmpmZmZlJVEAzMzMzM0NWQJqZmZmZmUhAMzMzMzNzM0AzMzMzMxNaQDMzMzMzg1VAMzMzMzMzOUAzMzMzM5NBQJqZmZmZ6VhAZmZmZmZWWkDNzMzMzEw4QM3MzMzMLFRAZmZmZmZ2VkDNzMzMzIxOQM3MzMzMDD1AzczMzMzsWEAAAAAAAABHQJqZmZmZGVRAMzMzMzMDWUAAAAAAAIBXQM3MzMzMPFFAzczMzMwcUUAAAAAAAEBRQM3MzMzM7EVAAAAAAABARkAzMzMzM7MyQGZmZmZmxkpAZmZmZmamXECamZmZmRk0QAAAAAAAYFVAAAAAAAAwW0BmZmZmZnZYQM3MzMzMjDNAMzMzMzMDVUCamZmZmVlWQDMzMzMzszNAZmZmZmb2U0DNzMzMzJxSQGZmZmZmhlJAzczMzMzMMkCamZmZmRlQQGZmZmZm5ktAzczMzMwMNECamZmZmclYQAAAAAAAYExAmpmZmZkJWkAzMzMzM7NbQAAAAAAA4EFAmpmZmZl5UUDNzMzMzExWQDMzMzMz00tAmpmZmZlZSUAAAAAAAAA0QJqZmZmZGTNAZmZmZmbGRkAzMzMzM0NZQM3MzMzM7FlAAAAAAAAgQkAzMzMzM7NIQGZmZmZm5jNAzczMzMzMM0BmZmZmZoZGQDMzMzMzI1BAAAAAAACQVUAAAAAAAMAzQGZmZmZmRlZAMzMzMzPjV0BmZmZmZqZZQGZmZmZmJkxAzczMzMyMV0BmZmZmZoZFQAAAAAAAgFdAZmZmZma2WEBmZmZmZhZQQAAAAAAAAFJAmpmZmZnZSEDNzMzMzCxUQDMzMzMzMzhAzczMzMxcUEBmZmZmZpZSQM3MzMzMzFRAAAAAAAAAOUCamZmZmRlEQGZmZmZmFltAAAAAAABgUUAAAAAAAABTQGZmZmZmZldAMzMzMzMjWUAzMzMzM3M4QDMzMzMzY1ZAZmZmZmYGU0AAAAAAACBUQM3MzMzMjDRAmpmZmZlZWkAAAAAAAOBBQGZmZmZmxldAzczMzMxMM0DNzMzMzIxPQM3MzMzMPFVAmpmZmZlZV0DNzMzMzExWQM3MzMzMTFVAmpmZmZn5SEBmZmZmZqY0QGZmZmZmJjRAMzMzMzMzM0DNzMzMzDxaQAAAAAAA4FlAMzMzMzMzVUAzMzMzM8NXQGZmZmZmVlJAZmZmZmYGUEAzMzMzMzNGQM3MzMzMDDRAAAAAAAAATkAAAAAAAGBRQM3MzMzMrFNAMzMzMzNTTkBmZmZmZiY1QDMzMzMzM1VAzczMzMzMWUCamZmZmZk9QJqZmZmZaVpA",
                    "dtype": "f8"
                  },
                  "xaxis": "x",
                  "y": {
                    "bdata": "mpmZmZnZPUAAAAAAAIadQAAAAAAAw5xAmpmZmZl1nkBmZmZmZt5yQGZmZmbmP6tAmpmZmZlbgkDNzMzMzGx0QJqZmZkZMbZAmpmZmRn8pEBmZmZmJte+QJqZmZmZ949AAAAAAEDWvECamZmZmRudQAAAAAAASGlAMzMzMzNiq0CamZmZmTSnQGZmZmZm6pdAMzMzM3PhuEAzMzMz8266QM3MzMzMtGZAzczMzMxJnUAzMzMzMzM0QAAAAAAAoEZAMzMzM7NTvECamZmZmbirQDMzMzMzu31AmpmZmVkIs0AAAAAAACR6QDMzMzNz/bJAmpmZmZmrjkBmZmZmZoWuQAAAAAAAQFhAzczMzMx5sECamZmZGZ6wQAAAAACA/a1AmpmZmZlim0CamZmZWWixQDMzMzMzp7hAmpmZmVmku0BmZmZmZvKLQDMzMzOzrb5AmpmZmRljskAzMzMzs0q1QAAAAAAAJKdAzczMzMzojUAzMzMzM4NuQDMzMzOzhKxAZmZmZmaCo0AzMzMzMxeNQM3MzMzMuotAZmZmZmaGSECamZmZmQqRQAAAAAAAu7tAZmZmZmZClkDNzMzMzCxmQAAAAACA+7dAMzMzM7MBpUAAAAAAACR+QJqZmZmZfqBAZmZmZmYCk0DNzMzMzKqBQAAAAACA57BAzczMzMxqjkAAAAAAALaMQGZmZmbmTqFAAAAAAACEkEDNzMzMzPiMQAAAAAAAio9AZmZmZmYUpEDNzMzMzKxSQAAAAABAUrZAAAAAAADDu0DNzMzMDCO9QDMzMzOzjLJAzczMzMxMkUAzMzMzMzM0QDMzMzMzczNAMzMzMzMrrEAAAAAAgKanQM3MzMzMDFlAzczMzAyHvEAzMzMzM/2MQJqZmZmZoq5AAAAAAABNlUAAAAAAgMSnQDMzMzMz5K5AAAAAAAC/qkDNzMzMzAxvQGZmZmZmmZFAMzMzMzMZikAzMzMzM8+gQDMzMzNzi7VAAAAAAAAwXECamZmZmeV1QDMzMzMzc09AzczMzEynp0DNzMzMzO+aQAAAAAAAwDNAMzMzM7Mir0CamZmZmf6SQDMzMzMzeKlAzczMzMyQkkAAAAAAAMqbQAAAAAAA95NAMzMzMzNKkkBmZmZmphm5QAAAAABAU7dAzczMzAyptEDNzMzMzHCbQDMzMzOzELlAzczMzMysTkDNzMzMzCeeQJqZmZmZvZBAzczMzMyigUDNzMzMjPq+QAAAAABAX7RAAAAAAABgXEAzMzMzMwOSQM3MzMzMd5xAZmZmZmY+ekAAAAAAAACQQDMzMzMzc29AZmZmZmbkh0BmZmZmZuZgQAAAAACA7K5AzczMzMw8bUDNzMzMzE2VQDMzMzNzbrhAZmZmZmYWdEAAAAAAgKarQAAAAAAAd5JAZmZmZmZ0hECamZmZmWGIQAAAAAAAXZhAAAAAAACQk0BmZmZmZqZGQJqZmZmZKqNAzczMzMz+j0CamZmZmYlUQJqZmZmZmW5AMzMzMzOWokAzMzMzs8qoQJqZmZmZfZVAzczMzEzBv0DNzMzMzKKSQJqZmZmZtp1AMzMzMzNbgkAAAAAAwHe5QGZmZmamab9AAAAAAADANEDNzMzMTPKkQDMzMzMzYZFAAAAAAIDtvEDNzMzMzCeQQGZmZmbmHadAMzMzM7P5pEAzMzMzM1OwQJqZmZkZ/rlAAAAAAABAOUDNzMzMzJCRQGZmZmZm4IBAZmZmZmbfnkBmZmZm5tqqQJqZmZmZh6hAZmZmZmaarUAAAAAAgMy0QM3MzMzMhINAmpmZmZmznEAzMzMzMzM0QDMzMzMza2tAAAAAAAAjlEAAAAAAgOOjQM3MzMxMRqVAAAAAAEALsEBmZmZmpoC2QAAAAACAi7JAmpmZmZl7mEAAAAAAAPCFQM3MzMzMsHJAzczMzMxnlECamZmZmcVxQAAAAACAzrhAzczMzEzGvkDNzMzMTOeoQGZmZmYm7rdAZmZmZmbahkBmZmZmZhZxQJqZmZmZx6NAMzMzM3PKsEDNzMzMjAuyQJqZmZmZkqRAmpmZmZkhaEBmZmZm5gewQGZmZmYmYLtAmpmZmRmftkCamZmZmTKTQJqZmZlZPbNAZmZmZmbAl0AAAAAAQKizQAAAAADAlrVAAAAAAACtkkAAAAAAAF2fQM3MzMzME5tAzczMzEz0qkCamZmZGfigQDMzMzMz75RAmpmZmZkfiEAAAAAAAJhuQGZmZmZmLnRAAAAAAAAkf0BmZmZmZmY5QAAAAACAz6xAZmZmZmbem0AzMzMzM/mMQM3MzMzMlJ9AMzMzMzNTnkBmZmZmZr6BQDMzMzMzi2tAAAAAAABANEAzMzMzczy1QAAAAAAA26pAAAAAAICPp0AzMzMzM5eXQGZmZmZmSnZAAAAAAAANsEBmZmZmZouoQGZmZmZmNJNAzczMzMwMoEAzMzMzszutQGZmZmbmxKxAAAAAAABAM0AAAAAAAHmdQJqZmZkZH7NAmpmZmZlZdUBmZmZmZja2QGZmZmZmLJVAMzMzM7NIqUAAAAAAAKiwQGZmZmZmZkZAzczMzMxkekAzMzMzs1CwQJqZmZkZErRAZmZmZmaAi0AzMzMzM22OQDMzMzMz+JZAzczMzMwah0BmZmZmZj5kQDMzMzPzRrFAMzMzM3MEuEDNzMzMTNurQGZmZmZmmJxAzczMzMxPuEBmZmZmppyxQJqZmZmZwJRAAAAAAAAIi0BmZmZmZgZSQAAAAAAAXpRAzczMzMwmj0BmZmZm5h65QAAAAACAzaFAMzMzMzNLhUDNzMzMzPKBQAAAAAAAyItAZmZmZmanukAAAAAAgGGvQAAAAAAA8FRAzczMzEzurkCamZmZGX2mQJqZmZmZjY1AMzMzMzN0lUAAAAAAAPiVQGZmZmZmJjNAmpmZmdkyu0BmZmZmpr6/QAAAAAAAkoVAZmZmZmb2iUBmZmZmZui1QJqZmZmZfaxAAAAAAICcrECamZmZmVk5QDMzMzOzvLRAAAAAAAAJlkCamZmZGRaqQJqZmZlZfLJAMzMzM3PLs0BmZmZm5liiQAAAAAAAvq9AAAAAAAAARkAAAAAAgEakQJqZmZkZC6JAMzMzMzNTVkDNzMzMzPh2QAAAAAAA0a5AMzMzM/NNt0BmZmZmZt2sQM3MzMzMLpxAmpmZmZnxeUAzMzMzM4GDQGZmZmZmtm1AmpmZmZkRrkBmZmZmZjZ6QAAAAAAA85ZAAAAAAAC0tkBmZmZm5lqmQJqZmZmZqJBAmpmZmRnKoEAAAAAAAHmxQJqZmZkZsqtAAAAAAACvkkBmZmZm5sq6QM3MzMzMApBAAAAAAACIYECamZmZmRuAQGZmZmbmHKZAAAAAAABakUDNzMzMzBR8QJqZmZkZLaZAZmZmZmYAtUDNzMzMzNSKQDMzMzMzzJVAZmZmZmYPr0AzMzMzc7CyQAAAAAAA4F1AmpmZmZkbjEAzMzMzM3+SQGZmZmZmgIZAmpmZmRmKwEBmZmZmZrKoQGZmZmZmhktAMzMzMzNqnUBmZmZmZs6zQAAAAACAobdAzczMzMw6kkDNzMzMTPOmQAAAAAAA2ZNAZmZmZma8h0DNzMzMjLu9QAAAAAAAq5lAmpmZmZklmEDNzMzMzPyrQJqZmZmZJ5ZAzczMzEx9o0AzMzMzs6ClQJqZmZmZgqJAAAAAAAAAQ0BmZmZmZsZSQJqZmZmZOVlAMzMzMzM4mUAzMzMzc2rAQAAAAACA36VAMzMzM3OKuUAzMzMz87y5QM3MzMzMIItAmpmZmZmpdEAzMzMzM6OBQGZmZmZmjZRAZmZmZmZ2pUBmZmZmZlCBQAAAAAAAOGxAZmZmZmYemkDNzMzMzEO/QJqZmZnZ8rdAAAAAAAAclkAzMzMz8zm4QAAAAABAxblAmpmZmZmJXEAzMzMzM32uQGZmZmZmZjRAmpmZmZnmm0CamZmZmdaVQJqZmZkZdq5AAAAAAAAstkBmZmZmJr+xQM3MzMzM5rBAzczMzIx+tUBmZmZmZp6KQJqZmZmZ2TNAMzMzMzNpnEBmZmZmJpy4QDMzMzPzHLdAzczMzMxIpkAzMzMzMymYQJqZmZmZ6XJAMzMzMzOXcEAzMzMzc027QAAAAAAAiJZAZmZmZmZpskDNzMzMTIKyQDMzMzOTZ8BAmpmZmVk2tUCamZmZmXeFQM3MzMxMSrZAZmZmZmaqfkAAAAAAAEGVQGZmZmZmzmVAzczMzMzTvEAAAAAAAO6PQM3MzMwMpbNAmpmZmZmNnkAzMzMzM1i6QDMzMzOzUrNAAAAAAEAcwEDNzMzMzMyCQM3MzMzMjDNAZmZmZmaupEAAAAAAQFi6QAAAAACAkbRAmpmZmZl5c0BmZmZm5h6/QDMzMzMzDsBAAAAAAAAFkkAAAAAAABaAQAAAAAAAwK1AZmZmZmbmM0BmZmZmZiilQGZmZmZmwIdAZmZmZmamSEDNzMzMTJG3QDMzMzMzQ1ZAMzMzMzMhgEAAAAAAwOW2QDMzMzMz33tAZmZmZmZts0AAAAAAAA2aQAAAAADA7bRAmpmZmZlpekAAAAAAAD2RQAAAAAAAhKVAAAAAAADKhUDNzMzMzAipQGZmZmami7JAMzMzMzMUqEAzMzMzM6+CQM3MzMzMSqpAZmZmZmZmQ0AAAAAAAAAzQJqZmZmZ2U5AZmZmZuYcqkBmZmZmZkZVQJqZmZkZ/rxAzczMzAwMukDNzMzMDIe/QDMzMzMzW5JAAAAAAAA7tUAzMzMzMw2jQM3MzMzMzEZAMzMzMzOhjEBmZmZmZqZtQM3MzMyMBrJAzczMzMwZlkAAAAAAAEqSQJqZmZmZ2UdAAAAAAED7skAzMzMzMyezQAAAAAAAMKxAAAAAAEDOt0DNzMzMzBmoQAAAAACAaaJAZmZmZgY5wEBmZmZmZjSVQJqZmZlZ/LJAZmZmZma0qkAzMzMzM7uDQJqZmZmZSWdAAAAAAMBAu0CamZmZ2RSzQJqZmZmZV4BAmpmZmZmpdkDNzMzMzHu2QM3MzMxMN6pAMzMzMzNveUBmZmZmZreiQGZmZmZmwJ5AMzMzM3OjukAzMzMzcwe/QGZmZmbmU6NAZmZmZuaiuUCamZmZmQlmQGZmZmZmeKFAzczMzMxLqECamZmZWS+zQM3MzMzMUJlAMzMzMzO/sECamZmZma14QM3MzMxM5KpAZmZmZmYSm0BmZmZmZnqEQAAAAAAAtH1AzczMzMwIi0AzMzMzs/S3QAAAAAAAG6xAMzMzMzPNhUAzMzMzM8t6QM3MzMzMDDRAZmZmZiZrsUBmZmZmZj6SQDMzMzMzw21AZmZmZma0lkCamZmZmY6vQM3MzMzMPZBAZmZmZmbglEBmZmZmZtZ+QGZmZmYmTrxAzczMzMzPkkCamZmZmZlzQDMzMzOzf61AzczMzAwIskDNzMzMzHRoQGZmZmZmXLBAZmZmZmbGUUAzMzMzM/NIQJqZmZmZyZNAmpmZmZldmUAzMzMzczWwQDMzMzMzczRAAAAAAABRokBmZmZmZqiPQAAAAAAAEHpAZmZmZmamNEAzMzMzM6y4QJqZmZkZZK9AmpmZmZnLskAzMzMzs12wQGZmZmbmQKZAZmZmZmaoo0DNzMzMzMxAQGZmZmZmDmpAmpmZmZk3rUAAAAAAACinQM3MzMzMrqFAmpmZmZlHoUDNzMzMzE6aQAAAAAAAvJdAMzMzMzMwkkCamZmZmbuaQM3MzMyMlbBAZmZmZuYxsECamZmZmdCkQAAAAAAA9pNAzczMzEzVtUAAAAAAAGBBQM3MzMzMZ5RAmpmZmZmRaUAzMzMzM++CQJqZmZmZQXZAZmZmZqbFskAAAAAAADBXQDMzMzMztJ1AMzMzM7NitkDNzMzMzO6iQM3MzMzM1ZlAmpmZmRn+qUAAAAAAgK27QDMzMzMzIKpAmpmZmVkpukDNzMzMzH+mQDMzMzMzI2FAZmZmZmY+mEDNzMzMzERpQAAAAABAyr5AMzMzMzMCwEDNzMzMzFxpQM3MzMzMuIpAAAAAAAC5tkDNzMzMzNOZQGZmZmYm4LVAAAAAAAAegEAAAAAAANBnQDMzMzMzl5NAmpmZmZmZTEBmZmZmZqO5QM3MzMzMzDRAzczMzMyWskBmZmZmZjKUQGZmZmZmsnZAAAAAAAABmUAzMzMzMztxQDMzMzMzIqhAZmZmZmZekkCamZmZmaltQGZmZmamgb9AAAAAAAAgV0DNzMzMTAi4QAAAAACAIrRAZmZmZmaOa0AzMzMzM5mXQGZmZmbmOaRAMzMzMzMfr0BmZmZmZk6fQJqZmZmZoZxAAAAAAEAss0BmZmZmZgysQAAAAAAAn7NAMzMzMzNTYkCamZmZmUaiQDMzMzMzq3JAzczMzMz0YUDNzMzMTOmjQGZmZmZmtn9AAAAAAAAANEBmZmZmZiO1QGZmZmZmPoxAAAAAAACDp0AzMzMzc1y1QGZmZmZmiJBAAAAAAADAvUDNzMzMzFCRQDMzMzMzVY1AmpmZmZmJV0CamZmZGVCgQAAAAADAGLZAMzMzM3Nit0CamZmZWV+6QDMzMzMz3atAzczMzEwZs0CamZmZmeFzQM3MzMzMb5hAMzMzMzNHd0BmZmZmZoqWQJqZmZmZH45AzczMzExmtECamZmZGRmqQM3MzMyMjrZAzczMzEyHsUBmZmZm5k2mQGZmZmZmTIxAzczMzMylvUCamZmZmaF4QDMzMzMzf3JAMzMzMzNTtUAAAAAAAMx7QGZmZmYmfrpAMzMzM3NuuUAAAAAAQI7AQJqZmZnZbbFAAAAAAAAAT0BmZmZmZgp2QJqZmZmZQ5ZAZmZmZqaluECamZmZmQq3QAAAAADAb7JAzczMzMyUfEDNzMzMTL62QGZmZmbmQqJAMzMzMzMTWkAAAAAAAFBeQGZmZmbmZ7tAAAAAAADetUBmZmZmZtSTQJqZmZlZGrJAzczMzMx8XEAAAAAAAAqoQAAAAAAAj69AzczMzMwEmkAzMzMzM4N/QGZmZmamV71AAAAAAADYm0DNzMzMzAw0QDMzMzMzDYNAMzMzMzNTpkCamZmZGV+pQAAAAAAADqZAAAAAAIB2pECamZmZGWWzQGZmZmZm76RAZmZmZkY7wEAAAAAAQDK2QGZmZmbmMrNAzczMzMyMO0BmZmZmprS3QJqZmZmZFrVAMzMzMzNbbUBmZmZmZj+TQM3MzMzMXGVAZmZmZiYwv0AzMzMzMyGUQAAAAACAqL5AAAAAAACwcECamZmZmRucQDMzMzMzrplAMzMzM3PHskAAAAAAACKhQM3MzMzMfqFAmpmZmZmHl0AzMzMzM+tvQJqZmZmZlZJAZmZmZiayskCamZmZmXOcQM3MzMxMyKJAMzMzM3N/u0CamZmZGdSjQGZmZmZm85JAMzMzMzO2pEAzMzMzM2OUQDMzMzMzN3tAzczMzMxAc0BmZmZm5s67QDMzMzMzB3RAZmZmZmacgEAzMzMzM+N3QAAAAAAARJ9AMzMzM7M3s0DNzMzMzA22QGZmZmZmZlNAmpmZmRmhpkDNzMzMzLqHQGZmZmZmvIBAmpmZmZmUk0AzMzMzM9mNQDMzMzMz5aBAZmZmZmZVnEDNzMzMzKRuQDMzMzMzs59AAAAAAIBHpUBmZmZmZo5rQM3MzMzM3HZAmpmZmZk/gUBmZmZmZqyvQDMzMzMzU05AmpmZmRmutUCamZmZGX2yQGZmZmbmoa9AmpmZmVm+sUAzMzMzM8WLQAAAAAAA8J1AAAAAAADQeUCamZmZmUeJQJqZmZmZeZ1AAAAAAAA9mkCamZmZmeeAQAAAAAAAwDNAzczMzMzKgEBmZmZmZjaFQGZmZmamobFAZmZmZmY/lkAzMzMzM1uBQJqZmZmZMWxAMzMzMzPHcEBmZmZmZlCXQM3MzMzMjGBAZmZmZmbOcUAAAAAAAIKIQDMzMzMzG3pAAAAAAECYs0AzMzMzM1N+QDMzMzMzG2RAAAAAAEAxsECamZmZmduJQAAAAAAAwEhAZmZmZmbRtUDNzMzMzASZQGZmZmZmTmRAMzMzMzNjfUAAAAAAACSgQM3MzMzMSZZAAAAAAACIeEBmZmZm5iquQM3MzMzM8aNAmpmZmVkMukAAAAAAQAeyQGZmZmZmy6tAZmZmZmaUnkAAAAAAACOWQGZmZmZmJLdAzczMzMyGmkCamZmZ2am+QDMzMzMzS4RAAAAAAIDNsUCamZmZmYV2QAAAAAAAWpBAAAAAAAD8e0AzMzMz83GwQM3MzMxMS65AmpmZmZkJY0CamZmZmeGBQJqZmZmZRYFAzczMzEwRqUAAAAAAAGaDQGZmZmZmnn9AmpmZmdluv0AzMzMzM12cQJqZmZmZJ4NAMzMzMzPZiEDNzMzMzGiOQGZmZmZmRKFAmpmZmZl/kEBmZmZmZmOUQJqZmZmZGTVAzczMzMzMtUCamZmZmWeXQJqZmZlZ7rFAZmZmZmYGaUCamZmZmTODQGZmZmbm1LFAMzMzMzOjj0DNzMzMzJylQGZmZmZmpZFAZmZmZuYwtkDNzMzMzIehQAAAAABAq7FAMzMzM7P3u0BmZmZm5i+mQDMzMzMzI1RAzczMzMwggkDNzMzMjJa3QGZmZmZmNnBAZmZmZmZCdEBmZmZmZhp6QJqZmZnZBbZAMzMzMzM7ikDNzMzMzAiIQAAAAAAAbbhAMzMzMzOnmUAzMzMzMziaQAAAAAAAFaBAAAAAAADxokAzMzMzc5W4QM3MzMzMk6hAZmZmZmYxoUAzMzMzM5OMQAAAAADA4bFAAAAAAICFs0DNzMzMzDCwQDMzMzMzVpdAmpmZmRlTsEAAAAAAACyZQGZmZmZmiIJAMzMzMzP3l0BmZmZmZo6AQDMzMzMzM65AAAAAAAAegEDNzMzMzCxIQJqZmZkZLKBAmpmZmflGwEAAAAAAAOWSQAAAAAAA0ZVAzczMzMyahkDNzMzMzJRsQAAAAAAAJ5JAZmZmZmaWWEBmZmZmZjqIQJqZmZmZypBAZmZmZmYpokBmZmZmZsKQQAAAAAAAUGVAZmZmZmY3mkCamZmZmdkyQGZmZmZmJndAMzMzMzOlqkAzMzMzM8uRQAAAAABAkLRAmpmZmZltj0DNzMzMjDC3QGZmZmbmY7VAmpmZmRksokAAAAAAgH+zQDMzMzMzx7ZAzczMzMzsf0AzMzMzM79xQJqZmZmZPZRAZmZmZmamM0DNzMzMTIenQGZmZmYmnb9AzczMzEwjqUCamZmZmSmIQGZmZmZmFZBAmpmZmZkTrEDNzMzMTOKuQJqZmZmZzJ5AAAAAAAD4qEAzMzMzMwizQAAAAAAAcpdAAAAAAIAtq0DNzMzMjPW8QAAAAAAAmKtAAAAAAAAMcEAAAAAAgF6uQM3MzMxMdKNAmpmZmZlsq0CamZmZmeuHQGZmZmZmrZNAmpmZmVmitUCamZmZmU11QJqZmZmZY4pAzczMzMwTlUAAAAAAAIStQDMzMzMzHYNAMzMzMzOEl0CamZmZmT19QGZmZmZmRmhAmpmZmZnbgUAzMzMz84W0QM3MzMzMSoBAmpmZmZkSlkBmZmZmZgqRQDMzMzMzm5ZAMzMzM3PMsEDNzMzMzFyRQDMzMzMzw2dAAAAAAMBfsUAzMzMzM5icQM3MzMxMCaZAmpmZmVnvskDNzMzMTHmyQGZmZmbmYq9AZmZmZmbalUCamZmZmVeaQGZmZmamwrZAzczMzIyyt0AzMzMzM+NwQDMzMzMzE2VAzczMzMzCgEDNzMzMzIGdQM3MzMzMqoNAAAAAAICKoEBmZmZm5nqyQDMzMzMzxJ9AmpmZmVlwtkAzMzMzM3MzQM3MzMxMxbJAAAAAAMDet0BmZmZmZvKYQM3MzMzMWJBAAAAAAAAwV0CamZmZmVFoQM3MzMzMIINAMzMzM7MPukDNzMzMTJC0QDMzMzMz+3JAzczMzMzSskDNzMzMDPe7QAAAAAAAmphAZmZmZmZ+pkAzMzMzM4NVQDMzMzNzP7BAmpmZmVnuuUCamZmZGVCoQAAAAABAALxAAAAAAAC5lECamZmZGXWhQGZmZmZm8n5AmpmZmfk+wEBmZmZmZj6FQGZmZmZmZk9AAAAAAAB4vUAAAAAAAJGSQGZmZmZmhlJAAAAAAABVqUCamZmZmWCTQJqZmZlZD7BAmpmZmdkLt0AzMzMzM0m0QM3MzMzMar1AMzMzMzNUtUDNzMzMzDiZQAAAAAAAKHlAAAAAAABflUAzMzMzMxq/QJqZmZmZxa1AMzMzMzObq0CamZmZmdOVQM3MzMzMuZlAzczMzEzwpECamZmZGQKgQGZmZmZmWqxAmpmZmZlJaUAAAAAAAHBiQGZmZmZmllVAAAAAAAAYgkCamZmZGXeoQJqZmZmZsK5AAAAAAAB4Z0CamZmZmbiaQDMzMzMzz6BAMzMzMzMWk0DNzMzMzGGXQM3MzMzMMJRAZmZmZmYmOUBmZmZmZsSaQJqZmZmZU5tAMzMzMzNqkUDNzMzMzAiDQDMzMzMzs2FAZmZmZqZQskBmZmZmZpiBQAAAAAAAYbdAAAAAAABYd0AzMzMzs/KjQJqZmZnZ4rBAmpmZmZlZb0DNzMzMDMWxQAAAAAAAPpVAMzMzMzNbZkDNzMzMzM6DQJqZmZkZw7RAAAAAAAD8hkBmZmZmZkq5QDMzMzPzRbFAmpmZmdkos0DNzMzMDISxQGZmZmZmx59AmpmZmZnRgEDNzMzMzCGhQJqZmZmZ2TNAmpmZmRkkrkBmZmZmZraKQGZmZmYmt7ZAzczMzMwEr0DNzMzMTOSnQDMzMzMzAbhAZmZmZmYmYECamZmZmTeSQAAAAABAKLNAzczMzIwAtkAAAAAAAK2ZQGZmZmZmJIdAMzMzMzMYs0AAAAAAgBCjQGZmZmZmZINAmpmZmZlZNEAzMzMz87i6QJqZmZmZ+XNAMzMzMzNInkAAAAAAAGhyQGZmZmZmJk1AmpmZmZkTgUDNzMzMzOiIQDMzMzMzJ5pAMzMzMzN3dUAAAAAAQPS8QAAAAAAAjq9AMzMzMzMJp0AAAAAAwL63QGZmZmZmtKpAzczMzMzLuUDNzMzMzL2oQAAAAAAADotAmpmZmRnluEAzMzMzM2SSQAAAAADAYbdAzczMzAy9vkCamZmZmUWNQDMzMzMzK4dAMzMzMzO5uUDNzMzMzGSoQAAAAAAAAZFAzczMzMw6g0BmZmZmZrimQDMzMzMzH4dAzczMzMyOgkAzMzMzczu8QGZmZmZmLZRAMzMzMzOen0BmZmZmZj5jQM3MzMzMUrVAMzMzM3N8tECamZmZmVFjQGZmZmYmm7FAzczMzMy/n0BmZmZmZgZJQGZmZmZmnn1AMzMzMzOzWkAzMzMzMxNjQJqZmZmZvZJAmpmZmRn2o0BmZmZmZkanQM3MzMzMdoRAzczMzMz0rUBmZmZmJuqxQM3MzMwMNbdAZmZmZuZ1oUAAAAAAANaEQGZmZmZmHoFAZmZmZmamUkAzMzMzM9mBQGZmZmZmcptAMzMzM3NjtkAzMzMzM5tjQGZmZmZm9qRAZmZmZqZosUAzMzMz81a7QGZmZmZmZkJAAAAAAACyoUCamZmZmXSUQM3MzMxMkrJAMzMzMzNOk0AAAAAAANWrQAAAAADALbxAZmZmZmYat0AAAAAAAKBJQGZmZmZmC5RAmpmZmdmCskDNzMzMzIwzQDMzMzMz3YhAZmZmZmaBs0CamZmZmblOQJqZmZkZZa9AZmZmZmbBt0BmZmZmZhuXQM3MzMzMdG5AZmZmZuaTpECamZmZWX+yQAAAAAAAf5NAAAAAAAClrUCamZmZmYWPQJqZmZkZpaBAZmZmZiZftkCamZmZmXOVQJqZmZmZz5JAZmZmZmb8kkCamZmZGXqmQM3MzMzMrphAMzMzM/OKtUBmZmZmZgZYQAAAAAAAoEtAmpmZmZkWo0BmZmZmZvZ0QDMzMzPzWrtAZmZmZmbeY0BmZmZmZlJyQAAAAAAAV5dAmpmZmZkVkUBmZmZmZoeQQGZmZmZmlItAZmZmZmbGckDNzMzMzHOWQAAAAAAAsH1AZmZmZiYMtUBmZmZmJmK2QDMzMzMzI2tAmpmZmVkgs0BmZmZmZmiWQM3MzMzMSI1AmpmZmZkLl0AAAAAAgIi5QGZmZmZmoJFAmpmZmRkuoUCamZmZmZF8QAAAAAAAtIFAMzMzMzNPo0CamZmZmUaoQGZmZmZmMoBAZmZmZmYCikBmZmZmZqZGQGZmZmZm+ptAMzMzMzPTbkBmZmZmZlpwQAAAAACAnbFAAAAAAEBotUAzMzMzM2mEQDMzMzMzfJJAmpmZmZn7g0AAAAAAAOx9QM3MzMzMDDRAMzMzM3MnsUCamZmZmelwQM3MzMzMD69AMzMzMzNkl0AzMzMzM2GIQM3MzMxMcKtAAAAAAAAUcUDNzMzMzHurQM3MzMzMX6pAzczMzIxUvUAzMzMzM3STQDMzMzPz47RAZmZmZmbafkBmZmZmZr+TQM3MzMzMGHhAzczMzMwMVUDNzMzMzJqZQAAAAAAAEF5AMzMzM3N5sUBmZmZmZkSAQJqZmZnZVbZAAAAAAIDYsEAAAAAAQG+5QJqZmZmZCpNAMzMzM7MXvUAAAAAAAHhxQJqZmZlZWLZAZmZmZuZiqECamZmZmUS5QM3MzMzMHIVAZmZmZmaDq0DNzMzMzNiMQGZmZmZmWZFAmpmZmZkumUAAAAAAQLG1QAAAAAAAYEZAmpmZmRk+qUAzMzMzcwm0QM3MzMzMnJJAMzMzMzMTi0BmZmZmZoakQDMzMzNzhbJAZmZmZmZSr0BmZmZmZuZFQDMzMzMz96xAZmZmZmaOa0DNzMzMzLaRQJqZmZmZ/J5AAAAAAMBytkCamZmZmcFgQJqZmZkZVrhAZmZmZmbogUCamZmZmbaqQJqZmZmZsq1AmpmZmRn7skBmZmZmZn2WQAAAAAAAhoJAzczMzMyHkkDNzMzMzMwyQDMzMzMzObNAAAAAAAAqjEAzMzMz8/uyQM3MzMzMzJFAMzMzM3Oqu0BmZmZmZryEQM3MzMzM1GVAMzMzMzMbdEAAAAAAgAW0QDMzMzMzJ4FAzczMzEx3u0BmZmZmppizQJqZmZmZG4NAmpmZmZn9c0CamZmZmSljQJqZmZmZe7tAMzMzMzODdUCamZmZmV6WQM3MzMzM5JxAmpmZmRnDt0BmZmZmZqp6QGZmZmZm3ZlAmpmZmZlfnkAzMzMzM69zQM3MzMzMJolAMzMzMzMbfUDNzMzMDA26QAAAAAAAJ5JAAAAAAACejUBmZmZmhlvAQAAAAAAAdK1AmpmZmdljskBmZmZmZgi4QM3MzMzM8I1AAAAAAAB4jUCamZmZmZF6QM3MzMzMtLNAzczMzIxXukDNzMzMzIxoQM3MzMzMW6BAAAAAAAAcekCamZmZmfWaQM3MzMzMUJlAmpmZmRnDqEAAAAAAQHG0QM3MzMzMPo5AzczMzMxge0CamZmZmTeWQGZmZmZmMnRAmpmZmZnpc0BmZmZmZnZkQAAAAAAA4aZAZmZmZmYWWUAzMzMzMxNxQJqZmZmZIJlAzczMzMyHlkDNzMzMTPCgQGZmZmZmRaxAZmZmZqY8tkDNzMzMTFG3QM3MzMzMDDNAzczMzIykv0AzMzMzM5dzQDMzMzPz8rdAZmZmZmZKh0BmZmZmZvCSQAAAAAAAvphAzczMzAxCsECamZmZmX+RQM3MzMyMTb9AmpmZmZk5kUAAAAAAAMi2QAAAAACA0LBAAAAAAAA3lkAAAAAAgKu6QM3MzMwMWrJAAAAAAAB0hECamZmZGYipQM3MzMwMCrFAmpmZmZmrlUBmZmZmZvZ5QDMzMzMzbKRAZmZmZmaml0AzMzMzM7OoQM3MzMzMPFRAMzMzM7NEskBmZmZmpn65QGZmZmZmOoJAmpmZmRmOv0AAAAAAAF+rQDMzMzNzDbpAmpmZmZkylEAAAAAAAGBIQDMzMzMzxLtAMzMzMzMqnECamZmZmYSXQGZmZmZmDJ1AAAAAAAAQZUAzMzMzc8O4QJqZmZmZ0ZlAmpmZmdn4uEBmZmZmJvexQAAAAAAAuZFAZmZmZmZVmUBmZmZmZkSlQJqZmZmZ5KdAZmZmZmamm0AAAAAAwJW4QAAAAAAAq5lAAAAAAAAUgkAzMzMzM9eNQM3MzMzM7EVAmpmZmZlJl0AAAAAAAIBxQAAAAAAAtZ1AMzMzMzNjhkAAAAAAAHCyQJqZmZmZF41AmpmZmdlyukAzMzMzM62cQAAAAAAA0ZhAAAAAAADgUkCamZmZmSVwQAAAAAAAeZdAMzMzMzMzM0BmZmZmZhG7QM3MzMxMZbFAzczMzMxYqUAzMzMzMzd0QJqZmZmZ5JVAZmZmZmYum0AAAAAAACu3QDMzMzOzO6JAzczMzMyujUCamZmZmeOBQGZmZmZmxoVAMzMzMzOXlUCamZmZmflHQAAAAAAAgEZAzczMzMxDs0DNzMzMzDxdQM3MzMzMtpNAmpmZmZmTqUBmZmZmZh+WQGZmZmZm7K5AAAAAAIB4o0AzMzMzM3NxQAAAAAAA7JBAAAAAAACch0AAAAAAAGipQM3MzMzMRo1AMzMzMzMirkDNzMzMzImVQJqZmZmZDKRAAAAAAABgZUCamZmZmfWYQJqZmZlZiLJAmpmZmZlBukBmZmZmZgZGQJqZmZmZGptAZmZmZmbGRkCamZmZWbuxQAAAAAAAIolAZmZmZiaTs0AAAAAAAO2rQGZmZmZmlr9AAAAAAADTsUCamZmZWdq4QGZmZmZmxlBAMzMzMzMSkkCamZmZmaicQJqZmZmZFpdAzczMzMypmkBmZmZmZuOuQGZmZmZmv5RAMzMzMzM7ekAzMzMzM+tpQM3MzMzM7pBAZmZmZmZfn0AAAAAAwPq2QJqZmZkZw6RAzczMzMwwmUCamZmZmSlTQDMzMzMzS3BAmpmZmdkpuUDNzMzMzKxwQAAAAAAAEo5AmpmZmZmblUBmZmZmZtiBQGZmZmZm3ZVAAAAAAADAYkBmZmZmZuZkQGZmZmZm6b1AZmZmZmYIi0CamZmZ2Qm4QGZmZmZmxmVAZmZmZmbWk0BmZmZmZtC4QAAAAAAAEpVAzczMzMx4fUAAAAAAwCu3QJqZmZmZ8pVAzczMzMywhkBmZmZmZqaeQJqZmZnZYrBAMzMzMzNDVEDNzMzMzDxTQAAAAADAsbZAMzMzMzMzNEBmZmZmZv55QJqZmZmZJ49AzczMzEySqEDNzMzMzJRwQGZmZmZm5jRAzczMzMwMNUDNzMzMTOCxQDMzMzMzo2dAMzMzMzNhjEBmZmZmZuZIQM3MzMzMc5dAZmZmZibrs0AzMzMz8/G4QAAAAADA5bpAzczMzMzmhEDNzMzMzPCdQDMzMzPzBbJAAAAAAEBdvECamZmZmTejQJqZmZmZAaBAmpmZmZlxZEBmZmZmZpGmQDMzMzMz66JAAAAAAIDpoUAzMzMzM0uBQGZmZmZmE6tAMzMzMzMtlEDNzMzMzFC0QJqZmZkZSqlAAAAAAAAce0CamZmZmTGdQM3MzMyMYLZAZmZmZmZmeEDNzMzMTDqmQM3MzMzMbK5AMzMzMzOzi0BmZmZmZuyPQGZmZmZmxnBAMzMzM7M4oUDNzMzMDP64QDMzMzMz+JlAzczMzEwhrECamZmZmcSUQAAAAAAAaHpAZmZmZqYTskBmZmZm5j26QDMzMzMz64NAzczMzMx8XUCamZmZGTmjQJqZmZnZY7ZAmpmZmRkIskAAAAAAAGqCQM3MzMzMcIdAAAAAAAAJlkAAAAAAADyHQGZmZmbmMq5AZmZmZqapukBmZmZmZvCUQAAAAAAAgJJAmpmZmdmOwECamZmZ2da8QJqZmZmZjXxAmpmZmZm5dEAzMzMzM9NgQAAAAAAAYF9AmpmZmZmeo0CamZmZGWKlQDMzMzMzk1JAZmZmZmamUUAAAAAAAAS5QDMzMzMzq2RAZmZmZmYunUAzMzMzM02QQDMzMzMzE2BAMzMzM3MfvUAzMzMzM7M4QM3MzMzMxGlAZmZmZmbttkCamZmZmWOqQM3MzMzMCJVAzczMzAxSs0AzMzMzs2SzQAAAAACA669AzczMzMxQuEAAAAAAgK6qQAAAAABAtbhAZmZmZmZOmkCamZmZmfyuQAAAAAAABINAMzMzMzOhpkBmZmZmZquXQDMzMzNziLpAMzMzMzM9skDNzMzMzJ64QJqZmZmZWYhAAAAAAAC8cUAAAAAAANq1QM3MzMzMJohAZmZmZmbOikDNzMzMDIK9QGZmZmamXbdAmpmZmZmbmkBmZmZmZjJ9QAAAAAAAVp5AAAAAAAAznkAzMzMzMzyWQM3MzMzMVo5AZmZmZuaytkDNzMzMzPxrQDMzMzMze3hAMzMzMzNdiUAAAAAAANhlQDMzMzOzbahAMzMzM3O5ukCamZmZmfqVQJqZmZmZFYpAAAAAAACqqEAAAAAAACioQM3MzMzM8aBAzczMzMyijkDNzMzMzHxQQDMzMzMzP4ZAMzMzMzODnkCamZmZ2RCxQDMzMzMzrqRAzczMzMyOwEAAAAAAALCxQJqZmZmZ+ptAzczMzMxsikAzMzMzM+mSQDMzMzMzczRAmpmZmZmzikAzMzMzM/qiQDMzMzNzbbRAmpmZmZk5RkCamZmZGZ+nQDMzMzMzwZ9AZmZmZmZOe0BmZmZmZiY0QDMzMzPzBbdAMzMzMzNYlkAAAAAAAJBzQDMzMzOzP65AmpmZmZmhfECamZmZmVV1QDMzMzMz45RAAAAAAIALoUAAAAAAAHhiQJqZmZmZk4lAMzMzM3Pdu0DNzMzMzMx1QDMzMzMzE2BAZmZmZmZCskDNzMzMzCWbQGZmZmZma5dAzczMzMwMSUAAAAAAABecQJqZmZmZIX9AzczMzMx6tUBmZmZmZu2yQJqZmZmZEXdAZmZmZubQt0AzMzMzs/ikQM3MzMzMUrtAAAAAAAAUcUBmZmZm5mu1QGZmZmbmebNAZmZmZmapk0CamZmZmdlbQJqZmZmZ+UVAmpmZmZlBc0BmZmZmZvp3QM3MzMzMEJRAzczMzEx+vUAzMzMzM1iRQGZmZmZm5lhAZmZmZiYzukBmZmZmZkSwQAAAAADA8bZAAAAAAABQW0AzMzMzM/OKQAAAAABgusBAmpmZmZnxjEDNzMzMzNiaQJqZmZnZRLdAMzMzM3PYskCamZmZmVqTQJqZmZmZAYVAMzMzMzPjd0CamZmZmaiwQM3MzMzMupBAZmZmZmYHlUAAAAAAAFWQQJqZmZkZd6dAAAAAAIBxvUDNzMzMTB6qQM3MzMzMJGRAAAAAAIB0u0BmZmZm5nC0QDMzMzMzO2xAMzMzMzMrcUBmZmZmZlSqQM3MzMxMx7tAmpmZmdlGt0CamZmZ2W+3QM3MzMzMwZlAAAAAAEB5tkBmZmZm5oyxQGZmZmZm6a5AAAAAAAB0lECamZmZmWuJQDMzMzMzU5FAmpmZmVm1vEAzMzMzM2NyQJqZmZmZCY1AAAAAAACUh0CamZmZmVauQM3MzMzMGJZAZmZmZmYWqUCamZmZmTl3QJqZmZmZeZNAZmZmZmb2V0BmZmZmZuOjQJqZmZnZMLlAmpmZmZnzlkDNzMzMzKyPQAAAAADAIrpAZmZmZqZIvEAAAAAAAPKJQM3MzMzM0phAZmZmZmbqiUAzMzMzM+dyQAAAAAAAQoZAmpmZmZnilEAAAAAAwPC0QM3MzMwMT7pAmpmZmZmZSUAAAAAAAJCPQM3MzMwM77JAZmZmZmaXp0DNzMzMzDRkQAAAAACAL6RAAAAAAEAfvkAAAAAAQGm1QDMzMzMzvL9AZmZmZmbaiUAzMzMzM7OsQM3MzMzM7EhAMzMzMzMFgkBmZmZmpo+xQJqZmZmZRXVAmpmZmZn3m0BmZmZmZmSMQJqZmZmZsWNAmpmZmZktgkAzMzMzM0d6QDMzMzOzmL1AAAAAAABls0BmZmZm5ge4QJqZmZmZmUZAZmZmZqYstUAzMzMzs4akQAAAAAAAPodAmpmZmZm9uUBmZmZmJk26QAAAAAAApKpAMzMzMzP7aEBmZmZmZoqCQGZmZmZmeLxAzczMzMxttEDNzMzMzHCxQM3MzMwMzLNAmpmZmZkdeUCamZmZ2WOxQDMzMzPzILpAMzMzMzPKpEAzMzMzM0NSQJqZmZmZ7pJAZmZmZqZ2u0CamZmZmeGPQGZmZmam3bVAzczMzExPuECamZmZmQKQQJqZmZmZuVRAmpmZmZltvkAAAAAAACagQJqZmZkZ+apAMzMzM/NctUCamZmZmSicQGZmZmZm7IZAZmZmZuaap0AzMzMzs8+sQJqZmZmZvJVAmpmZmZklcUBmZmZmZquUQJqZmZmZKKFAzczMzIyjvkDNzMzMzBepQM3MzMzMRGBAzczMzMyihUAAAAAAAGBVQGZmZmZmwbpAZmZmZmZ+aUBmZmZmZoqgQJqZmZnZpblAAAAAAACMekAzMzMzs9WpQM3MzMzMHGVAmpmZmZm5b0DNzMzMzKxoQGZmZmZm/K1AzczMzEwioEAzMzMzc8izQDMzMzMz0JFAZmZmZuYeo0CamZmZmb+TQJqZmZmZuJxAAAAAAABgRkAAAAAAAISSQJqZmZmZP5tAAAAAAMCowEAzMzMzc5W5QAAAAACAfr5AMzMzMzOzOUDNzMzMTI+4QDMzMzOzZ6lAzczMzMxMSUAAAAAAQOC+QJqZmZmZz4ZAmpmZmRm8pEAzMzMz81G3QJqZmZmZWWxAAAAAAADrkEAAAAAAAK6BQAAAAADAErFAMzMzMzODVkDNzMzMzPKgQM3MzMzMNIFAmpmZmZm5S0CamZmZ2Zy4QJqZmZmZAWRAmpmZmZlJe0BmZmZmZtWbQAAAAACAsLVAAAAAAAAnpkAAAAAAgA6sQAAAAAAA4E9AMzMzMzNJg0AAAAAAADKLQAAAAAAAyoJAmpmZmZnpW0CamZmZGZ63QJqZmZmZp65AMzMzMzPhi0AzMzMzM0iaQM3MzMzMjapAmpmZmdl4s0DNzMzMzBhzQGZmZmZmvn9AZmZmZubipEDNzMzMzFx4QJqZmZkZwqJAZmZmZmZchEAzMzMzM4NjQDMzMzOz2KVAMzMzMzODUUDNzMzMzHB5QAAAAAAA9H9AZmZmZmYwhEBmZmZmJiezQGZmZmZm15lAMzMzMzNplECamZmZmfl8QDMzMzMzU05AzczMzMzGiUDNzMzMTF2gQGZmZmZmbntAAAAAAACcdEBmZmZmZhSFQJqZmZmZUWRAAAAAAEDPvkBmZmZmZtGeQM3MzMzMqH5AAAAAAABahUCamZmZ2Xq/QDMzMzMzZ3JAmpmZmZncmkDNzMzMzCGSQM3MzMzMT7RAzczMzEwrtECamZmZmUlkQM3MzMzMmotAAAAAAAD2lEDNzMzMzJxRQJqZmZmZm4RAMzMzMzPUkkBmZmZm5jWzQGZmZmZmuoJAmpmZmZkUm0CamZmZGUWyQDMzMzMz011AmpmZmRnxskAAAAAAQDC1QGZmZmbm9rZAMzMzMzObbkAAAAAAAJhrQDMzMzMzpbBAAAAAAAB3l0AAAAAAAHBWQAAAAAAA8G9AAAAAAICao0AAAAAAAIOWQJqZmZlZ1bRAMzMzM7NurkAzMzMzMy+LQAAAAAAAAoBAAAAAAAB2iUCamZmZmUl4QM3MzMzMXFdAZmZmZma3lUCamZmZGZ2mQDMzMzMzc69AmpmZmZkplUCamZmZmQGdQAAAAAAA8IxAzczMzMxQhUDNzMzMzMqbQM3MzMzMYJxAAAAAAECdu0DNzMzMzMScQGZmZmZmwaRAzczMzMxlmkAAAAAAAHuQQM3MzMwMprxAMzMzM7PJokBmZmZmZm5lQGZmZmbmLqZAZmZmZubMrkAzMzMzM0uLQJqZmZmZ5pdAmpmZmZlPu0AAAAAAAFiGQGZmZmZmRppAZmZmZmZgr0DNzMzMTKOpQJqZmZkZlbxAMzMzM3NKuUCamZmZGeS/QGZmZmZmt5RAZmZmZmbbmUAzMzMz83O+QGZmZmbm4K5AzczMzEx+o0AAAAAAAGaLQDMzMzNzp7BAzczMzMwjn0BmZmZmZvieQJqZmZmZlYFAmpmZmZnZQEBmZmZmZgiRQGZmZmZmbmxAZmZmZmaLk0CamZmZmZlCQJqZmZmZ5YtAAAAAAAB8fkBmZmZm5gOtQGZmZmZmtmFAmpmZmZkxhUBmZmZmpnTAQGZmZmamlbtAmpmZmRlJqkAAAAAAAMh0QDMzMzPzS7dAmpmZmZltcUBmZmZmZj+dQGZmZmamz7BAAAAAAABkm0AzMzMzM02DQJqZmZkZL7dAmpmZmZm3jkAAAAAAAD2nQGZmZmZm1mhAmpmZmZnuk0AAAAAAAEavQDMzMzMzn61AZmZmZmZqiUAAAAAAAGKIQDMzMzMzR4FAAAAAAACEeUDNzMzMTB6hQDMzMzOz67VAAAAAAADIbkCamZmZmUCUQJqZmZnZqrtAAAAAAEAetkDNzMzMzP2SQGZmZmYmrr5AAAAAAABogEAzMzMzM5G0QGZmZmZmhlFAMzMzM3PZu0AzMzMz82K8QJqZmZlZmMBAAAAAAIB9pkDNzMzMzFRwQDMzMzMzC6lAMzMzMzPEkUAzMzMzMym6QDMzMzMzl39AMzMzMzNPlECamZmZ2by1QDMzMzMzl5VAMzMzMzODZ0AzMzMzM9SQQGZmZmZmOrNAAAAAAAC/pkDNzMzMzNCJQJqZmZmZ2VRAzczMzMwBtUAzMzMzM0KsQAAAAACA87lAMzMzMzNdmECamZmZmTO/QGZmZmZmLZhAmpmZmZm9oECamZmZmf1xQM3MzMzMzDNAMzMzM3O2sUAzMzMzM3NEQM3MzMzMXaBAMzMzMzPDmECamZmZmVqUQGZmZmZmxktAAAAAAMA9tUDNzMzMTEKhQJqZmZmZ4J1AmpmZmZnxb0DNzMzMTDe0QDMzMzMz9YRAAAAAAIDSqEAAAAAAwJ25QJqZmZnZn7ZAAAAAAADfp0CamZmZGUy0QAAAAACAasBAzczMzAyIs0AzMzMzMzm6QM3MzMzMlIFAzczMzMzcVkDNzMzMzOaJQM3MzMzMSoNAZmZmZmaIg0BmZmZm5o23QM3MzMzMypxAzczMzAzavEDNzMzMDKa8QM3MzMxMhKRAZmZmZoYqwEAAAAAAABR3QDMzMzMzZJBAMzMzMzMblkAAAAAAADhlQDMzMzNzArFAZmZmZmY+pUCamZmZWd24QM3MzMzMzElAAAAAAIDsqEAAAAAAAGSJQDMzMzMz35FAAAAAAAAARkAAAAAAAMKpQAAAAAAAfJ1AzczMzMxOoUDNzMzMzCx+QGZmZmZmDmtAMzMzMzNzNECamZmZ2cizQJqZmZmZI49AMzMzMzM9ikAAAAAAAE26QJqZmZmZdKRAMzMzM7Por0CamZmZmS+DQJqZmZmZLXlAMzMzMzNzk0AzMzMzMzNHQM3MzMzMLoJAzczMzMwQmECamZmZGTC0QJqZmZkZfLpAAAAAAACgV0BmZmZmZqZLQAAAAAAAAGpAAAAAAIDrrUCamZmZma60QM3MzMzM6bpAMzMzM7NsqUBmZmZm5u+4QM3MzMyMX7FAzczMzAyZvEAAAAAAACewQJqZmZmZzYVAzczMzMwUZUCamZmZmYOlQAAAAAAAUFFAzczMzMwse0AAAAAAANBaQJqZmZmZmYpAmpmZmZnYtkAzMzMzM3NbQGZmZmZmpjNAAAAAAACcgkAAAAAAAKOjQJqZmZlZD7RAzczMzMxAn0AAAAAAAB6NQGZmZmYm5LxAMzMzM7PtrkBmZmZmZk5wQGZmZmZmholAZmZmZmYEs0AAAAAAAICFQJqZmZmZBXJAzczMzMwsZ0AAAAAAADKOQM3MzMzMnHBAAAAAAADCqUDNzMzMTAuwQJqZmZkZ8qVAMzMzMzN+mEDNzMzMzO2cQDMzMzPzjLdAAAAAAIAxoECamZmZWd2wQGZmZmZmBodAZmZmZmYCdUCamZmZmcqXQJqZmZmZX7NAAAAAAABMj0CamZmZmal7QAAAAACAL7pAAAAAAABaiEBmZmZm5jarQAAAAACAGrNAAAAAAAAYYUDNzMzMzARnQAAAAAAAjJRAmpmZmRlvukCamZmZma+HQJqZmZmZ5ZlAmpmZmRmBp0CamZmZGeW/QGZmZmZmXItAzczMzMyUa0CamZmZmVeUQAAAAAAAsIhAmpmZmZlWk0CamZmZmal3QDMzMzMzhYJAMzMzMzMTSUAzMzMzM3M0QAAAAACAbKxAAAAAAIDTpkBmZmZm5mKvQDMzMzMzt4pAmpmZmVlOsEDNzMzMjDizQGZmZmZmUolAMzMzMzMjiEBmZmZmZkOeQDMzMzMz81NAAAAAAABIaUAAAAAAALqQQDMzMzMzP49AZmZmZmZGXEAzMzMzM3+fQAAAAAAAuZZAZmZmZmbWbkBmZmZm5oG3QDMzMzNzubZAzczMzEzbtUAAAAAAAJ2yQJqZmZmZxpJAZmZmZmYai0AzMzMzMxNJQAAAAACAfqdAAAAAAACYb0AAAAAAgKK4QM3MzMwMubpAzczMzMxMRkBmZmZmZkZsQAAAAACAqrtAzczMzMzKj0DNzMzMzHqAQAAAAAAAxaBAmpmZmdlRt0AAAAAAALKPQJqZmZmZJpNAAAAAAAAoeECamZmZmeqcQJqZmZmZTZBAAAAAAADbnUDNzMzMzGCGQJqZmZmZWJpAMzMzM3M8ukCamZmZ2Z++QAAAAADAXLhAMzMzM7PPpkAzMzMzM3M0QAAAAAAAbIZAmpmZmZm5b0AzMzMzM1iRQM3MzMzMzHVAzczMzExhrkBmZmZmJru6QGZmZmZmLnxAAAAAAAAEe0DNzMzMzDmbQJqZmZmZlXJAAAAAAIAYo0BmZmZmZq6NQJqZmZmZNadAZmZmZuYNqkDNzMzMzGufQM3MzMxMTLJAmpmZmRkLoUAAAAAAAF2UQGZmZmZmNndAzczMzMzTokBmZmZmZgu4QAAAAAAAO7JAAAAAAIAhtECamZmZ2fa/QJqZmZmZeVFAZmZmZmYbukAzMzMzM3CYQM3MzMzMnIdAmpmZmRkSq0AzMzMzs5S4QDMzMzMzAZpAMzMzMzPDaEBmZmZm5p23QGZmZmYmDLBAAAAAAMBct0AzMzMzM7OzQAAAAABAyrtAZmZmZmZYjECamZmZmW+OQAAAAAAA7oJAZmZmZmashEBmZmZm5hSwQGZmZmamjrFAAAAAAIClqUCamZmZmdlLQM3MzMzM6ZNAMzMzMzPffkBmZmZmJq6zQDMzMzMzQ3RAzczMzMyMM0CamZmZGdOlQDMzMzMzRYRAMzMzMzOpjECamZmZmQuVQJqZmZmZBYVAAAAAAEChuUAzMzMzM8dwQM3MzMyMqbxAzczMzAxKtECamZmZ2X6xQM3MzMzMnGhAMzMzMzNze0AAAAAAAIAzQM3MzMxMdqBAmpmZmZm3p0DNzMzMzCmdQM3MzMzMW5ZAZmZmZma+kEBmZmZmJjm5QGZmZmZmYIVAmpmZmRmUrkAzMzMzMwWuQM3MzMzM8oRAAAAAAEDIvkAzMzMzMzMzQAAAAACAV6pAMzMzMzOne0BmZmZmZmY0QJqZmZkZU6JAAAAAAABAOUBmZmZmZhGSQJqZmZmZGWJAMzMzMzPveUCamZmZmblmQJqZmZkZSaFAMzMzMzO/fEBmZmZmZn5qQAAAAAAAADlAzczMzEy1qEDNzMzMzFRqQGZmZmZm3atAMzMzMzNAoEBmZmZmZpCvQAAAAAAAQrRAzczMzMz9kECamZmZmSCaQM3MzMzMZ5FAMzMzMzPDWkAzMzMzMxNDQM3MzMxMw7hAMzMzMzMDZ0CamZmZmWOaQDMzMzMzM2FAzczMzMwQd0CamZmZmYG9QGZmZmZmVJxAMzMzM7PyqUAAAAAAAByGQGZmZmYmyLtAmpmZmRkhskAzMzMzM/NIQM3MzMxMLahAmpmZmVl2uUDNzMzMzKxUQDMzMzOzxrhAAAAAAAC7n0DNzMzMDCy6QDMzMzOzTLxAzczMzEw9q0BmZmZmZrJ5QJqZmZmZXJhAMzMzMzNTjkCamZmZmeGJQJqZmZkZxa1AzczMzMxUl0BmZmZmZuZGQGZmZmZmSohAzczMzAwvs0AzMzMzM2tnQJqZmZmZOXNAmpmZmVnesEDNzMzMjNSyQJqZmZkZvadAzczMzMyxoEBmZmZmJjC9QAAAAACA8KFAmpmZmZk5Q0AzMzMzM8enQJqZmZmZiZdAZmZmZmZ2ZEAAAAAAAKCZQDMzMzOzDK5AmpmZmZkOtkAzMzMzM8NTQGZmZmZmspdAAAAAAABhoUAAAAAAAMaLQJqZmZlZ1rBAMzMzMzNzRUBmZmZmZhp2QJqZmZkZ0bNAmpmZmdmusUCamZmZmTOFQDMzMzMzVZNAmpmZmZn/j0AAAAAAwPa/QM3MzMxMtLFAMzMzMzOQlkCamZmZmRkzQJqZmZkZnbxAZmZmZmYkq0BmZmZmZop4QAAAAACALa9AmpmZmdkzvUAAAAAAAByKQGZmZmZm2ZpAMzMzMzOmkkAAAAAAANaSQDMzMzNzkLZAmpmZmZm5U0CamZmZmQSQQAAAAAAAgF5AZmZmZubKuUCamZmZmcOaQAAAAABAMrZAMzMzMzOTUkDNzMzMTGasQDMzMzMz94VAAAAAAEBmsUAzMzMzM3aRQGZmZmZmEI1AmpmZmZmJW0CamZmZmRWaQDMzMzMzsqtAzczMzMyAf0AzMzMzM4N7QDMzMzMz/pFAMzMzM7NWo0AAAAAAAIWTQAAAAAAA3HNAZmZmZma4gEDNzMzMzNR8QAAAAAAA/HRAzczMzMxiqEDNzMzMzEx0QDMzMzMzypVAAAAAAICqqkDNzMzMTI+oQAAAAAAAfHtAMzMzMzPDhEDNzMzMjJeyQAAAAAAAJJBAMzMzM7M1q0BmZmZm5gClQAAAAAAANHtAAAAAAAAwc0AzMzMzswKlQAAAAAAABZRAAAAAAACOq0AzMzMzM4mBQM3MzMzMzE9AzczMzEwJtEDNzMzMzL2wQAAAAACABrdAAAAAAAAjkkAAAAAAgCeoQDMzMzMzD3FAAAAAAABgrEAzMzMzM9N3QAAAAAAALpBAAAAAAAAASkAzMzMzM2+EQM3MzMzMzFFAZmZmZqZSsEAzMzMzM3ecQGZmZmZmcK9AAAAAAACgS0DNzMzMzHi5QDMzMzMzt4pAMzMzM3M6wEDNzMzMzExbQDMzMzMzA1dAAAAAAAC5qkAAAAAAAMivQGZmZmZmHnVAAAAAAIDBqECamZmZmRGWQGZmZmZmDa9AAAAAAADeqkCamZmZmTlFQDMzMzNzVbVAAAAAAADegUAzMzMzM3q1QGZmZmZmNlhAMzMzMzPDW0CamZmZmZlXQM3MzMzM3oxAMzMzMzOjYUAzMzMzM6WDQM3MzMxMyLVAZmZmZmZ2k0BmZmZmZh+UQGZmZmZmTZ5AAAAAAACQXUDNzMzMzEh8QJqZmZkZEaVAzczMzMxai0AzMzMzM8yTQGZmZmZm7n5AAAAAAAD4iECamZmZmblaQGZmZmZmMIZAmpmZmZnBgUAAAAAAwEy/QGZmZmZmOoFAZmZmZmYeZ0CamZmZmSKRQGZmZmbmyaxAzczMzMxhm0CamZmZ2Sq8QAAAAACAkLRAmpmZmZnaoEBmZmZmZmY4QDMzMzMzH3tAAAAAAMDntUDNzMzMTFGxQM3MzMzMIo5AZmZmZmbTlkBmZmZmZryNQM3MzMzMdJxAzczMzMwDmUAAAAAAAPR4QJqZmZmZZaxAZmZmZmZGckCamZmZmVFrQGZmZmbmz7NAZmZmZmY9lkAzMzMzM/mnQGZmZmamUrJAmpmZmZkNuECamZmZmYqWQJqZmZkZUqpAZmZmZqY/skCamZmZmQVxQJqZmZkZeqxAAAAAAAD4YEBmZmZmZp+UQM3MzMzMrGxAAAAAAAAkd0AzMzMzM1K2QAAAAAAARZNAMzMzMzPnq0AzMzMzM9NUQDMzMzPzY79AMzMzMzMbgkAAAAAAQNK9QAAAAAAAiqxAmpmZmZkpbkCamZmZmTyuQGZmZmZmPnhAAAAAAAB8gECamZmZGXGgQM3MzMzMTDRAMzMzMzMzM0AzMzMzM5anQDMzMzPzi7tAAAAAAACakkDNzMzMzGCxQGZmZmZmmI9AzczMzMzLmkDNzMzMzLqAQDMzMzMz41JAZmZmZmaBuEAAAAAAAJBRQAAAAAAAZoxAmpmZmZmJakAzMzMzM8NzQDMzMzMz3JBAMzMzMzOlgUBmZmZm5hG4QJqZmZkZdKBAmpmZmRmfo0CamZmZmelzQGZmZmYmm7xAmpmZmZlBZ0AAAAAAAGB8QDMzMzPzYb1AZmZmZmY+j0BmZmZmZoOiQGZmZmammbhAzczMzMzVlkBmZmZmZgZ6QJqZmZlZBbNAZmZmZuaDqUBmZmZmZmJ2QJqZmZmZ96ZAZmZmZmYsskAzMzMzczixQGZmZmZmJoJAZmZmZmZ+o0AzMzMz8xm3QGZmZmZmtZVAZmZmZmZmM0DNzMzMzHSZQJqZmZkZkbdAMzMzMzMzRkAAAAAAgPGpQM3MzMzMLp1AAAAAAIAIr0DNzMzMzHxjQM3MzMxMsqxAZmZmZmamUUAAAAAAAJuRQM3MzMzMXFJAmpmZmRnaokAzMzMzswC7QM3MzMzMt5hAMzMzM3PStUBmZmZmpta2QDMzMzOzGLlAZmZmZqaCt0DNzMzMzFqqQJqZmZmZB5hAMzMzMzPikEBmZmZmZrZUQM3MzMzMgZ9AAAAAAEDPtEAAAAAAAFqFQDMzMzMzvJNAZmZmZqYivkAAAAAAAFBgQAAAAACAe6RAAAAAAABNnUAAAAAAACyKQAAAAAAAGHlAMzMzM/Pmt0BmZmZm5lC5QDMzMzMzIJxAMzMzMzPAu0AAAAAAQHawQM3MzMzMIJ9AZmZmZmZxnkAzMzMzM3+PQGZmZmbmrLNAzczMzAzLukBmZmZm5nm5QM3MzMzMToNAAAAAAAC4Y0BmZmZmZiKAQAAAAAAAeKJAzczMzAxfuEAzMzMzM+ifQDMzMzMz7qVAzczMzMwUsEDNzMzMzJeUQGZmZmam8rFAAAAAAMC8uEAAAAAAgBupQGZmZmYmcLNAMzMzM/OMvEAzMzMzM8uxQJqZmZmZeUZAAAAAAIBGu0CamZmZmQSQQDMzMzMzUrZAAAAAAACAM0BmZmZmZqyIQAAAAAAA4rJAmpmZmZl3qEAAAAAAgFKqQM3MzMxM5KRAAAAAAAD4aEAzMzMzM/ubQDMzMzMzszNAMzMzMzPhlUCamZmZmbl5QAAAAAAAKIdAmpmZmVnRtkAzMzMzczi2QGZmZmZm5j9AZmZmZqYSukAAAAAAAAeVQDMzMzMzzJxAMzMzMzNnlkCamZmZmdFqQM3MzMzMDotAZmZmZmY6lUDNzMzMTJaoQJqZmZnZt7FAAAAAAADbkEAzMzMzM/OAQJqZmZkZEaJAZmZmZuZkqUAAAAAAAKBYQJqZmZmZ+VVAAAAAAACBnkCamZmZmTljQGZmZmYm6rVAAAAAAICnsUAAAAAAgBCjQJqZmZmZzLpAzczMzMyGlUAAAAAAAMhnQM3MzMzMz5lAMzMzMzOTU0AAAAAAQAO/QDMzMzMzc0ZAmpmZmZkFgkAAAAAAAPyTQM3MzMzMspNAmpmZmZm1cECamZmZ2bq5QDMzMzMzMY1AMzMzMzNzM0AzMzMzM3usQDMzMzMzp3NAAAAAAADap0BmZmZmZiiFQDMzMzPzHb9AMzMzMzODYUAAAAAAAFCRQM3MzMzMeHJAAAAAAADIaEBmZmZmJlW6QJqZmZmZyVNAzczMzMwtlUAAAAAAACm8QJqZmZlZLr5AAAAAAIAtoEDNzMzMzJOZQAAAAACAnb1AAAAAAMB5skCamZmZGe63QGZmZmZmvbhAmpmZmdkfukAAAAAAQD6wQJqZmZlZ7btAmpmZmZlWlkBmZmZmZop9QAAAAAAAYFxAmpmZmZlynUDNzMzMTBCkQAAAAAAAYH1AZmZmZmZmcUAzMzMzs0ekQAAAAACAwbZAAAAAAMBhsUCamZmZmZGeQJqZmZmZaXNAzczMzMwockAzMzMzM2CgQAAAAAAA0qRAZmZmZmb+gECamZmZmVk0QJqZmZmZe6dAmpmZmZlcmUAAAAAAADSkQJqZmZmZuKlAzczMzIxCskAzMzMzMwttQAAAAAAAIaNAzczMzMyQhECamZmZmXGoQJqZmZmZb4RAAAAAAACGnEDNzMzMzHiNQGZmZmZmdnZAMzMzM7NEokBmZmZmZiZHQDMzMzMzqqtAAAAAAAD9kEDNzMzMzLSjQGZmZmZmaoZAzczMzMwYm0DNzMzMTJ27QDMzMzMzN4dAAAAAAAAXuUCamZmZWXywQM3MzMzMWphAZmZmZuZupUAAAAAAAK+vQM3MzMyMp7dAZmZmZmbUo0AzMzMzM/G3QGZmZmZmW5tAMzMzM3P8uUBmZmZm5h6kQJqZmZlZg7dAZmZmZmaOlUDNzMzMzBCUQGZmZmZmgnJAAAAAAABqhECamZmZmcl5QM3MzMzMIp5AAAAAAADQUUDNzMzMzKW+QM3MzMzMWptAZmZmZmYGa0AAAAAAAI23QM3MzMzME61AMzMzMzNiqECamZmZmfOOQM3MzMzMYo9AzczMzMy0Y0AAAAAAgCepQM3MzMzM5oFAmpmZmdnKsUAzMzMzM96cQAAAAAAAm5tAMzMzMzPYlkBmZmZmZiKhQAAAAAAAA6NAMzMzMzMJhEDNzMzMzLyiQM3MzMzM7opAAAAAAAA4gkBmZmZmZqS8QJqZmZmZMW9AZmZmZuZ7sUDNzMzMzKSIQJqZmZmZSWlAmpmZmZlSu0BmZmZm5q6hQGZmZmZmeZVAZmZmZiYzs0AAAAAAADSKQAAAAAAAgDRAAAAAAADzn0DNzMzMzIw+QAAAAAAA2ZVAZmZmZmaErUDNzMzMzLKoQGZmZmbmGKFAMzMzMzMtr0AAAAAAAJakQAAAAAAAYG1AMzMzM7NXokAzMzMzMyOoQJqZmZmZq6ZAmpmZmRlVs0DNzMzMzC2hQJqZmZmZz4dAAAAAAADIZ0AAAAAAACu0QDMzMzOzt69AMzMzMzPToUDNzMzMzDKVQGZmZmZm7mxAAAAAAABgSUDNzMzMzExuQAAAAABAqLBAmpmZmRmtpUDNzMzMzMuvQJqZmZmZUYtAzczMzMyulEDNzMzMDHm1QJqZmZmZtYBAmpmZmRkuo0AzMzMzM5uNQAAAAAAAUHZAAAAAAAARl0BmZmZmJg+3QJqZmZmZxpJAzczMzMxUYkCamZmZmX2bQJqZmZmZY4pAzczMzAxevkCamZmZmcFgQGZmZmZmnmFAmpmZmZmWmkAzMzMzM4WCQAAAAAAA+GBAZmZmZqY0vkBmZmZmZrqwQGZmZmZmiJ9AMzMzMzMbbEAAAAAAAHetQM3MzMzMfo1AmpmZmdmsuUAzMzMzs8+oQGZmZmZmJj1AzczMzMwMNEAAAAAAgJWlQGZmZmZmxkhAAAAAAAAQbUCamZmZWR+3QAAAAAAAaodAzczMzMykbkAAAAAAANhgQM3MzMxsGMBAZmZmZmaqsEAAAAAAANaQQGZmZmZmbpFAmpmZmRnfr0DNzMzMTK6iQAAAAAAA1ItAAAAAAAAoYUDNzMzMzF+oQAAAAAAAjIBAZmZmZmY0jkCamZmZ2Ri7QAAAAAAAJJ5AMzMzM7O5tkCamZmZmVlmQAAAAAAAMHtAzczMzMxEZ0CamZmZmd17QAAAAAAAgIxAMzMzMzP7q0AzMzMz836wQM3MzMwMKrdAAAAAAAAANEAAAAAAAOqIQM3MzMzMPZVAmpmZmZlZS0BmZmZmZuiOQGZmZmZmRkZAMzMzMzPTVUDNzMzMzPh1QAAAAADAgbxAMzMzM7OduEBmZmZm5tytQM3MzMzMYZBAZmZmZqb5uEAzMzMzM0WXQAAAAACAfb9AAAAAAAA2gEBmZmZmJoO2QAAAAAAA0G1AzczMzMwekEBmZmZmZmZBQM3MzMzMn5RAMzMzM7PdrkBmZmZmZtiJQAAAAAAArIBAZmZmZuZYrUBmZmZm5k+kQM3MzMzMxHFAMzMzMzMzm0CamZmZGT2jQAAAAAAAvHlAMzMzMzPTaEDNzMzMzOxZQGZmZmbm8q9AmpmZmZkBi0BmZmZmZqYzQM3MzMzMYqlAzczMzMwdtUCamZmZmUeqQGZmZmYm3LtAMzMzMzNjV0BmZmZm5iqwQAAAAADAAbRAzczMzMywgUCamZmZmTalQDMzMzMz2JtAAAAAAAA6m0AAAAAAAAA4QGZmZmZmXn5AzczMzMzGnUAzMzMzs/qyQM3MzMxMF61AmpmZmZlTjkAAAAAAANibQDMzMzMzW3lAZmZmZubfokAAAAAAwDTAQDMzMzMzRqBAAAAAAMBJskBmZmZmZgZmQJqZmZmZSY9AAAAAAADrmEDNzMzMzIxqQGZmZmZm/b1AZmZmZmY6cEAzMzMzs6WiQJqZmZmZRXVAmpmZmZk1ekDNzMzMDDa/QAAAAAAA6ZVAzczMzMxqh0AzMzMzk3TAQAAAAAAATpJAMzMzM/MPtkBmZmZmZiaGQDMzMzMzj71AZmZmZmbmPUCamZmZGfywQDMzMzMz34NAmpmZmZlJmkBmZmZm5g27QM3MzMzM5GtAMzMzM3NmukAzMzMzM0mdQDMzMzMzuYhAMzMzM3MfskDNzMzMzPxhQAAAAAAAHLhAzczMzMxdmEAAAAAAAL+3QM3MzMzMxKRAzczMzMz4d0AAAAAAAEabQDMzMzOzbaFAmpmZmZlxvEDNzMzMzLacQGZmZmZmlmZAMzMzMzO3eUBmZmZmZsGUQJqZmZmZB4JAzczMzMwcUUAzMzMzM8NeQJqZmZmZRX1AZmZmZmbWZUAAAAAAAABGQDMzMzMzi2VAZmZmZmbGckAAAAAAAGizQJqZmZmZBY9AAAAAAICgtUCamZmZmX6+QJqZmZmZb5hAmpmZmZnRlEAAAAAAwJi4QAAAAAAAe6xAZmZmZmYuZEBmZmZmZl5sQJqZmZmZhpZAzczMzExXvUCamZmZ2fW1QM3MzMzM775AmpmZmZmJgkCamZmZmT6WQM3MzMzMfFFAMzMzM7OWpUCamZmZGfWhQJqZmZkZoaRAmpmZmZm/pkAzMzMzszG6QM3MzMzMtG1AZmZmZmYhmkAAAAAAAL6FQGZmZmZm2plAZmZmZmYHnUDNzMzMzMiJQAAAAABAGLlAMzMzMzMesEDNzMzMzKx0QM3MzMzM5ZRAzczMzAxnt0AAAAAAgBuzQM3MzMzMcH5AMzMzMzMjsEDNzMzMTPqhQAAAAAAAiK9AZmZmZqYks0AzMzMzc1+2QGZmZmZmOIdAZmZmZqbEskCamZmZmRqWQJqZmZmZjpZAZmZmZualpkAAAAAAgL20QGZmZmZmZjRAzczMzMw4fEAzMzMzM0NdQM3MzMxMz7ZAAAAAAACWnUDNzMzMzKxGQM3MzMzM2ZlAzczMzMzQfUAAAAAAAMKxQGZmZmZmZmRAMzMzMzOPikBmZmZmZr5nQM3MzMyMer9AAAAAAMCJu0AzMzMzMwCkQM3MzMzM7HFAAAAAAIAuv0CamZmZmTO2QJqZmZkZNK9AZmZmZmYSd0AzMzMzsxeyQDMzMzMzH3lAMzMzMzP4l0AAAAAAABSRQGZmZmZm6oVAMzMzMzPxnkDNzMzMzJqmQM3MzMzMZHBAMzMzM7NdrkDNzMzMjB23QDMzMzMztqBAMzMzM7M8t0AzMzMzs1CsQJqZmZnZkbJAMzMzM7OUtkAzMzMzs9W6QJqZmZmZt4RAzczMzMyXm0BmZmZm5v+iQM3MzMzMDJ1AMzMzMzOiqkAAAAAAACyGQDMzMzMzE0lAmpmZmRmjrEDNzMzMzIu1QAAAAAAAAHFAAAAAAAAMukDNzMzMzKivQDMzMzMzw4RAZmZmZmZ0hkAzMzMzs+WjQAAAAACAILtAMzMzMzMJlUAzMzMzM+mHQGZmZmZmpIVAMzMzMzOMkkBmZmZm5hm1QAAAAAAA4G5AMzMzMzPzSEBmZmZmZmmVQAAAAAAAQDRAAAAAAIBOoUAAAAAAAIBSQM3MzMzMzGpAmpmZmZk8nUAzMzMzMxu4QGZmZmZmLmRAmpmZmZmpj0AzMzMzMwt1QGZmZmZm2nRAzczMzMxvuUAzMzMzM5d4QAAAAACAYbtAMzMzM7MJu0AAAAAAAMKCQGZmZmYmOLJAMzMzMzOHlkAzMzMzs/e1QM3MzMzMvoVAAAAAAAATkEAzMzMz8zuwQJqZmZmZuXhAZmZmZma6uEBmZmZmZjenQAAAAAAA8INAAAAAAADJn0AAAAAAALeqQDMzMzOz9qJAAAAAAACBm0DNzMzMTL+rQJqZmZmZuV5AzczMzMxAlkBmZmZm5rumQAAAAAAAYHdAzczMzAzNtUBmZmZmpiy2QAAAAACAZqpAmpmZmZl3jUDNzMzMzAxtQGZmZmbmUKBAZmZmZmZqlkAAAAAAADyuQAAAAAAATqFAAAAAAABSikAAAAAAALSdQM3MzMzMzIJAmpmZmZnrgkCamZmZGSyoQM3MzMyMQbNAZmZmZmaYgkAAAAAAIHrAQAAAAAAAwDNAAAAAAADAfkCamZmZmd+OQGZmZmbmeLVAZmZmZmbRnUBmZmZmZsZaQJqZmZlZ37FAzczMzIzVsEAAAAAAwPK+QM3MzMzMUoBAmpmZmZldgkBmZmZmZkiuQDMzMzOzha1AmpmZmblOwEAAAAAAAIAzQJqZmZmZq5BAzczMzMwpk0DNzMzMzGR1QGZmZmZmyI5AZmZmZubYrkBmZmZmZuCJQDMzMzOzFLhAzczMzMzMQEAzMzMzM7M0QAAAAACAvrlAmpmZmZlvhkCamZmZ2RWzQDMzMzOz17pAmpmZmZlZeUAAAAAAAAhqQJqZmZmZJ5xAZmZmZubsp0AAAAAAAJObQAAAAAAAY5xAZmZmZmack0AzMzMzM6KuQM3MzMzM3ZZAZmZmZmauZ0AzMzMzMzNYQAAAAAAAiHlAmpmZmZnanEAAAAAAYITAQAAAAAAAnI9AZmZmZmansEAzMzMzM+qjQJqZmZkZ+q5AmpmZmZmgvkAAAAAAwOi5QM3MzMzMqo9AZmZmZmYeY0DNzMzMTHmtQGZmZmZmCZBAzczMzMxMM0CamZmZ2aezQM3MzMzMjGtAAAAAAAAilkAzMzMzM8tjQM3MzMyMprVAmpmZmdl9wEAzMzMzM0y2QDMzMzMzgZ9AZmZmZmZqdEAAAAAAwF+1QDMzMzMz8zNAZmZmZmaWkEAAAAAAAM6eQAAAAAAAwDNAMzMzM7M4o0AAAAAAAMSKQGZmZmZm75NAAAAAAIArvUAAAAAAwF28QJqZmZmZ/LNAZmZmZmaghEDNzMzMzL65QJqZmZmZ4JJAmpmZmZknkECamZmZmXSdQM3MzMzMW59AAAAAAAChs0AAAAAAgCCoQGZmZmZmfahAMzMzMzM8wECamZmZ2f+yQGZmZmbm7blAMzMzMzO7qECamZmZGYK6QAAAAAAA+IBAZmZmZmYai0AAAAAAAMA5QAAAAAAAYFtAMzMzM/NUskDNzMzMzBaBQDMzMzMz6JNAmpmZmZnZm0CamZmZGbW0QJqZmZmZhXFAZmZmZuajpkAAAAAAAFaqQGZmZmZmColAzczMzMzdkEDNzMzMTFW7QGZmZmZmmI5AZmZmZmYXsEAzMzMzMyqqQJqZmZmZwX5AzczMzMzbmkAAAAAAAOqCQAAAAAAAApVAZmZmZiarsEAzMzMzM4SRQJqZmZmZtYxAZmZmZmZOgECamZmZGXWxQGZmZmZmBZtAMzMzMzPFkEAAAAAAgNaxQDMzMzMzVqRAAAAAAADfm0CamZmZGbK4QDMzMzMzs0xAZmZmZqa8sEBmZmZmpuK7QAAAAAAAD5hAZmZmZmaIkEAzMzMzM/NeQAAAAAAAVqVAAAAAAADANEDNzMzMzBR/QDMzMzMzOYZAZmZmZmaonUBmZmZm5pOpQAAAAACA46ZAmpmZmZk1ikCamZmZmY6WQDMzMzOzQr5AZmZmZiYnu0AAAAAAANhqQGZmZmbm2qRAZmZmZmZmbUAAAAAAgD6oQDMzMzMz0rRAZmZmZmbslUCamZmZmU+lQDMzMzNzrrNAZmZmZmbalkAzMzMzM9NiQAAAAACASLdAMzMzMzOhkkDNzMzMzKhzQAAAAAAAAExAzczMzMysdEDNzMzMzGqLQDMzMzMzkqFAzczMzEzvpUDNzMzMzICaQDMzMzMzIJBAzczMzMwms0CamZmZWYOzQM3MzMwMqrNAAAAAAAAHnUBmZmZmZiOfQM3MzMzMy5pAmpmZmZl5dUBmZmZmZiY0QM3MzMzMQIBAzczMzMytlUAzMzMzs9e8QDMzMzPzg7FAzczMzMypmkCamZmZmb2UQM3MzMxMVrdAMzMzMzN7ZkAzMzMzM7CzQDMzMzMza3pAAAAAAABANEDNzMzMzGB2QAAAAACA8KZAMzMzMzPfk0BmZmZmZpCAQDMzMzMzMzNAZmZmZmbikUBmZmZm5oS9QDMzMzOz+rJAAAAAAADDuUCamZmZmaFiQJqZmZkZbLNAMzMzMzP2n0DNzMzMTBahQGZmZmbmQadAZmZmZmZWZkCamZmZ2aGzQM3MzMzMMqpAmpmZmZnUlkDNzMzMzLylQJqZmZmZjJpAMzMzMzNDfEAzMzMzc0yxQDMzMzMzqpRAAAAAAAB4YUAzMzMzMx2eQAAAAACAcKdAmpmZmZmap0DNzMzMzIqhQDMzMzMzhY1AzczMzMzAk0AAAAAAwDWzQM3MzMxMb7ZAmpmZmZkinUCamZmZmRaTQGZmZmZmu5VAmpmZmZnlckCamZmZmXuVQJqZmZmZ45RAMzMzMzNHlEBmZmZmZrO3QAAAAAAAGZNAMzMzMzN/fkCamZmZGemjQAAAAAAAHIpAAAAAAABgRkAzMzMzc0q4QGZmZmbmmLxAzczMzMy9uEAAAAAAQGiwQDMzMzMzPrdAmpmZmZlZV0CamZmZmTuZQM3MzMzMl5hAAAAAAADzlkAzMzMzM1+kQJqZmZmZzZdAMzMzMzPXqkAzMzMzc8WxQAAAAAAAKHRAZmZmZib/tEBmZmZmZp2jQJqZmZkZJKhAZmZmZmaGTkDNzMzMzNyNQM3MzMzMjGFAZmZmZmZUl0AzMzMzM2iZQJqZmZmZ45tAZmZmZmaWUUBmZmZm5ru3QJqZmZmZfLVAZmZmZmZGUkAzMzMzs4+qQM3MzMwMH7lAAAAAAADAM0CamZmZmTuTQGZmZmZmanxAmpmZmZlhbUBmZmZm5sO5QAAAAAAA67ZAMzMzMzOLaEBmZmZmJjG5QJqZmZmZ04dAAAAAAACOiEAAAAAAAMCbQAAAAABAFLVAAAAAAAD0gUDNzMzMzAR5QJqZmZmZwKRAzczMzMyXlkBmZmZmply0QGZmZmbmiaFAAAAAAACokUBmZmZmJj+5QDMzMzOzbLhAzczMzEwcoEDNzMzMzFiCQJqZmZmZg4ZAmpmZmZlGp0AzMzMzM+WNQGZmZmZmCq9AZmZmZmb+e0DNzMzMzNyUQAAAAAAAg71AAAAAAACASEDNzMzMzCKKQDMzMzMz8zRAAAAAAAAUpECamZmZmfGIQDMzMzMzE0ZAMzMzMzNXuUBmZmZmZlOYQDMzMzMzEJ9AMzMzMzM4tUCamZmZmXFiQDMzMzNzdMBAZmZmZmY3oUBmZmZmZjZ4QAAAAACAy6dAAAAAAABQYEAzMzMzM/+HQM3MzMzM7HtAAAAAAECkv0BmZmZmJlGyQJqZmZlZYrpAzczMzEypq0AzMzMzMxGhQJqZmZmZUWBAZmZmZmYRmEAAAAAAQAu5QDMzMzMzYpZAmpmZmdnNvUCamZmZmXlZQGZmZmZmlnNAZmZmZuaouEBmZmZmZqyDQJqZmZkZoaRAzczMzMxxlUAAAAAAAPGSQM3MzMwMXbhAZmZmZuamuEAAAAAAAKezQJqZmZk58MBAZmZmZuYooUDNzMzMTICnQJqZmZmZmWtAmpmZmZmTtkDNzMzMzNRrQM3MzMzMlIxAmpmZmZnJbkAAAAAAALi1QAAAAAAAhJlAzczMzMxOjkDNzMzMTGWkQGZmZmbmp7lAmpmZmdmLskAzMzMzM36bQGZmZmZmRllAZmZmZiZguUBmZmZmJoqwQDMzMzMzy3JAZmZmZmbGTUCamZmZWeOwQGZmZmZm6JZAzczMzMzBm0BmZmZm5uumQDMzMzMzC2JAAAAAAMDEskDNzMzMzJSRQM3MzMzM7ENAZmZmZmZmekAzMzMzE0bAQJqZmZmZqXNAZmZmZmbrsEAAAAAAAO64QDMzMzMzwYJAzczMzMyitUAAAAAAgIm7QAAAAAAAlIVAzczMzMx0cUAzMzMzM06WQJqZmZmZtJpAMzMzMzOTSkDNzMzMzEqIQM3MzMzM5opAmpmZmRmUs0AzMzMzM8iiQGZmZmZmZjhAzczMzMw8akAAAAAAABaDQM3MzMzMrFFAMzMzMzNrY0AAAAAAAABiQAAAAAAAw75AzczMzMx8jECamZmZmeF9QM3MzMzMzodAZmZmZubVoUBmZmZmZjyZQJqZmZmZJJFAzczMzMwUd0DNzMzMTEW6QDMzMzMzlbhAAAAAAAAIe0BmZmZm5gSjQM3MzMzMoIBAAAAAAAB0d0DNzMzMzHxfQJqZmZmZSpBAAAAAAABRmUDNzMzMzJqEQDMzMzMzF5RAzczMzMyYd0AzMzMz86q3QDMzMzMzJ45AMzMzM7MlokDNzMzMTPayQAAAAADARL5AmpmZmRlGuUAzMzMzM7NMQDMzMzMzj59AzczMzMzKl0AAAAAAANqUQAAAAAAAgG9AmpmZmZnjhUAzMzMzcxe2QJqZmZlZW7pAmpmZmVk2tEBmZmZmZmZaQDMzMzOzv6FAZmZmZuYtp0AzMzMzM5NOQDMzMzMz735AMzMzM3OqtECamZmZmSWqQGZmZmamY7RAAAAAAAAwa0CamZmZmf2CQGZmZmZmN7VAmpmZmdl0t0BmZmZm5kW3QM3MzMwMQrVAAAAAAEASsUCamZmZmUyxQDMzMzMzB3pAmpmZmRkgukAzMzMzs4CwQGZmZmZmlK9AZmZmZub5q0AzMzMzM7uSQGZmZmZmbZtAAAAAAAB5rUBmZmZm5numQDMzMzMzW3ZAMzMzMzPVlUAzMzMzM/+NQM3MzMxM8KxAZmZmZmYMskAAAAAAYDzAQGZmZmZmCo1AMzMzMzMUlEDNzMzMzMSXQAAAAACAeqpAMzMzMzO4kkDNzMzMTK2qQAAAAAAAkIdAZmZmZmYyfUAAAAAAAFB3QJqZmZmZEX5AzczMzMwAm0CamZmZGSinQAAAAACA2KBAmpmZmZlvkEAAAAAAAJWzQJqZmZmZK5tAMzMzMzPGoUBmZmZmpoe1QJqZmZmZk5RAzczMzEw5v0CamZmZmdkzQM3MzMzMsZVAAAAAAADQhEDNzMzMzJxXQDMzMzOzJrBAAAAAAID+skAAAAAAAPh1QM3MzMzMjFpAAAAAAAAUlkAzMzMzMzybQAAAAAAAjIRAAAAAAABqkECamZmZmaV6QAAAAACAdrNAzczMzMyMM0DNzMzMzNK9QJqZmZmZYW1AzczMzExYqEDNzMzMzJKkQDMzMzMz00hAzczMzMw4s0DNzMzMzCxHQJqZmZkZnLRAmpmZmZkwwEBmZmZm5sakQAAAAAAAmGhAAAAAAMDAtkAAAAAAALaXQJqZmZkZLqtAMzMzM7PFvEAzMzMzM8yUQM3MzMzMr5JAzczMzMzVrkAzMzMz88uwQM3MzMzMTDRAAAAAAEAnsUBmZmZm5nWwQGZmZmZm5jNAMzMzM7OZs0BmZmZmZjSzQJqZmZmZH6dAzczMzIyHvUCamZmZGd27QDMzMzMzHZxAMzMzMzP0mEDNzMzMzGKAQDMzMzNzX7BAmpmZmZk/hkAAAAAAgDOhQJqZmZmZN4lAzczMzMxRmUAzMzMz85y6QJqZmZmZt5xAMzMzM3OwvEAAAAAAAHGXQM3MzMxM1qFAAAAAAACClUAzMzMzM5uHQDMzMzMzy4lAZmZmZmaKfkAzMzMzMzagQGZmZmams7RAMzMzMzMxlUAAAAAAwLKzQDMzMzMzY4lAzczMzIzNuUAzMzMzM59/QM3MzMzMaqtAZmZmZuZPu0DNzMzMzHKCQGZmZmZmy6VAmpmZmZmMkUAAAAAAQBG/QM3MzMzM3HVAMzMzMzOskECamZmZmY6rQJqZmZmZg5NAMzMzM7O2p0DNzMzMzMywQM3MzMxMsbdAZmZmZmYeYkAzMzMzMwmiQDMzMzMza51AMzMzM7NuqUCamZmZma6QQM3MzMzMIqBAZmZmZmYosEAAAAAAABCuQJqZmZnZVr9AzczMzMykZUAAAAAAAGqIQM3MzMzMnrFAzczMzMzFtEAzMzMzc6uyQDMzMzMzQ29AzczMzMxEm0CamZmZGSywQAAAAAAAraxAMzMzMzM/kkBmZmZmZlp9QM3MzMzMlJVAAAAAAAB7rEBmZmZmZhuSQGZmZmYmKrtAZmZmZmYgmkCamZmZGdOwQGZmZmam/bdAMzMzMzN7kEBmZmZmpja1QDMzMzMzj4pAAAAAAAD4YkBmZmZmZrZyQAAAAAAA+5BAAAAAAIAJpUBmZmZmZraVQM3MzMzMbq1AAAAAAABzrECamZmZGc+jQJqZmZnZ4LpAZmZmZmZSrUBmZmZmZuyDQM3MzMyM0bRAZmZmZmZGRkAzMzMzMw+YQAAAAACAQ6FAAAAAAAD4a0AzMzMzs0e+QGZmZmZmWZJAzczMzAwhsUAzMzMzs1ykQGZmZmZm5jJAZmZmZma1k0DNzMzMTFG3QM3MzMzMvG9AAAAAAAAAeUAzMzMzM2tsQAAAAACAa6JAAAAAAADQaEAAAAAAAFKBQM3MzMzMdG9AZmZmZqbdtUBmZmZmZgCIQDMzMzMz/5JAzczMzEyFq0CamZmZmXOMQAAAAACAkKxAAAAAAAAASkAzMzMzM9tiQAAAAAAAVHhAzczMzMxGnUAAAAAAALSTQDMzMzMzsrxAzczMzMz4rEBmZmZmZlp9QGZmZmZmp5VAZmZmZmYmgUCamZmZGdGjQDMzMzOzmrdAAAAAAADyjUCamZmZmQqbQJqZmZmZuXxAZmZmZmY+aUAzMzMzM9NxQM3MzMzM5ZdAAAAAAIA4skCamZmZmVCrQJqZmZlZjbtAzczMzMzYckAzMzMzM4tzQDMzMzMzIKdAZmZmZmYpu0AAAAAAAOyAQGZmZmZmNl1AZmZmZiYGv0AAAAAAQMm0QM3MzMzMPLBAMzMzMzPza0CamZmZmQOIQJqZmZkZaq1AAAAAAADboECamZmZmb6VQDMzMzMzj5VAMzMzMzPlk0CamZmZmVOJQGZmZmZmS5xAmpmZmdlmvkBmZmZmZhScQJqZmZmZnXdAzczMzMzUe0AzMzMzM8i9QJqZmZmZMXZAzczMzMxWjEAzMzMzM4aQQGZmZmZmZjNAAAAAAACzlUAzMzMzM6WZQGZmZmZmJmdAzczMzMyKnEAAAAAAABh6QAAAAAAAiHVAmpmZmRkJoUDNzMzMzCemQDMzMzMzk0ZAMzMzM7NVpUCamZmZGT21QDMzMzNzorZAmpmZmZlZh0DNzMzMzM+TQGZmZmbmtaxAZmZmZmbuk0BmZmZm5gW3QDMzMzMzpYZAAAAAAAADmEBmZmZmZvqCQM3MzMyMOrBAZmZmZmZ+ikBmZmZm5qyiQAAAAAAADp5AzczMzMxUl0BmZmZmZtZSQDMzMzOzEaFAmpmZmZkdkEBmZmZmZsqMQM3MzMzMRq5AzczMzMwEYkAAAAAAACG6QGZmZmZmrJZAMzMzMzPguEAzMzMzMyOtQJqZmZmZ4XVAZmZmZmY+pkCamZmZmUV8QAAAAAAAWpdAzczMzMzsREAzMzMzM+CTQJqZmZmZsX1AAAAAAADYYkAAAAAAAP6oQGZmZmam1LZAMzMzMzM9o0DNzMzMzHe4QM3MzMzMlqpAZmZmZmYgmkAzMzMzM8m+QJqZmZmZIaJAAAAAAAAod0BmZmZmZsenQM3MzMzMRqVAAAAAAADlkEDNzMzMDAGwQJqZmZmZwYNAzczMzMzmv0AzMzMzsxGwQM3MzMxMzqdAZmZmZmZhsEAAAAAAgCOtQDMzMzMz93hAZmZmZmaynkCamZmZmeCUQM3MzMzMYH5AAAAAAMAlt0AzMzMzM4uyQJqZmZmZE5BAzczMzIxUskAAAAAAAMAzQJqZmZmZSWNAzczMzIzuuEAzMzMzM8e9QM3MzMzMtZNAAAAAAABQVkAzMzMzM4NVQM3MzMwMe7pAAAAAAAD5sEBmZmZmZrZUQDMzMzMzyppAmpmZmZnpi0DNzMzMzFaJQM3MzMyMy7hAmpmZmZmOkUAzMzMzM5NFQM3MzMzMjEFAAAAAAACwlUBmZmZm5hauQDMzMzMznKRAmpmZmZmXjUBmZmZmZmuRQGZmZmZmxptAzczMzMxmhUBmZmZmZpZSQM3MzMzMgZRAZmZmZmbmY0CamZmZmRGDQJqZmZmZRXlAMzMzM3PbuEBmZmZmphywQAAAAAAAto1AZmZmZmamM0AzMzMzM59/QJqZmZmZ9pFAzczMzMw0ZUBmZmZmZpJ4QAAAAAAA7JFAMzMzMzNWtkCamZmZmbuxQJqZmZmZ/bhAZmZmZmaGcUDNzMzMDE+2QM3MzMxMLKtAMzMzM/MlsEDNzMzMTMumQGZmZmZmJktAmpmZmZkpp0CamZmZmSyhQJqZmZmZl5JAAAAAAADqnUCamZmZWdi0QJqZmZmZRrxAzczMzMw+v0AAAAAAQEe2QAAAAAAA5bxAMzMzMzOTZEAzMzMzM5u5QM3MzMzMNGxAAAAAAADejUCamZmZmWyqQJqZmZmZE6JAzczMzMxmiEBmZmZmZqy+QAAAAAAAlqVAzczMzMw6mUBmZmZmZuJwQJqZmZmZmTRAAAAAAAAam0AAAAAAgIe7QDMzMzMz6YFAZmZmZmYKmEDNzMzMzGuxQAAAAAAAI71AzczMzMwgc0CamZmZmf2DQGZmZmZmwnVAZmZmZqa7tUAAAAAAACBEQM3MzMyMhLBAmpmZmZmDiEAAAAAAgCOtQJqZmZmZ+5VAMzMzMzMFnUAAAAAAgJq8QAAAAACARbpAmpmZmZlWrEDNzMzMzPeaQGZmZmYmYLBAzczMzMwMlkDNzMzMzIhwQDMzMzOzP7JAMzMzMzNWkkDNzMzMjCG+QAAAAACATqNAzczMzEyivkCamZmZmWehQGZmZmbmXqJAMzMzMzNbp0AAAAAAwL23QGZmZmbmza9AmpmZmRleo0CamZmZmaygQJqZmZkZcLdAMzMzMzM2oUDNzMzMzORmQJqZmZkZMrhAmpmZmZn3g0AAAAAAAP6JQAAAAAAA5pRAMzMzM/MNvEAzMzMzMwCkQAAAAAAAQbdAmpmZmZn4m0DNzMzMzMajQM3MzMxMmLJAMzMzMzPNjUDNzMzMDEm2QM3MzMzMjDRAZmZmZqZRu0BmZmZmphqwQDMzMzPzgrZAZmZmZmYHmECamZmZmVakQGZmZmZmvrVAZmZmZuY3tUAAAAAAgKShQGZmZmZmEZFAAAAAAEABuUAzMzMzM0eDQGZmZmZm451AzczMzMyIikCamZmZmQirQGZmZmZmhlZAzczMzEyztUAzMzMzM/uTQDMzMzOztqZAMzMzM/NYs0BmZmZm5pixQGZmZmYmqLFAMzMzM7MZokCamZmZWYu/QDMzMzOz/KFAZmZmZuZTvECamZmZGT2gQGZmZmZmUbhAAAAAAABpk0DNzMzMzNxYQAAAAAAAuoJAMzMzMzMMq0BmZmZmZo6iQJqZmZkZ+qVAmpmZmVmquECamZmZmRkzQGZmZmZmWI9AZmZmZmbkmEBmZmZm5pujQM3MzMxM56hAMzMzMzMEqkAzMzMzs5K1QGZmZmZmvrJAMzMzMzPJwEBmZmZmZlSOQM3MzMzM8b1AmpmZmRnMrEAAAAAAANKjQGZmZmZmxpVAZmZmZmZWVkDNzMzMTF2xQM3MzMzMlI5AmpmZmZmok0CamZmZmbV0QAAAAAAAMFVAZmZmZmbMmkCamZmZmcyaQGZmZmZmiJNAmpmZmZk5r0CamZmZGV+0QJqZmZmZCYVAzczMzMyIlkCamZmZWWa0QAAAAADAe7xAAAAAAACIekDNzMzMzCxvQAAAAADAP7FAmpmZmZmWtEDNzMzMzImmQAAAAAAAoG9AMzMzMzNDe0CamZmZmZldQDMzMzMzg6xAMzMzMzPzb0CamZmZGbaiQM3MzMyM27NAAAAAAAAkhEBmZmZmZqZDQGZmZmZm6I5AMzMzMzPMokBmZmZmZvSDQDMzMzMz42dAzczMzAyssUAzMzMzMziyQJqZmZmZHatAzczMzEz+ukBmZmZmZlyvQAAAAAAAIJRAzczMzMznuEAAAAAAwIO0QM3MzMzMhZdAZmZmZmaKjEDNzMzMzJ+1QGZmZmZmfIlAmpmZmZkOlkAAAAAAQOK1QGZmZmYmGsBAAAAAAAAsh0DNzMzMzBexQGZmZmZmULdAzczMzMwxqEAAAAAAgHquQM3MzMzMaqRAMzMzM7MdtkBmZmZmZriFQM3MzMwMsLVAzczMzEyWqUCamZmZmYywQAAAAAAAQEtAMzMzMzMXjkBmZmZmZmmXQJqZmZmZRJNAzczMzMwSs0BmZmZmpiO1QJqZmZmZgWJAmpmZmRm1rkAAAAAAgO+6QDMzMzPzyLpAmpmZmZnFpEBmZmZmZmytQJqZmZmZMWBAmpmZmZktgkCamZmZmQuNQAAAAAAAOIVAAAAAAIANrkAzMzMzs4CxQGZmZmZmNn9AzczMzMxEmEAAAAAAAHBrQJqZmZnZv7RAmpmZmZkhpEAAAAAAQCO5QAAAAAAAJZ9AZmZmZmYPnkBmZmZmZl6NQGZmZmZmJlVAzczMzIxit0AAAAAAAG+1QAAAAAAAXIRAMzMzMzOzRkAzMzMzc8i6QAAAAAAAYElAMzMzMzN/skAzMzMzM1GFQM3MzMzMrbFAzczMzMwQdEBmZmZmZvp0QJqZmZmZQZZAMzMzMzNSm0DNzMzMzNeQQGZmZmbm3KxAzczMzMzsd0AAAAAAAFaHQJqZmZmZDXdAMzMzMzMzNEDNzMzMzNqZQGZmZmZmU55AmpmZmZkKnEDNzMzMzKm0QDMzMzMzU39AmpmZmdn8t0CamZmZmTlIQAAAAAAAVHNAmpmZmVkjuECamZmZmdlLQJqZmZnZ7bFAZmZmZuYurUDNzMzMzNh9QGZmZmZm86NAmpmZmZn4lEBmZmZmZgGTQM3MzMwMmr1AZmZmZuZXpECamZmZmVlFQGZmZmbmqLdAzczMzExPp0DNzMzMzIqFQGZmZmZmpJ9AzczMzMxMm0AzMzMz8zGyQJqZmZmZUL9AAAAAAAAYe0CamZmZ2fu2QDMzMzMzT5BAAAAAAAAFnUDNzMzMzExiQJqZmZmZ8JpAzczMzMzYekBmZmZmZkJ2QAAAAAAAhH5AzczMzMxKlEAAAAAAAIuVQAAAAAAABHhAAAAAAKCvwEAzMzMzM194QJqZmZnZY7ZAZmZmZmamNEAAAAAAwLOwQAAAAAAAIFVAZmZmZmYQnkDNzMzMTJi2QDMzMzMzLrRAmpmZmRm5r0AzMzMzs5mrQM3MzMzMMrNAzczMzMzDtEDNzMzMzDyIQDMzMzPzRbVAZmZmZmZ+j0BmZmZmZgyKQAAAAAAAZI9AMzMzMzN8kkCamZmZmVV/QJqZmZlZHrBAmpmZmZnZfUAAAAAAAJxwQGZmZmbm8KJAzczMzMznnEBmZmZmZoZOQDMzMzMzippAzczMzMwwj0BmZmZmZp6VQGZmZmZm1n5AAAAAAADckkAAAAAAAJyBQGZmZmZmBItAZmZmZmbohUDNzMzMzHW2QGZmZmbm2KVAMzMzM7MttECamZmZmUC2QJqZmZkZOKBAmpmZmZkZRkAAAAAAAOhqQAAAAAAADp1AmpmZmRkuvUDNzMzMzFmgQM3MzMyM/bVAmpmZmZldfUCamZmZme+GQAAAAAAAVH5AAAAAAACQU0AAAAAAAK6RQJqZmZmZAWdAAAAAAABrkkBmZmZmJv21QDMzMzMzU1tAmpmZmZnzjUBmZmZmZjJ5QAAAAACAKLFAAAAAAADAqEBmZmZmZiKRQJqZmZmZ64RAMzMzM7NPokDNzMzMzExIQGZmZmbmV71AAAAAAAD0mkAAAAAAAOBIQJqZmZmZb5pAmpmZmRmQoUAzMzMzM3+xQDMzMzMzHqtAAAAAAACAT0DNzMzMTOSpQJqZmZmZpYpAmpmZmZkrnkCamZmZmdlWQM3MzMxM2q5AAAAAAADQsECamZmZmUuYQJqZmZkZIKtAMzMzMzNzXUAzMzMzsxSpQM3MzMzM7GlAAAAAAADAM0AAAAAAgHmoQJqZmZmZdKBAAAAAAACAQUCamZmZmT2MQJqZmZmZVK5AZmZmZmZ+i0BmZmZmZvp3QAAAAABAJrFAzczMzMwMUUDNzMzMzEx8QAAAAAAA0bRAmpmZmZl7m0CamZmZmWm2QGZmZmZmD5NAmpmZmRndokBmZmZmZg6SQGZmZmZmRZxAmpmZmZlxmEBmZmZmZqYzQJqZmZmZGVVAzczMzMwGi0AAAAAAAJhsQM3MzMwMSL5AmpmZmZlpfUDNzMzMzLmvQJqZmZmZKVtAzczMzEzhrkDNzMzMzOB+QDMzMzOzsapAmpmZmZlql0CamZmZWceyQJqZmZmZdX1AMzMzMzNHkEDNzMzMzAm+QAAAAAAAXJxAMzMzMzN9lEBmZmZmZu5oQDMzMzMzlZlAZmZmZma5lEDNzMzMjOi4QDMzMzMzP41AzczMzMwMNECamZmZmSyZQDMzMzOzTbtAAAAAAAC3pUCamZmZ+UXAQDMzMzMz/4ZAmpmZmZnWoUDNzMzMzJSWQJqZmZkZOqJAMzMzMzMin0AAAAAAAAK3QDMzMzMzF5BAMzMzMzMSnECamZmZmdlAQM3MzMzMYHxAAAAAAADBlUBmZmZmZmaQQM3MzMzM9IZAmpmZmZmxfUAzMzMzMxCYQJqZmZmZ6p5AmpmZmZnbqEBmZmZmZrZsQM3MzMyM+bVAmpmZmZkMlUBmZmZmZsCtQM3MzMxMDK9AzczMzMztvUAAAAAAgF6jQJqZmZmZqXBAZmZmZmbhtUBmZmZmZvqeQGZmZmZmPnVAzczMzAzcskDNzMzMjFy3QDMzMzOzyLJAzczMzMxMNECamZmZmbCQQDMzMzMzn6JAMzMzMzN4lkCamZmZmauMQDMzMzNz0LdAzczMzMz8WEAzMzMzM7N9QDMzMzMz0p9AzczMzAwsuUBmZmZmZvyHQAAAAACA/L5AzczMzEyRr0DNzMzMTKGlQGZmZmZmIZpAmpmZmZkGlUDNzMzMzPKiQGZmZmbmO6BAAAAAAAD+mUAzMzMzMxiUQGZmZmZmGZFAAAAAAIAnvkDNzMzMzBSAQAAAAACARLNAZmZmZqZDtUAAAAAAAKR0QM3MzMzMrF5AmpmZmdnnuUAAAAAAAB3AQM3MzMxM0qtAMzMzMzOOm0AAAAAAAOaiQDMzMzMzY31AMzMzM/NytEAAAAAAADKoQGZmZmZmtJpAMzMzMzPjnEBmZmZmZpqGQDMzMzMzCYJAMzMzM/MCu0AzMzMzM9eCQJqZmZmZGV9AMzMzMzMzWEDNzMzMzOetQGZmZmZmqIBAzczMzMwip0DNzMzMzBqPQAAAAACA/qVAmpmZmZlZY0CamZmZmRlwQDMzMzMzfbZAMzMzM7NdvUAzMzMzM0uTQJqZmZmZ+K1AMzMzM3Nxt0DNzMzMzICGQAAAAACAIaZAAAAAAACEfUBmZmZmZuGUQGZmZmam9LhAMzMzMzMvhUBmZmZmZjaSQGZmZmZmzIxAAAAAAAAAUkBmZmZmZhZRQAAAAAAAeopAAAAAAAAARkCamZmZWcewQJqZmZmZkZVAMzMzMzMisUBmZmZmZgZKQJqZmZmZiZ9AmpmZmZlOpUBmZmZmZnpwQGZmZmZmNnFAAAAAAADUgEAzMzMzM6eNQGZmZmZmdopAZmZmZuZqp0BmZmZmZgm3QAAAAAAAZIBAZmZmZmbacEAAAAAAAEuiQJqZmZmZ9ptAmpmZmZlpmUBmZmZmZgKJQJqZmZnZxLNAmpmZmZkpfUDNzMzMzBOyQJqZmZmZtrpAAAAAAABAVUBmZmZmZiZGQJqZmZmZybBAmpmZmZnheUCamZmZmQlwQDMzMzMzxKFAMzMzMzNDlEBmZmZmZtOTQM3MzMxMAMBAAAAAAACgTUBmZmZmZu+RQM3MzMyMCbFAZmZmZmZYn0BmZmZm5j2gQAAAAADAub1AzczMzMxwfkDNzMzMzAmTQM3MzMzMIJZAzczMzMw0fkBmZmZmZkqTQGZmZmZmfpRAzczMzEzytUBmZmZmJim4QM3MzMzMoohAMzMzMzOjh0BmZmZmZlKsQM3MzMzMMoFAzczMzMy5skDNzMzMzMyTQDMzMzNzv7VAMzMzMzNKtkAzMzMzsxqoQDMzMzMzszhAzczMzMyqq0DNzMzMzAxVQJqZmZmZWUlAMzMzMzM2kkCamZmZWfeyQDMzMzMzAYNAzczMzMwKhEBmZmZmJl+zQDMzMzMz80FAMzMzMzOllEAAAAAAAP+ZQM3MzMxMoKdAAAAAAAAZoUAAAAAAgEilQAAAAAAA1HlAzczMzMx4lUBmZmZmpiS6QAAAAAAAUGtAAAAAAABmj0BmZmZmZpaRQDMzMzMzD65AAAAAAACQjkBmZmZmZq2VQGZmZmZmUIdAmpmZmZkJc0BmZmZmZiuRQDMzMzPzELFAmpmZmZndiUCamZmZmVk0QM3MzMzMYHBAAAAAAABxq0AAAAAAAPhiQJqZmZkZYb9AmpmZmZmWk0AzMzMzM0WBQAAAAAAAMJBAAAAAAABzr0AzMzMzMwONQGZmZmZm5jhAZmZmZiZquUDNzMzMTN61QM3MzMyMFrFAAAAAAAA2hUBmZmZmZh+hQAAAAAAA+G1AZmZmZmYIg0AAAAAAAF6FQAAAAADARbRAZmZmZubEs0DNzMzMzDRtQDMzMzMzN3JAAAAAAACOhUDNzMzMzH+pQM3MzMzMJJ9AAAAAAADQb0BmZmZmZrp1QDMzMzMzP45AmpmZmZnHnEAzMzMzMwNtQAAAAAAASolAzczMzMyIdkBmZmZmZj52QM3MzMzMJGBAAAAAAIDLtkAzMzMzc3e7QGZmZmZmZltAZmZmZma+hkAAAAAAAOiLQM3MzMzM2IdAMzMzMzNriEAAAAAAADKMQJqZmZmZxY9AZmZmZqY3t0AzMzMzMztxQGZmZmbmbKhAmpmZmZm4kEBmZmZmZkZ1QDMzMzMzy7BAzczMzMwUkUAzMzMzM0+AQJqZmZmZeZlAzczMzMxMhkCamZmZmcaTQDMzMzOzR69AmpmZmZnllUAAAAAAAJqXQM3MzMzMjHBAZmZmZua9sUBmZmZmJnCzQAAAAABAdr1AAAAAAABob0AAAAAAAO6YQGZmZmZmbIVAMzMzMzNErkBmZmZmZuu6QDMzMzPzNLNAAAAAAAB0lUBmZmZmZuZIQJqZmZmZMphAAAAAAIDgqkAzMzMzs4KwQAAAAAAA/o9AZmZmZmaiu0AAAAAAwMG6QDMzMzMzf6lAZmZmZmaTk0AzMzMzM+NQQM3MzMzMjFFAAAAAAAB2tkAAAAAAADeYQDMzMzMzSpxAzczMzIwrvUBmZmZmZmy1QGZmZmZmbnJAAAAAAABgWEAzMzMzM/MzQM3MzMzMzH1AmpmZmZlpWUBmZmZmZquRQAAAAACAmKtAMzMzM3PrukDNzMzMzIqYQJqZmZmZR4BAZmZmZuauvkDNzMzMzPqrQJqZmZmZn5ZAMzMzM5OxwEDNzMzMzL6GQJqZmZmZWXZAMzMzMzPrY0CamZmZmY1xQAAAAABAtbdAMzMzM7OUqUBmZmZmpt23QJqZmZmZiZFAmpmZmZmTn0BmZmZm5qatQM3MzMxM9qtAmpmZmZnZSEAAAAAAAEhxQGZmZmbm779AzczMzMzSi0DNzMzMzNS1QM3MzMzMTElAAAAAAAAATUCamZmZmVeNQGZmZmZmoJ9AZmZmZuZPrEBmZmZm5kuuQGZmZmbm4bFAmpmZmZnZOUAAAAAAAG+mQDMzMzMz2pNAMzMzM3MfvkDNzMzMTCOhQDMzMzMzMz9AAAAAAAAgQ0AzMzMzMyiqQM3MzMzMrIBAmpmZmRm3pkAzMzMzM1OZQDMzMzOzMKtAmpmZmZldckAzMzMzMymwQGZmZmZmZjNAZmZmZqbktEAAAAAAANmoQDMzMzOzn6dAZmZmZmYckECamZmZ2Ue5QJqZmZlZYbhAmpmZmVlluUAzMzMzMxqiQJqZmZkZe6FAzczMzExvtEAAAAAAALBkQAAAAAAAaHZAZmZmZubWuUAAAAAAgOuiQGZmZmZmOpRAZmZmZmZMlEBmZmZmZmW2QAAAAADABr1AzczMzMy0g0CamZmZmRqTQM3MzMzMbHdAzczMzMxCvECamZmZmb10QGZmZmZm4LNAmpmZmdn8skBmZmZmZqCIQGZmZmZmyZNAmpmZmZmBhUAzMzMzMzt4QAAAAAAAaopAAAAAAECGsEDNzMzMDHezQGZmZmYmEbBAAAAAAABIgECamZmZmX19QGZmZmbmWLdAAAAAAMDLsECamZmZmXy9QAAAAAAA25lAAAAAAIDHsUAAAAAAgFO4QM3MzMzMDDRAAAAAAADATEBmZmZmZgmXQAAAAACAjKlAzczMzEyerkAzMzMzs3W8QM3MzMxM6r1AzczMzExHt0AzMzMzs6+0QDMzMzMzVbJAzczMzMxxq0AzMzMzM2+0QGZmZmbmJqxAZmZmZmYua0CamZmZWdu6QAAAAAAAQDNAZmZmZmaVn0BmZmZm5gmkQAAAAADA67VAmpmZmRm6vUAAAAAAAOBGQDMzMzPzv7FAZmZmZmYmfEBmZmZmZkWUQAAAAADAWrFAmpmZmZk8lkCamZmZWRqxQM3MzMzMjFJAZmZmZmYqfEBmZmZmZl+SQGZmZmZmdoFAMzMzMzNYoUCamZmZGaapQAAAAABAS7NAAAAAAICNsEAzMzMzM/90QAAAAACAFLxAAAAAAADyjEBmZmZmZn2RQGZmZmZmJl1AMzMzMzMzUUCamZmZGUuiQGZmZmZmS5VAMzMzMzNzZEDNzMzMzCRiQJqZmZkZsrJAmpmZmRn3rUAAAAAAANB4QAAAAAAADZBAZmZmZmawmEAAAAAAwDa8QGZmZmZmc61AMzMzM/OJsEAAAAAAAEGaQAAAAAAAG61AMzMzM7MbvkBmZmZmxjrAQGZmZmZmzIJAAAAAAABoYUAAAAAAAIGdQM3MzMzMq6VAAAAAAMAhtUDNzMzMzBR5QM3MzMzMTKlAMzMzMzOUmECamZmZmXltQAAAAAAAU5VAmpmZmZkEn0AzMzMzM++wQAAAAAAAPIRAZmZmZmZ5pUDNzMzMTGejQDMzMzMz37hAMzMzMzMos0DNzMzMzPOfQDMzMzMzC5xAZmZmZiYFvEDNzMzMDH+7QDMzMzMzy4xAMzMzM7Nkr0CamZmZmUi1QAAAAAAAQDRAZmZmZuZKoEBmZmZmJg+0QM3MzMzM0IZAAAAAAACQXUBmZmZmZlKRQJqZmZmZXpxAMzMzMzPThkDNzMzMzNxSQDMzMzMzXa9AzczMzMzGgUAzMzMzs+S2QJqZmZlZb7xAzczMzMyjkECamZmZ2f62QDMzMzNzjrBAzczMzMwkekCamZmZmQFhQJqZmZmZIYZAZmZmZmakiEDNzMzMzBqxQJqZmZmZ5apAMzMzM7MDvEAAAAAAAEiBQGZmZmZmNlhAZmZmZuYasEAzMzMzMymXQDMzMzMzY5NAzczMzIyyuUDNzMzMzIwzQJqZmZmZ5KVAAAAAAADOikDNzMzMzAxnQM3MzMxMzbdAZmZmZmYUnUCamZmZmd6QQJqZmZkZM71AmpmZmRldpkBmZmZm5vqnQJqZmZmZW6JAAAAAAABUfUCamZmZGcqpQGZmZmbmk6tAZmZmZuYwsEAAAAAAAKmwQGZmZmbmXKlAmpmZmblIwEBmZmZmZmO2QJqZmZmZILhAmpmZmZnFnUAzMzMzMx+NQAAAAAAAQohAzczMzAx7tEDNzMzMzLRhQGZmZmam/71AMzMzMzN3j0AzMzMzM9ijQGZmZmZmMqhAAAAAAABoo0BmZmZmppm2QM3MzMxMdqRAZmZmZmbTl0DNzMzMTM2lQAAAAAAA4ptAMzMzMzPIoUAzMzMzM7SfQM3MzMzMEolAAAAAAEAtskBmZmZmZj5xQDMzMzMzd3VAZmZmZuakoECamZmZmZ2SQAAAAAAA9KNAMzMzM3PVtUAzMzMzMzt9QGZmZmbmWK1AzczMzMwNqkAAAAAAAMSMQAAAAACAz6pAMzMzMzPLYkAzMzMzM/92QAAAAADABbRAmpmZmRnBskDNzMzMzIwzQM3MzMzMMIFAAAAAAEC2vkDNzMzMzGiTQM3MzMxM7ahAAAAAAIDVpEAzMzMzM5urQDMzMzMzwYhAZmZmZmZ6ckBmZmZmZs2WQDMzMzPzybBAZmZmZuYAsEAzMzMzM/2qQAAAAAAAGJRAAAAAAACslUBmZmZmZpKIQAAAAAAACoRAmpmZmZkLhkAAAAAAAJh1QGZmZmZmnnVAzczMzMyztkDNzMzMzBxfQGZmZmZmfpVAmpmZmRlHq0AzMzMzs/C+QDMzMzOz8LlAzczMzMxwhkBmZmZmZgZ0QM3MzMzM2ZRAzczMzEw9qkAAAAAAAJyyQAAAAAAAR7ZAZmZmZmZsgEBmZmZmZjJ+QGZmZmZmNo1AAAAAAACUiEDNzMzMzPS0QM3MzMzMTDRAMzMzMzMTiEAzMzMz86C6QJqZmZkZ56JAMzMzM7MqsEBmZmZm5gKrQDMzMzMzFrJAAAAAAIAqqUAAAAAAAISFQM3MzMzMGItAzczMzAyKskCamZmZmTF2QDMzMzOzhLZAMzMzMzPHekBmZmZmZoWXQJqZmZmZq4VAzczMzMxnkkBmZmZmZsiWQM3MzMzM9aFAmpmZmZk+mkCamZmZmRl3QAAAAAAAbKdAzczMzIxWtEBmZmZmZmY4QAAAAAAAnp5AmpmZmRkKoEDNzMzMzOh4QDMzMzOzwqpAzczMzMzuk0AAAAAAgCunQAAAAAAAvJlAAAAAAMDdt0DNzMzMTE6tQAAAAAAAtHlAAAAAAABgWkAzMzMzM/GpQAAAAACAJbZAMzMzMzMXfUBmZmZmZgKGQDMzMzMz41dAMzMzMzPnuEDNzMzMTNi/QAAAAAAAe5hAAAAAAABIYEDNzMzMzERkQDMzMzMzg1tAmpmZmZl0nUCamZmZ2Z64QAAAAAAAsaFAZmZmZmaGiUAAAAAAAJaTQJqZmZmZmURAzczMzIyRtEBmZmZmZqqFQJqZmZkZbbdAZmZmZmbgrUCamZmZGVyuQAAAAABAc7xAzczMzMzIeUAAAAAAALmQQJqZmZmZj4lAMzMzMzNNkkBmZmZmppS5QDMzMzMzjYNAAAAAAADenUAAAAAAAIyXQM3MzMzMtHJAZmZmZqbItkDNzMzMjL+1QJqZmZlZRrBAMzMzM3PavkDNzMzMzJauQAAAAAAAnI5AMzMzMzODVkDNzMzMzOh4QM3MzMzMmZ5AMzMzMzOTT0BmZmZmZlSUQM3MzMzMQH5AMzMzM7NfrkAAAAAAgEGhQM3MzMzMxG1AMzMzMzPxjUBmZmZm5gquQAAAAAAAzJNAmpmZmZnLg0BmZmZmpvG3QAAAAAAACZNAMzMzMzP1lUAzMzMzM6+AQDMzMzMzIYVAzczMzMy4rUAzMzMzM3uRQGZmZmZmdLRAMzMzMzOrlUAAAAAAALidQJqZmZmZ4W1AMzMzM7MptkBmZmZmZuZDQAAAAAAALo9AmpmZmVnGtUDNzMzMzGB5QDMzMzMzW2FAmpmZmZnpXkBmZmZmZiScQAAAAAAAiIVAmpmZmZm1iEDNzMzMzEiZQGZmZmZmVZJAMzMzMzMnjEBmZmZm5j+6QAAAAAAAkK1AmpmZmZkanEAzMzMzM1NLQGZmZmbmXK5AMzMzMzMgk0BmZmZmZgyiQAAAAAAAKa9AMzMzMzPFq0CamZmZ2ZK3QM3MzMzMnIBAZmZmZmZGVUAAAAAAAKBlQGZmZmbmn6NAMzMzMzNrrkBmZmZmZlJ2QAAAAAAAOH1AZmZmZmbhoUDNzMzMjDy5QDMzMzMzLZ5AmpmZmZkpeUCamZmZGVuhQGZmZmbmTr5AAAAAAAAQbEAzMzMzc9y8QGZmZmbmCatAmpmZmZmTmkDNzMzMTCWoQDMzMzMzN5RAZmZmZmYuhEAzMzMz82i0QJqZmZmZQX9AMzMzMzP2okDNzMzMTECrQM3MzMzMLpBAmpmZmVmNvUAAAAAAAN6lQAAAAAAABplAMzMzMzNwuECamZmZmUOTQGZmZmZm5jNAmpmZmZlFnkAAAAAAwMOzQM3MzMxMn6dAMzMzMzMZs0DNzMzMzOOhQDMzMzMzZ7lAAAAAAACFlEBmZmZmZvKOQM3MzMzMIJ1AMzMzM7Nbt0BmZmZm5nyuQAAAAACA5rtAAAAAAAAwjECamZmZmSmJQJqZmZmZg4BAmpmZmdlOwEAAAAAAQFmzQGZmZmZmynRAMzMzMzNjfUAzMzMzs6ahQGZmZmZmDZZAMzMzM7O4uECamZmZmQ+WQGZmZmZmubpAmpmZmZlZNEAAAAAAANBtQJqZmZmZYK9AmpmZmZlRbEAAAAAAwMa7QM3MzMzMm55AZmZmZuaYtUDNzMzMzN6WQDMzMzMzBJBAzczMzMxAgUDNzMzMzM6tQM3MzMzM4qlAmpmZmZlLnkAAAAAAAMR8QGZmZmYm57JAZmZmZmbmM0BmZmZmphO0QJqZmZmZJZpAmpmZmZlVc0AzMzMzM8eoQM3MzMwM78BAAAAAAACgjEAAAAAAALxyQGZmZmZm8IVAZmZmZmamM0AzMzMzM1axQAAAAADA07JAAAAAAAAQV0AAAAAAAHyYQM3MzMzMaZNAmpmZmZl5gUAzMzMzM5mAQM3MzMzMfJJAmpmZmZkdfUDNzMzMzIytQDMzMzMzw3xAZmZmZmb5m0AAAAAAQFe+QDMzMzMzYYtAMzMzM/P4sUAAAAAAAAWcQJqZmZmZtYtAzczMzIw5vkBmZmZmZluaQAAAAAAAXZ1AmpmZmZlbr0AAAAAAACh7QJqZmZlZG7xAzczMzMxgiEBmZmZmZuZaQGZmZmZms61AMzMzMzOErUAzMzMz8z61QJqZmZlZ7rNAzczMzMxAnUAzMzMzM6tqQAAAAACACrVAzczMzMx0bUCamZmZmcGhQAAAAAAA8FRAZmZmZmY3skBmZmZmZjZpQAAAAAAAQF9AMzMzMzNjhUAzMzMzM+iRQGZmZmZmOZxAAAAAAADYgkDNzMzMTKa2QJqZmZmZGX9AzczMzMxMM0AzMzMzM69wQAAAAAAAEHBAzczMzEx/pEDNzMzMzOxGQDMzMzMz65BAmpmZmZl5YkBmZmZmZhSkQGZmZmbmGrFAAAAAAIBArECamZmZGdimQJqZmZmZWUBAAAAAAICEpkCamZmZmZeXQM3MzMwMubRAZmZmZuYxv0AAAAAAgFKnQM3MzMzMooFAAAAAAAB/lEAzMzMzsxCtQM3MzMzMobNAAAAAAIBotEDNzMzMzCm4QDMzMzMzapdAZmZmZmbikkBmZmZmptW5QJqZmZmZa5xAZmZmZmbtm0AzMzMzM2yQQAAAAABADbxAMzMzMzPRrEDNzMzMzKyJQGZmZmZm7m1AZmZmZmaObkDNzMzMzDuqQDMzMzMzM2BAMzMzMzNxs0CamZmZGfCiQGZmZmYmdbNAAAAAAIBUoEAAAAAAwCmzQM3MzMzM2p9AAAAAAABcr0BmZmZmZhOjQAAAAAAAfqVAMzMzMzNvlEBmZmZmZvp3QGZmZmZmxkpAAAAAAIDKvkDNzMzMzP6QQJqZmZmZvYhAzczMzAxFvUDNzMzMTLm6QJqZmZmZn4lAAAAAAECkt0AAAAAAgAWzQM3MzMzM1H9AAAAAAEDUsEAzMzMzM6NrQGZmZmbm861AMzMzMzNvckBmZmZmZs5zQGZmZmZmtqRAMzMzMzN7fUAzMzMz81i2QAAAAAAAdH9AzczMzEzFvEBmZmZm5k28QDMzMzMzC45AZmZmZuYHskCamZmZmWapQJqZmZkZUK5AAAAAAIAhqEAAAAAAANCVQGZmZmZmhkpAMzMzM7N4oEAAAAAAgHK6QJqZmZmZerJAMzMzMzP8kUCamZmZmRFtQM3MzMzM9I9AZmZmZmZWc0DNzMzMzFiAQJqZmZkZmrBAAAAAAAAUiEBmZmZmZtZuQAAAAAAAHKpAMzMzMzO1rkAAAAAAAA6MQDMzMzMzuaVAMzMzM3MHt0CamZmZGUChQDMzMzNzB7NAzczMzIxTs0CamZmZmVqYQDMzMzMzvLBAAAAAAAAJk0AzMzMz8/G1QDMzMzMzMzhAmpmZmZlTgUBmZmZmZnW0QDMzMzMzwZ9AmpmZmZmpiEBmZmZmZtWXQM3MzMxMHK1AZmZmZmbQmUAAAAAAANOYQJqZmZkZTKpAAAAAAMDJu0AzMzMzMwmPQJqZmZlZlLNAzczMzMxaoEBmZmZmZp6PQJqZmZmZ/ZRAAAAAAMCKukAAAAAAAPSPQGZmZmZm1qxAMzMzMzNjfkDNzMzMjE2yQM3MzMyMHrRAzczMzMxYrUAAAAAAgHusQGZmZmbmdKZAmpmZmZn5SEAAAAAAAOaPQAAAAAAA0IlAAAAAAADgbUDNzMzMTHi9QGZmZmZmT7lAMzMzM7NUrECamZmZmT2aQGZmZmZmHI1AAAAAAEDmsEDNzMzMzHBwQAAAAAAAoENAMzMzMzPoqUAAAAAAgIKkQGZmZmZmXJdAZmZmZmY6h0CamZmZmS2WQAAAAAAAGp9AZmZmZubCvEAzMzMzM6d1QAAAAACAvLpA",
                    "dtype": "f8"
                  },
                  "yaxis": "y"
                },
                {
                  "hovertemplate": "color=Yes<br>x=%{x}<br>y=%{y}<extra></extra>",
                  "legendgroup": "Yes",
                  "marker": {
                    "color": "#e60049",
                    "symbol": "circle"
                  },
                  "mode": "markers",
                  "name": "Yes",
                  "showlegend": true,
                  "type": "scattergl",
                  "x": {
                    "bdata": "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",
                    "dtype": "f8"
                  },
                  "xaxis": "x",
                  "y": {
                    "bdata": "mpmZmZkJW0DNzMzMzPRiQAAAAAAApIlAmpmZmRnMp0DNzMzMTKyzQM3MzMzMgoBAMzMzMzPTQ0BmZmZmZiY0QGZmZmYmjbJAMzMzMzMzPkBmZmZmZhSRQGZmZmZmznNAAAAAAIC6q0CamZmZmUWRQM3MzMzMBGJAmpmZmZlJlkBmZmZmZsqDQDMzMzMzYptAAAAAAADKikBmZmZmZtZTQGZmZmZmDn9AzczMzMz6jEBmZmZmZnZcQAAAAAAApaNAmpmZmdm7vUBmZmZm5na0QM3MzMxMaKZAmpmZmZmikECamZmZmbFsQAAAAAAAr6BAmpmZmZl6l0CamZmZmblBQAAAAAAAUFRAzczMzMycUUAzMzMzM52BQDMzMzMz00ZAAAAAAAB8hEBmZmZmZuGYQAAAAAAAEHFAZmZmZma2pECamZmZmVluQDMzMzMziLNAzczMzMzmkUCamZmZmXl/QDMzMzMz8z1AMzMzMzO1hECamZmZmV6RQM3MzMzMzDhAAAAAAACYgECamZmZmflTQM3MzMzMOZ5AAAAAAAAgVUCamZmZmcVwQDMzMzMza2ZAmpmZmZmZS0BmZmZmZiZVQGZmZmZmhlxAMzMzMzOBkUAzMzMzM8mQQGZmZmZmRkhAzczMzMxkYkCamZmZmRlEQDMzMzMzI1RAZmZmZmaGYEAzMzMzM1GVQGZmZmZmLpFAzczMzMycl0DNzMzMzMw4QGZmZmZmplFAmpmZmZkReUCamZmZ2fi1QM3MzMzMz5tAAAAAAACAUUBmZmZmZvSCQGZmZmZmNntAzczMzMzCmkBmZmZmZmZSQJqZmZmZwXhAMzMzM7P+oUDNzMzMzPh5QM3MzMxM5adAmpmZmRluoUCamZmZGf6wQJqZmZmZYWFAAAAAAAD0f0CamZmZmXljQDMzMzPzrbRAmpmZmdmXskAAAAAAAMu5QGZmZmZmBmVAZmZmZmY+d0DNzMzMzECKQAAAAAAAcIpAzczMzMwoiUDNzMzMzMh+QAAAAAAAsGZAAAAAAAANpEAzMzMzM1NJQGZmZmZmtlZAAAAAAADYakAzMzMzswqzQGZmZmbmuKNAmpmZmZlfu0BmZmZmZuYzQJqZmZmZmTNAZmZmZmY2bUCamZmZmdecQDMzMzMz01JAMzMzMzN6kkAzMzMzMzeAQDMzMzNz/LhAMzMzMzNjUUAzMzMzM2ahQGZmZmZmHnhAAAAAAAAKhUDNzMzMzPKGQAAAAAAAgEtAzczMzMysUkAAAAAAABadQGZmZmZmVnxAZmZmZmYWj0AAAAAAAMKgQGZmZmZmQIVAZmZmZmaWUkDNzMzMzGxhQM3MzMzMPIxAmpmZmZlhYEDNzMzMzFmTQJqZmZmZ2ZtAAAAAAADwZECamZmZmW1/QM3MzMzM7HRAMzMzM/MjsEBmZmZmZiWeQGZmZmZmeptAAAAAAAAwq0AAAAAAAEBVQM3MzMzMEIpAAAAAAACogkAAAAAAAISpQM3MzMxMSKRAMzMzMzOPq0AzMzMzc+61QJqZmZmZMW1AMzMzMzPTUkAzMzMzM6N1QM3MzMzMbFVAAAAAAABOhkBmZmZmZoK6QGZmZmZmHm9AZmZmZma4hEAzMzMzMzNhQAAAAABAw7FAZmZmZuZPskBmZmZmpkm7QGZmZmamorZAZmZmZma6ikCamZmZmYajQDMzMzMzY1ZAmpmZmZmunUCamZmZmdlGQAAAAAAAMGRAmpmZmZnJa0BmZmZmZqZSQJqZmZmZiWRAMzMzMzPzQUAzMzMzMwNYQM3MzMzMJGJAmpmZmZnhZ0AzMzMzM8NSQM3MzMzM7aNAAAAAAAAgT0AAAAAAAABUQGZmZmZmxlZAMzMzMzPrcEDNzMzMzARlQGZmZmZmfZ9AzczMzMyMM0DNzMzMzNR3QAAAAAAAsGFAmpmZmRlDqEDNzMzMTIylQGZmZmZmy65AZmZmZmaEj0AzMzMzM8ucQDMzMzMz1pNAZmZmZmbPnUAzMzMzMxtqQJqZmZmZkpZAZmZmZmbmM0BmZmZmZmJ8QAAAAACAuadAzczMzMwUZ0AAAAAAAGBWQJqZmZmZGUpAzczMzMwKs0BmZmZmZu23QAAAAAAAiZBAMzMzMzOXfkCamZmZGRGwQDMzMzMzY1FAZmZmZqaBt0BmZmZmJlK8QGZmZmZmVmZAMzMzMzMaokAAAAAAAFmWQM3MzMzMIoRAZmZmZmZNtUAzMzMzs+q1QM3MzMzMTHJAMzMzMzMzRkDNzMzMTIW1QDMzMzMzs2xAmpmZmZl5VkBmZmZmpg25QGZmZmZmZklAAAAAAADelkBmZmZmZjZzQJqZmZkZcaBAZmZmZmbyc0BmZmZmptyzQM3MzMzMpqdAAAAAAAC7mEAzMzMzM02QQM3MzMzMGH9AmpmZmVlHuEBmZmZm5pmzQJqZmZmZmThAzczMzMyDkUAAAAAAANyMQJqZmZmZZplAzczMzMy0jEAzMzMzM4WFQDMzMzMzY1JAmpmZmZmhaUBmZmZmZsKNQJqZmZmZgXZAAAAAAAAoe0CamZmZmflqQJqZmZmZh6pAmpmZmZlJVUCamZmZmVlGQJqZmZmZ2UZAzczMzMwCikAzMzMzMxNcQJqZmZmZ2WVAMzMzMzOjVkDNzMzMzD6VQGZmZmYmbL1AmpmZmZl5UUCamZmZWe+4QGZmZmZmplVAAAAAAADBpEAAAAAAAMumQDMzMzMz4KJAMzMzMzOHekAzMzMzM6eEQM3MzMzMl51AAAAAAAAzmUAAAAAAAPBdQM3MzMxMCalAzczMzMz2jkDNzMzMzMKFQDMzMzMzm4lAMzMzMzMtoEAAAAAAABxxQJqZmZmZz4ZAmpmZmRmKp0BmZmZmZsiTQM3MzMzMV6JAZmZmZmamM0CamZmZmXeAQAAAAAAAWGpAZmZmZub1rEAAAAAAAMh5QGZmZmZmAIpAmpmZmZkxZ0DNzMzMzFyeQJqZmZmZ86BAAAAAAMD1skCamZmZmRFiQGZmZmZmxlZAAAAAAABIhkAzMzMzc6+xQM3MzMzMZGVAzczMzMxijUDNzMzMzF6QQM3MzMzMWZlAMzMzMzMFoUDNzMzMzARlQDMzMzMzM3hAzczMzEwvpkBmZmZmZuyLQM3MzMzMvLBAZmZmZmYEgUAAAAAAAGiNQJqZmZmZtpFAZmZmZmbGQUDNzMzMzJxoQGZmZmZmK5JAmpmZmZkBbECamZmZmVk/QJqZmZmZcZBAAAAAAEDqtUCamZmZmdkzQJqZmZmZ64RAzczMzMxHmECamZmZmVCTQDMzMzMzE05AmpmZmZmLgkAzMzMz8wOzQJqZmZmZuVJAAAAAAAAQVECamZmZmfaRQGZmZmZmJodAzczMzMzxl0CamZmZmUFvQJqZmZkZ1aFAMzMzMzPrYUDNzMzMzOxGQJqZmZmZUYlAmpmZmZkIpEDNzMzMzIxsQM3MzMzM5JdAZmZmZmamRkDNzMzMzBRyQJqZmZmZ345AZmZmZmaGRkAzMzMzM/NSQDMzMzMzWYBAZmZmZmaGTUAzMzMzM0ixQJqZmZmZ77dAzczMzAwwuUCamZmZmSWFQJqZmZmZx4NAMzMzMzPvcEAzMzMzMzt+QDMzMzMzBpVAmpmZmZm/v0AAAAAAAASUQJqZmZmZR5hAmpmZmRkPqUDNzMzMjAS0QGZmZmbmJKtAMzMzMzNzM0BmZmZmZhZTQAAAAAAAUFFAmpmZmRlJt0AzMzMzMzM5QM3MzMzMHFhAZmZmZmYmNEAAAAAAQN27QGZmZmZmLmVAZmZmZmaqk0CamZmZmcmKQDMzMzMznZlAMzMzMzPPi0AAAAAAACiUQM3MzMzMoHRAZmZmZma+bUBmZmZmZimjQM3MzMzMbolAzczMzMzMU0BmZmZmZrZ1QJqZmZmZ+UhAAAAAAABImECamZmZGSOpQGZmZmZmcqdAMzMzMzNuuECamZmZma17QAAAAAAASIFAAAAAAAAAU0AzMzMzM1tlQJqZmZmZcZRAAAAAAADkhkAzMzMzM4CXQJqZmZmZOUlAAAAAAACzkUAzMzMzMzNoQGZmZmZm2nVAMzMzMzPHdEAAAAAAAPuXQM3MzMzMjDRAZmZmZmaCekAAAAAAAJBxQJqZmZkZJ6tAAAAAAAAGjECamZmZmc6iQDMzMzOzk7lAZmZmZmb6sEBmZmZm5kWgQAAAAAAAsFlAMzMzMzO/m0AAAAAAACBiQJqZmZmZ6pFAzczMzMysUkAzMzMzM4aUQM3MzMzMzDlAmpmZmZkZUkAAAAAAAMqeQJqZmZmZwWdAzczMzMwHkEBmZmZmZpyJQGZmZmZmonRAAAAAAMDZukDNzMzMzOxGQAAAAADAibZAzczMzMzsVkCamZmZmU6YQM3MzMzMvFJAzczMzMwSjEBmZmZmZsZfQAAAAACANrpAzczMzMyjmkAzMzMzM/95QJqZmZmZsY1AAAAAAABwqkDNzMzMzKxkQDMzMzMzM1ZAMzMzM7OGpUBmZmZmZhSPQGZmZmZmRZJAzczMzMwet0AzMzMzM+uhQDMzMzMzqqdAmpmZmVmEtUAzMzMzM3+EQM3MzMzM3ZZAzczMzMzas0DNzMzMzBSIQAAAAACABqxAMzMzM7Oqq0AAAAAAACSLQDMzMzMzc1VAZmZmZmbGU0AAAAAAANBgQM3MzMzM3bRAmpmZmZlJdEAAAAAAwMyyQAAAAACAL7FAMzMzMzMTSUAzMzMz8/KxQM3MzMxMoKJAmpmZmZlAmUCamZmZmVlBQM3MzMzMjHBAZmZmZibXuUAAAAAAgDChQAAAAAAA8FhAMzMzMzO7ckAzMzMzM/2DQM3MzMzM7E1AZmZmZmZmUUDNzMzMzCx6QAAAAAAAgDNAmpmZmZl5UUAAAAAAAPhmQJqZmZmZjXBAmpmZmZlpkkAAAAAAgFGyQJqZmZmZxJJAzczMzMz0YUCamZmZmW14QJqZmZmZ6VFAAAAAAABgU0AAAAAAAIGpQGZmZmZmmo1AMzMzMzOEm0AAAAAAAGqOQGZmZmZmFlNAzczMzMwzmkCamZmZGaSkQDMzMzMzyqRAzczMzMwSpUAAAAAAAEKWQGZmZmbmGaRAzczMzMyMRkBmZmZm5pSgQM3MzMzMDDRAMzMzM/MZu0CamZmZmSl5QAAAAAAAMFFAmpmZmZkZR0AzMzMzM5NGQGZmZmZmpkVAzczMzEyVoUBmZmZmZoSWQJqZmZmZ8rBAmpmZmZn5RkAAAAAAAOhuQDMzMzMzg1FAZmZmZmauZEAzMzMzs4qsQDMzMzMzqZJAAAAAAAAANUDNzMzMzIxGQAAAAAAA3pdAZmZmZmamd0CamZmZmQS0QJqZmZkZLa5AMzMzMzNzSUAzMzMzcwizQDMzMzPz/rNAmpmZmZmXhEAAAAAAANBuQGZmZmZm5mpAZmZmZmbuY0CamZmZ2TS3QGZmZmZm1lJAzczMzMzcUkCamZmZmemSQDMzMzNz7LRAMzMzMzMFgkCamZmZmc2JQDMzMzMzY1dAZmZmZmb9tkAAAAAAAKyTQJqZmZmZUXNAAAAAAICjoUAAAAAAQI+4QJqZmZmZGJVAmpmZmZnZRkDNzMzMzHxRQGZmZmZmRlhAzczMzMy5mkBmZmZmpli1QJqZmZkZ6qBAzczMzMxNs0DNzMzMzORrQDMzMzMzo2ZAMzMzMzNXdUAAAAAAAFx2QDMzMzOztbFAzczMzMz2iUBmZmZmZqZGQJqZmZnZgLtAZmZmZmY6d0BmZmZmJqi3QGZmZmZmupVAMzMzMzMzNECamZmZmXOiQGZmZmZmCZtAMzMzMzO5n0AAAAAAAMKvQDMzMzMzo1pAAAAAAAA7m0AAAAAAAER1QGZmZmZm5ldAmpmZmZnspkAzMzMzs/ixQGZmZmZm1lFAZmZmZmYmNEAAAAAAAHBRQAAAAAAA5qZAZmZmZmbjlUAzMzMzMzthQM3MzMzM/FNAzczMzMxMM0AzMzMzM1WtQDMzMzMzm4NAAAAAAABAbkDNzMzMzCxLQJqZmZmZGVlAzczMzMzRmkAzMzMzM9NSQJqZmZmZ5bJAMzMzMzOjUUBmZmZmZnOlQAAAAACAgKRAMzMzMzMDZ0AAAAAAABhkQM3MzMxMeKdAmpmZmZlGk0AzMzMzM3+AQM3MzMzM96NAAAAAAABoZkCamZmZmeiUQDMzMzMz01ZAAAAAAADgU0DNzMzMzDh9QJqZmZkZOr1AzczMzAwztUDNzMzMzFiCQDMzMzMzM1lAzczMzMxzkkCamZmZGYOkQJqZmZmZRZNAAAAAAAAgh0AAAAAAgFGgQM3MzMzMnFlAmpmZmZkxa0CamZmZmUFiQJqZmZmZu4FAAAAAAACjlUCamZmZmblRQGZmZmZmnmtAmpmZmZk2okAAAAAAAKBSQDMzMzMzHbtAZmZmZmZNkEBmZmZmJqa6QDMzMzMz41FAMzMzMzOls0AzMzMzM5a8QDMzMzMzy4NAZmZmZmYadECamZmZmZeTQGZmZmZmJjlAZmZmZiYFt0DNzMzMjK2zQM3MzMzMHFdAZmZmZmbqpkAzMzMzM6mTQDMzMzMz+JJAZmZmZqaGtUAAAAAAANeeQJqZmZmZ+UZAmpmZmZmJUUAzMzMzM2NVQJqZmZkZ4aJAAAAAAICBq0AAAAAAABarQGZmZmZmFlZAZmZmZmZKiECamZmZmQOAQGZmZmZmrmFAMzMzMzOVlkBmZmZm5nCsQAAAAAAAQblAMzMzMzPzQUDNzMzMTIKtQAAAAAAAwEdAZmZmZmZ6ikCamZmZmReBQM3MzMxM5ahAZmZmZmbdl0CamZmZme2XQM3MzMzMPqZAmpmZmZm3kUAzMzMzM9t8QJqZmZmZSVNAAAAAAACgQUAAAAAAACBpQAAAAACAHbRAAAAAAMDGtUAzMzMzM72xQAAAAAAAwJBAmpmZmZnOmkDNzMzMzBaGQJqZmZkZmKRAZmZmZmamZ0AAAAAAAJBSQJqZmZkZF6FAzczMzMy0mEAAAAAAAGBRQAAAAACAeahAZmZmZmZmM0BmZmZmZhqJQGZmZmZmOoVAAAAAAADPpUDNzMzMzCKFQAAAAAAAOZNAzczMzMw6sEAAAAAAgL6kQM3MzMzMRZZAZmZmZuZutkBmZmZm5mSmQAAAAAAAYEtAmpmZmRlerUBmZmZmZqZXQJqZmZmZvqZAmpmZmZn5bEAAAAAAAHBRQAAAAAAAdHFAMzMzM3OJuEAzMzMzM62RQJqZmZmZEYdAzczMzMwMVEAzMzMzc8W4QM3MzMzMTHBAmpmZmZmZM0BmZmZm5o6sQGZmZmZmlmFAmpmZmZnLhEAzMzMzMzNVQJqZmZnZMrVAZmZmZmadkUDNzMzMTJuvQDMzMzOzi6VAAAAAAADAgkAAAAAAAH2hQAAAAAAAsFZAZmZmZmbadkBmZmZmZpZWQAAAAAAAwDNAAAAAAAD1m0AzMzMzMxqiQGZmZmZmrnBAZmZmZmbWckAzMzMzM9NpQJqZmZmZ5YJAAAAAAAD/lkCamZmZmcF5QJqZmZmZO4JAzczMzMwMSUCamZmZmfliQGZmZmZmWnJAZmZmZmZwlEBmZmZm5k2kQAAAAAAA7IdAZmZmZmbMiEDNzMzMzOx8QJqZmZmZOWVAMzMzMzMzRkAzMzMzM9t9QDMzMzMzg1VAmpmZmZnJZUAAAAAAANaQQJqZmZmZ6VdAMzMzMzPzNEDNzMzMzJx0QM3MzMzMlHJAZmZmZmasl0DNzMzMTDupQAAAAAAAaZJAzczMzMy0h0AzMzMzMx+dQM3MzMzMxHhAZmZmZiavtUAzMzMzM3eDQDMzMzMzn3RAZmZmZmZjkECamZmZGS+qQM3MzMzMPHBAAAAAAADqukDNzMzMzGBwQM3MzMxMsqRAmpmZmZmZUkBmZmZmZvypQM3MzMzMhoFAzczMzMyQkEAAAAAAAIA0QGZmZmZmunVAzczMzMx8VECamZmZmTF8QM3MzMzMdHxAMzMzMzNOk0AzMzMzM3SiQM3MzMzMRp1AzczMzAx6t0AAAAAAgL27QGZmZmZmhkZAAAAAAADAUUAAAAAAgNqpQM3MzMzM7FNAzczMzMyak0DNzMzMzKCmQAAAAAAAUFFAZmZmZmadm0DNzMzMzHGcQM3MzMzMO5tAAAAAAABgUkDNzMzMzOiJQM3MzMzMVaRAAAAAAADGiUAAAAAAABeQQJqZmZkZTaZAzczMzEyjsEDNzMzMTH+hQAAAAAAADH5AzczMzMzcg0AAAAAAAF6gQDMzMzMzw1dAmpmZmVmSsEBmZmZmZr50QM3MzMxMi7hAzczMzMzGpEAzMzMzM6dyQGZmZmYm/7dAMzMzMzOOkECamZmZGQmhQJqZmZmZSVZAAAAAAAAzkEBmZmZm5smhQM3MzMzMhGhAMzMzMzPYkkAAAAAAAImVQAAAAAAAYGtAmpmZmZmskEAzMzMzM+NTQDMzMzOz6apAAAAAAAAgVUBmZmZm5gq+QGZmZmZmkJVAmpmZmZmpU0AzMzMzM7NGQGZmZmbmM6RAzczMzMxsTUBmZmZmZp56QJqZmZmZvKxAAAAAAABMjUAAAAAAAGejQM3MzMzMYoFAmpmZmZlReEBmZmZmZm5nQAAAAAAAVHBAMzMzMzOzckAAAAAAADR0QM3MzMzM0IdAAAAAAADASkCamZmZmRk5QM3MzMxMeqJAAAAAAABEc0AzMzMzM3MzQGZmZmamzLxAZmZmZmaKkEAzMzMzM4mkQDMzMzMz/49AzczMzMzCikAAAAAAgCytQAAAAAAA4pFAZmZmZmamRkBmZmZmZuZSQAAAAAAAiGZAzczMzMzMM0CamZmZmdl0QM3MzMzMEH1AAAAAAADwekDNzMzMzHKLQAAAAACAIaNAzczMzMzElEBmZmZmpvywQM3MzMzMbFdAzczMzMwMOUDNzMzMzNh2QGZmZmZmTKJAzczMzMxol0BmZmZmJp60QGZmZmZmdldAmpmZmZk5SUDNzMzMzEiAQGZmZmZmWJBAzczMzEyDtkCamZmZmRk0QAAAAAAAsZ1AzczMzMzkY0AzMzMzM8WKQAAAAACAsa9AzczMzEwGo0DNzMzMTHSmQDMzMzMz255AMzMzMzMKk0DNzMzMzGxUQM3MzMxM9qBAAAAAAADUc0CamZmZGSSrQDMzMzMzTp1AZmZmZmZGUUBmZmZmZmZRQGZmZmbm9KdAzczMzMwYc0DNzMzMzJxTQAAAAAAA6G9AzczMzMxcYkAAAAAAANSHQGZmZmZmLnVAMzMzM7OCo0DNzMzMTDGzQGZmZmZmJkdAMzMzM3NbsUCamZmZmR6RQM3MzMzM4HtAZmZmZmZeiUDNzMzMzIOQQDMzMzMzE0ZAMzMzMzMRikDNzMzMzFxVQJqZmZmZ8W1AmpmZmZmZTUBmZmZmZpKQQDMzMzMzc0tAZmZmZmacoUCamZmZmYlmQM3MzMzMzGNAzczMzMwMWkBmZmZmZsZXQAAAAAAAYHtAMzMzMzNXdEBmZmZmZvCRQDMzMzMzM3ZAmpmZmZnpYkBmZmZmZpZnQGZmZmZmrbVAzczMzMw1tkDNzMzMzExJQM3MzMzM+IpAMzMzMzNzUUAzMzMz846yQJqZmZmZr6JAzczMzMxfmkAzMzMz8wm+QJqZmZmZsWxAMzMzMzOjVkAzMzMzs8ShQGZmZmZm1IJAAAAAAAAcfEAzMzMzs6CxQGZmZmZmnmhAmpmZmZlhYEDNzMzMzPB5QDMzMzMzlYdAZmZmZmbWUkAzMzMzM/2oQGZmZmZm5jRAmpmZmZnpXkBmZmZmpm69QM3MzMzMVoxAMzMzM7MYs0AAAAAAAKhtQGZmZmZmplJAZmZmZmZmdUAzMzMzM+WLQJqZmZnZ1rJAZmZmZmZme0AAAAAAAJenQM3MzMzM3qhAZmZmZmbmU0AAAAAAABqbQJqZmZmZUaBAmpmZmZlpf0AAAAAAAGBJQGZmZmZm4ZJAzczMzMyEo0AzMzMzM1uEQGZmZmZm7mtAMzMzMzO7jEDNzMzMzLRmQDMzMzMz00ZAzczMzMw6gUDNzMzMzPxcQGZmZmZmpmRAzczMzAwysEAAAAAAAEBUQM3MzMxMk6dAMzMzMzMxkkAAAAAAgCylQJqZmZmZVYlAZmZmZmZGQkAAAAAAAGBVQGZmZmZmxkhAAAAAAABQZkBmZmZmZsZcQGZmZmZmcqVAAAAAAABAOUAzMzMzMwd6QGZmZmYmFLBAZmZmZmbGUkDNzMzMTAetQDMzMzNzsbBAZmZmZmbmRkCamZmZmRk0QDMzMzMzj3RAzczMzAxIskBmZmZmZkZRQJqZmZmZO49AmpmZmZmCnUCamZmZmclRQAAAAAAAYZNAMzMzMzP0u0DNzMzMzOxwQAAAAAAAaHdAmpmZmZnDl0BmZmZmZiqsQGZmZmZm5ZFAmpmZmZlZQ0AzMzMzM7NRQGZmZmZmopZAZmZmZmY+ckCamZmZWSG3QGZmZmZmPm9AzczMzMx0a0AAAAAAAOiEQM3MzMzMPFFAAAAAAACYaEBmZmZmZu5zQDMzMzMzczhAzczMzMy+g0BmZmZmZjZzQGZmZmZm5ktAMzMzMzPDU0AAAAAAAMBXQDMzMzMzMzlAAAAAAMBbsECamZmZmSK0QJqZmZmZUKtAZmZmZmaSjEAzMzMzM963QM3MzMzMTDxAmpmZmZlfokBmZmZmZjyFQDMzMzMzKZ9AZmZmZmaHl0DNzMzMTAa2QJqZmZmZ6VFAZmZmZubco0CamZmZmUlqQM3MzMzMjFJAZmZmZmYksUAzMzMzM0N6QGZmZmbmAqFAmpmZmZmSrkBmZmZmZr57QDMzMzMz2KpAZmZmZma2UUAzMzMzM0yoQJqZmZmZjXFAzczMzIwAuECamZmZmU+nQM3MzMzMdphAmpmZmZmlckBmZmZm5raxQDMzMzMzFJJAAAAAAADgRkAAAAAAAHyJQJqZmZmZCVRAzczMzMytv0DNzMzMzDxbQDMzMzMzs1NAMzMzM/MHtEBmZmZmZlaLQGZmZmZmRlFAMzMzMzPCm0AzMzMzM8OAQGZmZmZmNlRAZmZmZuZ7r0AzMzMzM5NJQJqZmZmZsWJAmpmZmZmpU0AzMzMzM3NFQDMzMzMza2FAzczMzMzegEAAAAAAQG6yQJqZmZmZIXtAmpmZmZkJgUDNzMzMzBCUQM3MzMzMNoRAzczMzMyghUAAAAAAAP6aQGZmZmZmplVAAAAAAABHp0AAAAAAAEA4QJqZmZmZL4pAMzMzMzOjdkCamZmZGf20QJqZmZkZKaBAzczMzMx0YEDNzMzMzAw4QGZmZmZmRklAMzMzMzMelkAAAAAAAIA0QGZmZmZmHnRAzczMzMwsfkAAAAAAAJCMQM3MzMzMU5JAMzMzMzNrY0CamZmZGc6pQDMzMzMzy2BAAAAAAACgUUCamZmZmcuNQAAAAAAAwDNAzczMzMxMjUCamZmZmbS2QDMzMzMzIJhAZmZmZmZmUUAzMzMzs7avQGZmZmamw7pAMzMzMzODU0AAAAAAAECAQM3MzMzMFIZAMzMzMzMzNECamZmZGbChQM3MzMzMLExAZmZmZmaco0BmZmZm5n6gQAAAAAAAQDRAzczMzMzMckDNzMzMzFxVQAAAAAAA+bdAzczMzMztn0BmZmZmZiCkQAAAAACAdqtAzczMzMxcfUAAAAAAAMWWQDMzMzMzM2dAZmZmZmZsjkDNzMzMzOxEQAAAAACAXaZAMzMzMzN/dUDNzMzMTJWmQDMzMzMzGJNAzczMzAxvtkBmZmZmZoGjQGZmZmZmplZAzczMzMwAckCamZmZmQF3QJqZmZmZCXBAAAAAAAAgUUAAAAAAAL6IQM3MzMzMfFFAZmZmZmamdUAzMzMzMy2IQDMzMzMzOJZAMzMzMzNGo0CamZmZmeuOQAAAAABA3rJAAAAAAADgTUAzMzMzM6NXQGZmZmbm17pAAAAAAECBuUCamZmZmbiWQJqZmZmZvJRAzczMzEzIokDNzMzMzKxcQAAAAABAP7tAzczMzMwQcEDNzMzMzAxEQM3MzMxMUqFAZmZmZmakkUCamZmZGRGkQJqZmZmZ+KtAzczMzMxUckDNzMzMTBCjQDMzMzMz41NAMzMzM7O7pUBmZmZmZkZWQM3MzMzMHJlAzczMzMxLl0CamZmZmSlXQAAAAAAA8oJAmpmZmZkZM0AzMzMzMxNUQJqZmZmZuVJAMzMzMzN9h0DNzMzMzLxQQJqZmZnZo7FAAAAAAACgZEDNzMzMzMynQM3MzMzMQpxAZmZmZuYWvUCamZmZmRk5QGZmZmZmY51AzczMzMzYfUCamZmZmWOXQM3MzMzMnFFAmpmZmZnXq0AAAAAAAMA4QM3MzMzMcp9AmpmZmZlBbkAAAAAAAOBPQGZmZmZmTnBAMzMzM7Mup0CamZmZmV2NQAAAAAAAN5BAmpmZmZk5SUCamZmZmVCsQAAAAAAAEFlAZmZmZmY4lkBmZmZmZnZRQM3MzMzM1IpAzczMzMxEdECamZmZmfl4QJqZmZkZk6lAZmZmZmbmNECamZmZmVlRQDMzMzMz6YBAzczMzMw6qUBmZmZmZoZRQAAAAAAAaoxAMzMzM/OjtEAAAAAAAEaZQDMzMzMzE1VAAAAAAEAouUDNzMzMzKyRQJqZmZmZT4JAMzMzMzPzM0DNzMzMzBShQJqZmZkZA6lAAAAAAACqhEBmZmZmZl+RQM3MzMxMzKdAZmZmZmZWUUAzMzMzMwNxQGZmZmZmrbRAZmZmZmZGSUAzMzMzMyNUQDMzMzMzp4xAmpmZmZn+nECamZmZmSldQAAAAACA3qFAmpmZmZn1iUAAAAAAAAA0QGZmZmZmepBAMzMzMzNDVUDNzMzMTHygQDMzMzMzHYFAZmZmZmb2wEAAAAAAQBKxQAAAAAAAeG9AZmZmZmYih0AzMzMzM0t8QDMzMzMzczNAmpmZmZnJZEAAAAAAAIBRQGZmZmYm1LJAMzMzMzOjqkDNzMzMzNiTQAAAAAAAZphAzczMzMyMP0AAAAAAABx0QM3MzMzMZGJAAAAAAICnokBmZmZmZsikQM3MzMyMc7BAMzMzMzP3jkCamZmZmTloQDMzMzMzsYhAAAAAAIBHo0AAAAAAAF68QJqZmZmZ651AzczMzAw4tkCamZmZGZG0QAAAAAAAsZtAmpmZmZk5RkBmZmZmZvanQAAAAAAAQDRAZmZmZmaWUkBmZmZmZgZPQGZmZmbm3ahAMzMzMzPvgEBmZmZmZlqOQGZmZmZmTmRAzczMzMwca0BmZmZmZqZuQAAAAAAA7HJAzczMzMwMTkDNzMzMzLxTQAAAAAAAoFhAzczMzMyUbkDNzMzMzI6iQDMzMzOz/qJAmpmZmZmvlkBmZmZmZsZRQM3MzMzMQ7tAZmZmZmbuj0AAAAAAAIBXQM3MzMzMQ5ZAMzMzMzMzaEBmZmZmZmSDQDMzMzMzJ59AMzMzMzNLpEBmZmZmZnGQQJqZmZmZ+UpAZmZmZmbsiUCamZmZmYCUQDMzMzMzc1FAMzMzMzMJgUDNzMzMzOB+QJqZmZkZM6ZAmpmZmZltfkBmZmZmZpZpQGZmZmbmZqdAZmZmZmY+YUAAAAAAAGStQDMzMzMzQ6lAZmZmZuY+tUDNzMzMzOWQQM3MzMzMvGtAmpmZmZm5UkAzMzMzM3NNQM3MzMzM2HRAzczMzEzGqEDNzMzMzKxSQAAAAAAAeHxAAAAAAAChqEDNzMzMzMSjQGZmZmZm5ahAAAAAAADgQUAzMzMzM7NmQM3MzMzMDZhAMzMzMzMTTUAzMzMzMzNsQJqZmZmZTXVAmpmZmZmmo0AzMzMzMx9zQGZmZmZm1nZAZmZmZma2VkCamZmZmVlRQJqZmZmZN4dAZmZmZmYmNEAzMzMzs9CyQM3MzMzMq5xAmpmZmZkRc0DNzMzMzHRjQM3MzMzMLFtAzczMzMwMRkAAAAAAAEaGQAAAAAAABblAmpmZmZmVmUCamZmZ2QG4QM3MzMzMMptAmpmZmZlHgUDNzMzMzGxXQAAAAAAAWpBAmpmZmZkRikCamZmZ2SawQGZmZmZmHoxAMzMzMzMDW0AzMzMzM5NRQAAAAAAAnopAmpmZmZn7gUCamZmZmXyVQGZmZmZmFmNAmpmZmZlhaEAAAAAAAPCZQDMzMzMzMzRAmpmZmVlFu0AzMzMzMz+sQDMzMzOzEKFAZmZmZmbznECamZmZmUlTQJqZmZmZIXVAMzMzMzOtp0AAAAAAAGmoQJqZmZmZE41AzczMzMwIhUBmZmZmZhZqQAAAAAAAuG1AMzMzMzOra0AzMzMzM9NSQGZmZmZmvK9AmpmZmZmUr0AzMzMzM5tkQJqZmZmZmVFAzczMzMy0dEDNzMzMzO2RQJqZmZmZ25BAZmZmZiZ8vkBmZmZmZk5sQJqZmZkZDLFAzczMzMwDo0AAAAAAAAWTQAAAAAAAPptAmpmZmZlpUUDNzMzMzEiGQJqZmZmZdYBAMzMzMzObp0AzMzMzM+tnQJqZmZmZPKVAmpmZmZk5QkAAAAAAAEafQDMzMzOz461AZmZmZmYqjUAAAAAAgOCoQJqZmZmZ54dAzczMzMwsYkAAAAAAAIhjQAAAAAAAEplAZmZmZua1sUAzMzMzM86YQDMzMzMzV4pAzczMzMyFm0AAAAAAAJBkQDMzMzMzSaVAAAAAAADoc0AAAAAAQH6zQJqZmZkZQK1AmpmZmVk0vEBmZmZmZragQGZmZmZmSoBAAAAAAAAAg0DNzMzMzAyCQJqZmZmZTXJAAAAAAADAaEAzMzMzMw+DQJqZmZmZ6VNAZmZmZmb4pUAzMzMzMwNUQDMzMzOzFKVAAAAAAADnlkCamZmZmUliQAAAAAAAoElAzczMzMzMRkCamZmZmbVwQM3MzMzMAHJAAAAAAACoikDNzMzMzDCNQDMzMzMzG5NAMzMzMzOttEDNzMzMzJxSQGZmZmZmUqJAmpmZmZk+okCamZmZmWyRQGZmZmZmNnJAAAAAAABcfEAAAAAAAPWYQAAAAAAAcG1AzczMzAwHtkAzMzMzM/2IQGZmZmZmZklAmpmZmZkRYkBmZmZm5h+jQM3MzMxM1KdAAAAAAEClsUBmZmZmZuYzQJqZmZmZwJJAZmZmZmamUUCamZmZmVl4QAAAAAAAXIBAzczMzEzLoUDNzMzMzMw4QJqZmZkZ97pAmpmZmZmFj0DNzMzMzKiKQAAAAAAA0ohAmpmZmZkZZEBmZmZmZlmSQJqZmZmZLYdAAAAAAICWp0AAAAAAwJeyQGZmZmZmpjNAmpmZmZkpVUAzMzMzM2NRQAAAAAAAtHVAzczMzMwgdkDNzMzMzCxGQGZmZmZmUIJAzczMzEwpqEDNzMzMzPh5QJqZmZmZaVJAmpmZmRnKokBmZmZmJmqxQGZmZmZmrn1AMzMzMzPjhEAAAAAAAPKMQAAAAACA2qNAAAAAAAAAR0BmZmZmZhCSQDMzMzMzP5JAzczMzMyRrkBmZmZmZrZrQDMzMzMzI2lAZmZmZmYtpkCamZmZmYlRQJqZmZmZgXJAZmZmZmZGVEDNzMzMzIw0QGZmZmZmHLlAZmZmZuZsuEBmZmZmZg5uQM3MzMzMtHNAmpmZmZnZS0CamZmZmWuOQM3MzMzM7oRAZmZmZma2cEBmZmZmZnZRQGZmZmZmxkpAzczMzAyzuUAAAAAAALC+QAAAAACA86BAMzMzMzMHjEDNzMzMzEwzQDMzMzMz00hAzczMzEw4o0BmZmZmZip3QGZmZmZm2p1AzczMzMzUi0AAAAAAAIyAQM3MzMzMTEhAMzMzM7N6oEAAAAAAgLKhQDMzMzMzk2tAMzMzMzMzNEAAAAAAALBsQDMzMzMzTKNAAAAAAAByk0DNzMzMzAw0QGZmZmbmNK9AZmZmZmbmM0CamZmZmd2EQDMzMzMz8zNAZmZmZmbmU0CamZmZmflSQM3MzMzMDFNAAAAAAABAM0DNzMzMzAisQJqZmZmZV4BAAAAAAACQUUBmZmZmZgyLQGZmZmZmnnlAAAAAAAAATkAzMzMzM02EQJqZmZmZ2TRAmpmZmZltn0AAAAAAgD24QJqZmZmZeX9AzczMzMwCkkDNzMzMjPq9QGZmZmbm26BAmpmZmRl8vUDNzMzMzOxSQAAAAAAAfJ5AAAAAAAAIeEDNzMzMzNGqQM3MzMzM8HxAAAAAAIBnpkBmZmZmZtZRQGZmZmZmsZFAmpmZmZmZNEAAAAAAAC+eQGZmZmZmkIlAAAAAAACmjECamZmZmYlRQGZmZmbmtblAMzMzM7PZrECamZmZmWlRQDMzMzMzU1ZAMzMzMzMMqEAAAAAAAEuWQM3MzMzMrH1AmpmZmZnhe0DNzMzMzAR6QM3MzMzM7EFAZmZmZmaulkAAAAAAAMBRQAAAAAAAVIdAMzMzMzMzRkAzMzMzM5NRQGZmZmZm1lNAAAAAAABOiUDNzMzMzPuWQGZmZmbmgKlAmpmZmZnJbkDNzMzMzLSVQAAAAAAAC5dAmpmZmZnSlkCamZmZmSFjQAAAAAAAj6BAAAAAAADgYEAzMzMzM+KVQJqZmZmZaVFAzczMzMyQkEAAAAAAAIBVQAAAAACAmbZAzczMzMzcU0DNzMzMTAGmQAAAAACAr7JAmpmZmZlpfUAAAAAAAISyQDMzMzMzo5ZAmpmZmdmesEBmZmZmZjeRQDMzMzMzMzRAMzMzM7MCr0BmZmZmZleTQJqZmZmZIX9AMzMzMzNnckCamZmZGZuiQDMzMzMzK4NAMzMzMzOje0BmZmZmZjZVQM3MzMzMdoRAmpmZmRmxqEBmZmZmZiKHQM3MzMzM7aVAmpmZmZk6lkDNzMzMDCqwQAAAAAAAoFlAMzMzMzNFi0DNzMzMzKiHQGZmZmZmBoNAzczMzMzMkUDNzMzMzHhxQAAAAAAALZdAmpmZmdktskAAAAAAwDCxQAAAAAAAxHxAAAAAAIBttUAzMzMzM0N5QM3MzMyMCLxAZmZmZmZebkCamZmZmROLQGZmZmZmOKBAZmZmZqaDvEBmZmZmZuahQAAAAADAQ71AZmZmZuYrvkAAAAAAACCQQAAAAAAAsFFAAAAAAABYYEDNzMzMTLukQM3MzMzMA6tAZmZmZmamRkAzMzMzM0NmQJqZmZmZCX5AMzMzMzNzN0AzMzMzM7M9QGZmZmbml7dAmpmZmZnpYkAzMzMzM7NLQGZmZmZmplZAMzMzMzOLY0AzMzMzsxGnQDMzMzNzHLdAZmZmZmZWXEAAAAAAADyVQJqZmZmZx5tAzczMzIyYsUDNzMzMzDxwQJqZmZlZwLVAzczMzEw3oUCamZmZGYKiQGZmZmZmBIVAzczMzMyWmEAzMzMzM4NfQDMzMzMzI1BAZmZmZuZWqUAAAAAAANBTQDMzMzMzc0ZAMzMzMzOdhEAAAAAAAKBdQDMzMzOzS6pAmpmZmZlpaEAzMzMzMy2PQM3MzMzMm7RAAAAAAAAgVEDNzMzMzBhzQAAAAAAAJIxAAAAAAIAhrkAAAAAAAGSZQDMzMzOz7q5AzczMzMwCr0AzMzMzM299QM3MzMzMhIFAMzMzMzOzOUBmZmZmZq5/QGZmZmZmFlRAmpmZmZkZU0AAAAAAABCAQJqZmZmZgYtAzczMzMx8UUAzMzMzM1NXQJqZmZmZIWVAZmZmZmaGQUAAAAAAAEBSQJqZmZmZOKVAZmZmZmaGUUAzMzMzM8thQJqZmZmZmUBAZmZmZmb2cUBmZmZmZpyhQM3MzMxMSL5AmpmZmVm5uUAzMzMzM7MzQGZmZmZm2nlAMzMzMzNRhkBmZmZmZoKjQGZmZmZmC7ZAZmZmZma2aECamZmZmclTQM3MzMzMfoRAZmZmZmbyckDNzMzMzJmYQGZmZmZmKblAMzMzMzPzSEBmZmZmZjuVQDMzMzOza6ZAAAAAAACgSEDNzMzMDM+zQJqZmZmZibZAzczMzMxMNEDNzMzMzOaFQGZmZmZmtmZAMzMzM7Nhr0AzMzMzM5NSQDMzMzMzU0ZAMzMzMzMdkUBmZmZmZqaIQM3MzMzMyHZAZmZmZmZmNECamZmZWXWwQDMzMzOzK75AzczMzMxUY0DNzMzMzLS8QAAAAAAAFadAMzMzM7O+rUBmZmZm5sKuQGZmZmZmJnpAAAAAAABASUCamZmZmZlSQGZmZmZmN6RAmpmZmZlLuEDNzMzMDAezQGZmZmYmLrFAmpmZmZnpZECamZmZmZlXQAAAAAAAgEtAzczMzMxcWUDNzMzMzOR1QAAAAAAAYFFAmpmZmZnZMkDNzMzMzExRQJqZmZmZaVFAmpmZmZnsr0AzMzMzM5NUQJqZmZmZuXBAzczMzMxskUCamZmZmTu1QM3MzMxMWrBAzczMzMwMOUDNzMzMzEaGQJqZmZmZeUhAZmZmZmamRkCamZmZmelkQDMzMzMzE41AZmZmZqbNs0AAAAAAAER0QM3MzMzMjGNAMzMzMzNUrECamZmZ2SC/QGZmZmZmDmNAZmZmZmarkUAzMzMzc+OwQGZmZmZm/IVAAAAAAAAgTEBmZmZm5pOhQM3MzMzM7GNAmpmZmZkpUUAzMzMzM3d0QDMzMzMzZ5VAAAAAAABNkUBmZmZmZrZRQGZmZmZm1mBAmpmZmZlEp0DNzMzMzCx8QGZmZmZm/pJAzczMzMzsVkDNzMzMDAi9QM3MzMzMdK9AzczMzMxMOUAzMzMzM6SSQJqZmZmZGTRAmpmZmZl5UUAAAAAAALCxQDMzMzMzM1RAMzMzMzOTXUDNzMzMzBxTQAAAAAAAGpFAAAAAAADugUDNzMzMzMWhQAAAAAAAoFJAZmZmZmazkEAAAAAAANKHQAAAAAAANIJAmpmZmRmUoECamZmZmUlRQDMzMzMzm4ZAmpmZmdkTskCamZmZmRFyQDMzMzMzm2VAAAAAAABgVUAAAAAAACGRQAAAAAAAgGxAZmZmZiZytkAzMzMzMyNqQAAAAAAAgbFAMzMzMzNbY0AAAAAAAI6CQDMzMzOzQ6lAZmZmZmaYkEBmZmZm5kC1QDMzMzMzY21AAAAAAABAVUDNzMzMTI2nQM3MzMzMDGdAMzMzMzNqn0DNzMzMzExRQJqZmZmZZaJAzczMzMwiq0AzMzMzM4NrQM3MzMwM3LpAAAAAAABQf0AzMzMzMzM0QM3MzMzM6oZAAAAAAADYlEAzMzMzM2NcQJqZmZmZE5VAMzMzMzNLc0AAAAAAAGR7QM3MzMzMLElAAAAAAACXqEAzMzMzM5NRQAAAAADA8bVAzczMzMzDm0CamZmZGWajQJqZmZlZaLRAzczMzMxig0AzMzMzMzmAQM3MzMzMVpRAAAAAAACnkUBmZmZmZg6LQDMzMzMz41NAmpmZmdl+t0DNzMzMzICiQDMzMzOzsqtAAAAAAABUlEAzMzMzM0d3QAAAAAAAcFNAzczMzMzcV0DNzMzMzL6RQJqZmZmZH6JAzczMzMxsUUBmZmZmZuqBQAAAAAAA8FhAMzMzMzM7i0AAAAAAAGSIQJqZmZmZ1XZAZmZmZmbqdECamZmZmflFQM3MzMzMjEZAmpmZmRlopkAAAAAAABx8QM3MzMxMPrFAmpmZmRlCqkBmZmZmZlZRQDMzMzOz+a9AAAAAAAAYa0BmZmZmZmZRQAAAAAAAEHhAAAAAAACAPkAAAAAAgMu6QM3MzMxMAbRAzczMzMyckUBmZmZmZk+bQGZmZmbmhKVAzczMzEwooUBmZmZmZnKaQAAAAAAAgDRAmpmZmZmVcEAAAAAAALGcQGZmZmbmErlAzczMzMw+hUBmZmZm5uilQM3MzMzMUIhAmpmZmVkPsUAzMzMzM1GlQGZmZmZmtlpAMzMzMzNDYEAzMzMzs4mvQAAAAAAABHBAZmZmZmb0nUDNzMzMzJxSQGZmZmZmAnFAmpmZmZmpUUBmZmZmZr6GQJqZmZmZNXlAAAAAAADwUkAAAAAAQOa6QJqZmZmZKXNA",
                    "dtype": "f8"
                  },
                  "yaxis": "y"
                }
              ],
              "layout": {
                "legend": {
                  "title": {
                    "text": "color"
                  },
                  "tracegroupgap": 0
                },
                "margin": {
                  "t": 60
                },
                "showlegend": true,
                "template": {
                  "data": {
                    "bar": [
                      {
                        "error_x": {
                          "color": "#f2f5fa"
                        },
                        "error_y": {
                          "color": "#f2f5fa"
                        },
                        "marker": {
                          "line": {
                            "color": "rgb(17,17,17)",
                            "width": 0.5
                          },
                          "pattern": {
                            "fillmode": "overlay",
                            "size": 10,
                            "solidity": 0.2
                          }
                        },
                        "type": "bar"
                      }
                    ],
                    "barpolar": [
                      {
                        "marker": {
                          "line": {
                            "color": "rgb(17,17,17)",
                            "width": 0.5
                          },
                          "pattern": {
                            "fillmode": "overlay",
                            "size": 10,
                            "solidity": 0.2
                          }
                        },
                        "type": "barpolar"
                      }
                    ],
                    "carpet": [
                      {
                        "aaxis": {
                          "endlinecolor": "#A2B1C6",
                          "gridcolor": "#506784",
                          "linecolor": "#506784",
                          "minorgridcolor": "#506784",
                          "startlinecolor": "#A2B1C6"
                        },
                        "baxis": {
                          "endlinecolor": "#A2B1C6",
                          "gridcolor": "#506784",
                          "linecolor": "#506784",
                          "minorgridcolor": "#506784",
                          "startlinecolor": "#A2B1C6"
                        },
                        "type": "carpet"
                      }
                    ],
                    "choropleth": [
                      {
                        "colorbar": {
                          "outlinewidth": 0,
                          "ticks": ""
                        },
                        "type": "choropleth"
                      }
                    ],
                    "contour": [
                      {
                        "colorbar": {
                          "outlinewidth": 0,
                          "ticks": ""
                        },
                        "colorscale": [
                          [
                            0,
                            "#0d0887"
                          ],
                          [
                            0.1111111111111111,
                            "#46039f"
                          ],
                          [
                            0.2222222222222222,
                            "#7201a8"
                          ],
                          [
                            0.3333333333333333,
                            "#9c179e"
                          ],
                          [
                            0.4444444444444444,
                            "#bd3786"
                          ],
                          [
                            0.5555555555555556,
                            "#d8576b"
                          ],
                          [
                            0.6666666666666666,
                            "#ed7953"
                          ],
                          [
                            0.7777777777777778,
                            "#fb9f3a"
                          ],
                          [
                            0.8888888888888888,
                            "#fdca26"
                          ],
                          [
                            1,
                            "#f0f921"
                          ]
                        ],
                        "type": "contour"
                      }
                    ],
                    "contourcarpet": [
                      {
                        "colorbar": {
                          "outlinewidth": 0,
                          "ticks": ""
                        },
                        "type": "contourcarpet"
                      }
                    ],
                    "heatmap": [
                      {
                        "colorbar": {
                          "outlinewidth": 0,
                          "ticks": ""
                        },
                        "colorscale": [
                          [
                            0,
                            "#0d0887"
                          ],
                          [
                            0.1111111111111111,
                            "#46039f"
                          ],
                          [
                            0.2222222222222222,
                            "#7201a8"
                          ],
                          [
                            0.3333333333333333,
                            "#9c179e"
                          ],
                          [
                            0.4444444444444444,
                            "#bd3786"
                          ],
                          [
                            0.5555555555555556,
                            "#d8576b"
                          ],
                          [
                            0.6666666666666666,
                            "#ed7953"
                          ],
                          [
                            0.7777777777777778,
                            "#fb9f3a"
                          ],
                          [
                            0.8888888888888888,
                            "#fdca26"
                          ],
                          [
                            1,
                            "#f0f921"
                          ]
                        ],
                        "type": "heatmap"
                      }
                    ],
                    "histogram": [
                      {
                        "marker": {
                          "pattern": {
                            "fillmode": "overlay",
                            "size": 10,
                            "solidity": 0.2
                          }
                        },
                        "type": "histogram"
                      }
                    ],
                    "histogram2d": [
                      {
                        "colorbar": {
                          "outlinewidth": 0,
                          "ticks": ""
                        },
                        "colorscale": [
                          [
                            0,
                            "#0d0887"
                          ],
                          [
                            0.1111111111111111,
                            "#46039f"
                          ],
                          [
                            0.2222222222222222,
                            "#7201a8"
                          ],
                          [
                            0.3333333333333333,
                            "#9c179e"
                          ],
                          [
                            0.4444444444444444,
                            "#bd3786"
                          ],
                          [
                            0.5555555555555556,
                            "#d8576b"
                          ],
                          [
                            0.6666666666666666,
                            "#ed7953"
                          ],
                          [
                            0.7777777777777778,
                            "#fb9f3a"
                          ],
                          [
                            0.8888888888888888,
                            "#fdca26"
                          ],
                          [
                            1,
                            "#f0f921"
                          ]
                        ],
                        "type": "histogram2d"
                      }
                    ],
                    "histogram2dcontour": [
                      {
                        "colorbar": {
                          "outlinewidth": 0,
                          "ticks": ""
                        },
                        "colorscale": [
                          [
                            0,
                            "#0d0887"
                          ],
                          [
                            0.1111111111111111,
                            "#46039f"
                          ],
                          [
                            0.2222222222222222,
                            "#7201a8"
                          ],
                          [
                            0.3333333333333333,
                            "#9c179e"
                          ],
                          [
                            0.4444444444444444,
                            "#bd3786"
                          ],
                          [
                            0.5555555555555556,
                            "#d8576b"
                          ],
                          [
                            0.6666666666666666,
                            "#ed7953"
                          ],
                          [
                            0.7777777777777778,
                            "#fb9f3a"
                          ],
                          [
                            0.8888888888888888,
                            "#fdca26"
                          ],
                          [
                            1,
                            "#f0f921"
                          ]
                        ],
                        "type": "histogram2dcontour"
                      }
                    ],
                    "mesh3d": [
                      {
                        "colorbar": {
                          "outlinewidth": 0,
                          "ticks": ""
                        },
                        "type": "mesh3d"
                      }
                    ],
                    "parcoords": [
                      {
                        "line": {
                          "colorbar": {
                            "outlinewidth": 0,
                            "ticks": ""
                          }
                        },
                        "type": "parcoords"
                      }
                    ],
                    "pie": [
                      {
                        "automargin": true,
                        "type": "pie"
                      }
                    ],
                    "scatter": [
                      {
                        "marker": {
                          "line": {
                            "color": "#283442"
                          }
                        },
                        "type": "scatter"
                      }
                    ],
                    "scatter3d": [
                      {
                        "line": {
                          "colorbar": {
                            "outlinewidth": 0,
                            "ticks": ""
                          }
                        },
                        "marker": {
                          "colorbar": {
                            "outlinewidth": 0,
                            "ticks": ""
                          }
                        },
                        "type": "scatter3d"
                      }
                    ],
                    "scattercarpet": [
                      {
                        "marker": {
                          "colorbar": {
                            "outlinewidth": 0,
                            "ticks": ""
                          }
                        },
                        "type": "scattercarpet"
                      }
                    ],
                    "scattergeo": [
                      {
                        "marker": {
                          "colorbar": {
                            "outlinewidth": 0,
                            "ticks": ""
                          }
                        },
                        "type": "scattergeo"
                      }
                    ],
                    "scattergl": [
                      {
                        "marker": {
                          "line": {
                            "color": "#283442"
                          }
                        },
                        "type": "scattergl"
                      }
                    ],
                    "scattermap": [
                      {
                        "marker": {
                          "colorbar": {
                            "outlinewidth": 0,
                            "ticks": ""
                          }
                        },
                        "type": "scattermap"
                      }
                    ],
                    "scattermapbox": [
                      {
                        "marker": {
                          "colorbar": {
                            "outlinewidth": 0,
                            "ticks": ""
                          }
                        },
                        "type": "scattermapbox"
                      }
                    ],
                    "scatterpolar": [
                      {
                        "marker": {
                          "colorbar": {
                            "outlinewidth": 0,
                            "ticks": ""
                          }
                        },
                        "type": "scatterpolar"
                      }
                    ],
                    "scatterpolargl": [
                      {
                        "marker": {
                          "colorbar": {
                            "outlinewidth": 0,
                            "ticks": ""
                          }
                        },
                        "type": "scatterpolargl"
                      }
                    ],
                    "scatterternary": [
                      {
                        "marker": {
                          "colorbar": {
                            "outlinewidth": 0,
                            "ticks": ""
                          }
                        },
                        "type": "scatterternary"
                      }
                    ],
                    "surface": [
                      {
                        "colorbar": {
                          "outlinewidth": 0,
                          "ticks": ""
                        },
                        "colorscale": [
                          [
                            0,
                            "#0d0887"
                          ],
                          [
                            0.1111111111111111,
                            "#46039f"
                          ],
                          [
                            0.2222222222222222,
                            "#7201a8"
                          ],
                          [
                            0.3333333333333333,
                            "#9c179e"
                          ],
                          [
                            0.4444444444444444,
                            "#bd3786"
                          ],
                          [
                            0.5555555555555556,
                            "#d8576b"
                          ],
                          [
                            0.6666666666666666,
                            "#ed7953"
                          ],
                          [
                            0.7777777777777778,
                            "#fb9f3a"
                          ],
                          [
                            0.8888888888888888,
                            "#fdca26"
                          ],
                          [
                            1,
                            "#f0f921"
                          ]
                        ],
                        "type": "surface"
                      }
                    ],
                    "table": [
                      {
                        "cells": {
                          "fill": {
                            "color": "#506784"
                          },
                          "line": {
                            "color": "rgb(17,17,17)"
                          }
                        },
                        "header": {
                          "fill": {
                            "color": "#2a3f5f"
                          },
                          "line": {
                            "color": "rgb(17,17,17)"
                          }
                        },
                        "type": "table"
                      }
                    ]
                  },
                  "layout": {
                    "annotationdefaults": {
                      "arrowcolor": "#f2f5fa",
                      "arrowhead": 0,
                      "arrowwidth": 1
                    },
                    "autotypenumbers": "strict",
                    "coloraxis": {
                      "colorbar": {
                        "outlinewidth": 0,
                        "ticks": ""
                      }
                    },
                    "colorscale": {
                      "diverging": [
                        [
                          0,
                          "#8e0152"
                        ],
                        [
                          0.1,
                          "#c51b7d"
                        ],
                        [
                          0.2,
                          "#de77ae"
                        ],
                        [
                          0.3,
                          "#f1b6da"
                        ],
                        [
                          0.4,
                          "#fde0ef"
                        ],
                        [
                          0.5,
                          "#f7f7f7"
                        ],
                        [
                          0.6,
                          "#e6f5d0"
                        ],
                        [
                          0.7,
                          "#b8e186"
                        ],
                        [
                          0.8,
                          "#7fbc41"
                        ],
                        [
                          0.9,
                          "#4d9221"
                        ],
                        [
                          1,
                          "#276419"
                        ]
                      ],
                      "sequential": [
                        [
                          0,
                          "#0d0887"
                        ],
                        [
                          0.1111111111111111,
                          "#46039f"
                        ],
                        [
                          0.2222222222222222,
                          "#7201a8"
                        ],
                        [
                          0.3333333333333333,
                          "#9c179e"
                        ],
                        [
                          0.4444444444444444,
                          "#bd3786"
                        ],
                        [
                          0.5555555555555556,
                          "#d8576b"
                        ],
                        [
                          0.6666666666666666,
                          "#ed7953"
                        ],
                        [
                          0.7777777777777778,
                          "#fb9f3a"
                        ],
                        [
                          0.8888888888888888,
                          "#fdca26"
                        ],
                        [
                          1,
                          "#f0f921"
                        ]
                      ],
                      "sequentialminus": [
                        [
                          0,
                          "#0d0887"
                        ],
                        [
                          0.1111111111111111,
                          "#46039f"
                        ],
                        [
                          0.2222222222222222,
                          "#7201a8"
                        ],
                        [
                          0.3333333333333333,
                          "#9c179e"
                        ],
                        [
                          0.4444444444444444,
                          "#bd3786"
                        ],
                        [
                          0.5555555555555556,
                          "#d8576b"
                        ],
                        [
                          0.6666666666666666,
                          "#ed7953"
                        ],
                        [
                          0.7777777777777778,
                          "#fb9f3a"
                        ],
                        [
                          0.8888888888888888,
                          "#fdca26"
                        ],
                        [
                          1,
                          "#f0f921"
                        ]
                      ]
                    },
                    "colorway": [
                      "#636efa",
                      "#EF553B",
                      "#00cc96",
                      "#ab63fa",
                      "#FFA15A",
                      "#19d3f3",
                      "#FF6692",
                      "#B6E880",
                      "#FF97FF",
                      "#FECB52"
                    ],
                    "font": {
                      "color": "#f2f5fa"
                    },
                    "geo": {
                      "bgcolor": "rgb(17,17,17)",
                      "lakecolor": "rgb(17,17,17)",
                      "landcolor": "rgb(17,17,17)",
                      "showlakes": true,
                      "showland": true,
                      "subunitcolor": "#506784"
                    },
                    "hoverlabel": {
                      "align": "left"
                    },
                    "hovermode": "closest",
                    "mapbox": {
                      "style": "dark"
                    },
                    "paper_bgcolor": "rgb(17,17,17)",
                    "plot_bgcolor": "rgb(17,17,17)",
                    "polar": {
                      "angularaxis": {
                        "gridcolor": "#506784",
                        "linecolor": "#506784",
                        "ticks": ""
                      },
                      "bgcolor": "rgb(17,17,17)",
                      "radialaxis": {
                        "gridcolor": "#506784",
                        "linecolor": "#506784",
                        "ticks": ""
                      }
                    },
                    "scene": {
                      "xaxis": {
                        "backgroundcolor": "rgb(17,17,17)",
                        "gridcolor": "#506784",
                        "gridwidth": 2,
                        "linecolor": "#506784",
                        "showbackground": true,
                        "ticks": "",
                        "zerolinecolor": "#C8D4E3"
                      },
                      "yaxis": {
                        "backgroundcolor": "rgb(17,17,17)",
                        "gridcolor": "#506784",
                        "gridwidth": 2,
                        "linecolor": "#506784",
                        "showbackground": true,
                        "ticks": "",
                        "zerolinecolor": "#C8D4E3"
                      },
                      "zaxis": {
                        "backgroundcolor": "rgb(17,17,17)",
                        "gridcolor": "#506784",
                        "gridwidth": 2,
                        "linecolor": "#506784",
                        "showbackground": true,
                        "ticks": "",
                        "zerolinecolor": "#C8D4E3"
                      }
                    },
                    "shapedefaults": {
                      "line": {
                        "color": "#f2f5fa"
                      }
                    },
                    "sliderdefaults": {
                      "bgcolor": "#C8D4E3",
                      "bordercolor": "rgb(17,17,17)",
                      "borderwidth": 1,
                      "tickwidth": 0
                    },
                    "ternary": {
                      "aaxis": {
                        "gridcolor": "#506784",
                        "linecolor": "#506784",
                        "ticks": ""
                      },
                      "baxis": {
                        "gridcolor": "#506784",
                        "linecolor": "#506784",
                        "ticks": ""
                      },
                      "bgcolor": "rgb(17,17,17)",
                      "caxis": {
                        "gridcolor": "#506784",
                        "linecolor": "#506784",
                        "ticks": ""
                      }
                    },
                    "title": {
                      "x": 0.05
                    },
                    "updatemenudefaults": {
                      "bgcolor": "#506784",
                      "borderwidth": 0
                    },
                    "xaxis": {
                      "automargin": true,
                      "gridcolor": "#283442",
                      "linecolor": "#506784",
                      "ticks": "",
                      "title": {
                        "standoff": 15
                      },
                      "zerolinecolor": "#283442",
                      "zerolinewidth": 2
                    },
                    "yaxis": {
                      "automargin": true,
                      "gridcolor": "#283442",
                      "linecolor": "#506784",
                      "ticks": "",
                      "title": {
                        "standoff": 15
                      },
                      "zerolinecolor": "#283442",
                      "zerolinewidth": 2
                    }
                  }
                },
                "title": {
                  "font": {
                    "size": 24
                  },
                  "text": "Monthly x Total Charges"
                },
                "xaxis": {
                  "anchor": "y",
                  "domain": [
                    0,
                    1
                  ],
                  "title": {
                    "text": "x"
                  }
                },
                "yaxis": {
                  "anchor": "x",
                  "domain": [
                    0,
                    1
                  ],
                  "title": {
                    "text": "y"
                  }
                }
              }
            }
          },
          "metadata": {},
          "output_type": "display_data"
        }
      ],
      "source": [
        "color_discrete_map = {'No': categorical_palette[2], 'Yes': categorical_palette[0]}\n",
        "\n",
        "\n",
        "fig = px.scatter(\n",
        "    x=df['monthlycharges'],\n",
        "    y=df[\"totalcharges\"],\n",
        "    color = df[\"churn\"],\n",
        "    color_discrete_map=color_discrete_map\n",
        ")\n",
        "\n",
        "fig.update_layout(template = \"plotly_dark\", title = \"Monthly x Total Charges\", title_font = dict(size=24), showlegend=True)\n",
        "\n",
        "\n",
        "fig.show()"
      ]
    },
    {
      "cell_type": "code",
      "execution_count": 41,
      "metadata": {
        "colab": {
          "base_uri": "https://localhost:8080/",
          "height": 1000
        },
        "id": "EEUOYKLqN9x6",
        "outputId": "64a7c811-9d04-4add-a152-699dadae768a"
      },
      "outputs": [
        {
          "data": {
            "image/png": "[encoded data removed]",
            "text/plain": [
              "<Figure size 1800x1500 with 17 Axes>"
            ]
          },
          "metadata": {},
          "output_type": "display_data"
        }
      ],
      "source": [
        "\n",
        "custom_palette = [categorical_palette[2], categorical_palette[0]]\n",
        "dist_df = df.drop('churn_flag', axis = 1)\n",
        "\n",
        "num_rows = 5\n",
        "num_cols = 4\n",
        "\n",
        "# Create subplots\n",
        "fig, axes = plt.subplots(num_rows, num_cols, figsize=(18, 15))\n",
        "\n",
        "# Flatten the axes array for easier indexing\n",
        "axes = axes.flatten()\n",
        "\n",
        "# Iterate over each categorical feature\n",
        "for i, feat in enumerate(categorical):\n",
        "    # Plot countplot for each feature\n",
        "    sns.countplot(data=dist_df, x=feat, hue='churn', palette=custom_palette, ax=axes[i])\n",
        "    axes[i].set_title(f'Customer churn count by {feat}')\n",
        "    axes[i].tick_params(axis='x', rotation=45)\n",
        "    try:\n",
        "      axes[i].legend_.remove()\n",
        "    except:\n",
        "      continue\n",
        "\n",
        "    fig.legend(handles=axes[0].get_legend_handles_labels()[0],\n",
        "           labels=axes[0].get_legend_handles_labels()[1],\n",
        "           loc='upper right',\n",
        "           fontsize='small',\n",
        "           bbox_to_anchor=(0.5, 1.05),  # Position legend outside the subplots\n",
        "           fancybox=True, shadow=True, ncol=2\n",
        "               )\n",
        "\n",
        "\n",
        "# Remove any unused subplots\n",
        "for j in range(i + 1, num_rows * num_cols):\n",
        "    fig.delaxes(axes[j])\n",
        "\n",
        "\n",
        "# Adjust layout\n",
        "plt.tight_layout()\n",
        "\n",
        "# Show the plots\n",
        "plt.show()\n"
      ]
    },
    {
      "cell_type": "code",
      "execution_count": 42,
      "metadata": {
        "colab": {
          "base_uri": "https://localhost:8080/",
          "height": 542
        },
        "id": "Haexwyi0hiBu",
        "outputId": "696d3e3a-aa93-4434-de38-2486fa949377"
      },
      "outputs": [
        {
          "data": {
            "application/vnd.plotly.v1+json": {
              "config": {
                "plotlyServerURL": "https://plot.ly"
              },
              "data": [
                {
                  "bingroup": "x",
                  "hovertemplate": "churn=No<br>tenure=%{x}<br>count=%{y}<extra></extra>",
                  "legendgroup": "No",
                  "marker": {
                    "color": "#50e991",
                    "opacity": 0.7,
                    "pattern": {
                      "shape": ""
                    }
                  },
                  "name": "No",
                  "nbinsx": 20,
                  "orientation": "v",
                  "showlegend": true,
                  "type": "histogram",
                  "x": {
                    "bdata": "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",
                    "dtype": "i1"
                  },
                  "xaxis": "x",
                  "yaxis": "y"
                },
                {
                  "bingroup": "x",
                  "hovertemplate": "churn=Yes<br>tenure=%{x}<br>count=%{y}<extra></extra>",
                  "legendgroup": "Yes",
                  "marker": {
                    "color": "#e60049",
                    "opacity": 0.7,
                    "pattern": {
                      "shape": ""
                    }
                  },
                  "name": "Yes",
                  "nbinsx": 20,
                  "orientation": "v",
                  "showlegend": true,
                  "type": "histogram",
                  "x": {
                    "bdata": "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",
                    "dtype": "i1"
                  },
                  "xaxis": "x",
                  "yaxis": "y"
                }
              ],
              "layout": {
                "barmode": "relative",
                "legend": {
                  "title": {
                    "text": "churn"
                  },
                  "tracegroupgap": 0
                },
                "margin": {
                  "t": 60
                },
                "showlegend": true,
                "template": {
                  "data": {
                    "bar": [
                      {
                        "error_x": {
                          "color": "#f2f5fa"
                        },
                        "error_y": {
                          "color": "#f2f5fa"
                        },
                        "marker": {
                          "line": {
                            "color": "rgb(17,17,17)",
                            "width": 0.5
                          },
                          "pattern": {
                            "fillmode": "overlay",
                            "size": 10,
                            "solidity": 0.2
                          }
                        },
                        "type": "bar"
                      }
                    ],
                    "barpolar": [
                      {
                        "marker": {
                          "line": {
                            "color": "rgb(17,17,17)",
                            "width": 0.5
                          },
                          "pattern": {
                            "fillmode": "overlay",
                            "size": 10,
                            "solidity": 0.2
                          }
                        },
                        "type": "barpolar"
                      }
                    ],
                    "carpet": [
                      {
                        "aaxis": {
                          "endlinecolor": "#A2B1C6",
                          "gridcolor": "#506784",
                          "linecolor": "#506784",
                          "minorgridcolor": "#506784",
                          "startlinecolor": "#A2B1C6"
                        },
                        "baxis": {
                          "endlinecolor": "#A2B1C6",
                          "gridcolor": "#506784",
                          "linecolor": "#506784",
                          "minorgridcolor": "#506784",
                          "startlinecolor": "#A2B1C6"
                        },
                        "type": "carpet"
                      }
                    ],
                    "choropleth": [
                      {
                        "colorbar": {
                          "outlinewidth": 0,
                          "ticks": ""
                        },
                        "type": "choropleth"
                      }
                    ],
                    "contour": [
                      {
                        "colorbar": {
                          "outlinewidth": 0,
                          "ticks": ""
                        },
                        "colorscale": [
                          [
                            0,
                            "#0d0887"
                          ],
                          [
                            0.1111111111111111,
                            "#46039f"
                          ],
                          [
                            0.2222222222222222,
                            "#7201a8"
                          ],
                          [
                            0.3333333333333333,
                            "#9c179e"
                          ],
                          [
                            0.4444444444444444,
                            "#bd3786"
                          ],
                          [
                            0.5555555555555556,
                            "#d8576b"
                          ],
                          [
                            0.6666666666666666,
                            "#ed7953"
                          ],
                          [
                            0.7777777777777778,
                            "#fb9f3a"
                          ],
                          [
                            0.8888888888888888,
                            "#fdca26"
                          ],
                          [
                            1,
                            "#f0f921"
                          ]
                        ],
                        "type": "contour"
                      }
                    ],
                    "contourcarpet": [
                      {
                        "colorbar": {
                          "outlinewidth": 0,
                          "ticks": ""
                        },
                        "type": "contourcarpet"
                      }
                    ],
                    "heatmap": [
                      {
                        "colorbar": {
                          "outlinewidth": 0,
                          "ticks": ""
                        },
                        "colorscale": [
                          [
                            0,
                            "#0d0887"
                          ],
                          [
                            0.1111111111111111,
                            "#46039f"
                          ],
                          [
                            0.2222222222222222,
                            "#7201a8"
                          ],
                          [
                            0.3333333333333333,
                            "#9c179e"
                          ],
                          [
                            0.4444444444444444,
                            "#bd3786"
                          ],
                          [
                            0.5555555555555556,
                            "#d8576b"
                          ],
                          [
                            0.6666666666666666,
                            "#ed7953"
                          ],
                          [
                            0.7777777777777778,
                            "#fb9f3a"
                          ],
                          [
                            0.8888888888888888,
                            "#fdca26"
                          ],
                          [
                            1,
                            "#f0f921"
                          ]
                        ],
                        "type": "heatmap"
                      }
                    ],
                    "histogram": [
                      {
                        "marker": {
                          "pattern": {
                            "fillmode": "overlay",
                            "size": 10,
                            "solidity": 0.2
                          }
                        },
                        "type": "histogram"
                      }
                    ],
                    "histogram2d": [
                      {
                        "colorbar": {
                          "outlinewidth": 0,
                          "ticks": ""
                        },
                        "colorscale": [
                          [
                            0,
                            "#0d0887"
                          ],
                          [
                            0.1111111111111111,
                            "#46039f"
                          ],
                          [
                            0.2222222222222222,
                            "#7201a8"
                          ],
                          [
                            0.3333333333333333,
                            "#9c179e"
                          ],
                          [
                            0.4444444444444444,
                            "#bd3786"
                          ],
                          [
                            0.5555555555555556,
                            "#d8576b"
                          ],
                          [
                            0.6666666666666666,
                            "#ed7953"
                          ],
                          [
                            0.7777777777777778,
                            "#fb9f3a"
                          ],
                          [
                            0.8888888888888888,
                            "#fdca26"
                          ],
                          [
                            1,
                            "#f0f921"
                          ]
                        ],
                        "type": "histogram2d"
                      }
                    ],
                    "histogram2dcontour": [
                      {
                        "colorbar": {
                          "outlinewidth": 0,
                          "ticks": ""
                        },
                        "colorscale": [
                          [
                            0,
                            "#0d0887"
                          ],
                          [
                            0.1111111111111111,
                            "#46039f"
                          ],
                          [
                            0.2222222222222222,
                            "#7201a8"
                          ],
                          [
                            0.3333333333333333,
                            "#9c179e"
                          ],
                          [
                            0.4444444444444444,
                            "#bd3786"
                          ],
                          [
                            0.5555555555555556,
                            "#d8576b"
                          ],
                          [
                            0.6666666666666666,
                            "#ed7953"
                          ],
                          [
                            0.7777777777777778,
                            "#fb9f3a"
                          ],
                          [
                            0.8888888888888888,
                            "#fdca26"
                          ],
                          [
                            1,
                            "#f0f921"
                          ]
                        ],
                        "type": "histogram2dcontour"
                      }
                    ],
                    "mesh3d": [
                      {
                        "colorbar": {
                          "outlinewidth": 0,
                          "ticks": ""
                        },
                        "type": "mesh3d"
                      }
                    ],
                    "parcoords": [
                      {
                        "line": {
                          "colorbar": {
                            "outlinewidth": 0,
                            "ticks": ""
                          }
                        },
                        "type": "parcoords"
                      }
                    ],
                    "pie": [
                      {
                        "automargin": true,
                        "type": "pie"
                      }
                    ],
                    "scatter": [
                      {
                        "marker": {
                          "line": {
                            "color": "#283442"
                          }
                        },
                        "type": "scatter"
                      }
                    ],
                    "scatter3d": [
                      {
                        "line": {
                          "colorbar": {
                            "outlinewidth": 0,
                            "ticks": ""
                          }
                        },
                        "marker": {
                          "colorbar": {
                            "outlinewidth": 0,
                            "ticks": ""
                          }
                        },
                        "type": "scatter3d"
                      }
                    ],
                    "scattercarpet": [
                      {
                        "marker": {
                          "colorbar": {
                            "outlinewidth": 0,
                            "ticks": ""
                          }
                        },
                        "type": "scattercarpet"
                      }
                    ],
                    "scattergeo": [
                      {
                        "marker": {
                          "colorbar": {
                            "outlinewidth": 0,
                            "ticks": ""
                          }
                        },
                        "type": "scattergeo"
                      }
                    ],
                    "scattergl": [
                      {
                        "marker": {
                          "line": {
                            "color": "#283442"
                          }
                        },
                        "type": "scattergl"
                      }
                    ],
                    "scattermap": [
                      {
                        "marker": {
                          "colorbar": {
                            "outlinewidth": 0,
                            "ticks": ""
                          }
                        },
                        "type": "scattermap"
                      }
                    ],
                    "scattermapbox": [
                      {
                        "marker": {
                          "colorbar": {
                            "outlinewidth": 0,
                            "ticks": ""
                          }
                        },
                        "type": "scattermapbox"
                      }
                    ],
                    "scatterpolar": [
                      {
                        "marker": {
                          "colorbar": {
                            "outlinewidth": 0,
                            "ticks": ""
                          }
                        },
                        "type": "scatterpolar"
                      }
                    ],
                    "scatterpolargl": [
                      {
                        "marker": {
                          "colorbar": {
                            "outlinewidth": 0,
                            "ticks": ""
                          }
                        },
                        "type": "scatterpolargl"
                      }
                    ],
                    "scatterternary": [
                      {
                        "marker": {
                          "colorbar": {
                            "outlinewidth": 0,
                            "ticks": ""
                          }
                        },
                        "type": "scatterternary"
                      }
                    ],
                    "surface": [
                      {
                        "colorbar": {
                          "outlinewidth": 0,
                          "ticks": ""
                        },
                        "colorscale": [
                          [
                            0,
                            "#0d0887"
                          ],
                          [
                            0.1111111111111111,
                            "#46039f"
                          ],
                          [
                            0.2222222222222222,
                            "#7201a8"
                          ],
                          [
                            0.3333333333333333,
                            "#9c179e"
                          ],
                          [
                            0.4444444444444444,
                            "#bd3786"
                          ],
                          [
                            0.5555555555555556,
                            "#d8576b"
                          ],
                          [
                            0.6666666666666666,
                            "#ed7953"
                          ],
                          [
                            0.7777777777777778,
                            "#fb9f3a"
                          ],
                          [
                            0.8888888888888888,
                            "#fdca26"
                          ],
                          [
                            1,
                            "#f0f921"
                          ]
                        ],
                        "type": "surface"
                      }
                    ],
                    "table": [
                      {
                        "cells": {
                          "fill": {
                            "color": "#506784"
                          },
                          "line": {
                            "color": "rgb(17,17,17)"
                          }
                        },
                        "header": {
                          "fill": {
                            "color": "#2a3f5f"
                          },
                          "line": {
                            "color": "rgb(17,17,17)"
                          }
                        },
                        "type": "table"
                      }
                    ]
                  },
                  "layout": {
                    "annotationdefaults": {
                      "arrowcolor": "#f2f5fa",
                      "arrowhead": 0,
                      "arrowwidth": 1
                    },
                    "autotypenumbers": "strict",
                    "coloraxis": {
                      "colorbar": {
                        "outlinewidth": 0,
                        "ticks": ""
                      }
                    },
                    "colorscale": {
                      "diverging": [
                        [
                          0,
                          "#8e0152"
                        ],
                        [
                          0.1,
                          "#c51b7d"
                        ],
                        [
                          0.2,
                          "#de77ae"
                        ],
                        [
                          0.3,
                          "#f1b6da"
                        ],
                        [
                          0.4,
                          "#fde0ef"
                        ],
                        [
                          0.5,
                          "#f7f7f7"
                        ],
                        [
                          0.6,
                          "#e6f5d0"
                        ],
                        [
                          0.7,
                          "#b8e186"
                        ],
                        [
                          0.8,
                          "#7fbc41"
                        ],
                        [
                          0.9,
                          "#4d9221"
                        ],
                        [
                          1,
                          "#276419"
                        ]
                      ],
                      "sequential": [
                        [
                          0,
                          "#0d0887"
                        ],
                        [
                          0.1111111111111111,
                          "#46039f"
                        ],
                        [
                          0.2222222222222222,
                          "#7201a8"
                        ],
                        [
                          0.3333333333333333,
                          "#9c179e"
                        ],
                        [
                          0.4444444444444444,
                          "#bd3786"
                        ],
                        [
                          0.5555555555555556,
                          "#d8576b"
                        ],
                        [
                          0.6666666666666666,
                          "#ed7953"
                        ],
                        [
                          0.7777777777777778,
                          "#fb9f3a"
                        ],
                        [
                          0.8888888888888888,
                          "#fdca26"
                        ],
                        [
                          1,
                          "#f0f921"
                        ]
                      ],
                      "sequentialminus": [
                        [
                          0,
                          "#0d0887"
                        ],
                        [
                          0.1111111111111111,
                          "#46039f"
                        ],
                        [
                          0.2222222222222222,
                          "#7201a8"
                        ],
                        [
                          0.3333333333333333,
                          "#9c179e"
                        ],
                        [
                          0.4444444444444444,
                          "#bd3786"
                        ],
                        [
                          0.5555555555555556,
                          "#d8576b"
                        ],
                        [
                          0.6666666666666666,
                          "#ed7953"
                        ],
                        [
                          0.7777777777777778,
                          "#fb9f3a"
                        ],
                        [
                          0.8888888888888888,
                          "#fdca26"
                        ],
                        [
                          1,
                          "#f0f921"
                        ]
                      ]
                    },
                    "colorway": [
                      "#636efa",
                      "#EF553B",
                      "#00cc96",
                      "#ab63fa",
                      "#FFA15A",
                      "#19d3f3",
                      "#FF6692",
                      "#B6E880",
                      "#FF97FF",
                      "#FECB52"
                    ],
                    "font": {
                      "color": "#f2f5fa"
                    },
                    "geo": {
                      "bgcolor": "rgb(17,17,17)",
                      "lakecolor": "rgb(17,17,17)",
                      "landcolor": "rgb(17,17,17)",
                      "showlakes": true,
                      "showland": true,
                      "subunitcolor": "#506784"
                    },
                    "hoverlabel": {
                      "align": "left"
                    },
                    "hovermode": "closest",
                    "mapbox": {
                      "style": "dark"
                    },
                    "paper_bgcolor": "rgb(17,17,17)",
                    "plot_bgcolor": "rgb(17,17,17)",
                    "polar": {
                      "angularaxis": {
                        "gridcolor": "#506784",
                        "linecolor": "#506784",
                        "ticks": ""
                      },
                      "bgcolor": "rgb(17,17,17)",
                      "radialaxis": {
                        "gridcolor": "#506784",
                        "linecolor": "#506784",
                        "ticks": ""
                      }
                    },
                    "scene": {
                      "xaxis": {
                        "backgroundcolor": "rgb(17,17,17)",
                        "gridcolor": "#506784",
                        "gridwidth": 2,
                        "linecolor": "#506784",
                        "showbackground": true,
                        "ticks": "",
                        "zerolinecolor": "#C8D4E3"
                      },
                      "yaxis": {
                        "backgroundcolor": "rgb(17,17,17)",
                        "gridcolor": "#506784",
                        "gridwidth": 2,
                        "linecolor": "#506784",
                        "showbackground": true,
                        "ticks": "",
                        "zerolinecolor": "#C8D4E3"
                      },
                      "zaxis": {
                        "backgroundcolor": "rgb(17,17,17)",
                        "gridcolor": "#506784",
                        "gridwidth": 2,
                        "linecolor": "#506784",
                        "showbackground": true,
                        "ticks": "",
                        "zerolinecolor": "#C8D4E3"
                      }
                    },
                    "shapedefaults": {
                      "line": {
                        "color": "#f2f5fa"
                      }
                    },
                    "sliderdefaults": {
                      "bgcolor": "#C8D4E3",
                      "bordercolor": "rgb(17,17,17)",
                      "borderwidth": 1,
                      "tickwidth": 0
                    },
                    "ternary": {
                      "aaxis": {
                        "gridcolor": "#506784",
                        "linecolor": "#506784",
                        "ticks": ""
                      },
                      "baxis": {
                        "gridcolor": "#506784",
                        "linecolor": "#506784",
                        "ticks": ""
                      },
                      "bgcolor": "rgb(17,17,17)",
                      "caxis": {
                        "gridcolor": "#506784",
                        "linecolor": "#506784",
                        "ticks": ""
                      }
                    },
                    "title": {
                      "x": 0.05
                    },
                    "updatemenudefaults": {
                      "bgcolor": "#506784",
                      "borderwidth": 0
                    },
                    "xaxis": {
                      "automargin": true,
                      "gridcolor": "#283442",
                      "linecolor": "#506784",
                      "ticks": "",
                      "title": {
                        "standoff": 15
                      },
                      "zerolinecolor": "#283442",
                      "zerolinewidth": 2
                    },
                    "yaxis": {
                      "automargin": true,
                      "gridcolor": "#283442",
                      "linecolor": "#506784",
                      "ticks": "",
                      "title": {
                        "standoff": 15
                      },
                      "zerolinecolor": "#283442",
                      "zerolinewidth": 2
                    }
                  }
                },
                "title": {
                  "font": {
                    "size": 24
                  },
                  "text": "Tenure Distribution"
                },
                "xaxis": {
                  "anchor": "y",
                  "domain": [
                    0,
                    1
                  ],
                  "title": {
                    "text": "tenure"
                  }
                },
                "yaxis": {
                  "anchor": "x",
                  "domain": [
                    0,
                    1
                  ],
                  "title": {
                    "text": "count"
                  }
                }
              }
            }
          },
          "metadata": {},
          "output_type": "display_data"
        }
      ],
      "source": [
        "color_discrete_map = {'No': categorical_palette[2], 'Yes': categorical_palette[0]}\n",
        "\n",
        "\n",
        "fig = px.histogram(df, x=\"tenure\", color=\"churn\", template = 'plotly_dark', color_discrete_map=color_discrete_map, opacity = 0.7, nbins = 20)\n",
        "\n",
        "fig.update_layout(title = \"Tenure Distribution\", title_font = dict(size=24), showlegend=True)\n",
        "fig.show()"
      ]
    },
    {
      "cell_type": "code",
      "execution_count": 43,
      "metadata": {},
      "outputs": [
        {
          "data": {
            "text/html": [
              "<div>\n",
              "<style scoped>\n",
              "    .dataframe tbody tr th:only-of-type {\n",
              "        vertical-align: middle;\n",
              "    }\n",
              "\n",
              "    .dataframe tbody tr th {\n",
              "        vertical-align: top;\n",
              "    }\n",
              "\n",
              "    .dataframe thead th {\n",
              "        text-align: right;\n",
              "    }\n",
              "</style>\n",
              "<table border=\"1\" class=\"dataframe\">\n",
              "  <thead>\n",
              "    <tr style=\"text-align: right;\">\n",
              "      <th></th>\n",
              "      <th>gender</th>\n",
              "      <th>seniorcitizen</th>\n",
              "      <th>partner</th>\n",
              "      <th>dependents</th>\n",
              "      <th>tenure</th>\n",
              "      <th>phoneservice</th>\n",
              "      <th>multiplelines</th>\n",
              "      <th>internetservice</th>\n",
              "      <th>onlinesecurity</th>\n",
              "      <th>onlinebackup</th>\n",
              "      <th>...</th>\n",
              "      <th>techsupport</th>\n",
              "      <th>streamingtv</th>\n",
              "      <th>streamingmovies</th>\n",
              "      <th>contract</th>\n",
              "      <th>paperlessbilling</th>\n",
              "      <th>paymentmethod</th>\n",
              "      <th>monthlycharges</th>\n",
              "      <th>totalcharges</th>\n",
              "      <th>churn</th>\n",
              "      <th>churn_flag</th>\n",
              "    </tr>\n",
              "  </thead>\n",
              "  <tbody>\n",
              "    <tr>\n",
              "      <th>0</th>\n",
              "      <td>Female</td>\n",
              "      <td>No</td>\n",
              "      <td>Yes</td>\n",
              "      <td>No</td>\n",
              "      <td>1</td>\n",
              "      <td>No</td>\n",
              "      <td>No phone service</td>\n",
              "      <td>DSL</td>\n",
              "      <td>No</td>\n",
              "      <td>Yes</td>\n",
              "      <td>...</td>\n",
              "      <td>No</td>\n",
              "      <td>No</td>\n",
              "      <td>No</td>\n",
              "      <td>Month-to-month</td>\n",
              "      <td>Yes</td>\n",
              "      <td>Electronic check</td>\n",
              "      <td>29.85</td>\n",
              "      <td>29.85</td>\n",
              "      <td>No</td>\n",
              "      <td>0</td>\n",
              "    </tr>\n",
              "    <tr>\n",
              "      <th>1</th>\n",
              "      <td>Male</td>\n",
              "      <td>No</td>\n",
              "      <td>No</td>\n",
              "      <td>No</td>\n",
              "      <td>34</td>\n",
              "      <td>Yes</td>\n",
              "      <td>No</td>\n",
              "      <td>DSL</td>\n",
              "      <td>Yes</td>\n",
              "      <td>No</td>\n",
              "      <td>...</td>\n",
              "      <td>No</td>\n",
              "      <td>No</td>\n",
              "      <td>No</td>\n",
              "      <td>One year</td>\n",
              "      <td>No</td>\n",
              "      <td>Mailed check</td>\n",
              "      <td>56.95</td>\n",
              "      <td>1889.50</td>\n",
              "      <td>No</td>\n",
              "      <td>0</td>\n",
              "    </tr>\n",
              "    <tr>\n",
              "      <th>2</th>\n",
              "      <td>Male</td>\n",
              "      <td>No</td>\n",
              "      <td>No</td>\n",
              "      <td>No</td>\n",
              "      <td>2</td>\n",
              "      <td>Yes</td>\n",
              "      <td>No</td>\n",
              "      <td>DSL</td>\n",
              "      <td>Yes</td>\n",
              "      <td>Yes</td>\n",
              "      <td>...</td>\n",
              "      <td>No</td>\n",
              "      <td>No</td>\n",
              "      <td>No</td>\n",
              "      <td>Month-to-month</td>\n",
              "      <td>Yes</td>\n",
              "      <td>Mailed check</td>\n",
              "      <td>53.85</td>\n",
              "      <td>108.15</td>\n",
              "      <td>Yes</td>\n",
              "      <td>1</td>\n",
              "    </tr>\n",
              "    <tr>\n",
              "      <th>3</th>\n",
              "      <td>Male</td>\n",
              "      <td>No</td>\n",
              "      <td>No</td>\n",
              "      <td>No</td>\n",
              "      <td>45</td>\n",
              "      <td>No</td>\n",
              "      <td>No phone service</td>\n",
              "      <td>DSL</td>\n",
              "      <td>Yes</td>\n",
              "      <td>No</td>\n",
              "      <td>...</td>\n",
              "      <td>Yes</td>\n",
              "      <td>No</td>\n",
              "      <td>No</td>\n",
              "      <td>One year</td>\n",
              "      <td>No</td>\n",
              "      <td>Bank transfer (automatic)</td>\n",
              "      <td>42.30</td>\n",
              "      <td>1840.75</td>\n",
              "      <td>No</td>\n",
              "      <td>0</td>\n",
              "    </tr>\n",
              "    <tr>\n",
              "      <th>4</th>\n",
              "      <td>Female</td>\n",
              "      <td>No</td>\n",
              "      <td>No</td>\n",
              "      <td>No</td>\n",
              "      <td>2</td>\n",
              "      <td>Yes</td>\n",
              "      <td>No</td>\n",
              "      <td>Fiber optic</td>\n",
              "      <td>No</td>\n",
              "      <td>No</td>\n",
              "      <td>...</td>\n",
              "      <td>No</td>\n",
              "      <td>No</td>\n",
              "      <td>No</td>\n",
              "      <td>Month-to-month</td>\n",
              "      <td>Yes</td>\n",
              "      <td>Electronic check</td>\n",
              "      <td>70.70</td>\n",
              "      <td>151.65</td>\n",
              "      <td>Yes</td>\n",
              "      <td>1</td>\n",
              "    </tr>\n",
              "  </tbody>\n",
              "</table>\n",
              "<p>5 rows × 21 columns</p>\n",
              "</div>"
            ],
            "text/plain": [
              "   gender seniorcitizen partner dependents  tenure phoneservice  \\\n",
              "0  Female            No     Yes         No       1           No   \n",
              "1    Male            No      No         No      34          Yes   \n",
              "2    Male            No      No         No       2          Yes   \n",
              "3    Male            No      No         No      45           No   \n",
              "4  Female            No      No         No       2          Yes   \n",
              "\n",
              "      multiplelines internetservice onlinesecurity onlinebackup  ...  \\\n",
              "0  No phone service             DSL             No          Yes  ...   \n",
              "1                No             DSL            Yes           No  ...   \n",
              "2                No             DSL            Yes          Yes  ...   \n",
              "3  No phone service             DSL            Yes           No  ...   \n",
              "4                No     Fiber optic             No           No  ...   \n",
              "\n",
              "  techsupport streamingtv streamingmovies        contract paperlessbilling  \\\n",
              "0          No          No              No  Month-to-month              Yes   \n",
              "1          No          No              No        One year               No   \n",
              "2          No          No              No  Month-to-month              Yes   \n",
              "3         Yes          No              No        One year               No   \n",
              "4          No          No              No  Month-to-month              Yes   \n",
              "\n",
              "               paymentmethod monthlycharges  totalcharges  churn churn_flag  \n",
              "0           Electronic check          29.85         29.85     No          0  \n",
              "1               Mailed check          56.95       1889.50     No          0  \n",
              "2               Mailed check          53.85        108.15    Yes          1  \n",
              "3  Bank transfer (automatic)          42.30       1840.75     No          0  \n",
              "4           Electronic check          70.70        151.65    Yes          1  \n",
              "\n",
              "[5 rows x 21 columns]"
            ]
          },
          "execution_count": 43,
          "metadata": {},
          "output_type": "execute_result"
        }
      ],
      "source": [
        "df.head()"
      ]
    },
    {
      "cell_type": "markdown",
      "metadata": {
        "id": "uUm_tLyqJ4-c"
      },
      "source": [
        "## Inference:\n",
        "\n",
        "\n",
        "- Customers that uses eletronic check are highly propense to churn.\n",
        "\n",
        "- Customers that have internet service with Fiber optic are more likely to churn.\n",
        "\n",
        "- Customer churn rate might be lower for customers with dependents.\n",
        "\n",
        "- Customers with Month-to-Month contract churns more.\n",
        "\n",
        "- Customers without online security, online backup, device protecion and tech support tend to churn more often than their counterparts.\n",
        "\n",
        "- Customer churn rate appears to be higher for younger customers.\n",
        "\n",
        "- Low tenure customers are more prone to churn.\n"
      ]
    },
    {
      "cell_type": "code",
      "execution_count": 44,
      "metadata": {
        "colab": {
          "base_uri": "https://localhost:8080/",
          "height": 542
        },
        "id": "kDBszyoEGVx7",
        "outputId": "10889700-6bbb-42d4-9b34-985cc7922e9d"
      },
      "outputs": [
        {
          "data": {
            "application/vnd.plotly.v1+json": {
              "config": {
                "plotlyServerURL": "https://plot.ly"
              },
              "data": [
                {
                  "hole": 0.3,
                  "labels": [
                    "No",
                    "Yes"
                  ],
                  "marker": {
                    "colors": [
                      "#50e991",
                      "#e60049"
                    ]
                  },
                  "type": "pie",
                  "values": {
                    "bdata": "KxRNBw==",
                    "dtype": "i2"
                  }
                }
              ],
              "layout": {
                "template": {
                  "data": {
                    "bar": [
                      {
                        "error_x": {
                          "color": "#f2f5fa"
                        },
                        "error_y": {
                          "color": "#f2f5fa"
                        },
                        "marker": {
                          "line": {
                            "color": "rgb(17,17,17)",
                            "width": 0.5
                          },
                          "pattern": {
                            "fillmode": "overlay",
                            "size": 10,
                            "solidity": 0.2
                          }
                        },
                        "type": "bar"
                      }
                    ],
                    "barpolar": [
                      {
                        "marker": {
                          "line": {
                            "color": "rgb(17,17,17)",
                            "width": 0.5
                          },
                          "pattern": {
                            "fillmode": "overlay",
                            "size": 10,
                            "solidity": 0.2
                          }
                        },
                        "type": "barpolar"
                      }
                    ],
                    "carpet": [
                      {
                        "aaxis": {
                          "endlinecolor": "#A2B1C6",
                          "gridcolor": "#506784",
                          "linecolor": "#506784",
                          "minorgridcolor": "#506784",
                          "startlinecolor": "#A2B1C6"
                        },
                        "baxis": {
                          "endlinecolor": "#A2B1C6",
                          "gridcolor": "#506784",
                          "linecolor": "#506784",
                          "minorgridcolor": "#506784",
                          "startlinecolor": "#A2B1C6"
                        },
                        "type": "carpet"
                      }
                    ],
                    "choropleth": [
                      {
                        "colorbar": {
                          "outlinewidth": 0,
                          "ticks": ""
                        },
                        "type": "choropleth"
                      }
                    ],
                    "contour": [
                      {
                        "colorbar": {
                          "outlinewidth": 0,
                          "ticks": ""
                        },
                        "colorscale": [
                          [
                            0,
                            "#0d0887"
                          ],
                          [
                            0.1111111111111111,
                            "#46039f"
                          ],
                          [
                            0.2222222222222222,
                            "#7201a8"
                          ],
                          [
                            0.3333333333333333,
                            "#9c179e"
                          ],
                          [
                            0.4444444444444444,
                            "#bd3786"
                          ],
                          [
                            0.5555555555555556,
                            "#d8576b"
                          ],
                          [
                            0.6666666666666666,
                            "#ed7953"
                          ],
                          [
                            0.7777777777777778,
                            "#fb9f3a"
                          ],
                          [
                            0.8888888888888888,
                            "#fdca26"
                          ],
                          [
                            1,
                            "#f0f921"
                          ]
                        ],
                        "type": "contour"
                      }
                    ],
                    "contourcarpet": [
                      {
                        "colorbar": {
                          "outlinewidth": 0,
                          "ticks": ""
                        },
                        "type": "contourcarpet"
                      }
                    ],
                    "heatmap": [
                      {
                        "colorbar": {
                          "outlinewidth": 0,
                          "ticks": ""
                        },
                        "colorscale": [
                          [
                            0,
                            "#0d0887"
                          ],
                          [
                            0.1111111111111111,
                            "#46039f"
                          ],
                          [
                            0.2222222222222222,
                            "#7201a8"
                          ],
                          [
                            0.3333333333333333,
                            "#9c179e"
                          ],
                          [
                            0.4444444444444444,
                            "#bd3786"
                          ],
                          [
                            0.5555555555555556,
                            "#d8576b"
                          ],
                          [
                            0.6666666666666666,
                            "#ed7953"
                          ],
                          [
                            0.7777777777777778,
                            "#fb9f3a"
                          ],
                          [
                            0.8888888888888888,
                            "#fdca26"
                          ],
                          [
                            1,
                            "#f0f921"
                          ]
                        ],
                        "type": "heatmap"
                      }
                    ],
                    "histogram": [
                      {
                        "marker": {
                          "pattern": {
                            "fillmode": "overlay",
                            "size": 10,
                            "solidity": 0.2
                          }
                        },
                        "type": "histogram"
                      }
                    ],
                    "histogram2d": [
                      {
                        "colorbar": {
                          "outlinewidth": 0,
                          "ticks": ""
                        },
                        "colorscale": [
                          [
                            0,
                            "#0d0887"
                          ],
                          [
                            0.1111111111111111,
                            "#46039f"
                          ],
                          [
                            0.2222222222222222,
                            "#7201a8"
                          ],
                          [
                            0.3333333333333333,
                            "#9c179e"
                          ],
                          [
                            0.4444444444444444,
                            "#bd3786"
                          ],
                          [
                            0.5555555555555556,
                            "#d8576b"
                          ],
                          [
                            0.6666666666666666,
                            "#ed7953"
                          ],
                          [
                            0.7777777777777778,
                            "#fb9f3a"
                          ],
                          [
                            0.8888888888888888,
                            "#fdca26"
                          ],
                          [
                            1,
                            "#f0f921"
                          ]
                        ],
                        "type": "histogram2d"
                      }
                    ],
                    "histogram2dcontour": [
                      {
                        "colorbar": {
                          "outlinewidth": 0,
                          "ticks": ""
                        },
                        "colorscale": [
                          [
                            0,
                            "#0d0887"
                          ],
                          [
                            0.1111111111111111,
                            "#46039f"
                          ],
                          [
                            0.2222222222222222,
                            "#7201a8"
                          ],
                          [
                            0.3333333333333333,
                            "#9c179e"
                          ],
                          [
                            0.4444444444444444,
                            "#bd3786"
                          ],
                          [
                            0.5555555555555556,
                            "#d8576b"
                          ],
                          [
                            0.6666666666666666,
                            "#ed7953"
                          ],
                          [
                            0.7777777777777778,
                            "#fb9f3a"
                          ],
                          [
                            0.8888888888888888,
                            "#fdca26"
                          ],
                          [
                            1,
                            "#f0f921"
                          ]
                        ],
                        "type": "histogram2dcontour"
                      }
                    ],
                    "mesh3d": [
                      {
                        "colorbar": {
                          "outlinewidth": 0,
                          "ticks": ""
                        },
                        "type": "mesh3d"
                      }
                    ],
                    "parcoords": [
                      {
                        "line": {
                          "colorbar": {
                            "outlinewidth": 0,
                            "ticks": ""
                          }
                        },
                        "type": "parcoords"
                      }
                    ],
                    "pie": [
                      {
                        "automargin": true,
                        "type": "pie"
                      }
                    ],
                    "scatter": [
                      {
                        "marker": {
                          "line": {
                            "color": "#283442"
                          }
                        },
                        "type": "scatter"
                      }
                    ],
                    "scatter3d": [
                      {
                        "line": {
                          "colorbar": {
                            "outlinewidth": 0,
                            "ticks": ""
                          }
                        },
                        "marker": {
                          "colorbar": {
                            "outlinewidth": 0,
                            "ticks": ""
                          }
                        },
                        "type": "scatter3d"
                      }
                    ],
                    "scattercarpet": [
                      {
                        "marker": {
                          "colorbar": {
                            "outlinewidth": 0,
                            "ticks": ""
                          }
                        },
                        "type": "scattercarpet"
                      }
                    ],
                    "scattergeo": [
                      {
                        "marker": {
                          "colorbar": {
                            "outlinewidth": 0,
                            "ticks": ""
                          }
                        },
                        "type": "scattergeo"
                      }
                    ],
                    "scattergl": [
                      {
                        "marker": {
                          "line": {
                            "color": "#283442"
                          }
                        },
                        "type": "scattergl"
                      }
                    ],
                    "scattermap": [
                      {
                        "marker": {
                          "colorbar": {
                            "outlinewidth": 0,
                            "ticks": ""
                          }
                        },
                        "type": "scattermap"
                      }
                    ],
                    "scattermapbox": [
                      {
                        "marker": {
                          "colorbar": {
                            "outlinewidth": 0,
                            "ticks": ""
                          }
                        },
                        "type": "scattermapbox"
                      }
                    ],
                    "scatterpolar": [
                      {
                        "marker": {
                          "colorbar": {
                            "outlinewidth": 0,
                            "ticks": ""
                          }
                        },
                        "type": "scatterpolar"
                      }
                    ],
                    "scatterpolargl": [
                      {
                        "marker": {
                          "colorbar": {
                            "outlinewidth": 0,
                            "ticks": ""
                          }
                        },
                        "type": "scatterpolargl"
                      }
                    ],
                    "scatterternary": [
                      {
                        "marker": {
                          "colorbar": {
                            "outlinewidth": 0,
                            "ticks": ""
                          }
                        },
                        "type": "scatterternary"
                      }
                    ],
                    "surface": [
                      {
                        "colorbar": {
                          "outlinewidth": 0,
                          "ticks": ""
                        },
                        "colorscale": [
                          [
                            0,
                            "#0d0887"
                          ],
                          [
                            0.1111111111111111,
                            "#46039f"
                          ],
                          [
                            0.2222222222222222,
                            "#7201a8"
                          ],
                          [
                            0.3333333333333333,
                            "#9c179e"
                          ],
                          [
                            0.4444444444444444,
                            "#bd3786"
                          ],
                          [
                            0.5555555555555556,
                            "#d8576b"
                          ],
                          [
                            0.6666666666666666,
                            "#ed7953"
                          ],
                          [
                            0.7777777777777778,
                            "#fb9f3a"
                          ],
                          [
                            0.8888888888888888,
                            "#fdca26"
                          ],
                          [
                            1,
                            "#f0f921"
                          ]
                        ],
                        "type": "surface"
                      }
                    ],
                    "table": [
                      {
                        "cells": {
                          "fill": {
                            "color": "#506784"
                          },
                          "line": {
                            "color": "rgb(17,17,17)"
                          }
                        },
                        "header": {
                          "fill": {
                            "color": "#2a3f5f"
                          },
                          "line": {
                            "color": "rgb(17,17,17)"
                          }
                        },
                        "type": "table"
                      }
                    ]
                  },
                  "layout": {
                    "annotationdefaults": {
                      "arrowcolor": "#f2f5fa",
                      "arrowhead": 0,
                      "arrowwidth": 1
                    },
                    "autotypenumbers": "strict",
                    "coloraxis": {
                      "colorbar": {
                        "outlinewidth": 0,
                        "ticks": ""
                      }
                    },
                    "colorscale": {
                      "diverging": [
                        [
                          0,
                          "#8e0152"
                        ],
                        [
                          0.1,
                          "#c51b7d"
                        ],
                        [
                          0.2,
                          "#de77ae"
                        ],
                        [
                          0.3,
                          "#f1b6da"
                        ],
                        [
                          0.4,
                          "#fde0ef"
                        ],
                        [
                          0.5,
                          "#f7f7f7"
                        ],
                        [
                          0.6,
                          "#e6f5d0"
                        ],
                        [
                          0.7,
                          "#b8e186"
                        ],
                        [
                          0.8,
                          "#7fbc41"
                        ],
                        [
                          0.9,
                          "#4d9221"
                        ],
                        [
                          1,
                          "#276419"
                        ]
                      ],
                      "sequential": [
                        [
                          0,
                          "#0d0887"
                        ],
                        [
                          0.1111111111111111,
                          "#46039f"
                        ],
                        [
                          0.2222222222222222,
                          "#7201a8"
                        ],
                        [
                          0.3333333333333333,
                          "#9c179e"
                        ],
                        [
                          0.4444444444444444,
                          "#bd3786"
                        ],
                        [
                          0.5555555555555556,
                          "#d8576b"
                        ],
                        [
                          0.6666666666666666,
                          "#ed7953"
                        ],
                        [
                          0.7777777777777778,
                          "#fb9f3a"
                        ],
                        [
                          0.8888888888888888,
                          "#fdca26"
                        ],
                        [
                          1,
                          "#f0f921"
                        ]
                      ],
                      "sequentialminus": [
                        [
                          0,
                          "#0d0887"
                        ],
                        [
                          0.1111111111111111,
                          "#46039f"
                        ],
                        [
                          0.2222222222222222,
                          "#7201a8"
                        ],
                        [
                          0.3333333333333333,
                          "#9c179e"
                        ],
                        [
                          0.4444444444444444,
                          "#bd3786"
                        ],
                        [
                          0.5555555555555556,
                          "#d8576b"
                        ],
                        [
                          0.6666666666666666,
                          "#ed7953"
                        ],
                        [
                          0.7777777777777778,
                          "#fb9f3a"
                        ],
                        [
                          0.8888888888888888,
                          "#fdca26"
                        ],
                        [
                          1,
                          "#f0f921"
                        ]
                      ]
                    },
                    "colorway": [
                      "#636efa",
                      "#EF553B",
                      "#00cc96",
                      "#ab63fa",
                      "#FFA15A",
                      "#19d3f3",
                      "#FF6692",
                      "#B6E880",
                      "#FF97FF",
                      "#FECB52"
                    ],
                    "font": {
                      "color": "#f2f5fa"
                    },
                    "geo": {
                      "bgcolor": "rgb(17,17,17)",
                      "lakecolor": "rgb(17,17,17)",
                      "landcolor": "rgb(17,17,17)",
                      "showlakes": true,
                      "showland": true,
                      "subunitcolor": "#506784"
                    },
                    "hoverlabel": {
                      "align": "left"
                    },
                    "hovermode": "closest",
                    "mapbox": {
                      "style": "dark"
                    },
                    "paper_bgcolor": "rgb(17,17,17)",
                    "plot_bgcolor": "rgb(17,17,17)",
                    "polar": {
                      "angularaxis": {
                        "gridcolor": "#506784",
                        "linecolor": "#506784",
                        "ticks": ""
                      },
                      "bgcolor": "rgb(17,17,17)",
                      "radialaxis": {
                        "gridcolor": "#506784",
                        "linecolor": "#506784",
                        "ticks": ""
                      }
                    },
                    "scene": {
                      "xaxis": {
                        "backgroundcolor": "rgb(17,17,17)",
                        "gridcolor": "#506784",
                        "gridwidth": 2,
                        "linecolor": "#506784",
                        "showbackground": true,
                        "ticks": "",
                        "zerolinecolor": "#C8D4E3"
                      },
                      "yaxis": {
                        "backgroundcolor": "rgb(17,17,17)",
                        "gridcolor": "#506784",
                        "gridwidth": 2,
                        "linecolor": "#506784",
                        "showbackground": true,
                        "ticks": "",
                        "zerolinecolor": "#C8D4E3"
                      },
                      "zaxis": {
                        "backgroundcolor": "rgb(17,17,17)",
                        "gridcolor": "#506784",
                        "gridwidth": 2,
                        "linecolor": "#506784",
                        "showbackground": true,
                        "ticks": "",
                        "zerolinecolor": "#C8D4E3"
                      }
                    },
                    "shapedefaults": {
                      "line": {
                        "color": "#f2f5fa"
                      }
                    },
                    "sliderdefaults": {
                      "bgcolor": "#C8D4E3",
                      "bordercolor": "rgb(17,17,17)",
                      "borderwidth": 1,
                      "tickwidth": 0
                    },
                    "ternary": {
                      "aaxis": {
                        "gridcolor": "#506784",
                        "linecolor": "#506784",
                        "ticks": ""
                      },
                      "baxis": {
                        "gridcolor": "#506784",
                        "linecolor": "#506784",
                        "ticks": ""
                      },
                      "bgcolor": "rgb(17,17,17)",
                      "caxis": {
                        "gridcolor": "#506784",
                        "linecolor": "#506784",
                        "ticks": ""
                      }
                    },
                    "title": {
                      "x": 0.05
                    },
                    "updatemenudefaults": {
                      "bgcolor": "#506784",
                      "borderwidth": 0
                    },
                    "xaxis": {
                      "automargin": true,
                      "gridcolor": "#283442",
                      "linecolor": "#506784",
                      "ticks": "",
                      "title": {
                        "standoff": 15
                      },
                      "zerolinecolor": "#283442",
                      "zerolinewidth": 2
                    },
                    "yaxis": {
                      "automargin": true,
                      "gridcolor": "#283442",
                      "linecolor": "#506784",
                      "ticks": "",
                      "title": {
                        "standoff": 15
                      },
                      "zerolinecolor": "#283442",
                      "zerolinewidth": 2
                    }
                  }
                },
                "title": {
                  "font": {
                    "size": 24
                  },
                  "text": "Churn vs Unchurn Customers Distribution"
                },
                "width": 800
              }
            }
          },
          "metadata": {},
          "output_type": "display_data"
        }
      ],
      "source": [
        "label_colors = dict(colors=[categorical_palette[2], categorical_palette[0]])\n",
        "\n",
        "churn_pct = df[\"churn\"].value_counts().reset_index(name = 'count')\n",
        "fig = go.Figure(data=[go.Pie(labels=churn_pct['churn'], values=churn_pct[\"count\"], hole=.3)])\n",
        "\n",
        "fig.update_layout(template = \"plotly_dark\", width = 800, title = \"Churn vs Unchurn Customers Distribution\", title_font = dict(size=24))\n",
        "fig.update_traces(marker = label_colors)\n",
        "fig.show()"
      ]
    },
    {
      "cell_type": "code",
      "execution_count": 46,
      "metadata": {},
      "outputs": [],
      "source": [
        "df.to_csv('data/churn_data_cleaned.csv', index=False)"
      ]
    },
    {
      "cell_type": "markdown",
      "metadata": {
        "id": "OOP_Wk834_aY"
      },
      "source": []
    },
    {
      "cell_type": "markdown",
      "metadata": {
        "id": "HjOwY8vcHwMs"
      },
      "source": [
        "## Imbalanced Dataset\n",
        "When training a machine learning model with an imbalanced dataset, where one class has significantly more examples than others, there are several potential risks:\n",
        "\n",
        "1. Biased Model\n",
        " - The model prioritizes learning to predict the majority class well, neglecting the minority class.\n",
        " - This leads to poor performance on the minority class, resulting in high\n",
        " false negatives and low precision.\n",
        "\n",
        "2. Difficulty in Learning Complex Patterns:\n",
        " - With fewer examples, the model strugglesto learn complex patterns of the minority class.\n",
        " - This can lead to overfitting to the specific training data, resulting in poor generalization to unseen data.\n",
        "\n",
        "## POSSIBLE SULUTION\n",
        "- To solve this, we need to implement a technique called **SMOTE(Synthetic Minority Oversampling Technique)** which generates synthetic data points for the minority class, SMOTE helps balance the class distribution in the training data. This allows the model to focus on learning patterns from both the majority and minority classes more effectively.\n",
        "\n",
        "## SMOTE\n",
        "Ok, so how SMOTE works:\n",
        "\n",
        "1. SMOTE Identifies the class with the fewest examples as the minority class.\n",
        "2. Randomly selects existing minority samples.\n",
        "3. SMOTE uses k-Nearest Neighbors (kNN) to identify the k nearest neighbors of the chosen minority class sample in the feature space.\n",
        "4. Then SMOTE randomly selects one of the k nerest neighbors and calculate the difference(vector) between the original minority class sample and its chosen neighbor.\n",
        "\n",
        "### Here's the key idea:\n",
        "\n",
        "- The new synthetic data point lies along the line connecting the original sample and its neighbor in the feature space.\n",
        "- This ensures the newly generated point shares similar characteristics with the original minority class sample.\n",
        "\n",
        "Visual Representation:\n",
        "\n",
        "![Alt text](https://dfzljdn9uc3pi.cloudfront.net/2023/cs-1280/1/fig-2-1x.jpg)"
      ]
    },
    {
      "cell_type": "markdown",
      "metadata": {
        "id": "KzQrcmvg5XNE"
      },
      "source": [
        "### Encoding"
      ]
    },
    {
      "cell_type": "code",
      "execution_count": 22,
      "metadata": {
        "colab": {
          "base_uri": "https://localhost:8080/"
        },
        "id": "kyRb0Cpl55ez",
        "outputId": "24a98125-3aa6-4c79-ed9b-71850b62a718"
      },
      "outputs": [
        {
          "data": {
            "text/plain": [
              "Index(['gender', 'seniorcitizen', 'partner', 'dependents', 'phoneservice',\n",
              "       'multiplelines', 'internetservice', 'onlinesecurity', 'onlinebackup',\n",
              "       'deviceprotection', 'techsupport', 'streamingtv', 'streamingmovies',\n",
              "       'contract', 'paperlessbilling', 'paymentmethod'],\n",
              "      dtype='object')"
            ]
          },
          "execution_count": 22,
          "metadata": {},
          "output_type": "execute_result"
        }
      ],
      "source": [
        "# i will use churn flag as numerical feature\n",
        "categorical = categorical[:-1]\n",
        "categorical"
      ]
    },
    {
      "cell_type": "code",
      "execution_count": 23,
      "metadata": {
        "colab": {
          "base_uri": "https://localhost:8080/"
        },
        "id": "_izs8yJsJad5",
        "outputId": "5579d84b-bb99-40c0-d5e9-d6ffd2ab972e"
      },
      "outputs": [
        {
          "name": "stderr",
          "output_type": "stream",
          "text": [
            "C:\\Users\\Usuario\\AppData\\Local\\Temp\\ipykernel_32292\\3982690301.py:11: SettingWithCopyWarning:\n",
            "\n",
            "\n",
            "A value is trying to be set on a copy of a slice from a DataFrame.\n",
            "Try using .loc[row_indexer,col_indexer] = value instead\n",
            "\n",
            "See the caveats in the documentation: https://pandas.pydata.org/pandas-docs/stable/user_guide/indexing.html#returning-a-view-versus-a-copy\n",
            "\n",
            "C:\\Users\\Usuario\\AppData\\Local\\Temp\\ipykernel_32292\\3982690301.py:11: SettingWithCopyWarning:\n",
            "\n",
            "\n",
            "A value is trying to be set on a copy of a slice from a DataFrame.\n",
            "Try using .loc[row_indexer,col_indexer] = value instead\n",
            "\n",
            "See the caveats in the documentation: https://pandas.pydata.org/pandas-docs/stable/user_guide/indexing.html#returning-a-view-versus-a-copy\n",
            "\n",
            "C:\\Users\\Usuario\\AppData\\Local\\Temp\\ipykernel_32292\\3982690301.py:11: SettingWithCopyWarning:\n",
            "\n",
            "\n",
            "A value is trying to be set on a copy of a slice from a DataFrame.\n",
            "Try using .loc[row_indexer,col_indexer] = value instead\n",
            "\n",
            "See the caveats in the documentation: https://pandas.pydata.org/pandas-docs/stable/user_guide/indexing.html#returning-a-view-versus-a-copy\n",
            "\n",
            "C:\\Users\\Usuario\\AppData\\Local\\Temp\\ipykernel_32292\\3982690301.py:11: SettingWithCopyWarning:\n",
            "\n",
            "\n",
            "A value is trying to be set on a copy of a slice from a DataFrame.\n",
            "Try using .loc[row_indexer,col_indexer] = value instead\n",
            "\n",
            "See the caveats in the documentation: https://pandas.pydata.org/pandas-docs/stable/user_guide/indexing.html#returning-a-view-versus-a-copy\n",
            "\n"
          ]
        }
      ],
      "source": [
        "mms = MinMaxScaler() # normalization\n",
        "\n",
        "#df['Churn'] = np.where(df['Churn'] == 'Churn_yes', 1, 0)\n",
        "\n",
        "# splitting categorical columns from numeric for encoding\n",
        "encoded = pd.get_dummies(df[categorical], dtype = int)\n",
        "numeric = df[quant] # only numeric values\n",
        "\n",
        "# normalizing numeric data\n",
        "for num in quant:\n",
        "  numeric[num] = mms.fit_transform(numeric[num].values.reshape(-1, 1))\n",
        "\n",
        "# merging the encoded values with numerics again\n",
        "all_data = pd.concat([encoded, numeric], axis = 1)"
      ]
    },
    {
      "cell_type": "markdown",
      "metadata": {
        "id": "rSXYWCqi8E3S"
      },
      "source": [
        "### Applying SMOTE"
      ]
    },
    {
      "cell_type": "code",
      "execution_count": 24,
      "metadata": {
        "colab": {
          "base_uri": "https://localhost:8080/"
        },
        "id": "WrPU5i6o7AsB",
        "outputId": "9d31b576-858c-4cbe-b3b3-5613f61b157f"
      },
      "outputs": [
        {
          "name": "stdout",
          "output_type": "stream",
          "text": [
            "Rate between customers and churners is 2.7624398073836276\n"
          ]
        }
      ],
      "source": [
        "churn_counts = df['churn_flag'].value_counts()\n",
        "churn_ratio = churn_counts[0] / churn_counts[1]\n",
        "print(f'Rate between customers and churners is {churn_ratio}')"
      ]
    },
    {
      "cell_type": "code",
      "execution_count": 25,
      "metadata": {
        "id": "B5FPKOEn7uwu"
      },
      "outputs": [],
      "source": [
        "# samples\n",
        "x = all_data.drop('churn_flag', axis = 1)\n",
        "\n",
        "# target\n",
        "y = all_data['churn_flag']\n",
        "\n",
        "sm = SMOTE()\n",
        "\n",
        "# oversampling\n",
        "x_resampled, y_resampled = sm.fit_resample(x, y)\n"
      ]
    },
    {
      "cell_type": "code",
      "execution_count": 26,
      "metadata": {
        "colab": {
          "base_uri": "https://localhost:8080/"
        },
        "id": "u7GVUqOF72EC",
        "outputId": "4339b315-dc49-4e78-8cdc-c4689ad084ce"
      },
      "outputs": [
        {
          "name": "stdout",
          "output_type": "stream",
          "text": [
            "rate between customers and churners is now: 1.0\n"
          ]
        }
      ],
      "source": [
        "# checking churners rate again\n",
        "oversampled = pd.concat([y_resampled, x_resampled], axis = 1)\n",
        "\n",
        "churn_counts = oversampled['churn_flag'].value_counts()\n",
        "churn_ratio = churn_counts[0]/churn_counts[1]\n",
        "print(f'rate between customers and churners is now: {churn_ratio}')"
      ]
    },
    {
      "cell_type": "code",
      "execution_count": 27,
      "metadata": {
        "colab": {
          "base_uri": "https://localhost:8080/",
          "height": 112
        },
        "id": "OoV17R_p78i3",
        "outputId": "f0fc7e31-664a-4962-c808-784ba0db9336"
      },
      "outputs": [
        {
          "data": {
            "text/html": [
              "<div>\n",
              "<style scoped>\n",
              "    .dataframe tbody tr th:only-of-type {\n",
              "        vertical-align: middle;\n",
              "    }\n",
              "\n",
              "    .dataframe tbody tr th {\n",
              "        vertical-align: top;\n",
              "    }\n",
              "\n",
              "    .dataframe thead th {\n",
              "        text-align: right;\n",
              "    }\n",
              "</style>\n",
              "<table border=\"1\" class=\"dataframe\">\n",
              "  <thead>\n",
              "    <tr style=\"text-align: right;\">\n",
              "      <th></th>\n",
              "      <th>churn_flag</th>\n",
              "      <th>count</th>\n",
              "    </tr>\n",
              "  </thead>\n",
              "  <tbody>\n",
              "    <tr>\n",
              "      <th>0</th>\n",
              "      <td>0.0</td>\n",
              "      <td>5163</td>\n",
              "    </tr>\n",
              "    <tr>\n",
              "      <th>1</th>\n",
              "      <td>1.0</td>\n",
              "      <td>5163</td>\n",
              "    </tr>\n",
              "  </tbody>\n",
              "</table>\n",
              "</div>"
            ],
            "text/plain": [
              "   churn_flag  count\n",
              "0         0.0   5163\n",
              "1         1.0   5163"
            ]
          },
          "execution_count": 27,
          "metadata": {},
          "output_type": "execute_result"
        }
      ],
      "source": [
        "oversampled['churn_flag'].value_counts().reset_index()"
      ]
    },
    {
      "cell_type": "code",
      "execution_count": 28,
      "metadata": {
        "colab": {
          "base_uri": "https://localhost:8080/",
          "height": 542
        },
        "id": "cNEYgVjM8Sro",
        "outputId": "10a51f1a-69a5-4c02-fa12-a709e6b972ae"
      },
      "outputs": [
        {
          "data": {
            "application/vnd.plotly.v1+json": {
              "config": {
                "plotlyServerURL": "https://plot.ly"
              },
              "data": [
                {
                  "domain": {
                    "x": [
                      0,
                      0.5
                    ]
                  },
                  "hole": 0.3,
                  "labels": [
                    "No",
                    "Yes"
                  ],
                  "marker": {
                    "colors": [
                      "#50e991",
                      "#e60049"
                    ]
                  },
                  "name": "Churn vs Unchurn Customers Distribution",
                  "type": "pie",
                  "values": {
                    "bdata": "KxRNBw==",
                    "dtype": "i2"
                  }
                },
                {
                  "domain": {
                    "x": [
                      0.5,
                      1
                    ]
                  },
                  "hole": 0.3,
                  "labels": {
                    "bdata": "AAAAAAAAAAAAAAAAAADwPw==",
                    "dtype": "f8"
                  },
                  "marker": {
                    "colors": [
                      "#50e991",
                      "#e60049"
                    ]
                  },
                  "name": "",
                  "showlegend": false,
                  "type": "pie",
                  "values": {
                    "bdata": "KxQrFA==",
                    "dtype": "i2"
                  }
                }
              ],
              "layout": {
                "annotations": [
                  {
                    "font": {
                      "size": 14
                    },
                    "text": "Before SMOTE",
                    "x": 0.22,
                    "y": 1
                  },
                  {
                    "font": {
                      "size": 14
                    },
                    "text": "After SMOTE",
                    "x": 0.78,
                    "y": 1
                  }
                ],
                "template": {
                  "data": {
                    "bar": [
                      {
                        "error_x": {
                          "color": "#f2f5fa"
                        },
                        "error_y": {
                          "color": "#f2f5fa"
                        },
                        "marker": {
                          "line": {
                            "color": "rgb(17,17,17)",
                            "width": 0.5
                          },
                          "pattern": {
                            "fillmode": "overlay",
                            "size": 10,
                            "solidity": 0.2
                          }
                        },
                        "type": "bar"
                      }
                    ],
                    "barpolar": [
                      {
                        "marker": {
                          "line": {
                            "color": "rgb(17,17,17)",
                            "width": 0.5
                          },
                          "pattern": {
                            "fillmode": "overlay",
                            "size": 10,
                            "solidity": 0.2
                          }
                        },
                        "type": "barpolar"
                      }
                    ],
                    "carpet": [
                      {
                        "aaxis": {
                          "endlinecolor": "#A2B1C6",
                          "gridcolor": "#506784",
                          "linecolor": "#506784",
                          "minorgridcolor": "#506784",
                          "startlinecolor": "#A2B1C6"
                        },
                        "baxis": {
                          "endlinecolor": "#A2B1C6",
                          "gridcolor": "#506784",
                          "linecolor": "#506784",
                          "minorgridcolor": "#506784",
                          "startlinecolor": "#A2B1C6"
                        },
                        "type": "carpet"
                      }
                    ],
                    "choropleth": [
                      {
                        "colorbar": {
                          "outlinewidth": 0,
                          "ticks": ""
                        },
                        "type": "choropleth"
                      }
                    ],
                    "contour": [
                      {
                        "colorbar": {
                          "outlinewidth": 0,
                          "ticks": ""
                        },
                        "colorscale": [
                          [
                            0,
                            "#0d0887"
                          ],
                          [
                            0.1111111111111111,
                            "#46039f"
                          ],
                          [
                            0.2222222222222222,
                            "#7201a8"
                          ],
                          [
                            0.3333333333333333,
                            "#9c179e"
                          ],
                          [
                            0.4444444444444444,
                            "#bd3786"
                          ],
                          [
                            0.5555555555555556,
                            "#d8576b"
                          ],
                          [
                            0.6666666666666666,
                            "#ed7953"
                          ],
                          [
                            0.7777777777777778,
                            "#fb9f3a"
                          ],
                          [
                            0.8888888888888888,
                            "#fdca26"
                          ],
                          [
                            1,
                            "#f0f921"
                          ]
                        ],
                        "type": "contour"
                      }
                    ],
                    "contourcarpet": [
                      {
                        "colorbar": {
                          "outlinewidth": 0,
                          "ticks": ""
                        },
                        "type": "contourcarpet"
                      }
                    ],
                    "heatmap": [
                      {
                        "colorbar": {
                          "outlinewidth": 0,
                          "ticks": ""
                        },
                        "colorscale": [
                          [
                            0,
                            "#0d0887"
                          ],
                          [
                            0.1111111111111111,
                            "#46039f"
                          ],
                          [
                            0.2222222222222222,
                            "#7201a8"
                          ],
                          [
                            0.3333333333333333,
                            "#9c179e"
                          ],
                          [
                            0.4444444444444444,
                            "#bd3786"
                          ],
                          [
                            0.5555555555555556,
                            "#d8576b"
                          ],
                          [
                            0.6666666666666666,
                            "#ed7953"
                          ],
                          [
                            0.7777777777777778,
                            "#fb9f3a"
                          ],
                          [
                            0.8888888888888888,
                            "#fdca26"
                          ],
                          [
                            1,
                            "#f0f921"
                          ]
                        ],
                        "type": "heatmap"
                      }
                    ],
                    "histogram": [
                      {
                        "marker": {
                          "pattern": {
                            "fillmode": "overlay",
                            "size": 10,
                            "solidity": 0.2
                          }
                        },
                        "type": "histogram"
                      }
                    ],
                    "histogram2d": [
                      {
                        "colorbar": {
                          "outlinewidth": 0,
                          "ticks": ""
                        },
                        "colorscale": [
                          [
                            0,
                            "#0d0887"
                          ],
                          [
                            0.1111111111111111,
                            "#46039f"
                          ],
                          [
                            0.2222222222222222,
                            "#7201a8"
                          ],
                          [
                            0.3333333333333333,
                            "#9c179e"
                          ],
                          [
                            0.4444444444444444,
                            "#bd3786"
                          ],
                          [
                            0.5555555555555556,
                            "#d8576b"
                          ],
                          [
                            0.6666666666666666,
                            "#ed7953"
                          ],
                          [
                            0.7777777777777778,
                            "#fb9f3a"
                          ],
                          [
                            0.8888888888888888,
                            "#fdca26"
                          ],
                          [
                            1,
                            "#f0f921"
                          ]
                        ],
                        "type": "histogram2d"
                      }
                    ],
                    "histogram2dcontour": [
                      {
                        "colorbar": {
                          "outlinewidth": 0,
                          "ticks": ""
                        },
                        "colorscale": [
                          [
                            0,
                            "#0d0887"
                          ],
                          [
                            0.1111111111111111,
                            "#46039f"
                          ],
                          [
                            0.2222222222222222,
                            "#7201a8"
                          ],
                          [
                            0.3333333333333333,
                            "#9c179e"
                          ],
                          [
                            0.4444444444444444,
                            "#bd3786"
                          ],
                          [
                            0.5555555555555556,
                            "#d8576b"
                          ],
                          [
                            0.6666666666666666,
                            "#ed7953"
                          ],
                          [
                            0.7777777777777778,
                            "#fb9f3a"
                          ],
                          [
                            0.8888888888888888,
                            "#fdca26"
                          ],
                          [
                            1,
                            "#f0f921"
                          ]
                        ],
                        "type": "histogram2dcontour"
                      }
                    ],
                    "mesh3d": [
                      {
                        "colorbar": {
                          "outlinewidth": 0,
                          "ticks": ""
                        },
                        "type": "mesh3d"
                      }
                    ],
                    "parcoords": [
                      {
                        "line": {
                          "colorbar": {
                            "outlinewidth": 0,
                            "ticks": ""
                          }
                        },
                        "type": "parcoords"
                      }
                    ],
                    "pie": [
                      {
                        "automargin": true,
                        "type": "pie"
                      }
                    ],
                    "scatter": [
                      {
                        "marker": {
                          "line": {
                            "color": "#283442"
                          }
                        },
                        "type": "scatter"
                      }
                    ],
                    "scatter3d": [
                      {
                        "line": {
                          "colorbar": {
                            "outlinewidth": 0,
                            "ticks": ""
                          }
                        },
                        "marker": {
                          "colorbar": {
                            "outlinewidth": 0,
                            "ticks": ""
                          }
                        },
                        "type": "scatter3d"
                      }
                    ],
                    "scattercarpet": [
                      {
                        "marker": {
                          "colorbar": {
                            "outlinewidth": 0,
                            "ticks": ""
                          }
                        },
                        "type": "scattercarpet"
                      }
                    ],
                    "scattergeo": [
                      {
                        "marker": {
                          "colorbar": {
                            "outlinewidth": 0,
                            "ticks": ""
                          }
                        },
                        "type": "scattergeo"
                      }
                    ],
                    "scattergl": [
                      {
                        "marker": {
                          "line": {
                            "color": "#283442"
                          }
                        },
                        "type": "scattergl"
                      }
                    ],
                    "scattermap": [
                      {
                        "marker": {
                          "colorbar": {
                            "outlinewidth": 0,
                            "ticks": ""
                          }
                        },
                        "type": "scattermap"
                      }
                    ],
                    "scattermapbox": [
                      {
                        "marker": {
                          "colorbar": {
                            "outlinewidth": 0,
                            "ticks": ""
                          }
                        },
                        "type": "scattermapbox"
                      }
                    ],
                    "scatterpolar": [
                      {
                        "marker": {
                          "colorbar": {
                            "outlinewidth": 0,
                            "ticks": ""
                          }
                        },
                        "type": "scatterpolar"
                      }
                    ],
                    "scatterpolargl": [
                      {
                        "marker": {
                          "colorbar": {
                            "outlinewidth": 0,
                            "ticks": ""
                          }
                        },
                        "type": "scatterpolargl"
                      }
                    ],
                    "scatterternary": [
                      {
                        "marker": {
                          "colorbar": {
                            "outlinewidth": 0,
                            "ticks": ""
                          }
                        },
                        "type": "scatterternary"
                      }
                    ],
                    "surface": [
                      {
                        "colorbar": {
                          "outlinewidth": 0,
                          "ticks": ""
                        },
                        "colorscale": [
                          [
                            0,
                            "#0d0887"
                          ],
                          [
                            0.1111111111111111,
                            "#46039f"
                          ],
                          [
                            0.2222222222222222,
                            "#7201a8"
                          ],
                          [
                            0.3333333333333333,
                            "#9c179e"
                          ],
                          [
                            0.4444444444444444,
                            "#bd3786"
                          ],
                          [
                            0.5555555555555556,
                            "#d8576b"
                          ],
                          [
                            0.6666666666666666,
                            "#ed7953"
                          ],
                          [
                            0.7777777777777778,
                            "#fb9f3a"
                          ],
                          [
                            0.8888888888888888,
                            "#fdca26"
                          ],
                          [
                            1,
                            "#f0f921"
                          ]
                        ],
                        "type": "surface"
                      }
                    ],
                    "table": [
                      {
                        "cells": {
                          "fill": {
                            "color": "#506784"
                          },
                          "line": {
                            "color": "rgb(17,17,17)"
                          }
                        },
                        "header": {
                          "fill": {
                            "color": "#2a3f5f"
                          },
                          "line": {
                            "color": "rgb(17,17,17)"
                          }
                        },
                        "type": "table"
                      }
                    ]
                  },
                  "layout": {
                    "annotationdefaults": {
                      "arrowcolor": "#f2f5fa",
                      "arrowhead": 0,
                      "arrowwidth": 1
                    },
                    "autotypenumbers": "strict",
                    "coloraxis": {
                      "colorbar": {
                        "outlinewidth": 0,
                        "ticks": ""
                      }
                    },
                    "colorscale": {
                      "diverging": [
                        [
                          0,
                          "#8e0152"
                        ],
                        [
                          0.1,
                          "#c51b7d"
                        ],
                        [
                          0.2,
                          "#de77ae"
                        ],
                        [
                          0.3,
                          "#f1b6da"
                        ],
                        [
                          0.4,
                          "#fde0ef"
                        ],
                        [
                          0.5,
                          "#f7f7f7"
                        ],
                        [
                          0.6,
                          "#e6f5d0"
                        ],
                        [
                          0.7,
                          "#b8e186"
                        ],
                        [
                          0.8,
                          "#7fbc41"
                        ],
                        [
                          0.9,
                          "#4d9221"
                        ],
                        [
                          1,
                          "#276419"
                        ]
                      ],
                      "sequential": [
                        [
                          0,
                          "#0d0887"
                        ],
                        [
                          0.1111111111111111,
                          "#46039f"
                        ],
                        [
                          0.2222222222222222,
                          "#7201a8"
                        ],
                        [
                          0.3333333333333333,
                          "#9c179e"
                        ],
                        [
                          0.4444444444444444,
                          "#bd3786"
                        ],
                        [
                          0.5555555555555556,
                          "#d8576b"
                        ],
                        [
                          0.6666666666666666,
                          "#ed7953"
                        ],
                        [
                          0.7777777777777778,
                          "#fb9f3a"
                        ],
                        [
                          0.8888888888888888,
                          "#fdca26"
                        ],
                        [
                          1,
                          "#f0f921"
                        ]
                      ],
                      "sequentialminus": [
                        [
                          0,
                          "#0d0887"
                        ],
                        [
                          0.1111111111111111,
                          "#46039f"
                        ],
                        [
                          0.2222222222222222,
                          "#7201a8"
                        ],
                        [
                          0.3333333333333333,
                          "#9c179e"
                        ],
                        [
                          0.4444444444444444,
                          "#bd3786"
                        ],
                        [
                          0.5555555555555556,
                          "#d8576b"
                        ],
                        [
                          0.6666666666666666,
                          "#ed7953"
                        ],
                        [
                          0.7777777777777778,
                          "#fb9f3a"
                        ],
                        [
                          0.8888888888888888,
                          "#fdca26"
                        ],
                        [
                          1,
                          "#f0f921"
                        ]
                      ]
                    },
                    "colorway": [
                      "#636efa",
                      "#EF553B",
                      "#00cc96",
                      "#ab63fa",
                      "#FFA15A",
                      "#19d3f3",
                      "#FF6692",
                      "#B6E880",
                      "#FF97FF",
                      "#FECB52"
                    ],
                    "font": {
                      "color": "#f2f5fa"
                    },
                    "geo": {
                      "bgcolor": "rgb(17,17,17)",
                      "lakecolor": "rgb(17,17,17)",
                      "landcolor": "rgb(17,17,17)",
                      "showlakes": true,
                      "showland": true,
                      "subunitcolor": "#506784"
                    },
                    "hoverlabel": {
                      "align": "left"
                    },
                    "hovermode": "closest",
                    "mapbox": {
                      "style": "dark"
                    },
                    "paper_bgcolor": "rgb(17,17,17)",
                    "plot_bgcolor": "rgb(17,17,17)",
                    "polar": {
                      "angularaxis": {
                        "gridcolor": "#506784",
                        "linecolor": "#506784",
                        "ticks": ""
                      },
                      "bgcolor": "rgb(17,17,17)",
                      "radialaxis": {
                        "gridcolor": "#506784",
                        "linecolor": "#506784",
                        "ticks": ""
                      }
                    },
                    "scene": {
                      "xaxis": {
                        "backgroundcolor": "rgb(17,17,17)",
                        "gridcolor": "#506784",
                        "gridwidth": 2,
                        "linecolor": "#506784",
                        "showbackground": true,
                        "ticks": "",
                        "zerolinecolor": "#C8D4E3"
                      },
                      "yaxis": {
                        "backgroundcolor": "rgb(17,17,17)",
                        "gridcolor": "#506784",
                        "gridwidth": 2,
                        "linecolor": "#506784",
                        "showbackground": true,
                        "ticks": "",
                        "zerolinecolor": "#C8D4E3"
                      },
                      "zaxis": {
                        "backgroundcolor": "rgb(17,17,17)",
                        "gridcolor": "#506784",
                        "gridwidth": 2,
                        "linecolor": "#506784",
                        "showbackground": true,
                        "ticks": "",
                        "zerolinecolor": "#C8D4E3"
                      }
                    },
                    "shapedefaults": {
                      "line": {
                        "color": "#f2f5fa"
                      }
                    },
                    "sliderdefaults": {
                      "bgcolor": "#C8D4E3",
                      "bordercolor": "rgb(17,17,17)",
                      "borderwidth": 1,
                      "tickwidth": 0
                    },
                    "ternary": {
                      "aaxis": {
                        "gridcolor": "#506784",
                        "linecolor": "#506784",
                        "ticks": ""
                      },
                      "baxis": {
                        "gridcolor": "#506784",
                        "linecolor": "#506784",
                        "ticks": ""
                      },
                      "bgcolor": "rgb(17,17,17)",
                      "caxis": {
                        "gridcolor": "#506784",
                        "linecolor": "#506784",
                        "ticks": ""
                      }
                    },
                    "title": {
                      "x": 0.05
                    },
                    "updatemenudefaults": {
                      "bgcolor": "#506784",
                      "borderwidth": 0
                    },
                    "xaxis": {
                      "automargin": true,
                      "gridcolor": "#283442",
                      "linecolor": "#506784",
                      "ticks": "",
                      "title": {
                        "standoff": 15
                      },
                      "zerolinecolor": "#283442",
                      "zerolinewidth": 2
                    },
                    "yaxis": {
                      "automargin": true,
                      "gridcolor": "#283442",
                      "linecolor": "#506784",
                      "ticks": "",
                      "title": {
                        "standoff": 15
                      },
                      "zerolinecolor": "#283442",
                      "zerolinewidth": 2
                    }
                  }
                },
                "title": {
                  "font": {
                    "size": 24
                  },
                  "text": "Churn vs Unchurn Customers Distribution"
                },
                "width": 1200
              }
            }
          },
          "metadata": {},
          "output_type": "display_data"
        }
      ],
      "source": [
        "import plotly.graph_objects as go\n",
        "\n",
        "# Define data for the two pie charts\n",
        "churn_pct = df[\"churn\"].value_counts().reset_index(name='count')\n",
        "oversampled_pct = oversampled['churn_flag'].value_counts().reset_index()\n",
        "\n",
        "# Create subplots with two columns\n",
        "fig = go.Figure()\n",
        "\n",
        "# Add first pie chart\n",
        "fig.add_trace(go.Pie(labels=churn_pct['churn'], values=churn_pct[\"count\"], hole=0.3,\n",
        "                     marker=dict(colors=[categorical_palette[2], categorical_palette[0]]),\n",
        "                     domain={'x': [0, 0.5]},\n",
        "                     name='Churn vs Unchurn Customers Distribution'))\n",
        "\n",
        "# Add second pie chart\n",
        "fig.add_trace(go.Pie(labels=oversampled_pct['churn_flag'], values=oversampled_pct[\"count\"], hole=0.3,\n",
        "                     marker=dict(colors=[categorical_palette[2], categorical_palette[0]]),\n",
        "                     domain={'x': [0.5, 1]},\n",
        "                     name='',\n",
        "                     showlegend=False))\n",
        "fig.update_layout(template=\"plotly_dark\", width=1200, title_text=\"Churn vs Unchurn Customers Distribution\", title_font=dict(size=24),\n",
        "                  annotations=[\n",
        "                      dict(text=\"Before SMOTE\", x=0.22, y=1, font=dict(size=14)),\n",
        "\n",
        "                      dict(text='After SMOTE', x=0.78, y=1, font=dict(size=14))\n",
        "                  ])\n",
        "\n",
        "# Show the plot\n",
        "fig.show()\n"
      ]
    },
    {
      "cell_type": "code",
      "execution_count": 29,
      "metadata": {
        "colab": {
          "base_uri": "https://localhost:8080/",
          "height": 478
        },
        "id": "sZo0OY9H-KcY",
        "outputId": "2bb4578a-2cf2-497a-a41b-ccac11a060e7"
      },
      "outputs": [
        {
          "data": {
            "text/html": [
              "<div>\n",
              "<style scoped>\n",
              "    .dataframe tbody tr th:only-of-type {\n",
              "        vertical-align: middle;\n",
              "    }\n",
              "\n",
              "    .dataframe tbody tr th {\n",
              "        vertical-align: top;\n",
              "    }\n",
              "\n",
              "    .dataframe thead th {\n",
              "        text-align: right;\n",
              "    }\n",
              "</style>\n",
              "<table border=\"1\" class=\"dataframe\">\n",
              "  <thead>\n",
              "    <tr style=\"text-align: right;\">\n",
              "      <th></th>\n",
              "      <th>churn_flag</th>\n",
              "      <th>gender_Female</th>\n",
              "      <th>gender_Male</th>\n",
              "      <th>seniorcitizen_No</th>\n",
              "      <th>seniorcitizen_Yes</th>\n",
              "      <th>partner_No</th>\n",
              "      <th>partner_Yes</th>\n",
              "      <th>dependents_No</th>\n",
              "      <th>dependents_Yes</th>\n",
              "      <th>phoneservice_No</th>\n",
              "      <th>...</th>\n",
              "      <th>contract_Two year</th>\n",
              "      <th>paperlessbilling_No</th>\n",
              "      <th>paperlessbilling_Yes</th>\n",
              "      <th>paymentmethod_Bank transfer (automatic)</th>\n",
              "      <th>paymentmethod_Credit card (automatic)</th>\n",
              "      <th>paymentmethod_Electronic check</th>\n",
              "      <th>paymentmethod_Mailed check</th>\n",
              "      <th>tenure</th>\n",
              "      <th>monthlycharges</th>\n",
              "      <th>totalcharges</th>\n",
              "    </tr>\n",
              "  </thead>\n",
              "  <tbody>\n",
              "    <tr>\n",
              "      <th>0</th>\n",
              "      <td>0.0</td>\n",
              "      <td>1</td>\n",
              "      <td>0</td>\n",
              "      <td>1</td>\n",
              "      <td>0</td>\n",
              "      <td>0</td>\n",
              "      <td>1</td>\n",
              "      <td>1</td>\n",
              "      <td>0</td>\n",
              "      <td>1</td>\n",
              "      <td>...</td>\n",
              "      <td>0</td>\n",
              "      <td>0</td>\n",
              "      <td>1</td>\n",
              "      <td>0</td>\n",
              "      <td>0</td>\n",
              "      <td>1</td>\n",
              "      <td>0</td>\n",
              "      <td>0.000000</td>\n",
              "      <td>0.115423</td>\n",
              "      <td>0.001275</td>\n",
              "    </tr>\n",
              "    <tr>\n",
              "      <th>1</th>\n",
              "      <td>0.0</td>\n",
              "      <td>0</td>\n",
              "      <td>1</td>\n",
              "      <td>1</td>\n",
              "      <td>0</td>\n",
              "      <td>1</td>\n",
              "      <td>0</td>\n",
              "      <td>1</td>\n",
              "      <td>0</td>\n",
              "      <td>0</td>\n",
              "      <td>...</td>\n",
              "      <td>0</td>\n",
              "      <td>1</td>\n",
              "      <td>0</td>\n",
              "      <td>0</td>\n",
              "      <td>0</td>\n",
              "      <td>0</td>\n",
              "      <td>1</td>\n",
              "      <td>0.464789</td>\n",
              "      <td>0.385075</td>\n",
              "      <td>0.215867</td>\n",
              "    </tr>\n",
              "    <tr>\n",
              "      <th>2</th>\n",
              "      <td>1.0</td>\n",
              "      <td>0</td>\n",
              "      <td>1</td>\n",
              "      <td>1</td>\n",
              "      <td>0</td>\n",
              "      <td>1</td>\n",
              "      <td>0</td>\n",
              "      <td>1</td>\n",
              "      <td>0</td>\n",
              "      <td>0</td>\n",
              "      <td>...</td>\n",
              "      <td>0</td>\n",
              "      <td>0</td>\n",
              "      <td>1</td>\n",
              "      <td>0</td>\n",
              "      <td>0</td>\n",
              "      <td>0</td>\n",
              "      <td>1</td>\n",
              "      <td>0.014085</td>\n",
              "      <td>0.354229</td>\n",
              "      <td>0.010310</td>\n",
              "    </tr>\n",
              "    <tr>\n",
              "      <th>3</th>\n",
              "      <td>0.0</td>\n",
              "      <td>0</td>\n",
              "      <td>1</td>\n",
              "      <td>1</td>\n",
              "      <td>0</td>\n",
              "      <td>1</td>\n",
              "      <td>0</td>\n",
              "      <td>1</td>\n",
              "      <td>0</td>\n",
              "      <td>1</td>\n",
              "      <td>...</td>\n",
              "      <td>0</td>\n",
              "      <td>1</td>\n",
              "      <td>0</td>\n",
              "      <td>1</td>\n",
              "      <td>0</td>\n",
              "      <td>0</td>\n",
              "      <td>0</td>\n",
              "      <td>0.619718</td>\n",
              "      <td>0.239303</td>\n",
              "      <td>0.210241</td>\n",
              "    </tr>\n",
              "    <tr>\n",
              "      <th>4</th>\n",
              "      <td>1.0</td>\n",
              "      <td>1</td>\n",
              "      <td>0</td>\n",
              "      <td>1</td>\n",
              "      <td>0</td>\n",
              "      <td>1</td>\n",
              "      <td>0</td>\n",
              "      <td>1</td>\n",
              "      <td>0</td>\n",
              "      <td>0</td>\n",
              "      <td>...</td>\n",
              "      <td>0</td>\n",
              "      <td>0</td>\n",
              "      <td>1</td>\n",
              "      <td>0</td>\n",
              "      <td>0</td>\n",
              "      <td>1</td>\n",
              "      <td>0</td>\n",
              "      <td>0.014085</td>\n",
              "      <td>0.521891</td>\n",
              "      <td>0.015330</td>\n",
              "    </tr>\n",
              "    <tr>\n",
              "      <th>...</th>\n",
              "      <td>...</td>\n",
              "      <td>...</td>\n",
              "      <td>...</td>\n",
              "      <td>...</td>\n",
              "      <td>...</td>\n",
              "      <td>...</td>\n",
              "      <td>...</td>\n",
              "      <td>...</td>\n",
              "      <td>...</td>\n",
              "      <td>...</td>\n",
              "      <td>...</td>\n",
              "      <td>...</td>\n",
              "      <td>...</td>\n",
              "      <td>...</td>\n",
              "      <td>...</td>\n",
              "      <td>...</td>\n",
              "      <td>...</td>\n",
              "      <td>...</td>\n",
              "      <td>...</td>\n",
              "      <td>...</td>\n",
              "      <td>...</td>\n",
              "    </tr>\n",
              "    <tr>\n",
              "      <th>10321</th>\n",
              "      <td>1.0</td>\n",
              "      <td>1</td>\n",
              "      <td>0</td>\n",
              "      <td>1</td>\n",
              "      <td>0</td>\n",
              "      <td>1</td>\n",
              "      <td>0</td>\n",
              "      <td>1</td>\n",
              "      <td>0</td>\n",
              "      <td>0</td>\n",
              "      <td>...</td>\n",
              "      <td>0</td>\n",
              "      <td>0</td>\n",
              "      <td>1</td>\n",
              "      <td>0</td>\n",
              "      <td>0</td>\n",
              "      <td>1</td>\n",
              "      <td>0</td>\n",
              "      <td>0.023365</td>\n",
              "      <td>0.561626</td>\n",
              "      <td>0.020366</td>\n",
              "    </tr>\n",
              "    <tr>\n",
              "      <th>10322</th>\n",
              "      <td>1.0</td>\n",
              "      <td>1</td>\n",
              "      <td>0</td>\n",
              "      <td>0</td>\n",
              "      <td>1</td>\n",
              "      <td>1</td>\n",
              "      <td>0</td>\n",
              "      <td>1</td>\n",
              "      <td>0</td>\n",
              "      <td>0</td>\n",
              "      <td>...</td>\n",
              "      <td>0</td>\n",
              "      <td>0</td>\n",
              "      <td>1</td>\n",
              "      <td>0</td>\n",
              "      <td>0</td>\n",
              "      <td>1</td>\n",
              "      <td>0</td>\n",
              "      <td>0.134591</td>\n",
              "      <td>0.559425</td>\n",
              "      <td>0.086707</td>\n",
              "    </tr>\n",
              "    <tr>\n",
              "      <th>10323</th>\n",
              "      <td>1.0</td>\n",
              "      <td>0</td>\n",
              "      <td>1</td>\n",
              "      <td>1</td>\n",
              "      <td>0</td>\n",
              "      <td>0</td>\n",
              "      <td>1</td>\n",
              "      <td>1</td>\n",
              "      <td>0</td>\n",
              "      <td>0</td>\n",
              "      <td>...</td>\n",
              "      <td>0</td>\n",
              "      <td>0</td>\n",
              "      <td>1</td>\n",
              "      <td>0</td>\n",
              "      <td>0</td>\n",
              "      <td>1</td>\n",
              "      <td>0</td>\n",
              "      <td>0.385410</td>\n",
              "      <td>0.792619</td>\n",
              "      <td>0.310208</td>\n",
              "    </tr>\n",
              "    <tr>\n",
              "      <th>10324</th>\n",
              "      <td>1.0</td>\n",
              "      <td>1</td>\n",
              "      <td>0</td>\n",
              "      <td>1</td>\n",
              "      <td>0</td>\n",
              "      <td>0</td>\n",
              "      <td>1</td>\n",
              "      <td>0</td>\n",
              "      <td>1</td>\n",
              "      <td>0</td>\n",
              "      <td>...</td>\n",
              "      <td>1</td>\n",
              "      <td>0</td>\n",
              "      <td>1</td>\n",
              "      <td>1</td>\n",
              "      <td>0</td>\n",
              "      <td>0</td>\n",
              "      <td>0</td>\n",
              "      <td>0.814399</td>\n",
              "      <td>0.921625</td>\n",
              "      <td>0.739823</td>\n",
              "    </tr>\n",
              "    <tr>\n",
              "      <th>10325</th>\n",
              "      <td>1.0</td>\n",
              "      <td>0</td>\n",
              "      <td>1</td>\n",
              "      <td>1</td>\n",
              "      <td>0</td>\n",
              "      <td>1</td>\n",
              "      <td>0</td>\n",
              "      <td>1</td>\n",
              "      <td>0</td>\n",
              "      <td>0</td>\n",
              "      <td>...</td>\n",
              "      <td>0</td>\n",
              "      <td>0</td>\n",
              "      <td>1</td>\n",
              "      <td>0</td>\n",
              "      <td>0</td>\n",
              "      <td>1</td>\n",
              "      <td>0</td>\n",
              "      <td>0.039483</td>\n",
              "      <td>0.563299</td>\n",
              "      <td>0.027611</td>\n",
              "    </tr>\n",
              "  </tbody>\n",
              "</table>\n",
              "<p>10326 rows × 47 columns</p>\n",
              "</div>"
            ],
            "text/plain": [
              "       churn_flag  gender_Female  gender_Male  seniorcitizen_No  \\\n",
              "0             0.0              1            0                 1   \n",
              "1             0.0              0            1                 1   \n",
              "2             1.0              0            1                 1   \n",
              "3             0.0              0            1                 1   \n",
              "4             1.0              1            0                 1   \n",
              "...           ...            ...          ...               ...   \n",
              "10321         1.0              1            0                 1   \n",
              "10322         1.0              1            0                 0   \n",
              "10323         1.0              0            1                 1   \n",
              "10324         1.0              1            0                 1   \n",
              "10325         1.0              0            1                 1   \n",
              "\n",
              "       seniorcitizen_Yes  partner_No  partner_Yes  dependents_No  \\\n",
              "0                      0           0            1              1   \n",
              "1                      0           1            0              1   \n",
              "2                      0           1            0              1   \n",
              "3                      0           1            0              1   \n",
              "4                      0           1            0              1   \n",
              "...                  ...         ...          ...            ...   \n",
              "10321                  0           1            0              1   \n",
              "10322                  1           1            0              1   \n",
              "10323                  0           0            1              1   \n",
              "10324                  0           0            1              0   \n",
              "10325                  0           1            0              1   \n",
              "\n",
              "       dependents_Yes  phoneservice_No  ...  contract_Two year  \\\n",
              "0                   0                1  ...                  0   \n",
              "1                   0                0  ...                  0   \n",
              "2                   0                0  ...                  0   \n",
              "3                   0                1  ...                  0   \n",
              "4                   0                0  ...                  0   \n",
              "...               ...              ...  ...                ...   \n",
              "10321               0                0  ...                  0   \n",
              "10322               0                0  ...                  0   \n",
              "10323               0                0  ...                  0   \n",
              "10324               1                0  ...                  1   \n",
              "10325               0                0  ...                  0   \n",
              "\n",
              "       paperlessbilling_No  paperlessbilling_Yes  \\\n",
              "0                        0                     1   \n",
              "1                        1                     0   \n",
              "2                        0                     1   \n",
              "3                        1                     0   \n",
              "4                        0                     1   \n",
              "...                    ...                   ...   \n",
              "10321                    0                     1   \n",
              "10322                    0                     1   \n",
              "10323                    0                     1   \n",
              "10324                    0                     1   \n",
              "10325                    0                     1   \n",
              "\n",
              "       paymentmethod_Bank transfer (automatic)  \\\n",
              "0                                            0   \n",
              "1                                            0   \n",
              "2                                            0   \n",
              "3                                            1   \n",
              "4                                            0   \n",
              "...                                        ...   \n",
              "10321                                        0   \n",
              "10322                                        0   \n",
              "10323                                        0   \n",
              "10324                                        1   \n",
              "10325                                        0   \n",
              "\n",
              "       paymentmethod_Credit card (automatic)  paymentmethod_Electronic check  \\\n",
              "0                                          0                               1   \n",
              "1                                          0                               0   \n",
              "2                                          0                               0   \n",
              "3                                          0                               0   \n",
              "4                                          0                               1   \n",
              "...                                      ...                             ...   \n",
              "10321                                      0                               1   \n",
              "10322                                      0                               1   \n",
              "10323                                      0                               1   \n",
              "10324                                      0                               0   \n",
              "10325                                      0                               1   \n",
              "\n",
              "       paymentmethod_Mailed check    tenure  monthlycharges  totalcharges  \n",
              "0                               0  0.000000        0.115423      0.001275  \n",
              "1                               1  0.464789        0.385075      0.215867  \n",
              "2                               1  0.014085        0.354229      0.010310  \n",
              "3                               0  0.619718        0.239303      0.210241  \n",
              "4                               0  0.014085        0.521891      0.015330  \n",
              "...                           ...       ...             ...           ...  \n",
              "10321                           0  0.023365        0.561626      0.020366  \n",
              "10322                           0  0.134591        0.559425      0.086707  \n",
              "10323                           0  0.385410        0.792619      0.310208  \n",
              "10324                           0  0.814399        0.921625      0.739823  \n",
              "10325                           0  0.039483        0.563299      0.027611  \n",
              "\n",
              "[10326 rows x 47 columns]"
            ]
          },
          "execution_count": 29,
          "metadata": {},
          "output_type": "execute_result"
        }
      ],
      "source": [
        "oversampled"
      ]
    },
    {
      "cell_type": "code",
      "execution_count": 30,
      "metadata": {
        "id": "sEnuqTwf-Rdh"
      },
      "outputs": [],
      "source": [
        "# saving the preprocessed and encoded data\n",
        "oversampled.to_csv(\"data/churn_data_encoded.csv\", index = False)"
      ]
    }
  ],
  "metadata": {
    "colab": {
      "authorship_tag": "ABX9TyNw/rLUJzl8rsqE5qR920wb",
      "include_colab_link": true,
      "mount_file_id": "1Hx0XGWIlmtQ9odzgMfJZ6AZz0j50tUvK",
      "provenance": []
    },
    "kernelspec": {
      "display_name": "venv",
      "language": "python",
      "name": "python3"
    },
    "language_info": {
      "codemirror_mode": {
        "name": "ipython",
        "version": 3
      },
      "file_extension": ".py",
      "mimetype": "text/x-python",
      "name": "python",
      "nbconvert_exporter": "python",
      "pygments_lexer": "ipython3",
      "version": "3.12.7"
    }
  },
  "nbformat": 4,
  "nbformat_minor": 0
}
