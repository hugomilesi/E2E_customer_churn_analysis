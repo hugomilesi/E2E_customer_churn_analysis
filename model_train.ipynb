{
  "cells": [
    {
      "cell_type": "markdown",
      "metadata": {
        "colab_type": "text",
        "id": "view-in-github"
      },
      "source": [
        "<a href=\"https://colab.research.google.com/github/hugomilesi/E2E_customer_churn_analysis/blob/updated_model/model_train.ipynb\" target=\"_parent\"><img src=\"https://colab.research.google.com/assets/colab-badge.svg\" alt=\"Open In Colab\"/></a>"
      ]
    },
    {
      "cell_type": "code",
      "execution_count": 185,
      "metadata": {
        "id": "K0wQwU87-otY"
      },
      "outputs": [],
      "source": [
        "import pandas as pd\n",
        "# cross validation\n",
        "from sklearn.model_selection import GridSearchCV\n",
        "import matplotlib.pyplot as plt\n",
        "import plotly.graph_objects as go\n",
        "import plotly.express as px\n",
        "import numpy as np\n",
        "import itertools\n",
        "\n",
        "# Feature Engineering\n",
        "from imblearn.over_sampling import SMOTE, RandomOverSampler\n",
        "from sklearn.preprocessing import MinMaxScaler,StandardScaler\n",
        "\n",
        "# model training\n",
        "from sklearn.model_selection import train_test_split\n",
        "from sklearn.metrics import recall_score, accuracy_score\n",
        "from sklearn.metrics import classification_report\n",
        "from sklearn.model_selection import GridSearchCV, train_test_split, cross_validate\n",
        "from sklearn.metrics import confusion_matrix, roc_curve, roc_auc_score, classification_report\n",
        "from sklearn.metrics import confusion_matrix\n",
        "from sklearn.tree import DecisionTreeClassifier\n",
        "from sklearn.ensemble import RandomForestClassifier\n",
        "from sklearn.neighbors import KNeighborsClassifier\n",
        "from sklearn.naive_bayes import GaussianNB\n",
        "from xgboost import XGBClassifier\n",
        "from sklearn.linear_model import LogisticRegression\n",
        "from sklearn.svm import SVC\n",
        "from sklearn import metrics\n",
        "\n",
        "from sklearn.metrics import roc_curve, auc\n",
        "from sklearn.model_selection import cross_val_score\n",
        "\n",
        "# model saving\n",
        "import pickle\n",
        "\n",
        "import warnings\n",
        "warnings.filterwarnings(\"ignore\")\n",
        "plt.style.use('dark_background')\n",
        "categorical_palette = [\"#e60049\", \"#0bb4ff\", \"#50e991\", \"#e6d800\", \"#9b19f5\", \"#ffa300\", \"#dc0ab4\", \"#b3d4ff\", \"#00bfa0\"]\n"
      ]
    },
    {
      "cell_type": "code",
      "execution_count": 173,
      "metadata": {
        "colab": {
          "base_uri": "https://localhost:8080/",
          "height": 290
        },
        "id": "rHgZ5bi7-2FD",
        "outputId": "ba5f3953-c32b-4b4f-ceaf-78c37faf6364"
      },
      "outputs": [
        {
          "data": {
            "text/html": [
              "<div>\n",
              "<style scoped>\n",
              "    .dataframe tbody tr th:only-of-type {\n",
              "        vertical-align: middle;\n",
              "    }\n",
              "\n",
              "    .dataframe tbody tr th {\n",
              "        vertical-align: top;\n",
              "    }\n",
              "\n",
              "    .dataframe thead th {\n",
              "        text-align: right;\n",
              "    }\n",
              "</style>\n",
              "<table border=\"1\" class=\"dataframe\">\n",
              "  <thead>\n",
              "    <tr style=\"text-align: right;\">\n",
              "      <th></th>\n",
              "      <th>gender</th>\n",
              "      <th>seniorcitizen</th>\n",
              "      <th>partner</th>\n",
              "      <th>dependents</th>\n",
              "      <th>tenure</th>\n",
              "      <th>phoneservice</th>\n",
              "      <th>multiplelines</th>\n",
              "      <th>internetservice</th>\n",
              "      <th>onlinesecurity</th>\n",
              "      <th>onlinebackup</th>\n",
              "      <th>...</th>\n",
              "      <th>techsupport</th>\n",
              "      <th>streamingtv</th>\n",
              "      <th>streamingmovies</th>\n",
              "      <th>contract</th>\n",
              "      <th>paperlessbilling</th>\n",
              "      <th>paymentmethod</th>\n",
              "      <th>monthlycharges</th>\n",
              "      <th>totalcharges</th>\n",
              "      <th>churn</th>\n",
              "      <th>churn_flag</th>\n",
              "    </tr>\n",
              "  </thead>\n",
              "  <tbody>\n",
              "    <tr>\n",
              "      <th>0</th>\n",
              "      <td>Female</td>\n",
              "      <td>No</td>\n",
              "      <td>Yes</td>\n",
              "      <td>No</td>\n",
              "      <td>1</td>\n",
              "      <td>No</td>\n",
              "      <td>No phone service</td>\n",
              "      <td>DSL</td>\n",
              "      <td>No</td>\n",
              "      <td>Yes</td>\n",
              "      <td>...</td>\n",
              "      <td>No</td>\n",
              "      <td>No</td>\n",
              "      <td>No</td>\n",
              "      <td>Month-to-month</td>\n",
              "      <td>Yes</td>\n",
              "      <td>Electronic check</td>\n",
              "      <td>29.85</td>\n",
              "      <td>29.85</td>\n",
              "      <td>No</td>\n",
              "      <td>0</td>\n",
              "    </tr>\n",
              "    <tr>\n",
              "      <th>1</th>\n",
              "      <td>Male</td>\n",
              "      <td>No</td>\n",
              "      <td>No</td>\n",
              "      <td>No</td>\n",
              "      <td>34</td>\n",
              "      <td>Yes</td>\n",
              "      <td>No</td>\n",
              "      <td>DSL</td>\n",
              "      <td>Yes</td>\n",
              "      <td>No</td>\n",
              "      <td>...</td>\n",
              "      <td>No</td>\n",
              "      <td>No</td>\n",
              "      <td>No</td>\n",
              "      <td>One year</td>\n",
              "      <td>No</td>\n",
              "      <td>Mailed check</td>\n",
              "      <td>56.95</td>\n",
              "      <td>1889.50</td>\n",
              "      <td>No</td>\n",
              "      <td>0</td>\n",
              "    </tr>\n",
              "    <tr>\n",
              "      <th>2</th>\n",
              "      <td>Male</td>\n",
              "      <td>No</td>\n",
              "      <td>No</td>\n",
              "      <td>No</td>\n",
              "      <td>2</td>\n",
              "      <td>Yes</td>\n",
              "      <td>No</td>\n",
              "      <td>DSL</td>\n",
              "      <td>Yes</td>\n",
              "      <td>Yes</td>\n",
              "      <td>...</td>\n",
              "      <td>No</td>\n",
              "      <td>No</td>\n",
              "      <td>No</td>\n",
              "      <td>Month-to-month</td>\n",
              "      <td>Yes</td>\n",
              "      <td>Mailed check</td>\n",
              "      <td>53.85</td>\n",
              "      <td>108.15</td>\n",
              "      <td>Yes</td>\n",
              "      <td>1</td>\n",
              "    </tr>\n",
              "    <tr>\n",
              "      <th>3</th>\n",
              "      <td>Male</td>\n",
              "      <td>No</td>\n",
              "      <td>No</td>\n",
              "      <td>No</td>\n",
              "      <td>45</td>\n",
              "      <td>No</td>\n",
              "      <td>No phone service</td>\n",
              "      <td>DSL</td>\n",
              "      <td>Yes</td>\n",
              "      <td>No</td>\n",
              "      <td>...</td>\n",
              "      <td>Yes</td>\n",
              "      <td>No</td>\n",
              "      <td>No</td>\n",
              "      <td>One year</td>\n",
              "      <td>No</td>\n",
              "      <td>Bank transfer (automatic)</td>\n",
              "      <td>42.30</td>\n",
              "      <td>1840.75</td>\n",
              "      <td>No</td>\n",
              "      <td>0</td>\n",
              "    </tr>\n",
              "    <tr>\n",
              "      <th>4</th>\n",
              "      <td>Female</td>\n",
              "      <td>No</td>\n",
              "      <td>No</td>\n",
              "      <td>No</td>\n",
              "      <td>2</td>\n",
              "      <td>Yes</td>\n",
              "      <td>No</td>\n",
              "      <td>Fiber optic</td>\n",
              "      <td>No</td>\n",
              "      <td>No</td>\n",
              "      <td>...</td>\n",
              "      <td>No</td>\n",
              "      <td>No</td>\n",
              "      <td>No</td>\n",
              "      <td>Month-to-month</td>\n",
              "      <td>Yes</td>\n",
              "      <td>Electronic check</td>\n",
              "      <td>70.70</td>\n",
              "      <td>151.65</td>\n",
              "      <td>Yes</td>\n",
              "      <td>1</td>\n",
              "    </tr>\n",
              "  </tbody>\n",
              "</table>\n",
              "<p>5 rows × 21 columns</p>\n",
              "</div>"
            ],
            "text/plain": [
              "   gender seniorcitizen partner dependents  tenure phoneservice  \\\n",
              "0  Female            No     Yes         No       1           No   \n",
              "1    Male            No      No         No      34          Yes   \n",
              "2    Male            No      No         No       2          Yes   \n",
              "3    Male            No      No         No      45           No   \n",
              "4  Female            No      No         No       2          Yes   \n",
              "\n",
              "      multiplelines internetservice onlinesecurity onlinebackup  ...  \\\n",
              "0  No phone service             DSL             No          Yes  ...   \n",
              "1                No             DSL            Yes           No  ...   \n",
              "2                No             DSL            Yes          Yes  ...   \n",
              "3  No phone service             DSL            Yes           No  ...   \n",
              "4                No     Fiber optic             No           No  ...   \n",
              "\n",
              "  techsupport streamingtv streamingmovies        contract paperlessbilling  \\\n",
              "0          No          No              No  Month-to-month              Yes   \n",
              "1          No          No              No        One year               No   \n",
              "2          No          No              No  Month-to-month              Yes   \n",
              "3         Yes          No              No        One year               No   \n",
              "4          No          No              No  Month-to-month              Yes   \n",
              "\n",
              "               paymentmethod monthlycharges  totalcharges  churn churn_flag  \n",
              "0           Electronic check          29.85         29.85     No          0  \n",
              "1               Mailed check          56.95       1889.50     No          0  \n",
              "2               Mailed check          53.85        108.15    Yes          1  \n",
              "3  Bank transfer (automatic)          42.30       1840.75     No          0  \n",
              "4           Electronic check          70.70        151.65    Yes          1  \n",
              "\n",
              "[5 rows x 21 columns]"
            ]
          },
          "execution_count": 173,
          "metadata": {},
          "output_type": "execute_result"
        }
      ],
      "source": [
        "df = pd.read_csv(\"data/churn_data_cleaned.csv\")\n",
        "df.head()"
      ]
    },
    {
      "cell_type": "code",
      "execution_count": 174,
      "metadata": {},
      "outputs": [
        {
          "data": {
            "text/plain": [
              "gender               object\n",
              "seniorcitizen        object\n",
              "partner              object\n",
              "dependents           object\n",
              "tenure                int64\n",
              "phoneservice         object\n",
              "multiplelines        object\n",
              "internetservice      object\n",
              "onlinesecurity       object\n",
              "onlinebackup         object\n",
              "deviceprotection     object\n",
              "techsupport          object\n",
              "streamingtv          object\n",
              "streamingmovies      object\n",
              "contract             object\n",
              "paperlessbilling     object\n",
              "paymentmethod        object\n",
              "monthlycharges      float64\n",
              "totalcharges        float64\n",
              "churn                object\n",
              "churn_flag            int64\n",
              "dtype: object"
            ]
          },
          "execution_count": 174,
          "metadata": {},
          "output_type": "execute_result"
        }
      ],
      "source": [
        "df.dtypes"
      ]
    },
    {
      "cell_type": "markdown",
      "metadata": {},
      "source": [
        "# Prepare Data With and Without SMOTE"
      ]
    },
    {
      "cell_type": "code",
      "execution_count": 175,
      "metadata": {
        "id": "9RvSAOn0AROD"
      },
      "outputs": [],
      "source": [
        "categorical = df.select_dtypes(include=['object']).columns.drop('churn')\n",
        "numeric = df.select_dtypes(include=['float64', 'int64']).columns.drop('churn_flag')\n",
        "\n",
        "x = df.drop(['churn', 'churn_flag'], axis = 1)\n",
        "y = df['churn_flag'].values\n",
        "\n",
        "x_train,x_test,y_train,y_test = train_test_split(x, y, test_size=0.2, stratify=y,  random_state = 42)\n",
        "\n",
        "# Encode Categorical variables\n",
        "x_train_encoded = pd.get_dummies(x_train[categorical], dtype=int)\n",
        "x_test_encoded = pd.get_dummies(x_test[categorical], dtype=int)\n",
        "X_test_encoded = x_test_encoded.reindex(columns=x_train_encoded.columns, fill_value=0)\n",
        "\n",
        "# Normalize numeric variables\n",
        "mms=MinMaxScaler()\n",
        "x_train_numeric = pd.DataFrame(mms.fit_transform(x_train[numeric]), columns=numeric, index=x_train.index)\n",
        "x_test_numeric = pd.DataFrame(mms.transform(x_test[numeric]), columns=numeric, index=x_test.index)\n",
        "\n",
        "# Combine encoded and numeric data\n",
        "x_train_processed = pd.concat([x_train_encoded, x_train_numeric], axis=1)\n",
        "x_test_processed = pd.concat([x_test_encoded, x_test_numeric], axis=1)\n",
        "\n",
        "# Without SMOTE (use the original processed data)\n",
        "x_train_nosmote = x_train_processed\n",
        "y_train_nosmote = y_train\n",
        "x_test_nosmote = x_test_processed\n",
        "y_test_nosmote = y_test\n"
      ]
    },
    {
      "cell_type": "markdown",
      "metadata": {},
      "source": [
        "Without SMOTE"
      ]
    },
    {
      "cell_type": "code",
      "execution_count": 176,
      "metadata": {},
      "outputs": [],
      "source": [
        "# Without SMOTE (use the original processed data)\n",
        "x_train_nosmote = x_train_processed\n",
        "y_train_nosmote = y_train\n",
        "x_test_nosmote = x_test_processed\n",
        "y_test_nosmote = y_test"
      ]
    },
    {
      "cell_type": "markdown",
      "metadata": {},
      "source": [
        "With SMOTE"
      ]
    },
    {
      "cell_type": "code",
      "execution_count": 177,
      "metadata": {},
      "outputs": [],
      "source": [
        "# Apply SMOTE to training data\n",
        "smote = SMOTE(random_state=42)\n",
        "x_train_smote, y_train_smote = smote.fit_resample(x_train_processed, y_train)"
      ]
    },
    {
      "cell_type": "markdown",
      "metadata": {},
      "source": [
        "### With Random Over Sampler\n"
      ]
    },
    {
      "cell_type": "code",
      "execution_count": 186,
      "metadata": {},
      "outputs": [],
      "source": [
        "ros = RandomOverSampler()\n",
        "x_train_ros, y_train_ros = ros.fit_resample(x_train_processed, y_train)"
      ]
    },
    {
      "cell_type": "markdown",
      "metadata": {},
      "source": [
        "### Before and After SMOTE"
      ]
    },
    {
      "cell_type": "code",
      "execution_count": 178,
      "metadata": {},
      "outputs": [
        {
          "data": {
            "text/plain": [
              "0    4130\n",
              "1    1495\n",
              "Name: count, dtype: int64"
            ]
          },
          "metadata": {},
          "output_type": "display_data"
        },
        {
          "data": {
            "text/plain": [
              "0    4130\n",
              "1    4130\n",
              "Name: count, dtype: int64"
            ]
          },
          "metadata": {},
          "output_type": "display_data"
        }
      ],
      "source": [
        "display(pd.Series(y_train_nosmote).value_counts())\n",
        "display(pd.Series(y_train_smote).value_counts())"
      ]
    },
    {
      "cell_type": "code",
      "execution_count": 179,
      "metadata": {},
      "outputs": [
        {
          "data": {
            "application/vnd.plotly.v1+json": {
              "config": {
                "plotlyServerURL": "https://plot.ly"
              },
              "data": [
                {
                  "domain": {
                    "x": [
                      0,
                      0.5
                    ]
                  },
                  "hole": 0.3,
                  "labels": [
                    "No",
                    "Yes"
                  ],
                  "marker": {
                    "colors": [
                      "#50e991",
                      "#e60049"
                    ]
                  },
                  "name": "",
                  "type": "pie",
                  "values": {
                    "bdata": "KxRNBw==",
                    "dtype": "i2"
                  }
                },
                {
                  "domain": {
                    "x": [
                      0.5,
                      1
                    ]
                  },
                  "hole": 0.3,
                  "labels": {
                    "bdata": "AAE=",
                    "dtype": "i1"
                  },
                  "marker": {
                    "colors": [
                      "#50e991",
                      "#e60049"
                    ]
                  },
                  "name": "",
                  "showlegend": false,
                  "type": "pie",
                  "values": {
                    "bdata": "IhAiEA==",
                    "dtype": "i2"
                  }
                }
              ],
              "layout": {
                "annotations": [
                  {
                    "font": {
                      "size": 14
                    },
                    "text": "Before SMOTE",
                    "x": 0.22,
                    "y": 1
                  },
                  {
                    "font": {
                      "size": 14
                    },
                    "text": "After SMOTE",
                    "x": 0.78,
                    "y": 1
                  }
                ],
                "template": {
                  "data": {
                    "bar": [
                      {
                        "error_x": {
                          "color": "#f2f5fa"
                        },
                        "error_y": {
                          "color": "#f2f5fa"
                        },
                        "marker": {
                          "line": {
                            "color": "rgb(17,17,17)",
                            "width": 0.5
                          },
                          "pattern": {
                            "fillmode": "overlay",
                            "size": 10,
                            "solidity": 0.2
                          }
                        },
                        "type": "bar"
                      }
                    ],
                    "barpolar": [
                      {
                        "marker": {
                          "line": {
                            "color": "rgb(17,17,17)",
                            "width": 0.5
                          },
                          "pattern": {
                            "fillmode": "overlay",
                            "size": 10,
                            "solidity": 0.2
                          }
                        },
                        "type": "barpolar"
                      }
                    ],
                    "carpet": [
                      {
                        "aaxis": {
                          "endlinecolor": "#A2B1C6",
                          "gridcolor": "#506784",
                          "linecolor": "#506784",
                          "minorgridcolor": "#506784",
                          "startlinecolor": "#A2B1C6"
                        },
                        "baxis": {
                          "endlinecolor": "#A2B1C6",
                          "gridcolor": "#506784",
                          "linecolor": "#506784",
                          "minorgridcolor": "#506784",
                          "startlinecolor": "#A2B1C6"
                        },
                        "type": "carpet"
                      }
                    ],
                    "choropleth": [
                      {
                        "colorbar": {
                          "outlinewidth": 0,
                          "ticks": ""
                        },
                        "type": "choropleth"
                      }
                    ],
                    "contour": [
                      {
                        "colorbar": {
                          "outlinewidth": 0,
                          "ticks": ""
                        },
                        "colorscale": [
                          [
                            0,
                            "#0d0887"
                          ],
                          [
                            0.1111111111111111,
                            "#46039f"
                          ],
                          [
                            0.2222222222222222,
                            "#7201a8"
                          ],
                          [
                            0.3333333333333333,
                            "#9c179e"
                          ],
                          [
                            0.4444444444444444,
                            "#bd3786"
                          ],
                          [
                            0.5555555555555556,
                            "#d8576b"
                          ],
                          [
                            0.6666666666666666,
                            "#ed7953"
                          ],
                          [
                            0.7777777777777778,
                            "#fb9f3a"
                          ],
                          [
                            0.8888888888888888,
                            "#fdca26"
                          ],
                          [
                            1,
                            "#f0f921"
                          ]
                        ],
                        "type": "contour"
                      }
                    ],
                    "contourcarpet": [
                      {
                        "colorbar": {
                          "outlinewidth": 0,
                          "ticks": ""
                        },
                        "type": "contourcarpet"
                      }
                    ],
                    "heatmap": [
                      {
                        "colorbar": {
                          "outlinewidth": 0,
                          "ticks": ""
                        },
                        "colorscale": [
                          [
                            0,
                            "#0d0887"
                          ],
                          [
                            0.1111111111111111,
                            "#46039f"
                          ],
                          [
                            0.2222222222222222,
                            "#7201a8"
                          ],
                          [
                            0.3333333333333333,
                            "#9c179e"
                          ],
                          [
                            0.4444444444444444,
                            "#bd3786"
                          ],
                          [
                            0.5555555555555556,
                            "#d8576b"
                          ],
                          [
                            0.6666666666666666,
                            "#ed7953"
                          ],
                          [
                            0.7777777777777778,
                            "#fb9f3a"
                          ],
                          [
                            0.8888888888888888,
                            "#fdca26"
                          ],
                          [
                            1,
                            "#f0f921"
                          ]
                        ],
                        "type": "heatmap"
                      }
                    ],
                    "histogram": [
                      {
                        "marker": {
                          "pattern": {
                            "fillmode": "overlay",
                            "size": 10,
                            "solidity": 0.2
                          }
                        },
                        "type": "histogram"
                      }
                    ],
                    "histogram2d": [
                      {
                        "colorbar": {
                          "outlinewidth": 0,
                          "ticks": ""
                        },
                        "colorscale": [
                          [
                            0,
                            "#0d0887"
                          ],
                          [
                            0.1111111111111111,
                            "#46039f"
                          ],
                          [
                            0.2222222222222222,
                            "#7201a8"
                          ],
                          [
                            0.3333333333333333,
                            "#9c179e"
                          ],
                          [
                            0.4444444444444444,
                            "#bd3786"
                          ],
                          [
                            0.5555555555555556,
                            "#d8576b"
                          ],
                          [
                            0.6666666666666666,
                            "#ed7953"
                          ],
                          [
                            0.7777777777777778,
                            "#fb9f3a"
                          ],
                          [
                            0.8888888888888888,
                            "#fdca26"
                          ],
                          [
                            1,
                            "#f0f921"
                          ]
                        ],
                        "type": "histogram2d"
                      }
                    ],
                    "histogram2dcontour": [
                      {
                        "colorbar": {
                          "outlinewidth": 0,
                          "ticks": ""
                        },
                        "colorscale": [
                          [
                            0,
                            "#0d0887"
                          ],
                          [
                            0.1111111111111111,
                            "#46039f"
                          ],
                          [
                            0.2222222222222222,
                            "#7201a8"
                          ],
                          [
                            0.3333333333333333,
                            "#9c179e"
                          ],
                          [
                            0.4444444444444444,
                            "#bd3786"
                          ],
                          [
                            0.5555555555555556,
                            "#d8576b"
                          ],
                          [
                            0.6666666666666666,
                            "#ed7953"
                          ],
                          [
                            0.7777777777777778,
                            "#fb9f3a"
                          ],
                          [
                            0.8888888888888888,
                            "#fdca26"
                          ],
                          [
                            1,
                            "#f0f921"
                          ]
                        ],
                        "type": "histogram2dcontour"
                      }
                    ],
                    "mesh3d": [
                      {
                        "colorbar": {
                          "outlinewidth": 0,
                          "ticks": ""
                        },
                        "type": "mesh3d"
                      }
                    ],
                    "parcoords": [
                      {
                        "line": {
                          "colorbar": {
                            "outlinewidth": 0,
                            "ticks": ""
                          }
                        },
                        "type": "parcoords"
                      }
                    ],
                    "pie": [
                      {
                        "automargin": true,
                        "type": "pie"
                      }
                    ],
                    "scatter": [
                      {
                        "marker": {
                          "line": {
                            "color": "#283442"
                          }
                        },
                        "type": "scatter"
                      }
                    ],
                    "scatter3d": [
                      {
                        "line": {
                          "colorbar": {
                            "outlinewidth": 0,
                            "ticks": ""
                          }
                        },
                        "marker": {
                          "colorbar": {
                            "outlinewidth": 0,
                            "ticks": ""
                          }
                        },
                        "type": "scatter3d"
                      }
                    ],
                    "scattercarpet": [
                      {
                        "marker": {
                          "colorbar": {
                            "outlinewidth": 0,
                            "ticks": ""
                          }
                        },
                        "type": "scattercarpet"
                      }
                    ],
                    "scattergeo": [
                      {
                        "marker": {
                          "colorbar": {
                            "outlinewidth": 0,
                            "ticks": ""
                          }
                        },
                        "type": "scattergeo"
                      }
                    ],
                    "scattergl": [
                      {
                        "marker": {
                          "line": {
                            "color": "#283442"
                          }
                        },
                        "type": "scattergl"
                      }
                    ],
                    "scattermap": [
                      {
                        "marker": {
                          "colorbar": {
                            "outlinewidth": 0,
                            "ticks": ""
                          }
                        },
                        "type": "scattermap"
                      }
                    ],
                    "scattermapbox": [
                      {
                        "marker": {
                          "colorbar": {
                            "outlinewidth": 0,
                            "ticks": ""
                          }
                        },
                        "type": "scattermapbox"
                      }
                    ],
                    "scatterpolar": [
                      {
                        "marker": {
                          "colorbar": {
                            "outlinewidth": 0,
                            "ticks": ""
                          }
                        },
                        "type": "scatterpolar"
                      }
                    ],
                    "scatterpolargl": [
                      {
                        "marker": {
                          "colorbar": {
                            "outlinewidth": 0,
                            "ticks": ""
                          }
                        },
                        "type": "scatterpolargl"
                      }
                    ],
                    "scatterternary": [
                      {
                        "marker": {
                          "colorbar": {
                            "outlinewidth": 0,
                            "ticks": ""
                          }
                        },
                        "type": "scatterternary"
                      }
                    ],
                    "surface": [
                      {
                        "colorbar": {
                          "outlinewidth": 0,
                          "ticks": ""
                        },
                        "colorscale": [
                          [
                            0,
                            "#0d0887"
                          ],
                          [
                            0.1111111111111111,
                            "#46039f"
                          ],
                          [
                            0.2222222222222222,
                            "#7201a8"
                          ],
                          [
                            0.3333333333333333,
                            "#9c179e"
                          ],
                          [
                            0.4444444444444444,
                            "#bd3786"
                          ],
                          [
                            0.5555555555555556,
                            "#d8576b"
                          ],
                          [
                            0.6666666666666666,
                            "#ed7953"
                          ],
                          [
                            0.7777777777777778,
                            "#fb9f3a"
                          ],
                          [
                            0.8888888888888888,
                            "#fdca26"
                          ],
                          [
                            1,
                            "#f0f921"
                          ]
                        ],
                        "type": "surface"
                      }
                    ],
                    "table": [
                      {
                        "cells": {
                          "fill": {
                            "color": "#506784"
                          },
                          "line": {
                            "color": "rgb(17,17,17)"
                          }
                        },
                        "header": {
                          "fill": {
                            "color": "#2a3f5f"
                          },
                          "line": {
                            "color": "rgb(17,17,17)"
                          }
                        },
                        "type": "table"
                      }
                    ]
                  },
                  "layout": {
                    "annotationdefaults": {
                      "arrowcolor": "#f2f5fa",
                      "arrowhead": 0,
                      "arrowwidth": 1
                    },
                    "autotypenumbers": "strict",
                    "coloraxis": {
                      "colorbar": {
                        "outlinewidth": 0,
                        "ticks": ""
                      }
                    },
                    "colorscale": {
                      "diverging": [
                        [
                          0,
                          "#8e0152"
                        ],
                        [
                          0.1,
                          "#c51b7d"
                        ],
                        [
                          0.2,
                          "#de77ae"
                        ],
                        [
                          0.3,
                          "#f1b6da"
                        ],
                        [
                          0.4,
                          "#fde0ef"
                        ],
                        [
                          0.5,
                          "#f7f7f7"
                        ],
                        [
                          0.6,
                          "#e6f5d0"
                        ],
                        [
                          0.7,
                          "#b8e186"
                        ],
                        [
                          0.8,
                          "#7fbc41"
                        ],
                        [
                          0.9,
                          "#4d9221"
                        ],
                        [
                          1,
                          "#276419"
                        ]
                      ],
                      "sequential": [
                        [
                          0,
                          "#0d0887"
                        ],
                        [
                          0.1111111111111111,
                          "#46039f"
                        ],
                        [
                          0.2222222222222222,
                          "#7201a8"
                        ],
                        [
                          0.3333333333333333,
                          "#9c179e"
                        ],
                        [
                          0.4444444444444444,
                          "#bd3786"
                        ],
                        [
                          0.5555555555555556,
                          "#d8576b"
                        ],
                        [
                          0.6666666666666666,
                          "#ed7953"
                        ],
                        [
                          0.7777777777777778,
                          "#fb9f3a"
                        ],
                        [
                          0.8888888888888888,
                          "#fdca26"
                        ],
                        [
                          1,
                          "#f0f921"
                        ]
                      ],
                      "sequentialminus": [
                        [
                          0,
                          "#0d0887"
                        ],
                        [
                          0.1111111111111111,
                          "#46039f"
                        ],
                        [
                          0.2222222222222222,
                          "#7201a8"
                        ],
                        [
                          0.3333333333333333,
                          "#9c179e"
                        ],
                        [
                          0.4444444444444444,
                          "#bd3786"
                        ],
                        [
                          0.5555555555555556,
                          "#d8576b"
                        ],
                        [
                          0.6666666666666666,
                          "#ed7953"
                        ],
                        [
                          0.7777777777777778,
                          "#fb9f3a"
                        ],
                        [
                          0.8888888888888888,
                          "#fdca26"
                        ],
                        [
                          1,
                          "#f0f921"
                        ]
                      ]
                    },
                    "colorway": [
                      "#636efa",
                      "#EF553B",
                      "#00cc96",
                      "#ab63fa",
                      "#FFA15A",
                      "#19d3f3",
                      "#FF6692",
                      "#B6E880",
                      "#FF97FF",
                      "#FECB52"
                    ],
                    "font": {
                      "color": "#f2f5fa"
                    },
                    "geo": {
                      "bgcolor": "rgb(17,17,17)",
                      "lakecolor": "rgb(17,17,17)",
                      "landcolor": "rgb(17,17,17)",
                      "showlakes": true,
                      "showland": true,
                      "subunitcolor": "#506784"
                    },
                    "hoverlabel": {
                      "align": "left"
                    },
                    "hovermode": "closest",
                    "mapbox": {
                      "style": "dark"
                    },
                    "paper_bgcolor": "rgb(17,17,17)",
                    "plot_bgcolor": "rgb(17,17,17)",
                    "polar": {
                      "angularaxis": {
                        "gridcolor": "#506784",
                        "linecolor": "#506784",
                        "ticks": ""
                      },
                      "bgcolor": "rgb(17,17,17)",
                      "radialaxis": {
                        "gridcolor": "#506784",
                        "linecolor": "#506784",
                        "ticks": ""
                      }
                    },
                    "scene": {
                      "xaxis": {
                        "backgroundcolor": "rgb(17,17,17)",
                        "gridcolor": "#506784",
                        "gridwidth": 2,
                        "linecolor": "#506784",
                        "showbackground": true,
                        "ticks": "",
                        "zerolinecolor": "#C8D4E3"
                      },
                      "yaxis": {
                        "backgroundcolor": "rgb(17,17,17)",
                        "gridcolor": "#506784",
                        "gridwidth": 2,
                        "linecolor": "#506784",
                        "showbackground": true,
                        "ticks": "",
                        "zerolinecolor": "#C8D4E3"
                      },
                      "zaxis": {
                        "backgroundcolor": "rgb(17,17,17)",
                        "gridcolor": "#506784",
                        "gridwidth": 2,
                        "linecolor": "#506784",
                        "showbackground": true,
                        "ticks": "",
                        "zerolinecolor": "#C8D4E3"
                      }
                    },
                    "shapedefaults": {
                      "line": {
                        "color": "#f2f5fa"
                      }
                    },
                    "sliderdefaults": {
                      "bgcolor": "#C8D4E3",
                      "bordercolor": "rgb(17,17,17)",
                      "borderwidth": 1,
                      "tickwidth": 0
                    },
                    "ternary": {
                      "aaxis": {
                        "gridcolor": "#506784",
                        "linecolor": "#506784",
                        "ticks": ""
                      },
                      "baxis": {
                        "gridcolor": "#506784",
                        "linecolor": "#506784",
                        "ticks": ""
                      },
                      "bgcolor": "rgb(17,17,17)",
                      "caxis": {
                        "gridcolor": "#506784",
                        "linecolor": "#506784",
                        "ticks": ""
                      }
                    },
                    "title": {
                      "x": 0.05
                    },
                    "updatemenudefaults": {
                      "bgcolor": "#506784",
                      "borderwidth": 0
                    },
                    "xaxis": {
                      "automargin": true,
                      "gridcolor": "#283442",
                      "linecolor": "#506784",
                      "ticks": "",
                      "title": {
                        "standoff": 15
                      },
                      "zerolinecolor": "#283442",
                      "zerolinewidth": 2
                    },
                    "yaxis": {
                      "automargin": true,
                      "gridcolor": "#283442",
                      "linecolor": "#506784",
                      "ticks": "",
                      "title": {
                        "standoff": 15
                      },
                      "zerolinecolor": "#283442",
                      "zerolinewidth": 2
                    }
                  }
                },
                "title": {
                  "font": {
                    "size": 24
                  },
                  "text": "Churn vs Unchurn Customers Distribution"
                },
                "width": 1200
              }
            }
          },
          "metadata": {},
          "output_type": "display_data"
        }
      ],
      "source": [
        "# Create oversampled DataFrame\n",
        "oversampled = pd.DataFrame(x_train_smote, columns=x_train_processed.columns)\n",
        "oversampled['churn_flag'] = y_train_smote\n",
        "\n",
        "# Pie chart data\n",
        "churn_pct = df[\"churn\"].value_counts().reset_index(name='count')\n",
        "oversampled_pct = oversampled['churn_flag'].value_counts().reset_index()\n",
        "\n",
        "\n",
        "# Plot\n",
        "fig = go.Figure()\n",
        "\n",
        "# Before SMOTE\n",
        "fig.add_trace(go.Pie(\n",
        "    labels=churn_pct['churn'],\n",
        "    values=churn_pct[\"count\"],\n",
        "    hole=0.3,\n",
        "    marker=dict(colors=[categorical_palette[2], categorical_palette[0]]),  # replace with your palette if needed\n",
        "    domain={'x': [0, 0.5]},\n",
        "    name=''\n",
        "))\n",
        "\n",
        "# After SMOTE\n",
        "fig.add_trace(go.Pie(\n",
        "    labels=oversampled_pct['churn_flag'],\n",
        "    values=oversampled_pct[\"count\"],\n",
        "    hole=0.3,\n",
        "    marker=dict(colors=[categorical_palette[2], categorical_palette[0]]),\n",
        "    domain={'x': [0.5, 1]},\n",
        "    name='',\n",
        "    showlegend=False\n",
        "))\n",
        "\n",
        "fig.update_layout(\n",
        "    template=\"plotly_dark\",\n",
        "    width=1200,\n",
        "    title_text=\"Churn vs Unchurn Customers Distribution\",\n",
        "    title_font=dict(size=24),\n",
        "    annotations=[\n",
        "        dict(text=\"Before SMOTE\", x=0.22, y=1, font=dict(size=14)),\n",
        "        dict(text='After SMOTE', x=0.78, y=1, font=dict(size=14))\n",
        "    ]\n",
        ")\n",
        "\n",
        "fig.show()\n"
      ]
    },
    {
      "cell_type": "code",
      "execution_count": 180,
      "metadata": {},
      "outputs": [
        {
          "data": {
            "text/plain": [
              "0    1033\n",
              "1     374\n",
              "Name: count, dtype: int64"
            ]
          },
          "execution_count": 180,
          "metadata": {},
          "output_type": "execute_result"
        }
      ],
      "source": [
        "pd.Series(y_test).value_counts()"
      ]
    },
    {
      "cell_type": "markdown",
      "metadata": {
        "id": "G6ZU-loWAjjw"
      },
      "source": [
        "## Model Training"
      ]
    },
    {
      "cell_type": "markdown",
      "metadata": {},
      "source": [
        "---"
      ]
    },
    {
      "cell_type": "code",
      "execution_count": 200,
      "metadata": {
        "id": "rK_E6Zc-AqAn"
      },
      "outputs": [],
      "source": [
        "# Existing functions (updated model_fit)\n",
        "def get_best_model(estimator, params_grid: dict, X_train: pd.DataFrame, y_train: np.ndarray):\n",
        "    \"\"\"Perform grid search to find best model parameters.\"\"\"\n",
        "    model = GridSearchCV(estimator=estimator, param_grid=params_grid, cv=3, scoring='recall', n_jobs=-1)\n",
        "    model.fit(X_train, y_train)\n",
        "    print(f'\\n--- Best Parameters for {estimator.__class__.__name__} ---')\n",
        "    print(model.best_params_)\n",
        "    print('\\n--- Best Model ---')\n",
        "    print(model.best_estimator_)\n",
        "    return model.best_estimator_\n",
        "\n",
        "def plot_confusion_matrix(cm: np.ndarray, classes: list, normalize: bool = False, title: str = 'Confusion Matrix', cmap=plt.cm.Blues):\n",
        "    \"\"\"Plot confusion matrix.\"\"\"\n",
        "    plt.imshow(cm, interpolation='nearest', cmap=cmap)\n",
        "    plt.colorbar()\n",
        "    tick_marks = np.arange(len(classes))\n",
        "    plt.xticks(tick_marks, classes, rotation=45)\n",
        "    plt.yticks(tick_marks, classes)\n",
        "    if normalize:\n",
        "        cm = cm.astype('float') / cm.sum(axis=1)[:, np.newaxis]\n",
        "    thresh = cm.max() / 2.\n",
        "    for i, j in itertools.product(range(cm.shape[0]), range(cm.shape[1])):\n",
        "        plt.text(j, i, cm[i, j], horizontalalignment=\"center\", color=\"white\" if cm[i, j] > thresh else \"black\")\n",
        "    plt.tight_layout()\n",
        "    plt.title(title)\n",
        "    plt.ylabel('True label')\n",
        "    plt.xlabel('Predicted label')\n",
        "    plt.show()\n",
        "\n",
        "def model_fit(model, X_train: pd.DataFrame, y_train: np.ndarray, X_test: pd.DataFrame, y_test: np.ndarray,\n",
        "              cv: int = 5, verbose:bool = False) -> dict:\n",
        "    \"\"\"Fit model, evaluate with cross-validation, and plot results.\"\"\"\n",
        "    clf = model.fit(X_train, y_train)\n",
        "    y_pred = clf.predict(X_test)\n",
        "    \n",
        "    # Use cross_validate for efficiency\n",
        "    scoring = {'accuracy': 'accuracy', 'roc_auc': 'roc_auc', 'recall': 'recall', 'precision': 'precision', 'f1': 'f1'}\n",
        "    cv_results = cross_validate(clf, X_train, y_train, cv=cv, scoring=scoring, n_jobs=-1)\n",
        "    cv_results_test = cross_validate(clf, X_test, y_test, cv=cv, scoring=scoring, n_jobs=-1)\n",
        "    \n",
        "    if verbose:\n",
        "\n",
        "        print('\\n--- Train Set (Cross-Validation) ---')\n",
        "        for metric in scoring:\n",
        "            print(f'{metric.capitalize()}: %.5f +/- %.4f' % (np.mean(cv_results[f'test_{metric}']), np.std(cv_results[f'test_{metric}'])))\n",
        "        \n",
        "        print('\\n--- Validation Set (Cross-Validation) ---')\n",
        "        for metric in scoring:\n",
        "            print(f'{metric.capitalize()}: %.5f +/- %.4f' % (np.mean(cv_results_test[f'test_{metric}']), np.std(cv_results_test[f'test_{metric}'])))\n",
        "        \n",
        "        print('\\n--- Classification Report ---')\n",
        "        print(classification_report(y_test, y_pred, target_names=['Success', 'Failure']))\n",
        "    \n",
        "        cm = confusion_matrix(y_test, y_pred)\n",
        "        plot_confusion_matrix(cm, classes=['Success', 'Failure'], title='Confusion Matrix')\n",
        "    \n",
        "        if hasattr(clf, 'feature_importances_'):\n",
        "            feat_imp = pd.Series(clf.feature_importances_, index=X_train.columns).nlargest(15).sort_values()\n",
        "            plt.figure()\n",
        "            plt.title(\"Most Important Features\")\n",
        "            feat_imp.plot(kind=\"barh\")\n",
        "            plt.show()\n",
        "    \n",
        "    return {\n",
        "        'Train Accuracy': np.mean(cv_results['test_accuracy']),\n",
        "        'Train AUC': np.mean(cv_results['test_roc_auc']),\n",
        "        'Train Recall': np.mean(cv_results['test_recall']),\n",
        "        'Train Precision': np.mean(cv_results['test_precision']),\n",
        "        'Train F1': np.mean(cv_results['test_f1']),\n",
        "        'Test Accuracy': np.mean(cv_results_test['test_accuracy']),\n",
        "        'Test AUC': np.mean(cv_results_test['test_roc_auc']),\n",
        "        'Test Recall': np.mean(cv_results_test['test_recall']),\n",
        "        'Test Precision': np.mean(cv_results_test['test_precision']),\n",
        "        'Test F1': np.mean(cv_results_test['test_f1'])\n",
        "    }\n",
        "\n",
        "# New function to train, evaluate, and plot ROC curves\n",
        "def train_evaluate_models(models: list, X_train: pd.DataFrame, y_train: np.ndarray, X_test: pd.DataFrame, y_test: np.ndarray,\n",
        "                         sampling: bool, results: list, plot_roc: bool = True, verbose:bool = False) -> list:\n",
        "    \"\"\"Train and evaluate models, optionally plot ROC curves, and append results.\"\"\"\n",
        "    sampling_label = 'Yes' if sampling else 'No'\n",
        "    print(f\"\\n=== Training and Evaluation {'with' if sampling else 'without'} sampling ===\")\n",
        "    \n",
        "    # Train and evaluate each model\n",
        "    for model_info in models:\n",
        "        print(f\"\\n--- {model_info['name']} ---\")\n",
        "        clf = get_best_model(model_info['estimator'], model_info['params'], X_train, y_train)\n",
        "        scores = model_fit(clf, X_train, y_train, X_test, y_test)\n",
        "        scores.update({'Model': model_info['name'], 'SMOTE': sampling_label})\n",
        "        results.append(scores)\n",
        "    \n",
        "\n",
        "    if verbose:\n",
        "        # Plot ROC curves if requested\n",
        "        if plot_roc:\n",
        "            plt.figure(figsize=(12, 7))\n",
        "            print(f\"\\n=== ROC Curves {'with' if sampling else 'without'} sampling ===\")\n",
        "            for model_info in models:\n",
        "                model = get_best_model(model_info['estimator'], model_info['params'], X_train, y_train)\n",
        "                model.fit(X_train, y_train)\n",
        "                y_pred_proba = model.predict_proba(X_test)[:, 1]\n",
        "                fpr, tpr, _ = roc_curve(y_test, y_pred_proba)\n",
        "                auc_score = roc_auc_score(y_test, y_pred_proba)\n",
        "                plt.plot(fpr, tpr, label=f\"{model_info['name']} (AUC = {auc_score:.2f})\")\n",
        "            plt.plot([0, 1], [0, 1], 'r--')\n",
        "            plt.xlim([0.0, 1.0])\n",
        "            plt.ylim([0.0, 1.05])\n",
        "            plt.xlabel('1-Specificity (False Positive Rate)')\n",
        "            plt.ylabel('Sensitivity (True Positive Rate)')\n",
        "            plt.title(f'ROC Curves {\"with\" if smote else \"without\"} SMOTE')\n",
        "            plt.legend(loc=\"lower right\")\n",
        "            plt.show()\n",
        "    \n",
        "    return results"
      ]
    },
    {
      "cell_type": "code",
      "execution_count": 201,
      "metadata": {},
      "outputs": [
        {
          "name": "stdout",
          "output_type": "stream",
          "text": [
            "\n",
            "=== Training and Evaluation without sampling ===\n",
            "\n",
            "--- Random Forests ---\n",
            "\n",
            "--- Best Parameters for RandomForestClassifier ---\n",
            "{'max_depth': 10, 'max_features': 'sqrt', 'n_estimators': 150}\n",
            "\n",
            "--- Best Model ---\n",
            "RandomForestClassifier(max_depth=10, n_estimators=150, random_state=42)\n",
            "\n",
            "--- K-Nearest Neighbors ---\n",
            "\n",
            "--- Best Parameters for KNeighborsClassifier ---\n",
            "{'n_neighbors': 7, 'p': 1, 'weights': 'uniform'}\n",
            "\n",
            "--- Best Model ---\n",
            "KNeighborsClassifier(n_neighbors=7, p=1)\n",
            "\n",
            "--- Naive Bayes ---\n",
            "\n",
            "--- Best Parameters for GaussianNB ---\n",
            "{}\n",
            "\n",
            "--- Best Model ---\n",
            "GaussianNB()\n",
            "\n",
            "--- Logistic Regression ---\n",
            "\n",
            "--- Best Parameters for LogisticRegression ---\n",
            "{'penalty': 'l1', 'solver': 'liblinear'}\n",
            "\n",
            "--- Best Model ---\n",
            "LogisticRegression(penalty='l1', random_state=42, solver='liblinear')\n",
            "\n",
            "--- XGBoost ---\n",
            "\n",
            "--- Best Parameters for XGBClassifier ---\n",
            "{}\n",
            "\n",
            "--- Best Model ---\n",
            "XGBClassifier(base_score=None, booster=None, callbacks=None,\n",
            "              colsample_bylevel=None, colsample_bynode=None,\n",
            "              colsample_bytree=None, device=None, early_stopping_rounds=None,\n",
            "              enable_categorical=False, eval_metric=None, feature_types=None,\n",
            "              feature_weights=None, gamma=None, grow_policy=None,\n",
            "              importance_type=None, interaction_constraints=None,\n",
            "              learning_rate=None, max_bin=None, max_cat_threshold=None,\n",
            "              max_cat_to_onehot=None, max_delta_step=None, max_depth=None,\n",
            "              max_leaves=None, min_child_weight=None, missing=nan,\n",
            "              monotone_constraints=None, multi_strategy=None, n_estimators=None,\n",
            "              n_jobs=None, num_parallel_tree=None, ...)\n",
            "\n",
            "=== Training and Evaluation with sampling ===\n",
            "\n",
            "--- Random Forests ---\n",
            "\n",
            "--- Best Parameters for RandomForestClassifier ---\n",
            "{'max_depth': 30, 'max_features': 'sqrt', 'n_estimators': 200}\n",
            "\n",
            "--- Best Model ---\n",
            "RandomForestClassifier(max_depth=30, n_estimators=200, random_state=42)\n",
            "\n",
            "--- K-Nearest Neighbors ---\n",
            "\n",
            "--- Best Parameters for KNeighborsClassifier ---\n",
            "{'n_neighbors': 7, 'p': 1, 'weights': 'distance'}\n",
            "\n",
            "--- Best Model ---\n",
            "KNeighborsClassifier(n_neighbors=7, p=1, weights='distance')\n",
            "\n",
            "--- Naive Bayes ---\n",
            "\n",
            "--- Best Parameters for GaussianNB ---\n",
            "{}\n",
            "\n",
            "--- Best Model ---\n",
            "GaussianNB()\n",
            "\n",
            "--- Logistic Regression ---\n",
            "\n",
            "--- Best Parameters for LogisticRegression ---\n",
            "{'penalty': 'l1', 'solver': 'liblinear'}\n",
            "\n",
            "--- Best Model ---\n",
            "LogisticRegression(penalty='l1', random_state=42, solver='liblinear')\n",
            "\n",
            "--- XGBoost ---\n",
            "\n",
            "--- Best Parameters for XGBClassifier ---\n",
            "{}\n",
            "\n",
            "--- Best Model ---\n",
            "XGBClassifier(base_score=None, booster=None, callbacks=None,\n",
            "              colsample_bylevel=None, colsample_bynode=None,\n",
            "              colsample_bytree=None, device=None, early_stopping_rounds=None,\n",
            "              enable_categorical=False, eval_metric=None, feature_types=None,\n",
            "              feature_weights=None, gamma=None, grow_policy=None,\n",
            "              importance_type=None, interaction_constraints=None,\n",
            "              learning_rate=None, max_bin=None, max_cat_threshold=None,\n",
            "              max_cat_to_onehot=None, max_delta_step=None, max_depth=None,\n",
            "              max_leaves=None, min_child_weight=None, missing=nan,\n",
            "              monotone_constraints=None, multi_strategy=None, n_estimators=None,\n",
            "              n_jobs=None, num_parallel_tree=None, ...)\n"
          ]
        }
      ],
      "source": [
        "# Model Training and Evaluation\n",
        "models = [\n",
        "    {'name': 'Random Forests', 'estimator': RandomForestClassifier(random_state=42), \n",
        "     'params': {'n_estimators': [100, 150, 200], 'max_depth': [10, 30, 50], 'max_features': ['sqrt']}},\n",
        "    {'name': 'K-Nearest Neighbors', 'estimator': KNeighborsClassifier(), \n",
        "     'params': {'n_neighbors': [5, 6, 7], 'p': [1, 2], 'weights': ['uniform', 'distance']}},\n",
        "    {'name': 'Naive Bayes', 'estimator': GaussianNB(), 'params': {}},\n",
        "    {'name': 'Logistic Regression', 'estimator': LogisticRegression(random_state=42), \n",
        "     'params': {'penalty': ['l1', 'l2'], 'solver': ['liblinear']}},\n",
        "    {'name': 'XGBoost', 'estimator': XGBClassifier(random_state=42), 'params': {}}\n",
        "]\n",
        "\n",
        "\n",
        "# Train and evaluate\n",
        "results = []\n",
        "#results = train_evaluate_models(models, x_train_smote, y_train_smote, x_test_processed, y_test, sampling=True, results=results)\n",
        "results = train_evaluate_models(models, x_train_nosmote, y_train_nosmote, x_test_nosmote, y_test_nosmote, sampling=False, results=results, verbose=False)\n",
        "results = train_evaluate_models(models, x_train_ros, y_train_ros, x_test_processed, y_test, sampling=True, results=results, verbose=False)\n"
      ]
    },
    {
      "cell_type": "code",
      "execution_count": 202,
      "metadata": {},
      "outputs": [
        {
          "data": {
            "text/html": [
              "<div>\n",
              "<style scoped>\n",
              "    .dataframe tbody tr th:only-of-type {\n",
              "        vertical-align: middle;\n",
              "    }\n",
              "\n",
              "    .dataframe tbody tr th {\n",
              "        vertical-align: top;\n",
              "    }\n",
              "\n",
              "    .dataframe thead th {\n",
              "        text-align: right;\n",
              "    }\n",
              "</style>\n",
              "<table border=\"1\" class=\"dataframe\">\n",
              "  <thead>\n",
              "    <tr style=\"text-align: right;\">\n",
              "      <th></th>\n",
              "      <th>Train Accuracy</th>\n",
              "      <th>Train AUC</th>\n",
              "      <th>Train Recall</th>\n",
              "      <th>Train Precision</th>\n",
              "      <th>Train F1</th>\n",
              "      <th>Test Accuracy</th>\n",
              "      <th>Test AUC</th>\n",
              "      <th>Test Recall</th>\n",
              "      <th>Test Precision</th>\n",
              "      <th>Test F1</th>\n",
              "      <th>Model</th>\n",
              "      <th>SMOTE</th>\n",
              "    </tr>\n",
              "  </thead>\n",
              "  <tbody>\n",
              "    <tr>\n",
              "      <th>0</th>\n",
              "      <td>0.799822</td>\n",
              "      <td>0.841817</td>\n",
              "      <td>0.509699</td>\n",
              "      <td>0.659765</td>\n",
              "      <td>0.574978</td>\n",
              "      <td>0.778249</td>\n",
              "      <td>0.828558</td>\n",
              "      <td>0.467856</td>\n",
              "      <td>0.607253</td>\n",
              "      <td>0.527572</td>\n",
              "      <td>Random Forests</td>\n",
              "      <td>No</td>\n",
              "    </tr>\n",
              "    <tr>\n",
              "      <th>1</th>\n",
              "      <td>0.763200</td>\n",
              "      <td>0.790655</td>\n",
              "      <td>0.541806</td>\n",
              "      <td>0.556518</td>\n",
              "      <td>0.548924</td>\n",
              "      <td>0.759789</td>\n",
              "      <td>0.785499</td>\n",
              "      <td>0.491892</td>\n",
              "      <td>0.554126</td>\n",
              "      <td>0.520494</td>\n",
              "      <td>K-Nearest Neighbors</td>\n",
              "      <td>No</td>\n",
              "    </tr>\n",
              "    <tr>\n",
              "      <th>2</th>\n",
              "      <td>0.700444</td>\n",
              "      <td>0.819597</td>\n",
              "      <td>0.845485</td>\n",
              "      <td>0.465217</td>\n",
              "      <td>0.600095</td>\n",
              "      <td>0.670223</td>\n",
              "      <td>0.800623</td>\n",
              "      <td>0.823495</td>\n",
              "      <td>0.437120</td>\n",
              "      <td>0.570887</td>\n",
              "      <td>Naive Bayes</td>\n",
              "      <td>No</td>\n",
              "    </tr>\n",
              "    <tr>\n",
              "      <th>3</th>\n",
              "      <td>0.801956</td>\n",
              "      <td>0.845574</td>\n",
              "      <td>0.545151</td>\n",
              "      <td>0.653393</td>\n",
              "      <td>0.594164</td>\n",
              "      <td>0.781101</td>\n",
              "      <td>0.827374</td>\n",
              "      <td>0.489333</td>\n",
              "      <td>0.609491</td>\n",
              "      <td>0.542497</td>\n",
              "      <td>Logistic Regression</td>\n",
              "      <td>No</td>\n",
              "    </tr>\n",
              "    <tr>\n",
              "      <th>4</th>\n",
              "      <td>0.783289</td>\n",
              "      <td>0.825631</td>\n",
              "      <td>0.516388</td>\n",
              "      <td>0.608862</td>\n",
              "      <td>0.558798</td>\n",
              "      <td>0.770422</td>\n",
              "      <td>0.812060</td>\n",
              "      <td>0.481225</td>\n",
              "      <td>0.582547</td>\n",
              "      <td>0.526910</td>\n",
              "      <td>XGBoost</td>\n",
              "      <td>No</td>\n",
              "    </tr>\n",
              "    <tr>\n",
              "      <th>5</th>\n",
              "      <td>0.902906</td>\n",
              "      <td>0.974983</td>\n",
              "      <td>0.972397</td>\n",
              "      <td>0.853898</td>\n",
              "      <td>0.908967</td>\n",
              "      <td>0.778961</td>\n",
              "      <td>0.819976</td>\n",
              "      <td>0.443820</td>\n",
              "      <td>0.616657</td>\n",
              "      <td>0.514988</td>\n",
              "      <td>Random Forests</td>\n",
              "      <td>Yes</td>\n",
              "    </tr>\n",
              "    <tr>\n",
              "      <th>6</th>\n",
              "      <td>0.833414</td>\n",
              "      <td>0.961906</td>\n",
              "      <td>0.976998</td>\n",
              "      <td>0.758947</td>\n",
              "      <td>0.854205</td>\n",
              "      <td>0.742717</td>\n",
              "      <td>0.772453</td>\n",
              "      <td>0.457117</td>\n",
              "      <td>0.519141</td>\n",
              "      <td>0.485245</td>\n",
              "      <td>K-Nearest Neighbors</td>\n",
              "      <td>Yes</td>\n",
              "    </tr>\n",
              "    <tr>\n",
              "      <th>7</th>\n",
              "      <td>0.740920</td>\n",
              "      <td>0.819795</td>\n",
              "      <td>0.854722</td>\n",
              "      <td>0.696398</td>\n",
              "      <td>0.767437</td>\n",
              "      <td>0.670223</td>\n",
              "      <td>0.800623</td>\n",
              "      <td>0.823495</td>\n",
              "      <td>0.437120</td>\n",
              "      <td>0.570887</td>\n",
              "      <td>Naive Bayes</td>\n",
              "      <td>Yes</td>\n",
              "    </tr>\n",
              "    <tr>\n",
              "      <th>8</th>\n",
              "      <td>0.767676</td>\n",
              "      <td>0.847106</td>\n",
              "      <td>0.803874</td>\n",
              "      <td>0.749682</td>\n",
              "      <td>0.775789</td>\n",
              "      <td>0.781101</td>\n",
              "      <td>0.827374</td>\n",
              "      <td>0.489333</td>\n",
              "      <td>0.609491</td>\n",
              "      <td>0.542497</td>\n",
              "      <td>Logistic Regression</td>\n",
              "      <td>Yes</td>\n",
              "    </tr>\n",
              "    <tr>\n",
              "      <th>9</th>\n",
              "      <td>0.873002</td>\n",
              "      <td>0.931327</td>\n",
              "      <td>0.942857</td>\n",
              "      <td>0.827310</td>\n",
              "      <td>0.881165</td>\n",
              "      <td>0.770422</td>\n",
              "      <td>0.812060</td>\n",
              "      <td>0.481225</td>\n",
              "      <td>0.582547</td>\n",
              "      <td>0.526910</td>\n",
              "      <td>XGBoost</td>\n",
              "      <td>Yes</td>\n",
              "    </tr>\n",
              "  </tbody>\n",
              "</table>\n",
              "</div>"
            ],
            "text/plain": [
              "   Train Accuracy  Train AUC  Train Recall  Train Precision  Train F1  \\\n",
              "0        0.799822   0.841817      0.509699         0.659765  0.574978   \n",
              "1        0.763200   0.790655      0.541806         0.556518  0.548924   \n",
              "2        0.700444   0.819597      0.845485         0.465217  0.600095   \n",
              "3        0.801956   0.845574      0.545151         0.653393  0.594164   \n",
              "4        0.783289   0.825631      0.516388         0.608862  0.558798   \n",
              "5        0.902906   0.974983      0.972397         0.853898  0.908967   \n",
              "6        0.833414   0.961906      0.976998         0.758947  0.854205   \n",
              "7        0.740920   0.819795      0.854722         0.696398  0.767437   \n",
              "8        0.767676   0.847106      0.803874         0.749682  0.775789   \n",
              "9        0.873002   0.931327      0.942857         0.827310  0.881165   \n",
              "\n",
              "   Test Accuracy  Test AUC  Test Recall  Test Precision   Test F1  \\\n",
              "0       0.778249  0.828558     0.467856        0.607253  0.527572   \n",
              "1       0.759789  0.785499     0.491892        0.554126  0.520494   \n",
              "2       0.670223  0.800623     0.823495        0.437120  0.570887   \n",
              "3       0.781101  0.827374     0.489333        0.609491  0.542497   \n",
              "4       0.770422  0.812060     0.481225        0.582547  0.526910   \n",
              "5       0.778961  0.819976     0.443820        0.616657  0.514988   \n",
              "6       0.742717  0.772453     0.457117        0.519141  0.485245   \n",
              "7       0.670223  0.800623     0.823495        0.437120  0.570887   \n",
              "8       0.781101  0.827374     0.489333        0.609491  0.542497   \n",
              "9       0.770422  0.812060     0.481225        0.582547  0.526910   \n",
              "\n",
              "                 Model SMOTE  \n",
              "0       Random Forests    No  \n",
              "1  K-Nearest Neighbors    No  \n",
              "2          Naive Bayes    No  \n",
              "3  Logistic Regression    No  \n",
              "4              XGBoost    No  \n",
              "5       Random Forests   Yes  \n",
              "6  K-Nearest Neighbors   Yes  \n",
              "7          Naive Bayes   Yes  \n",
              "8  Logistic Regression   Yes  \n",
              "9              XGBoost   Yes  "
            ]
          },
          "execution_count": 202,
          "metadata": {},
          "output_type": "execute_result"
        }
      ],
      "source": [
        "pd.DataFrame(results)"
      ]
    },
    {
      "cell_type": "markdown",
      "metadata": {
        "id": "DURSAhRZAz1c"
      },
      "source": [
        "## Random Forests"
      ]
    },
    {
      "cell_type": "code",
      "execution_count": 128,
      "metadata": {
        "colab": {
          "base_uri": "https://localhost:8080/",
          "height": 1236
        },
        "id": "ZH5imYkeAsv3",
        "outputId": "6cffb574-4d6b-492c-cc3d-08306fdf829a"
      },
      "outputs": [
        {
          "ename": "TypeError",
          "evalue": "BaseSearchCV.fit() takes from 2 to 3 positional arguments but 5 were given",
          "output_type": "error",
          "traceback": [
            "\u001b[31m---------------------------------------------------------------------------\u001b[39m",
            "\u001b[31mTypeError\u001b[39m                                 Traceback (most recent call last)",
            "\u001b[36mCell\u001b[39m\u001b[36m \u001b[39m\u001b[32mIn[128]\u001b[39m\u001b[32m, line 8\u001b[39m\n\u001b[32m      1\u001b[39m classifier_rf = RandomForestClassifier(random_state = \u001b[32m42\u001b[39m)\n\u001b[32m      2\u001b[39m parameters = {\n\u001b[32m      3\u001b[39m               \u001b[33m'\u001b[39m\u001b[33mn_estimators\u001b[39m\u001b[33m'\u001b[39m: [\u001b[32m100\u001b[39m, \u001b[32m150\u001b[39m, \u001b[32m200\u001b[39m],\n\u001b[32m      4\u001b[39m               \u001b[33m'\u001b[39m\u001b[33mmax_depth\u001b[39m\u001b[33m'\u001b[39m:[\u001b[32m10\u001b[39m, \u001b[32m30\u001b[39m, \u001b[32m50\u001b[39m],\n\u001b[32m      5\u001b[39m               \u001b[33m'\u001b[39m\u001b[33mmax_features\u001b[39m\u001b[33m'\u001b[39m: [\u001b[33m'\u001b[39m\u001b[33msqrt\u001b[39m\u001b[33m'\u001b[39m]\n\u001b[32m      6\u001b[39m               }\n\u001b[32m----> \u001b[39m\u001b[32m8\u001b[39m clf_rf = \u001b[43mget_best_model\u001b[49m\u001b[43m(\u001b[49m\u001b[43mclassifier_rf\u001b[49m\u001b[43m,\u001b[49m\u001b[43m \u001b[49m\u001b[43mparameters\u001b[49m\u001b[43m,\u001b[49m\u001b[43m \u001b[49m\u001b[43mx_train_smote\u001b[49m\u001b[43m,\u001b[49m\u001b[43m \u001b[49m\u001b[43my_train_smote\u001b[49m\u001b[43m,\u001b[49m\u001b[43m \u001b[49m\u001b[43mx_test_processed\u001b[49m\u001b[43m,\u001b[49m\u001b[43m \u001b[49m\u001b[43my_test\u001b[49m\u001b[43m)\u001b[49m\n\u001b[32m      9\u001b[39m model_fit(model = clf_rf, feature_imp = \u001b[38;5;28;01mTrue\u001b[39;00m)\n",
            "\u001b[36mCell\u001b[39m\u001b[36m \u001b[39m\u001b[32mIn[125]\u001b[39m\u001b[32m, line 3\u001b[39m, in \u001b[36mget_best_model\u001b[39m\u001b[34m(estimator, params_grid, x_train, y_train, x_test, y_test)\u001b[39m\n\u001b[32m      1\u001b[39m \u001b[38;5;28;01mdef\u001b[39;00m\u001b[38;5;250m \u001b[39m\u001b[34mget_best_model\u001b[39m(estimator, params_grid, x_train, y_train, x_test, y_test):\n\u001b[32m      2\u001b[39m     model = GridSearchCV(estimator=estimator, param_grid=params_grid, cv=\u001b[32m3\u001b[39m, scoring=\u001b[33m'\u001b[39m\u001b[33maccuracy\u001b[39m\u001b[33m'\u001b[39m, n_jobs=-\u001b[32m1\u001b[39m)\n\u001b[32m----> \u001b[39m\u001b[32m3\u001b[39m     \u001b[43mmodel\u001b[49m\u001b[43m.\u001b[49m\u001b[43mfit\u001b[49m\u001b[43m(\u001b[49m\u001b[43mx_train\u001b[49m\u001b[43m,\u001b[49m\u001b[43m \u001b[49m\u001b[43my_train\u001b[49m\u001b[43m,\u001b[49m\u001b[43m \u001b[49m\u001b[43mx_test\u001b[49m\u001b[43m,\u001b[49m\u001b[43m \u001b[49m\u001b[43my_test\u001b[49m\u001b[43m)\u001b[49m\n\u001b[32m      4\u001b[39m     \u001b[38;5;28mprint\u001b[39m(\u001b[33m'\u001b[39m\u001b[38;5;130;01m\\n\u001b[39;00m\u001b[33m--- Best Parameters -----------------------------\u001b[39m\u001b[33m'\u001b[39m)\n\u001b[32m      5\u001b[39m     \u001b[38;5;28mprint\u001b[39m(model.best_params_)\n",
            "\u001b[36mFile \u001b[39m\u001b[32mc:\\Users\\Usuario\\Desktop\\Projects\\E2E_customer_churn_analysis\\venv\\Lib\\site-packages\\sklearn\\base.py:1389\u001b[39m, in \u001b[36m_fit_context.<locals>.decorator.<locals>.wrapper\u001b[39m\u001b[34m(estimator, *args, **kwargs)\u001b[39m\n\u001b[32m   1382\u001b[39m     estimator._validate_params()\n\u001b[32m   1384\u001b[39m \u001b[38;5;28;01mwith\u001b[39;00m config_context(\n\u001b[32m   1385\u001b[39m     skip_parameter_validation=(\n\u001b[32m   1386\u001b[39m         prefer_skip_nested_validation \u001b[38;5;129;01mor\u001b[39;00m global_skip_validation\n\u001b[32m   1387\u001b[39m     )\n\u001b[32m   1388\u001b[39m ):\n\u001b[32m-> \u001b[39m\u001b[32m1389\u001b[39m     \u001b[38;5;28;01mreturn\u001b[39;00m \u001b[43mfit_method\u001b[49m\u001b[43m(\u001b[49m\u001b[43mestimator\u001b[49m\u001b[43m,\u001b[49m\u001b[43m \u001b[49m\u001b[43m*\u001b[49m\u001b[43margs\u001b[49m\u001b[43m,\u001b[49m\u001b[43m \u001b[49m\u001b[43m*\u001b[49m\u001b[43m*\u001b[49m\u001b[43mkwargs\u001b[49m\u001b[43m)\u001b[49m\n",
            "\u001b[31mTypeError\u001b[39m: BaseSearchCV.fit() takes from 2 to 3 positional arguments but 5 were given"
          ]
        }
      ],
      "source": [
        "classifier_rf = RandomForestClassifier(random_state = 42)\n",
        "parameters = {\n",
        "              'n_estimators': [100, 150, 200],\n",
        "              'max_depth':[10, 30, 50],\n",
        "              'max_features': ['sqrt']\n",
        "              }\n",
        "\n",
        "clf_rf = get_best_model(classifier_rf, parameters, x_train_smote, y_train_smote, x_test_processed, y_test)\n",
        "model_fit(model = clf_rf, feature_imp = True)"
      ]
    },
    {
      "cell_type": "markdown",
      "metadata": {
        "id": "uLkH-xZJBYaI"
      },
      "source": [
        "## K-Nearest Neighbors KNN"
      ]
    },
    {
      "cell_type": "code",
      "execution_count": 89,
      "metadata": {
        "colab": {
          "base_uri": "https://localhost:8080/",
          "height": 806
        },
        "id": "QwYOKKDvBXPx",
        "outputId": "38d8b1f2-56a9-4c76-a665-687a2b32f843"
      },
      "outputs": [
        {
          "name": "stdout",
          "output_type": "stream",
          "text": [
            "\n",
            "--- Best Parameters-----------------------------\n",
            "{'n_neighbors': 6, 'p': 1, 'weights': 'distance'}\n",
            "\n",
            "--- Best Model---------------------------------\n",
            "KNeighborsClassifier(n_neighbors=6, p=1, weights='distance')\n",
            "\n",
            "--- Train Set -----------------------------\n",
            "Accuracy: 0.83511 +/- 0.0290\n",
            "AUC: 0.90483 +/- 0.0331\n",
            "\n",
            "--- Validation Set -----------------------------\n",
            "Accuracy: 0.70718 +/- 0.0153\n",
            "AUC: 0.72265 +/- 0.0045\n",
            "-----------------------------------------------\n"
          ]
        },
        {
          "data": {
            "image/png": "[encoded data removed]",
            "text/plain": [
              "<Figure size 640x480 with 2 Axes>"
            ]
          },
          "metadata": {},
          "output_type": "display_data"
        },
        {
          "name": "stdout",
          "output_type": "stream",
          "text": [
            " \n"
          ]
        }
      ],
      "source": [
        "knn = KNeighborsClassifier()\n",
        "parameters = {'n_neighbors': [5,6,7],\n",
        "              'p':[1,2],\n",
        "              'weights':['uniform', 'distance']}\n",
        "\n",
        "clf_knn = get_best_model(knn, parameters)\n",
        "model_fit(model = clf_knn, feature_imp = False)"
      ]
    },
    {
      "cell_type": "markdown",
      "metadata": {
        "id": "_ERlgLcRBdpr"
      },
      "source": [
        "## Naive Bayes"
      ]
    },
    {
      "cell_type": "code",
      "execution_count": 90,
      "metadata": {
        "colab": {
          "base_uri": "https://localhost:8080/",
          "height": 702
        },
        "id": "0DNbrbGtBb2F",
        "outputId": "d6d3eb42-f380-4b5d-e7a7-c345a90660c4"
      },
      "outputs": [
        {
          "name": "stdout",
          "output_type": "stream",
          "text": [
            "\n",
            "--- Train Set -----------------------------\n",
            "Accuracy: 0.76041 +/- 0.0059\n",
            "AUC: 0.83446 +/- 0.0072\n",
            "\n",
            "--- Validation Set -----------------------------\n",
            "Accuracy: 0.66667 +/- 0.0155\n",
            "AUC: 0.80756 +/- 0.0108\n",
            "-----------------------------------------------\n"
          ]
        },
        {
          "data": {
            "image/png": "[encoded data removed]",
            "text/plain": [
              "<Figure size 640x480 with 2 Axes>"
            ]
          },
          "metadata": {},
          "output_type": "display_data"
        },
        {
          "name": "stdout",
          "output_type": "stream",
          "text": [
            " \n"
          ]
        }
      ],
      "source": [
        "clf_nb = GaussianNB()\n",
        "model_fit(model = clf_nb, feature_imp = False)"
      ]
    },
    {
      "cell_type": "markdown",
      "metadata": {
        "id": "o7yek7efBjt3"
      },
      "source": [
        "## Logistic Regression"
      ]
    },
    {
      "cell_type": "code",
      "execution_count": 91,
      "metadata": {
        "colab": {
          "base_uri": "https://localhost:8080/",
          "height": 806
        },
        "id": "OszGbIw2Bg9z",
        "outputId": "fd645208-3a0e-4ca9-8b86-4b29467a3b69"
      },
      "outputs": [
        {
          "name": "stdout",
          "output_type": "stream",
          "text": [
            "\n",
            "--- Best Parameters-----------------------------\n",
            "{'penalty': 'l2'}\n",
            "\n",
            "--- Best Model---------------------------------\n",
            "LogisticRegression(random_state=42)\n",
            "\n",
            "--- Train Set -----------------------------\n",
            "Accuracy: 0.83402 +/- 0.0729\n",
            "AUC: 0.93075 +/- 0.0618\n",
            "\n",
            "--- Validation Set -----------------------------\n",
            "Accuracy: 0.79459 +/- 0.0156\n",
            "AUC: 0.82203 +/- 0.0118\n",
            "-----------------------------------------------\n"
          ]
        },
        {
          "data": {
            "image/png": "[encoded data removed]",
            "text/plain": [
              "<Figure size 640x480 with 2 Axes>"
            ]
          },
          "metadata": {},
          "output_type": "display_data"
        },
        {
          "name": "stdout",
          "output_type": "stream",
          "text": [
            " \n"
          ]
        }
      ],
      "source": [
        "lg = LogisticRegression(random_state=42)\n",
        "parameters = {\n",
        "              'penalty':['l1','l2']}\n",
        "clf_lg = get_best_model(lg,parameters)\n",
        "model_fit(model=clf_lg, feature_imp=False)\n"
      ]
    },
    {
      "cell_type": "markdown",
      "metadata": {
        "id": "uybRXTi7Botl"
      },
      "source": [
        "## XGBoost"
      ]
    },
    {
      "cell_type": "code",
      "execution_count": 92,
      "metadata": {
        "colab": {
          "base_uri": "https://localhost:8080/",
          "height": 1137
        },
        "id": "ISqYnlc2BmCW",
        "outputId": "c963fb48-fc84-4f02-aeee-34b8708e0e09"
      },
      "outputs": [
        {
          "name": "stdout",
          "output_type": "stream",
          "text": [
            "\n",
            "--- Train Set -----------------------------\n",
            "Accuracy: 0.84007 +/- 0.0784\n",
            "AUC: 0.93084 +/- 0.0618\n",
            "\n",
            "--- Validation Set -----------------------------\n",
            "Accuracy: 0.75623 +/- 0.0179\n",
            "AUC: 0.77646 +/- 0.0138\n",
            "-----------------------------------------------\n"
          ]
        },
        {
          "data": {
            "image/png": "[encoded data removed]",
            "text/plain": [
              "<Figure size 640x480 with 2 Axes>"
            ]
          },
          "metadata": {},
          "output_type": "display_data"
        },
        {
          "name": "stdout",
          "output_type": "stream",
          "text": [
            " \n"
          ]
        },
        {
          "data": {
            "image/png": "[encoded data removed]",
            "text/plain": [
              "<Figure size 640x480 with 1 Axes>"
            ]
          },
          "metadata": {},
          "output_type": "display_data"
        }
      ],
      "source": [
        "clf_xgb = XGBClassifier(random_state = 42)\n",
        "model_fit(model = clf_xgb, feature_imp = True)"
      ]
    },
    {
      "cell_type": "markdown",
      "metadata": {
        "id": "aZkVH9g3B2El"
      },
      "source": [
        "# Evaluation"
      ]
    },
    {
      "cell_type": "code",
      "execution_count": null,
      "metadata": {
        "colab": {
          "base_uri": "https://localhost:8080/",
          "height": 641
        },
        "id": "da5ZUZxyBtAD",
        "outputId": "7917c8d4-b61d-4b46-b993-139a45e9a31f"
      },
      "outputs": [
        {
          "data": {
            "image/png": "[encoded data removed]",
            "text/plain": [
              "<Figure size 1200x700 with 1 Axes>"
            ]
          },
          "metadata": {},
          "output_type": "display_data"
        }
      ],
      "source": [
        "plt.figure(figsize = (12, 7))\n",
        "models = [\n",
        "{\n",
        "    'label': 'KNN',\n",
        "    'model': clf_knn,\n",
        "},\n",
        "{\n",
        "    'label': 'Naive Bayes',\n",
        "    'model': clf_nb,\n",
        "},\n",
        "{\n",
        "    'label': 'Logistic Regression',\n",
        "    'model': clf_lg,\n",
        "},\n",
        "{\n",
        "    'label': 'Random Forests',\n",
        "    'model': clf_rf,\n",
        "},\n",
        "{\n",
        "    'label': 'Gradient Boosting',\n",
        "    'model': clf_xgb,\n",
        "}\n",
        "]\n",
        "\n",
        "# Below for loop iterates through your models list\n",
        "for m in models:\n",
        "    model = m['model'] # select the model\n",
        "    model.fit(x_train_smote_smote, y_train_smote) # train the model\n",
        "    y_pred=model.predict(x_test) # predict the test data\n",
        "# Compute False postive rate, and True positive rate\n",
        "    fpr, tpr, thresholds = metrics.roc_curve(y_test, model.predict_proba(x_test)[:,1])\n",
        "# Calculate Area under the curve to display on the plot\n",
        "    auc = metrics.roc_auc_score(y_test,model.predict(x_test))\n",
        "# Now, plot the computed values\n",
        "    plt.plot(fpr, tpr, label='%s ROC (area = %0.2f)' % (m['label'], auc))\n",
        "# Custom settings for the plot\n",
        "plt.plot([0, 1], [0, 1],'r--')\n",
        "plt.xlim([0.0, 1.0])\n",
        "plt.ylim([0.0, 1.05])\n",
        "plt.xlabel('1-Specificity(False Positive Rate)')\n",
        "plt.ylabel('Sensitivity(True Positive Rate)')\n",
        "plt.title('Models AUC Chart')\n",
        "plt.legend(loc=\"lower right\")\n",
        "plt.show()   # Display"
      ]
    },
    {
      "cell_type": "markdown",
      "metadata": {
        "id": "-4iKL-8DCP03"
      },
      "source": [
        "## K-Fold Cross Validation"
      ]
    },
    {
      "cell_type": "code",
      "execution_count": 175,
      "metadata": {
        "colab": {
          "base_uri": "https://localhost:8080/",
          "height": 0
        },
        "id": "6qTdEWfnCR1F",
        "outputId": "f41ed17a-bf51-48d0-f589-300027709fb4"
      },
      "outputs": [
        {
          "data": {
            "text/plain": [
              "Logistic Regression    0.832026\n",
              "XG Boost               0.806870\n",
              "Random Forests         0.804928\n",
              "KNN                    0.762336\n",
              "Naive Bayes            0.754107\n",
              "dtype: float64"
            ]
          },
          "execution_count": 175,
          "metadata": {},
          "output_type": "execute_result"
        }
      ],
      "source": [
        "# Compare model performance(KFold)\n",
        "clfs= [clf_knn, clf_nb, clf_lg, clf_rf, clf_xgb]\n",
        "index =['KNN', 'Naive Bayes', 'Logistic Regression','Random Forests', 'XG Boost']\n",
        "scores=[]\n",
        "for clf in clfs:\n",
        "    score = np.mean(cross_val_score(clf,x_test,y_test,cv=5,scoring = 'accuracy'))\n",
        "    scores = np.append(scores,score)\n",
        "models = pd.Series(scores,index=index)\n",
        "models.sort_values(ascending=False)"
      ]
    },
    {
      "cell_type": "markdown",
      "metadata": {},
      "source": [
        "## Selected Model: Logistic Regression\n",
        "\n",
        "After careful evaluation of the performance metrics for Random Forests, K-Nearest Neighbors (KNN), Naive Bayes, Logistic Regression, and XGBoost, I have decided to choose the **Logistic Regression** model for the customer churn prediction task. The decision is based on the following reasons, which align with the goal of maximizing predictive performance while ensuring practical deployment and business impact:\n",
        "\n",
        "1. **Highest Accuracy and Robustness**:\n",
        "   Logistic Regression achieved the highest K-Fold cross-validation accuracy of **0.832026**, surpassing XGBoost (0.806870), Random Forests (0.804928), KNN (0.762336), and Naive Bayes (0.754107). Its validation set accuracy of **0.83203 ± 0.0199** is also the highest, indicating strong and consistent performance on unseen data. High accuracy is critical for reliable churn predictions, ensuring the company can trust the model’s outputs for retention strategies.\n",
        "\n",
        "2. **Superior Discrimination (AUC)**:\n",
        "   The model’s validation AUC of **0.91717 ± 0.0137** is the highest among all models, compared to XGBoost (0.88606), Random Forests (0.87634), KNN, and Naive Bayes. The ROC AUC of **0.84** further supports its strong ability to discriminate between churned and non-churned customers. A high AUC ensures the model effectively identifies at-risk customers, which is essential for targeting retention campaigns.\n",
        "\n",
        "3. **Balanced False Positives and Negatives**:\n",
        "   The confusion matrix for Logistic Regression shows **872 true positives (TP)**, **165 false positives (FP)**, **165 false negatives (FN)**, and **864 true negatives (TN)**. Compared to other models:\n",
        "   - **False Negatives (FN)**: Logistic Regression (165 FN) performs better than Random Forests (136 FN), KNN (135 FN), Naive Bayes (148 FN), and is close to XGBoost (153 FN). Low FN ensures fewer churned customers are missed, maximizing retention opportunities.\n",
        "   - **False Positives (FP)**: With 165 FP, it outperforms KNN (233 FP) and Naive Bayes (352 FP), and is competitive with XGBoost (164 FP) and Random Forests (174 FP). Low FP prevents wasting resources on non-churners.\n",
        "   This balance is crucial for optimizing retention campaign costs and effectiveness.\n",
        "\n",
        "4. **Interpretability and Scalability**:\n",
        "   Logistic Regression offers inherent interpretability through its coefficients, which directly indicate the impact of each feature on churn probability (as saved in `feat_imp.csv`). This transparency enables the company to understand key churn drivers (e.g., contract length, payment issues) and design targeted interventions. Unlike ensemble methods like XGBoost or Random Forests, Logistic Regression is computationally lightweight and easier to deploy in production, making it scalable for real-time predictions in CRM systems.\n",
        "\n",
        "5. **Practical Business Alignment**:\n",
        "   The model’s high accuracy and AUC, combined with its balanced error rates, ensure it delivers actionable predictions for customer retention. By minimizing missed churners (FN) and unnecessary interventions (FP), Logistic Regression maximizes ROI for retention campaigns. Its feature importance insights (from coefficients) further support strategic decisions, such as product or pricing improvements, enhancing long-term customer satisfaction.\n",
        "\n",
        "### Supporting Metrics\n",
        "The following metrics informed the decision:\n",
        "\n",
        "| Model              | K-Fold Accuracy | Validation Accuracy | Validation AUC | ROC AUC | False Negatives | False Positives |\n",
        "|--------------------|-----------------|---------------------|----------------|---------|-----------------|-----------------|\n",
        "| Logistic Regression | **0.832026**    | **0.83203 ± 0.0199** | **0.91717 ± 0.0137** | 0.84    | 165             | 165             |\n",
        "| XGBoost            | 0.806870        | 0.80687 ± 0.0053    | 0.88606 ± 0.0115 | **0.85** | 153             | 164             |\n",
        "| Random Forests     | 0.804928        | 0.80493 ± 0.0121    | 0.87634 ± 0.0139 | **0.85** | 136             | 174             |\n",
        "| KNN                | 0.762336        | -                   | -              | 0.82    | 135             | 233             |\n",
        "| Naive Bayes        | 0.754107        | -                   | -              | 0.76    | 148             | 352             |\n"
      ]
    },
    {
      "cell_type": "code",
      "execution_count": 176,
      "metadata": {
        "id": "V9SJSYafCWRA"
      },
      "outputs": [],
      "source": [
        "filename = 'model.sav'\n",
        "\n",
        "#pickle.dump(clf_xgb, open(filename, 'wb'))\n",
        "pickle.dump(clf_lg, open(filename, 'wb'))"
      ]
    },
    {
      "cell_type": "markdown",
      "metadata": {},
      "source": [
        "# Analysis"
      ]
    },
    {
      "cell_type": "markdown",
      "metadata": {},
      "source": [
        "### Feature Importances\n",
        "\n",
        "- **Positive coefficients**: Increase the likelihood of churn as the feature value increases.\n",
        "\n",
        "- **Negative coefficients**: Decrease the likelihood of churn as the feature value increases.\n",
        "\n",
        "- **Larger absolute coefficients**: Indicate stronger influence on churn prediction."
      ]
    },
    {
      "cell_type": "code",
      "execution_count": 177,
      "metadata": {},
      "outputs": [],
      "source": [
        "# Extract feature importances (coefficients)\n",
        "feature_names = x.columns\n",
        "coefficients = clf_lg.coef_[0]  # For binary classification, coef_ is 1D\n",
        "importances = np.abs(coefficients)  # Absolute values for importance\n",
        "\n",
        "# Create a DataFrame for visualization\n",
        "importance_df = pd.DataFrame({\n",
        "    'Feature': feature_names,\n",
        "    'Coefficient': coefficients,\n",
        "    'Importance': importances\n",
        "})\n",
        "top_20 = importance_df.sort_values(by='Importance', ascending=False).head(20)\n",
        "top_20 = top_20.sort_values(by='Importance', ascending=True)  \n"
      ]
    },
    {
      "cell_type": "code",
      "execution_count": 178,
      "metadata": {},
      "outputs": [
        {
          "data": {
            "application/vnd.plotly.v1+json": {
              "config": {
                "plotlyServerURL": "https://plot.ly"
              },
              "data": [
                {
                  "hovertemplate": "Top features by importance=%{marker.color}<br>Feature=%{y}<extra></extra>",
                  "legendgroup": "",
                  "marker": {
                    "color": {
                      "bdata": "NbiVQ7HTAkDe2mBd3tkCQF84Me2L8gJAqiAKgCb+AkDi+ZBV2MsDQHNsBlrSLgRAiI4GCj03BEBJZv6HRIcEQByAhAjuxQRAl2ia0lLrBEByeBvqwwwFQFAWSgbzEgVAi/T99SwbBUCWQpVlIHkFQDjhC0oQiwVAI/aSGdIKBkCCz4WBlLIGQIS7i0FLVQhAxSGZq1PTCEAt3MGwIPQOQA==",
                      "dtype": "f8"
                    },
                    "coloraxis": "coloraxis",
                    "pattern": {
                      "shape": ""
                    }
                  },
                  "name": "",
                  "orientation": "h",
                  "showlegend": false,
                  "textposition": "auto",
                  "type": "bar",
                  "x": {
                    "bdata": "NbiVQ7HTAkDe2mBd3tkCQF84Me2L8gJAqiAKgCb+AkDi+ZBV2MsDQHNsBlrSLgRAiI4GCj03BEBJZv6HRIcEQByAhAjuxQRAl2ia0lLrBEByeBvqwwwFQFAWSgbzEgVAi/T99SwbBUCWQpVlIHkFQDjhC0oQiwVAI/aSGdIKBkCCz4WBlLIGQIS7i0FLVQhAxSGZq1PTCEAt3MGwIPQOQA==",
                    "dtype": "f8"
                  },
                  "xaxis": "x",
                  "y": [
                    "dependents_No",
                    "onlinebackup_Yes",
                    "paymentmethod_Electronic check",
                    "multiplelines_Yes",
                    "onlinesecurity_Yes",
                    "seniorcitizen_Yes",
                    "techsupport_Yes",
                    "multiplelines_No",
                    "gender_Male",
                    "contract_One year",
                    "gender_Female",
                    "seniorcitizen_No",
                    "partner_No",
                    "paymentmethod_Mailed check",
                    "partner_Yes",
                    "dependents_Yes",
                    "paymentmethod_Bank transfer (automatic)",
                    "paymentmethod_Credit card (automatic)",
                    "contract_Two year",
                    "tenure"
                  ],
                  "yaxis": "y"
                }
              ],
              "layout": {
                "barmode": "relative",
                "coloraxis": {
                  "colorbar": {
                    "title": {
                      "text": "Top features by importance"
                    }
                  },
                  "colorscale": [
                    [
                      0,
                      "#440154"
                    ],
                    [
                      0.1111111111111111,
                      "#482878"
                    ],
                    [
                      0.2222222222222222,
                      "#3e4989"
                    ],
                    [
                      0.3333333333333333,
                      "#31688e"
                    ],
                    [
                      0.4444444444444444,
                      "#26828e"
                    ],
                    [
                      0.5555555555555556,
                      "#1f9e89"
                    ],
                    [
                      0.6666666666666666,
                      "#35b779"
                    ],
                    [
                      0.7777777777777778,
                      "#6ece58"
                    ],
                    [
                      0.8888888888888888,
                      "#b5de2b"
                    ],
                    [
                      1,
                      "#fde725"
                    ]
                  ]
                },
                "height": 600,
                "legend": {
                  "tracegroupgap": 0
                },
                "showlegend": true,
                "template": {
                  "data": {
                    "bar": [
                      {
                        "error_x": {
                          "color": "#f2f5fa"
                        },
                        "error_y": {
                          "color": "#f2f5fa"
                        },
                        "marker": {
                          "line": {
                            "color": "rgb(17,17,17)",
                            "width": 0.5
                          },
                          "pattern": {
                            "fillmode": "overlay",
                            "size": 10,
                            "solidity": 0.2
                          }
                        },
                        "type": "bar"
                      }
                    ],
                    "barpolar": [
                      {
                        "marker": {
                          "line": {
                            "color": "rgb(17,17,17)",
                            "width": 0.5
                          },
                          "pattern": {
                            "fillmode": "overlay",
                            "size": 10,
                            "solidity": 0.2
                          }
                        },
                        "type": "barpolar"
                      }
                    ],
                    "carpet": [
                      {
                        "aaxis": {
                          "endlinecolor": "#A2B1C6",
                          "gridcolor": "#506784",
                          "linecolor": "#506784",
                          "minorgridcolor": "#506784",
                          "startlinecolor": "#A2B1C6"
                        },
                        "baxis": {
                          "endlinecolor": "#A2B1C6",
                          "gridcolor": "#506784",
                          "linecolor": "#506784",
                          "minorgridcolor": "#506784",
                          "startlinecolor": "#A2B1C6"
                        },
                        "type": "carpet"
                      }
                    ],
                    "choropleth": [
                      {
                        "colorbar": {
                          "outlinewidth": 0,
                          "ticks": ""
                        },
                        "type": "choropleth"
                      }
                    ],
                    "contour": [
                      {
                        "colorbar": {
                          "outlinewidth": 0,
                          "ticks": ""
                        },
                        "colorscale": [
                          [
                            0,
                            "#0d0887"
                          ],
                          [
                            0.1111111111111111,
                            "#46039f"
                          ],
                          [
                            0.2222222222222222,
                            "#7201a8"
                          ],
                          [
                            0.3333333333333333,
                            "#9c179e"
                          ],
                          [
                            0.4444444444444444,
                            "#bd3786"
                          ],
                          [
                            0.5555555555555556,
                            "#d8576b"
                          ],
                          [
                            0.6666666666666666,
                            "#ed7953"
                          ],
                          [
                            0.7777777777777778,
                            "#fb9f3a"
                          ],
                          [
                            0.8888888888888888,
                            "#fdca26"
                          ],
                          [
                            1,
                            "#f0f921"
                          ]
                        ],
                        "type": "contour"
                      }
                    ],
                    "contourcarpet": [
                      {
                        "colorbar": {
                          "outlinewidth": 0,
                          "ticks": ""
                        },
                        "type": "contourcarpet"
                      }
                    ],
                    "heatmap": [
                      {
                        "colorbar": {
                          "outlinewidth": 0,
                          "ticks": ""
                        },
                        "colorscale": [
                          [
                            0,
                            "#0d0887"
                          ],
                          [
                            0.1111111111111111,
                            "#46039f"
                          ],
                          [
                            0.2222222222222222,
                            "#7201a8"
                          ],
                          [
                            0.3333333333333333,
                            "#9c179e"
                          ],
                          [
                            0.4444444444444444,
                            "#bd3786"
                          ],
                          [
                            0.5555555555555556,
                            "#d8576b"
                          ],
                          [
                            0.6666666666666666,
                            "#ed7953"
                          ],
                          [
                            0.7777777777777778,
                            "#fb9f3a"
                          ],
                          [
                            0.8888888888888888,
                            "#fdca26"
                          ],
                          [
                            1,
                            "#f0f921"
                          ]
                        ],
                        "type": "heatmap"
                      }
                    ],
                    "histogram": [
                      {
                        "marker": {
                          "pattern": {
                            "fillmode": "overlay",
                            "size": 10,
                            "solidity": 0.2
                          }
                        },
                        "type": "histogram"
                      }
                    ],
                    "histogram2d": [
                      {
                        "colorbar": {
                          "outlinewidth": 0,
                          "ticks": ""
                        },
                        "colorscale": [
                          [
                            0,
                            "#0d0887"
                          ],
                          [
                            0.1111111111111111,
                            "#46039f"
                          ],
                          [
                            0.2222222222222222,
                            "#7201a8"
                          ],
                          [
                            0.3333333333333333,
                            "#9c179e"
                          ],
                          [
                            0.4444444444444444,
                            "#bd3786"
                          ],
                          [
                            0.5555555555555556,
                            "#d8576b"
                          ],
                          [
                            0.6666666666666666,
                            "#ed7953"
                          ],
                          [
                            0.7777777777777778,
                            "#fb9f3a"
                          ],
                          [
                            0.8888888888888888,
                            "#fdca26"
                          ],
                          [
                            1,
                            "#f0f921"
                          ]
                        ],
                        "type": "histogram2d"
                      }
                    ],
                    "histogram2dcontour": [
                      {
                        "colorbar": {
                          "outlinewidth": 0,
                          "ticks": ""
                        },
                        "colorscale": [
                          [
                            0,
                            "#0d0887"
                          ],
                          [
                            0.1111111111111111,
                            "#46039f"
                          ],
                          [
                            0.2222222222222222,
                            "#7201a8"
                          ],
                          [
                            0.3333333333333333,
                            "#9c179e"
                          ],
                          [
                            0.4444444444444444,
                            "#bd3786"
                          ],
                          [
                            0.5555555555555556,
                            "#d8576b"
                          ],
                          [
                            0.6666666666666666,
                            "#ed7953"
                          ],
                          [
                            0.7777777777777778,
                            "#fb9f3a"
                          ],
                          [
                            0.8888888888888888,
                            "#fdca26"
                          ],
                          [
                            1,
                            "#f0f921"
                          ]
                        ],
                        "type": "histogram2dcontour"
                      }
                    ],
                    "mesh3d": [
                      {
                        "colorbar": {
                          "outlinewidth": 0,
                          "ticks": ""
                        },
                        "type": "mesh3d"
                      }
                    ],
                    "parcoords": [
                      {
                        "line": {
                          "colorbar": {
                            "outlinewidth": 0,
                            "ticks": ""
                          }
                        },
                        "type": "parcoords"
                      }
                    ],
                    "pie": [
                      {
                        "automargin": true,
                        "type": "pie"
                      }
                    ],
                    "scatter": [
                      {
                        "marker": {
                          "line": {
                            "color": "#283442"
                          }
                        },
                        "type": "scatter"
                      }
                    ],
                    "scatter3d": [
                      {
                        "line": {
                          "colorbar": {
                            "outlinewidth": 0,
                            "ticks": ""
                          }
                        },
                        "marker": {
                          "colorbar": {
                            "outlinewidth": 0,
                            "ticks": ""
                          }
                        },
                        "type": "scatter3d"
                      }
                    ],
                    "scattercarpet": [
                      {
                        "marker": {
                          "colorbar": {
                            "outlinewidth": 0,
                            "ticks": ""
                          }
                        },
                        "type": "scattercarpet"
                      }
                    ],
                    "scattergeo": [
                      {
                        "marker": {
                          "colorbar": {
                            "outlinewidth": 0,
                            "ticks": ""
                          }
                        },
                        "type": "scattergeo"
                      }
                    ],
                    "scattergl": [
                      {
                        "marker": {
                          "line": {
                            "color": "#283442"
                          }
                        },
                        "type": "scattergl"
                      }
                    ],
                    "scattermap": [
                      {
                        "marker": {
                          "colorbar": {
                            "outlinewidth": 0,
                            "ticks": ""
                          }
                        },
                        "type": "scattermap"
                      }
                    ],
                    "scattermapbox": [
                      {
                        "marker": {
                          "colorbar": {
                            "outlinewidth": 0,
                            "ticks": ""
                          }
                        },
                        "type": "scattermapbox"
                      }
                    ],
                    "scatterpolar": [
                      {
                        "marker": {
                          "colorbar": {
                            "outlinewidth": 0,
                            "ticks": ""
                          }
                        },
                        "type": "scatterpolar"
                      }
                    ],
                    "scatterpolargl": [
                      {
                        "marker": {
                          "colorbar": {
                            "outlinewidth": 0,
                            "ticks": ""
                          }
                        },
                        "type": "scatterpolargl"
                      }
                    ],
                    "scatterternary": [
                      {
                        "marker": {
                          "colorbar": {
                            "outlinewidth": 0,
                            "ticks": ""
                          }
                        },
                        "type": "scatterternary"
                      }
                    ],
                    "surface": [
                      {
                        "colorbar": {
                          "outlinewidth": 0,
                          "ticks": ""
                        },
                        "colorscale": [
                          [
                            0,
                            "#0d0887"
                          ],
                          [
                            0.1111111111111111,
                            "#46039f"
                          ],
                          [
                            0.2222222222222222,
                            "#7201a8"
                          ],
                          [
                            0.3333333333333333,
                            "#9c179e"
                          ],
                          [
                            0.4444444444444444,
                            "#bd3786"
                          ],
                          [
                            0.5555555555555556,
                            "#d8576b"
                          ],
                          [
                            0.6666666666666666,
                            "#ed7953"
                          ],
                          [
                            0.7777777777777778,
                            "#fb9f3a"
                          ],
                          [
                            0.8888888888888888,
                            "#fdca26"
                          ],
                          [
                            1,
                            "#f0f921"
                          ]
                        ],
                        "type": "surface"
                      }
                    ],
                    "table": [
                      {
                        "cells": {
                          "fill": {
                            "color": "#506784"
                          },
                          "line": {
                            "color": "rgb(17,17,17)"
                          }
                        },
                        "header": {
                          "fill": {
                            "color": "#2a3f5f"
                          },
                          "line": {
                            "color": "rgb(17,17,17)"
                          }
                        },
                        "type": "table"
                      }
                    ]
                  },
                  "layout": {
                    "annotationdefaults": {
                      "arrowcolor": "#f2f5fa",
                      "arrowhead": 0,
                      "arrowwidth": 1
                    },
                    "autotypenumbers": "strict",
                    "coloraxis": {
                      "colorbar": {
                        "outlinewidth": 0,
                        "ticks": ""
                      }
                    },
                    "colorscale": {
                      "diverging": [
                        [
                          0,
                          "#8e0152"
                        ],
                        [
                          0.1,
                          "#c51b7d"
                        ],
                        [
                          0.2,
                          "#de77ae"
                        ],
                        [
                          0.3,
                          "#f1b6da"
                        ],
                        [
                          0.4,
                          "#fde0ef"
                        ],
                        [
                          0.5,
                          "#f7f7f7"
                        ],
                        [
                          0.6,
                          "#e6f5d0"
                        ],
                        [
                          0.7,
                          "#b8e186"
                        ],
                        [
                          0.8,
                          "#7fbc41"
                        ],
                        [
                          0.9,
                          "#4d9221"
                        ],
                        [
                          1,
                          "#276419"
                        ]
                      ],
                      "sequential": [
                        [
                          0,
                          "#0d0887"
                        ],
                        [
                          0.1111111111111111,
                          "#46039f"
                        ],
                        [
                          0.2222222222222222,
                          "#7201a8"
                        ],
                        [
                          0.3333333333333333,
                          "#9c179e"
                        ],
                        [
                          0.4444444444444444,
                          "#bd3786"
                        ],
                        [
                          0.5555555555555556,
                          "#d8576b"
                        ],
                        [
                          0.6666666666666666,
                          "#ed7953"
                        ],
                        [
                          0.7777777777777778,
                          "#fb9f3a"
                        ],
                        [
                          0.8888888888888888,
                          "#fdca26"
                        ],
                        [
                          1,
                          "#f0f921"
                        ]
                      ],
                      "sequentialminus": [
                        [
                          0,
                          "#0d0887"
                        ],
                        [
                          0.1111111111111111,
                          "#46039f"
                        ],
                        [
                          0.2222222222222222,
                          "#7201a8"
                        ],
                        [
                          0.3333333333333333,
                          "#9c179e"
                        ],
                        [
                          0.4444444444444444,
                          "#bd3786"
                        ],
                        [
                          0.5555555555555556,
                          "#d8576b"
                        ],
                        [
                          0.6666666666666666,
                          "#ed7953"
                        ],
                        [
                          0.7777777777777778,
                          "#fb9f3a"
                        ],
                        [
                          0.8888888888888888,
                          "#fdca26"
                        ],
                        [
                          1,
                          "#f0f921"
                        ]
                      ]
                    },
                    "colorway": [
                      "#636efa",
                      "#EF553B",
                      "#00cc96",
                      "#ab63fa",
                      "#FFA15A",
                      "#19d3f3",
                      "#FF6692",
                      "#B6E880",
                      "#FF97FF",
                      "#FECB52"
                    ],
                    "font": {
                      "color": "#f2f5fa"
                    },
                    "geo": {
                      "bgcolor": "rgb(17,17,17)",
                      "lakecolor": "rgb(17,17,17)",
                      "landcolor": "rgb(17,17,17)",
                      "showlakes": true,
                      "showland": true,
                      "subunitcolor": "#506784"
                    },
                    "hoverlabel": {
                      "align": "left"
                    },
                    "hovermode": "closest",
                    "mapbox": {
                      "style": "dark"
                    },
                    "paper_bgcolor": "rgb(17,17,17)",
                    "plot_bgcolor": "rgb(17,17,17)",
                    "polar": {
                      "angularaxis": {
                        "gridcolor": "#506784",
                        "linecolor": "#506784",
                        "ticks": ""
                      },
                      "bgcolor": "rgb(17,17,17)",
                      "radialaxis": {
                        "gridcolor": "#506784",
                        "linecolor": "#506784",
                        "ticks": ""
                      }
                    },
                    "scene": {
                      "xaxis": {
                        "backgroundcolor": "rgb(17,17,17)",
                        "gridcolor": "#506784",
                        "gridwidth": 2,
                        "linecolor": "#506784",
                        "showbackground": true,
                        "ticks": "",
                        "zerolinecolor": "#C8D4E3"
                      },
                      "yaxis": {
                        "backgroundcolor": "rgb(17,17,17)",
                        "gridcolor": "#506784",
                        "gridwidth": 2,
                        "linecolor": "#506784",
                        "showbackground": true,
                        "ticks": "",
                        "zerolinecolor": "#C8D4E3"
                      },
                      "zaxis": {
                        "backgroundcolor": "rgb(17,17,17)",
                        "gridcolor": "#506784",
                        "gridwidth": 2,
                        "linecolor": "#506784",
                        "showbackground": true,
                        "ticks": "",
                        "zerolinecolor": "#C8D4E3"
                      }
                    },
                    "shapedefaults": {
                      "line": {
                        "color": "#f2f5fa"
                      }
                    },
                    "sliderdefaults": {
                      "bgcolor": "#C8D4E3",
                      "bordercolor": "rgb(17,17,17)",
                      "borderwidth": 1,
                      "tickwidth": 0
                    },
                    "ternary": {
                      "aaxis": {
                        "gridcolor": "#506784",
                        "linecolor": "#506784",
                        "ticks": ""
                      },
                      "baxis": {
                        "gridcolor": "#506784",
                        "linecolor": "#506784",
                        "ticks": ""
                      },
                      "bgcolor": "rgb(17,17,17)",
                      "caxis": {
                        "gridcolor": "#506784",
                        "linecolor": "#506784",
                        "ticks": ""
                      }
                    },
                    "title": {
                      "x": 0.05
                    },
                    "updatemenudefaults": {
                      "bgcolor": "#506784",
                      "borderwidth": 0
                    },
                    "xaxis": {
                      "automargin": true,
                      "gridcolor": "#283442",
                      "linecolor": "#506784",
                      "ticks": "",
                      "title": {
                        "standoff": 15
                      },
                      "zerolinecolor": "#283442",
                      "zerolinewidth": 2
                    },
                    "yaxis": {
                      "automargin": true,
                      "gridcolor": "#283442",
                      "linecolor": "#506784",
                      "ticks": "",
                      "title": {
                        "standoff": 15
                      },
                      "zerolinecolor": "#283442",
                      "zerolinewidth": 2
                    }
                  }
                },
                "title": {
                  "text": "Feature Importances (Logistic Regression)"
                },
                "width": 1000,
                "xaxis": {
                  "anchor": "y",
                  "domain": [
                    0,
                    1
                  ],
                  "title": {
                    "text": "Top features by importance"
                  }
                },
                "yaxis": {
                  "anchor": "x",
                  "domain": [
                    0,
                    1
                  ],
                  "title": {
                    "text": "Feature"
                  }
                }
              }
            }
          },
          "metadata": {},
          "output_type": "display_data"
        }
      ],
      "source": [
        "# Create the Plotly bar chart\n",
        "fig = px.bar(top_20, \n",
        "             x='Importance', \n",
        "             y='Feature', \n",
        "             orientation='h',\n",
        "             title='Feature Importances (Logistic Regression)',\n",
        "             color='Importance', \n",
        "             color_continuous_scale='viridis',\n",
        "             labels={'Importance': 'Top features by importance', 'Feature': 'Feature'})\n",
        "fig.update_layout(showlegend=True, \n",
        "                  template='plotly_dark',\n",
        "                  width=1000,\n",
        "                  height=600)"
      ]
    },
    {
      "cell_type": "code",
      "execution_count": 179,
      "metadata": {},
      "outputs": [],
      "source": [
        "top_20.to_csv('data/top_20.csv', index=False)"
      ]
    },
    {
      "cell_type": "markdown",
      "metadata": {},
      "source": [
        "### Features most Relevant for causing churn"
      ]
    },
    {
      "cell_type": "code",
      "execution_count": 180,
      "metadata": {},
      "outputs": [
        {
          "data": {
            "application/vnd.plotly.v1+json": {
              "config": {
                "plotlyServerURL": "https://plot.ly"
              },
              "data": [
                {
                  "hovertemplate": "Top features by importance=%{marker.color}<br>Feature=%{y}<extra></extra>",
                  "legendgroup": "",
                  "marker": {
                    "color": {
                      "bdata": "WmLnBVJk2j9aYucFUmTaP/xC98RQiPE/C16QrMGL8T8QZ88IZVryPwg7kE+hAvw/ajoQgZxY/D+YIqjKZNb8P1iVDygwCv0/NZgPNE6d/T8=",
                      "dtype": "f8"
                    },
                    "coloraxis": "coloraxis",
                    "pattern": {
                      "shape": ""
                    }
                  },
                  "name": "",
                  "orientation": "h",
                  "showlegend": false,
                  "textposition": "auto",
                  "type": "bar",
                  "x": {
                    "bdata": "WmLnBVJk2j9aYucFUmTaP/xC98RQiPE/C16QrMGL8T8QZ88IZVryPwg7kE+hAvw/ajoQgZxY/D+YIqjKZNb8P1iVDygwCv0/NZgPNE6d/T8=",
                    "dtype": "f8"
                  },
                  "xaxis": "x",
                  "y": [
                    "multiplelines_No phone service",
                    "phoneservice_No",
                    "phoneservice_Yes",
                    "monthlycharges",
                    "internetservice_Fiber optic",
                    "contract_Month-to-month",
                    "streamingtv_Yes",
                    "internetservice_DSL",
                    "streamingmovies_Yes",
                    "onlinesecurity_No"
                  ],
                  "yaxis": "y"
                }
              ],
              "layout": {
                "barmode": "relative",
                "coloraxis": {
                  "colorbar": {
                    "title": {
                      "text": "Top features by importance"
                    }
                  },
                  "colorscale": [
                    [
                      0,
                      "#440154"
                    ],
                    [
                      0.1111111111111111,
                      "#482878"
                    ],
                    [
                      0.2222222222222222,
                      "#3e4989"
                    ],
                    [
                      0.3333333333333333,
                      "#31688e"
                    ],
                    [
                      0.4444444444444444,
                      "#26828e"
                    ],
                    [
                      0.5555555555555556,
                      "#1f9e89"
                    ],
                    [
                      0.6666666666666666,
                      "#35b779"
                    ],
                    [
                      0.7777777777777778,
                      "#6ece58"
                    ],
                    [
                      0.8888888888888888,
                      "#b5de2b"
                    ],
                    [
                      1,
                      "#fde725"
                    ]
                  ]
                },
                "height": 600,
                "legend": {
                  "tracegroupgap": 0
                },
                "showlegend": true,
                "template": {
                  "data": {
                    "bar": [
                      {
                        "error_x": {
                          "color": "#f2f5fa"
                        },
                        "error_y": {
                          "color": "#f2f5fa"
                        },
                        "marker": {
                          "line": {
                            "color": "rgb(17,17,17)",
                            "width": 0.5
                          },
                          "pattern": {
                            "fillmode": "overlay",
                            "size": 10,
                            "solidity": 0.2
                          }
                        },
                        "type": "bar"
                      }
                    ],
                    "barpolar": [
                      {
                        "marker": {
                          "line": {
                            "color": "rgb(17,17,17)",
                            "width": 0.5
                          },
                          "pattern": {
                            "fillmode": "overlay",
                            "size": 10,
                            "solidity": 0.2
                          }
                        },
                        "type": "barpolar"
                      }
                    ],
                    "carpet": [
                      {
                        "aaxis": {
                          "endlinecolor": "#A2B1C6",
                          "gridcolor": "#506784",
                          "linecolor": "#506784",
                          "minorgridcolor": "#506784",
                          "startlinecolor": "#A2B1C6"
                        },
                        "baxis": {
                          "endlinecolor": "#A2B1C6",
                          "gridcolor": "#506784",
                          "linecolor": "#506784",
                          "minorgridcolor": "#506784",
                          "startlinecolor": "#A2B1C6"
                        },
                        "type": "carpet"
                      }
                    ],
                    "choropleth": [
                      {
                        "colorbar": {
                          "outlinewidth": 0,
                          "ticks": ""
                        },
                        "type": "choropleth"
                      }
                    ],
                    "contour": [
                      {
                        "colorbar": {
                          "outlinewidth": 0,
                          "ticks": ""
                        },
                        "colorscale": [
                          [
                            0,
                            "#0d0887"
                          ],
                          [
                            0.1111111111111111,
                            "#46039f"
                          ],
                          [
                            0.2222222222222222,
                            "#7201a8"
                          ],
                          [
                            0.3333333333333333,
                            "#9c179e"
                          ],
                          [
                            0.4444444444444444,
                            "#bd3786"
                          ],
                          [
                            0.5555555555555556,
                            "#d8576b"
                          ],
                          [
                            0.6666666666666666,
                            "#ed7953"
                          ],
                          [
                            0.7777777777777778,
                            "#fb9f3a"
                          ],
                          [
                            0.8888888888888888,
                            "#fdca26"
                          ],
                          [
                            1,
                            "#f0f921"
                          ]
                        ],
                        "type": "contour"
                      }
                    ],
                    "contourcarpet": [
                      {
                        "colorbar": {
                          "outlinewidth": 0,
                          "ticks": ""
                        },
                        "type": "contourcarpet"
                      }
                    ],
                    "heatmap": [
                      {
                        "colorbar": {
                          "outlinewidth": 0,
                          "ticks": ""
                        },
                        "colorscale": [
                          [
                            0,
                            "#0d0887"
                          ],
                          [
                            0.1111111111111111,
                            "#46039f"
                          ],
                          [
                            0.2222222222222222,
                            "#7201a8"
                          ],
                          [
                            0.3333333333333333,
                            "#9c179e"
                          ],
                          [
                            0.4444444444444444,
                            "#bd3786"
                          ],
                          [
                            0.5555555555555556,
                            "#d8576b"
                          ],
                          [
                            0.6666666666666666,
                            "#ed7953"
                          ],
                          [
                            0.7777777777777778,
                            "#fb9f3a"
                          ],
                          [
                            0.8888888888888888,
                            "#fdca26"
                          ],
                          [
                            1,
                            "#f0f921"
                          ]
                        ],
                        "type": "heatmap"
                      }
                    ],
                    "histogram": [
                      {
                        "marker": {
                          "pattern": {
                            "fillmode": "overlay",
                            "size": 10,
                            "solidity": 0.2
                          }
                        },
                        "type": "histogram"
                      }
                    ],
                    "histogram2d": [
                      {
                        "colorbar": {
                          "outlinewidth": 0,
                          "ticks": ""
                        },
                        "colorscale": [
                          [
                            0,
                            "#0d0887"
                          ],
                          [
                            0.1111111111111111,
                            "#46039f"
                          ],
                          [
                            0.2222222222222222,
                            "#7201a8"
                          ],
                          [
                            0.3333333333333333,
                            "#9c179e"
                          ],
                          [
                            0.4444444444444444,
                            "#bd3786"
                          ],
                          [
                            0.5555555555555556,
                            "#d8576b"
                          ],
                          [
                            0.6666666666666666,
                            "#ed7953"
                          ],
                          [
                            0.7777777777777778,
                            "#fb9f3a"
                          ],
                          [
                            0.8888888888888888,
                            "#fdca26"
                          ],
                          [
                            1,
                            "#f0f921"
                          ]
                        ],
                        "type": "histogram2d"
                      }
                    ],
                    "histogram2dcontour": [
                      {
                        "colorbar": {
                          "outlinewidth": 0,
                          "ticks": ""
                        },
                        "colorscale": [
                          [
                            0,
                            "#0d0887"
                          ],
                          [
                            0.1111111111111111,
                            "#46039f"
                          ],
                          [
                            0.2222222222222222,
                            "#7201a8"
                          ],
                          [
                            0.3333333333333333,
                            "#9c179e"
                          ],
                          [
                            0.4444444444444444,
                            "#bd3786"
                          ],
                          [
                            0.5555555555555556,
                            "#d8576b"
                          ],
                          [
                            0.6666666666666666,
                            "#ed7953"
                          ],
                          [
                            0.7777777777777778,
                            "#fb9f3a"
                          ],
                          [
                            0.8888888888888888,
                            "#fdca26"
                          ],
                          [
                            1,
                            "#f0f921"
                          ]
                        ],
                        "type": "histogram2dcontour"
                      }
                    ],
                    "mesh3d": [
                      {
                        "colorbar": {
                          "outlinewidth": 0,
                          "ticks": ""
                        },
                        "type": "mesh3d"
                      }
                    ],
                    "parcoords": [
                      {
                        "line": {
                          "colorbar": {
                            "outlinewidth": 0,
                            "ticks": ""
                          }
                        },
                        "type": "parcoords"
                      }
                    ],
                    "pie": [
                      {
                        "automargin": true,
                        "type": "pie"
                      }
                    ],
                    "scatter": [
                      {
                        "marker": {
                          "line": {
                            "color": "#283442"
                          }
                        },
                        "type": "scatter"
                      }
                    ],
                    "scatter3d": [
                      {
                        "line": {
                          "colorbar": {
                            "outlinewidth": 0,
                            "ticks": ""
                          }
                        },
                        "marker": {
                          "colorbar": {
                            "outlinewidth": 0,
                            "ticks": ""
                          }
                        },
                        "type": "scatter3d"
                      }
                    ],
                    "scattercarpet": [
                      {
                        "marker": {
                          "colorbar": {
                            "outlinewidth": 0,
                            "ticks": ""
                          }
                        },
                        "type": "scattercarpet"
                      }
                    ],
                    "scattergeo": [
                      {
                        "marker": {
                          "colorbar": {
                            "outlinewidth": 0,
                            "ticks": ""
                          }
                        },
                        "type": "scattergeo"
                      }
                    ],
                    "scattergl": [
                      {
                        "marker": {
                          "line": {
                            "color": "#283442"
                          }
                        },
                        "type": "scattergl"
                      }
                    ],
                    "scattermap": [
                      {
                        "marker": {
                          "colorbar": {
                            "outlinewidth": 0,
                            "ticks": ""
                          }
                        },
                        "type": "scattermap"
                      }
                    ],
                    "scattermapbox": [
                      {
                        "marker": {
                          "colorbar": {
                            "outlinewidth": 0,
                            "ticks": ""
                          }
                        },
                        "type": "scattermapbox"
                      }
                    ],
                    "scatterpolar": [
                      {
                        "marker": {
                          "colorbar": {
                            "outlinewidth": 0,
                            "ticks": ""
                          }
                        },
                        "type": "scatterpolar"
                      }
                    ],
                    "scatterpolargl": [
                      {
                        "marker": {
                          "colorbar": {
                            "outlinewidth": 0,
                            "ticks": ""
                          }
                        },
                        "type": "scatterpolargl"
                      }
                    ],
                    "scatterternary": [
                      {
                        "marker": {
                          "colorbar": {
                            "outlinewidth": 0,
                            "ticks": ""
                          }
                        },
                        "type": "scatterternary"
                      }
                    ],
                    "surface": [
                      {
                        "colorbar": {
                          "outlinewidth": 0,
                          "ticks": ""
                        },
                        "colorscale": [
                          [
                            0,
                            "#0d0887"
                          ],
                          [
                            0.1111111111111111,
                            "#46039f"
                          ],
                          [
                            0.2222222222222222,
                            "#7201a8"
                          ],
                          [
                            0.3333333333333333,
                            "#9c179e"
                          ],
                          [
                            0.4444444444444444,
                            "#bd3786"
                          ],
                          [
                            0.5555555555555556,
                            "#d8576b"
                          ],
                          [
                            0.6666666666666666,
                            "#ed7953"
                          ],
                          [
                            0.7777777777777778,
                            "#fb9f3a"
                          ],
                          [
                            0.8888888888888888,
                            "#fdca26"
                          ],
                          [
                            1,
                            "#f0f921"
                          ]
                        ],
                        "type": "surface"
                      }
                    ],
                    "table": [
                      {
                        "cells": {
                          "fill": {
                            "color": "#506784"
                          },
                          "line": {
                            "color": "rgb(17,17,17)"
                          }
                        },
                        "header": {
                          "fill": {
                            "color": "#2a3f5f"
                          },
                          "line": {
                            "color": "rgb(17,17,17)"
                          }
                        },
                        "type": "table"
                      }
                    ]
                  },
                  "layout": {
                    "annotationdefaults": {
                      "arrowcolor": "#f2f5fa",
                      "arrowhead": 0,
                      "arrowwidth": 1
                    },
                    "autotypenumbers": "strict",
                    "coloraxis": {
                      "colorbar": {
                        "outlinewidth": 0,
                        "ticks": ""
                      }
                    },
                    "colorscale": {
                      "diverging": [
                        [
                          0,
                          "#8e0152"
                        ],
                        [
                          0.1,
                          "#c51b7d"
                        ],
                        [
                          0.2,
                          "#de77ae"
                        ],
                        [
                          0.3,
                          "#f1b6da"
                        ],
                        [
                          0.4,
                          "#fde0ef"
                        ],
                        [
                          0.5,
                          "#f7f7f7"
                        ],
                        [
                          0.6,
                          "#e6f5d0"
                        ],
                        [
                          0.7,
                          "#b8e186"
                        ],
                        [
                          0.8,
                          "#7fbc41"
                        ],
                        [
                          0.9,
                          "#4d9221"
                        ],
                        [
                          1,
                          "#276419"
                        ]
                      ],
                      "sequential": [
                        [
                          0,
                          "#0d0887"
                        ],
                        [
                          0.1111111111111111,
                          "#46039f"
                        ],
                        [
                          0.2222222222222222,
                          "#7201a8"
                        ],
                        [
                          0.3333333333333333,
                          "#9c179e"
                        ],
                        [
                          0.4444444444444444,
                          "#bd3786"
                        ],
                        [
                          0.5555555555555556,
                          "#d8576b"
                        ],
                        [
                          0.6666666666666666,
                          "#ed7953"
                        ],
                        [
                          0.7777777777777778,
                          "#fb9f3a"
                        ],
                        [
                          0.8888888888888888,
                          "#fdca26"
                        ],
                        [
                          1,
                          "#f0f921"
                        ]
                      ],
                      "sequentialminus": [
                        [
                          0,
                          "#0d0887"
                        ],
                        [
                          0.1111111111111111,
                          "#46039f"
                        ],
                        [
                          0.2222222222222222,
                          "#7201a8"
                        ],
                        [
                          0.3333333333333333,
                          "#9c179e"
                        ],
                        [
                          0.4444444444444444,
                          "#bd3786"
                        ],
                        [
                          0.5555555555555556,
                          "#d8576b"
                        ],
                        [
                          0.6666666666666666,
                          "#ed7953"
                        ],
                        [
                          0.7777777777777778,
                          "#fb9f3a"
                        ],
                        [
                          0.8888888888888888,
                          "#fdca26"
                        ],
                        [
                          1,
                          "#f0f921"
                        ]
                      ]
                    },
                    "colorway": [
                      "#636efa",
                      "#EF553B",
                      "#00cc96",
                      "#ab63fa",
                      "#FFA15A",
                      "#19d3f3",
                      "#FF6692",
                      "#B6E880",
                      "#FF97FF",
                      "#FECB52"
                    ],
                    "font": {
                      "color": "#f2f5fa"
                    },
                    "geo": {
                      "bgcolor": "rgb(17,17,17)",
                      "lakecolor": "rgb(17,17,17)",
                      "landcolor": "rgb(17,17,17)",
                      "showlakes": true,
                      "showland": true,
                      "subunitcolor": "#506784"
                    },
                    "hoverlabel": {
                      "align": "left"
                    },
                    "hovermode": "closest",
                    "mapbox": {
                      "style": "dark"
                    },
                    "paper_bgcolor": "rgb(17,17,17)",
                    "plot_bgcolor": "rgb(17,17,17)",
                    "polar": {
                      "angularaxis": {
                        "gridcolor": "#506784",
                        "linecolor": "#506784",
                        "ticks": ""
                      },
                      "bgcolor": "rgb(17,17,17)",
                      "radialaxis": {
                        "gridcolor": "#506784",
                        "linecolor": "#506784",
                        "ticks": ""
                      }
                    },
                    "scene": {
                      "xaxis": {
                        "backgroundcolor": "rgb(17,17,17)",
                        "gridcolor": "#506784",
                        "gridwidth": 2,
                        "linecolor": "#506784",
                        "showbackground": true,
                        "ticks": "",
                        "zerolinecolor": "#C8D4E3"
                      },
                      "yaxis": {
                        "backgroundcolor": "rgb(17,17,17)",
                        "gridcolor": "#506784",
                        "gridwidth": 2,
                        "linecolor": "#506784",
                        "showbackground": true,
                        "ticks": "",
                        "zerolinecolor": "#C8D4E3"
                      },
                      "zaxis": {
                        "backgroundcolor": "rgb(17,17,17)",
                        "gridcolor": "#506784",
                        "gridwidth": 2,
                        "linecolor": "#506784",
                        "showbackground": true,
                        "ticks": "",
                        "zerolinecolor": "#C8D4E3"
                      }
                    },
                    "shapedefaults": {
                      "line": {
                        "color": "#f2f5fa"
                      }
                    },
                    "sliderdefaults": {
                      "bgcolor": "#C8D4E3",
                      "bordercolor": "rgb(17,17,17)",
                      "borderwidth": 1,
                      "tickwidth": 0
                    },
                    "ternary": {
                      "aaxis": {
                        "gridcolor": "#506784",
                        "linecolor": "#506784",
                        "ticks": ""
                      },
                      "baxis": {
                        "gridcolor": "#506784",
                        "linecolor": "#506784",
                        "ticks": ""
                      },
                      "bgcolor": "rgb(17,17,17)",
                      "caxis": {
                        "gridcolor": "#506784",
                        "linecolor": "#506784",
                        "ticks": ""
                      }
                    },
                    "title": {
                      "x": 0.05
                    },
                    "updatemenudefaults": {
                      "bgcolor": "#506784",
                      "borderwidth": 0
                    },
                    "xaxis": {
                      "automargin": true,
                      "gridcolor": "#283442",
                      "linecolor": "#506784",
                      "ticks": "",
                      "title": {
                        "standoff": 15
                      },
                      "zerolinecolor": "#283442",
                      "zerolinewidth": 2
                    },
                    "yaxis": {
                      "automargin": true,
                      "gridcolor": "#283442",
                      "linecolor": "#506784",
                      "ticks": "",
                      "title": {
                        "standoff": 15
                      },
                      "zerolinecolor": "#283442",
                      "zerolinewidth": 2
                    }
                  }
                },
                "title": {
                  "text": "Feature Importances (Logistic Regression)"
                },
                "width": 1000,
                "xaxis": {
                  "anchor": "y",
                  "domain": [
                    0,
                    1
                  ],
                  "title": {
                    "text": "Top features by importance"
                  }
                },
                "yaxis": {
                  "anchor": "x",
                  "domain": [
                    0,
                    1
                  ],
                  "title": {
                    "text": "Feature"
                  }
                }
              }
            }
          },
          "metadata": {},
          "output_type": "display_data"
        }
      ],
      "source": [
        "#top_20 = importance_df.sort_values(by=['Coefficient'], ascending=[False]).head(10)\n",
        "top_20 = importance_df.sort_values(by='Importance', ascending=True).head(10)\n",
        "top_20['abs_coef'] = abs(top_20['Coefficient'])\n",
        "\n",
        "# Create the Plotly bar chart\n",
        "fig = px.bar(top_20, \n",
        "             x='Importance', \n",
        "             y='Feature', \n",
        "             orientation='h',\n",
        "             title='Feature Importances (Logistic Regression)',\n",
        "             color='Importance', \n",
        "             color_continuous_scale='viridis',\n",
        "             labels={'Importance': 'Top features by importance', 'Feature': 'Feature'})\n",
        "fig.update_layout(showlegend=True, \n",
        "                  template='plotly_dark',\n",
        "                  width=1000,\n",
        "                  height=600)"
      ]
    },
    {
      "cell_type": "markdown",
      "metadata": {},
      "source": [
        "---"
      ]
    },
    {
      "cell_type": "markdown",
      "metadata": {},
      "source": [
        "<a href=\"https://colab.research.google.com/github/hugomilesi/E2E_customer_churn_analysis/blob/updated_model/model_train.ipynb\" target=\"_parent\"><img src=\"https://colab.research.google.com/assets/colab-badge.svg\" alt=\"Open In Colab\"/></a>"
      ]
    }
  ],
  "metadata": {
    "colab": {
      "authorship_tag": "ABX9TyOUmYO6cSyCovWMwj4XvwUP",
      "include_colab_link": true,
      "mount_file_id": "1WrY_prqcSNkXpqNF8VNl3Nm2Nw-k-NJq",
      "provenance": []
    },
    "kernelspec": {
      "display_name": "venv",
      "language": "python",
      "name": "python3"
    },
    "language_info": {
      "codemirror_mode": {
        "name": "ipython",
        "version": 3
      },
      "file_extension": ".py",
      "mimetype": "text/x-python",
      "name": "python",
      "nbconvert_exporter": "python",
      "pygments_lexer": "ipython3",
      "version": "3.12.7"
    }
  },
  "nbformat": 4,
  "nbformat_minor": 0
}
